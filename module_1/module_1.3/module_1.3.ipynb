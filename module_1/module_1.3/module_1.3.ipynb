{
  "cells": [
    {
      "cell_type": "markdown",
      "metadata": {
        "id": "StAgzSRNiZ9U"
      },
      "source": [
        "# Python for Computational Linguists 1.3: Basic NLP with Python\n"
      ]
    },
    {
      "cell_type": "markdown",
      "metadata": {
        "id": "LvqkJOQriZ9X"
      },
      "source": [
        "## Introduction"
      ]
    },
    {
      "cell_type": "markdown",
      "metadata": {
        "id": "NGLNhGYuiZ9Z"
      },
      "source": [
        "In this module, we will cover\n",
        "- functions;\n",
        "- regular expressions;\n",
        "- spaCy;"
      ]
    },
    {
      "cell_type": "markdown",
      "metadata": {
        "id": "A1noIyp0iZ9b"
      },
      "source": [
        "## Functions"
      ]
    },
    {
      "cell_type": "markdown",
      "metadata": {
        "id": "m5oAlB7YiZ9d"
      },
      "source": [
        "This section is built on this [tutorial](https://www.digitalocean.com/community/tutorials/how-to-define-functions-in-python-3), and students are strongly recommended to go through it.\n",
        "\n",
        "> A *function* is a block of instructions that performs an action and, once defined, can be reused. Functions make code more modular, allowing you to use the same code over and over again.\n",
        "\n",
        "Python has a number of built-in functions that you may be familiar with, including:\n",
        "\n",
        "- `print()` which will print an object to the terminal;\n",
        "- `int()` which will convert a string or number data type to an integer data type;\n",
        "- `len()` which returns the length of an object."
      ]
    },
    {
      "cell_type": "code",
      "execution_count": 1,
      "metadata": {
        "id": "q7owoG-OiZ9f",
        "colab": {
          "base_uri": "https://localhost:8080/"
        },
        "outputId": "b6c68e38-dc04-471b-9073-1eb7dbc1ec9c"
      },
      "outputs": [
        {
          "output_type": "stream",
          "name": "stdout",
          "text": [
            "hello world!\n"
          ]
        }
      ],
      "source": [
        "print('hello world!')"
      ]
    },
    {
      "cell_type": "code",
      "execution_count": 2,
      "metadata": {
        "id": "Js33i8qriZ9r",
        "colab": {
          "base_uri": "https://localhost:8080/"
        },
        "outputId": "534affaf-f724-49a7-e3d7-c3e07c657a13"
      },
      "outputs": [
        {
          "output_type": "execute_result",
          "data": {
            "text/plain": [
              "3"
            ]
          },
          "metadata": {},
          "execution_count": 2
        }
      ],
      "source": [
        "int(3.5)"
      ]
    },
    {
      "cell_type": "code",
      "execution_count": 3,
      "metadata": {
        "id": "jQh4pJuiiZ91",
        "colab": {
          "base_uri": "https://localhost:8080/"
        },
        "outputId": "e176f80c-5c92-47e5-b4b6-8da4173ed25a"
      },
      "outputs": [
        {
          "output_type": "execute_result",
          "data": {
            "text/plain": [
              "3"
            ]
          },
          "metadata": {},
          "execution_count": 3
        }
      ],
      "source": [
        "len([1,2,3])"
      ]
    },
    {
      "cell_type": "markdown",
      "metadata": {
        "id": "c0pPuDHSiZ97"
      },
      "source": [
        "Another similar concept is `method`. Check [here](https://stackoverflow.com/questions/155609/whats-the-difference-between-a-method-and-a-function) for their difference."
      ]
    },
    {
      "cell_type": "markdown",
      "metadata": {
        "id": "Z3gWa1jviZ99"
      },
      "source": [
        "Now let's learn how to define and call functions."
      ]
    },
    {
      "cell_type": "markdown",
      "metadata": {
        "id": "OyXGSCF-iZ9-"
      },
      "source": [
        "### Define a function"
      ]
    },
    {
      "cell_type": "markdown",
      "metadata": {
        "id": "nSWbxxs_iZ9_"
      },
      "source": [
        "A function is defined by using the `def` keyword, followed by\n",
        "1. a **function name** of your choosing;\n",
        "2. a set of parentheses which hold any **parameters** the function will take (they can be empty);\n",
        "3. an ending **colon**;\n",
        "4. function **content code**."
      ]
    },
    {
      "cell_type": "markdown",
      "metadata": {
        "id": "jGzPQD11iZ-B"
      },
      "source": [
        "Let's define a simple function `hello()`that prints **hello world**."
      ]
    },
    {
      "cell_type": "code",
      "execution_count": 4,
      "metadata": {
        "id": "JrKBQJtDiZ-C"
      },
      "outputs": [],
      "source": [
        "def hello():\n",
        "    print('hello world')"
      ]
    },
    {
      "cell_type": "markdown",
      "metadata": {
        "id": "1hp8kl9niZ-J"
      },
      "source": [
        "Note that\n",
        "- We do not have any parameter for this function, and we will discuss on it in more details later;\n",
        "- To start our real function content code, python requires a 4-space indent, as shown above.\n",
        "\n",
        "Now we have defined our first function. In order to let the program run this function, we still need to call the function, just like what we did to the python built-in functions:"
      ]
    },
    {
      "cell_type": "code",
      "execution_count": 5,
      "metadata": {
        "id": "hOrL3uq7iZ-K",
        "colab": {
          "base_uri": "https://localhost:8080/"
        },
        "outputId": "fa0425ae-494d-4594-ff39-bd011cc10d8d"
      },
      "outputs": [
        {
          "output_type": "stream",
          "name": "stdout",
          "text": [
            "hello world\n"
          ]
        }
      ],
      "source": [
        "hello()"
      ]
    },
    {
      "cell_type": "markdown",
      "metadata": {
        "id": "lNAXJRIYiZ-P"
      },
      "source": [
        "Functions can be more complicated. For example, we can use `for` loops, conditional statements, and more within our function block.\n",
        "\n",
        "For example, the function defined below utilizes a conditional statement to check if the input for the name variable contains a vowel, then uses a for loop to iterate over the letters in the name string."
      ]
    },
    {
      "cell_type": "code",
      "execution_count": 6,
      "metadata": {
        "id": "edZuOKldiZ-R"
      },
      "outputs": [],
      "source": [
        "# Define function names()\n",
        "def names():\n",
        "    # Set up name variable with input\n",
        "    name = str(input('Enter your name: '))\n",
        "    # Check whether name has a vowel\n",
        "    if set('aeiou').intersection(name.lower()):\n",
        "        print('Your name contains a vowel.')\n",
        "    else:\n",
        "        print('Your name does not contain a vowel.')\n",
        "\n",
        "    # Iterate over name\n",
        "    for letter in name:\n",
        "        print(letter)"
      ]
    },
    {
      "cell_type": "code",
      "execution_count": 7,
      "metadata": {
        "id": "tzd9Ktz7iZ-W",
        "colab": {
          "base_uri": "https://localhost:8080/"
        },
        "outputId": "05472058-c6d7-4ea0-f4ba-a074af3cf3c3"
      },
      "outputs": [
        {
          "output_type": "stream",
          "name": "stdout",
          "text": [
            "Enter your name: jay\n",
            "Your name contains a vowel.\n",
            "j\n",
            "a\n",
            "y\n"
          ]
        }
      ],
      "source": [
        "# Call the function\n",
        "names()"
      ]
    },
    {
      "cell_type": "markdown",
      "metadata": {
        "id": "q9uY96kIiZ-b"
      },
      "source": [
        "The `names()` function sets up a conditional statement and a for loop, showing how code can be organized within a function definition.\n",
        "\n",
        "> Defining functions within a program makes our code modular and reusable so that we can call the same functions without rewriting them."
      ]
    },
    {
      "cell_type": "markdown",
      "metadata": {
        "id": "XzT4hNmQiZ-d"
      },
      "source": [
        "### Function parameters"
      ]
    },
    {
      "cell_type": "markdown",
      "metadata": {
        "id": "utzVT3ASiZ-e"
      },
      "source": [
        "So far we have looked at functions with empty parentheses, but we can define parameters in function definitions within their parentheses.\n",
        "\n",
        "> A parameter is a variable in the definition of a function that the function can accept.\n",
        "\n",
        "Let’s create a function that takes three parameters `x`, `y`, `z`, and adds them in different configurations. The sums of these will be printed by the function. Then we’ll call the function and pass numbers into the function."
      ]
    },
    {
      "cell_type": "code",
      "execution_count": 8,
      "metadata": {
        "id": "rwUNe7mPiZ-f"
      },
      "outputs": [],
      "source": [
        "def add_numbers(x, y, z):\n",
        "    a = x + y\n",
        "    b = x + z\n",
        "    c = y + z\n",
        "    print(a, b, c)"
      ]
    },
    {
      "cell_type": "markdown",
      "metadata": {
        "id": "sCdd_WrOiZ-l"
      },
      "source": [
        "Now we can pass the `arguments` we want into the function to call it. Check [here](https://www.quora.com/What-is-the-difference-between-argument-and-parameters-in-C) for the difference between parameter and argument."
      ]
    },
    {
      "cell_type": "code",
      "execution_count": 9,
      "metadata": {
        "id": "t4YQoRhDiZ-m",
        "colab": {
          "base_uri": "https://localhost:8080/"
        },
        "outputId": "44ed10b0-6976-430f-ed5b-b552dc4a09a4"
      },
      "outputs": [
        {
          "output_type": "stream",
          "name": "stdout",
          "text": [
            "3 4 5\n"
          ]
        }
      ],
      "source": [
        "add_numbers(1, 2, 3)"
      ]
    },
    {
      "cell_type": "markdown",
      "metadata": {
        "id": "lGt9pKW0iZ-s"
      },
      "source": [
        "We passed the number `1` in for the `x` parameter, `2` in for the `y` parameter, and `3` in for the `z` parameter. These values correspond with each parameter in the order they are given."
      ]
    },
    {
      "cell_type": "code",
      "execution_count": 10,
      "metadata": {
        "id": "mqn4aCDbiZ-t",
        "colab": {
          "base_uri": "https://localhost:8080/"
        },
        "outputId": "a582900a-0fd7-403f-804a-980ac988769c"
      },
      "outputs": [
        {
          "output_type": "stream",
          "name": "stdout",
          "text": [
            "10 12 14\n",
            "ab ac bc\n"
          ]
        }
      ],
      "source": [
        "# try different arguments\n",
        "add_numbers(4, 6, 8)\n",
        "add_numbers('a', 'b', 'c') # how does it work?"
      ]
    },
    {
      "cell_type": "markdown",
      "metadata": {
        "collapsed": true,
        "id": "6tlFQKyBiZ-1"
      },
      "source": [
        "> **<h3>💻 Try it yourself!</h3>**\n",
        "\n",
        "Write a function that, given an input list of integers, prints their average."
      ]
    },
    {
      "cell_type": "code",
      "execution_count": 11,
      "metadata": {
        "id": "tfuV5bXEiZ-2",
        "colab": {
          "base_uri": "https://localhost:8080/"
        },
        "outputId": "94371d75-9785-43eb-bbe3-5d32d3dd2b9b"
      },
      "outputs": [
        {
          "output_type": "stream",
          "name": "stdout",
          "text": [
            "Enter a number: 4\n",
            "Enter a number: 4\n",
            "Enter a number: 5\n",
            "Enter a number: 3\n",
            "Enter a number: 1\n",
            "3.4\n"
          ]
        }
      ],
      "source": [
        "def get_average_list(input_list):\n",
        "    # TODO: write your code here\n",
        "    print(sum(input_list) / len(input_list))\n",
        "\n",
        "numlist = []\n",
        "for i in range(5):\n",
        "    num = int(input(\"Enter a number: \"))\n",
        "    numlist.append(num)\n",
        "get_average_list(numlist)\n"
      ]
    },
    {
      "cell_type": "markdown",
      "metadata": {
        "id": "Qrfr-xSGiZ-7"
      },
      "source": [
        "<details>\n",
        "  <summary>Click <b>here</b> to see the answer.</summary>\n",
        "  <p><pre><code>\n",
        "  def get_average_list(input_list):\n",
        "      print(sum(input_list) / len(input_list))\n",
        "  </code></pre></p>\n",
        "</details>"
      ]
    },
    {
      "cell_type": "markdown",
      "metadata": {
        "id": "9alVSUysiZ-8"
      },
      "source": [
        "> **<h3>💻 Try it yourself!</h3>**\n",
        "\n",
        "Write a function that, given an input string, computes and prints the following statistics:\n",
        "- Total number of characters.\n",
        "- Total number of tokens.\n",
        "- Total number of word types (i.e., distinct tokens) *Hint: there is a datatype that can help you with this!*"
      ]
    },
    {
      "cell_type": "code",
      "execution_count": 12,
      "metadata": {
        "id": "57wlqV_tiZ-9",
        "colab": {
          "base_uri": "https://localhost:8080/"
        },
        "outputId": "b309f315-4dca-4ad2-b71f-7f689ff86bdb"
      },
      "outputs": [
        {
          "output_type": "stream",
          "name": "stdout",
          "text": [
            "The given input string contains 39 characters, 12 tokens and 7 types\n"
          ]
        }
      ],
      "source": [
        "def string_statistics(s):\n",
        "    tot_characters = len(test_string)#TODO\n",
        "    tot_tokens = len(test_string.split())#TODO\n",
        "    tot_types = len(set(test_string.split()))#TODO\n",
        "\n",
        "    print(\"The given input string contains\", tot_characters, \"characters,\",\\\n",
        "         tot_tokens, \"tokens and\", tot_types, \"types\")\n",
        "\n",
        "# Test your function here!\n",
        "test_string = \"To be or not to be, not to be or to be!\"\n",
        "string_statistics(test_string)"
      ]
    },
    {
      "cell_type": "markdown",
      "metadata": {
        "id": "E7pNUD9gVp3S"
      },
      "source": [
        "<details>\n",
        "  <summary>Click <b>here</b> to see the answer.</summary>\n",
        "  <p><pre><code>\n",
        "    tot_characters = len(test_string)\n",
        "    tot_tokens = len(test_string.split())\n",
        "    tot_types = len(set(test_string.split()))\n",
        "  </code></pre></p>\n",
        "</details>"
      ]
    },
    {
      "cell_type": "markdown",
      "metadata": {
        "id": "r0bJtIkjiZ_C"
      },
      "source": [
        "### Keyword Arguments"
      ]
    },
    {
      "cell_type": "markdown",
      "metadata": {
        "id": "KRJkuyspiZ_G"
      },
      "source": [
        "We can also use keyword arguments in a function call to identify the arguments by the parameter name.\n",
        "\n",
        "When using keyword arguments, we can use parameters out of order because the Python interpreter will use the keywords provided to match the values to the parameters:"
      ]
    },
    {
      "cell_type": "code",
      "execution_count": 13,
      "metadata": {
        "id": "VY8cDmgViZ_H",
        "colab": {
          "base_uri": "https://localhost:8080/"
        },
        "outputId": "5484cc0a-e397-42a4-acf4-8843c0a79842"
      },
      "outputs": [
        {
          "output_type": "stream",
          "name": "stdout",
          "text": [
            "10 12 14\n",
            "10 12 14\n"
          ]
        }
      ],
      "source": [
        "add_numbers(x = 4, y = 6, z = 8)\n",
        "add_numbers(y = 6, x = 4, z = 8) # out of order, but same arguments"
      ]
    },
    {
      "cell_type": "markdown",
      "metadata": {
        "id": "ZiUi-ihsiZ_O"
      },
      "source": [
        "### Default Argument Values"
      ]
    },
    {
      "cell_type": "markdown",
      "metadata": {
        "id": "JCQD2xEUiZ_O"
      },
      "source": [
        "We can also provide default values for one or more parameters, so the parameters will be set to the default values\n",
        "if we do not mention them when calling the function."
      ]
    },
    {
      "cell_type": "code",
      "execution_count": 14,
      "metadata": {
        "id": "IP-7iag1iZ_P"
      },
      "outputs": [],
      "source": [
        "def add_numbers_default_value(x, y = 6, z = 10):\n",
        "    a = x + y\n",
        "    b = x + z\n",
        "    c = y + z\n",
        "    print(a, b, c)"
      ]
    },
    {
      "cell_type": "code",
      "execution_count": 15,
      "metadata": {
        "id": "aJdszbfWiZ_T",
        "colab": {
          "base_uri": "https://localhost:8080/"
        },
        "outputId": "0925b3d3-530d-46ab-ea92-2736639a5ca4"
      },
      "outputs": [
        {
          "output_type": "stream",
          "name": "stdout",
          "text": [
            "10 14 16\n",
            "10 14 16\n"
          ]
        }
      ],
      "source": [
        "add_numbers_default_value(4)\n",
        "add_numbers_default_value(x = 4)"
      ]
    },
    {
      "cell_type": "markdown",
      "metadata": {
        "id": "OtroWiu-iZ_X"
      },
      "source": [
        "We can also explicitly pass the arguments to the parameters with the default value:"
      ]
    },
    {
      "cell_type": "code",
      "execution_count": 16,
      "metadata": {
        "id": "6DU-uk_OiZ_Y",
        "colab": {
          "base_uri": "https://localhost:8080/"
        },
        "outputId": "e03c932f-066e-4ac2-ecdf-97675a4e4843"
      },
      "outputs": [
        {
          "output_type": "stream",
          "name": "stdout",
          "text": [
            "12 14 18\n"
          ]
        }
      ],
      "source": [
        "add_numbers_default_value(4, y = 8)"
      ]
    },
    {
      "cell_type": "markdown",
      "metadata": {
        "id": "42xzzKuBiZ_e"
      },
      "source": [
        "### Returning a Value"
      ]
    },
    {
      "cell_type": "markdown",
      "metadata": {
        "id": "CvhG-lk1iZ_e"
      },
      "source": [
        "We can pass parameters into a function, and a function can also return a value to us in the end. When a function exits, it can *optionally* pass an expression back to the caller, with the `return` statement. If you use a `return` statement with no arguments, the function will return `None`.\n",
        "\n",
        "So far, we have used the `print()` statement instead of the `return` statement in our functions. Let’s create a program that instead of printing will return a variable. The function `square` will take a parameter `x`, and returns the variable `y` representing the square of `x`."
      ]
    },
    {
      "cell_type": "code",
      "execution_count": 17,
      "metadata": {
        "id": "ij6u6BpaiZ_f"
      },
      "outputs": [],
      "source": [
        "def square(x):\n",
        "    y = x ** 2\n",
        "    return y"
      ]
    },
    {
      "cell_type": "code",
      "execution_count": 18,
      "metadata": {
        "id": "-ppQpR_PiZ_j",
        "colab": {
          "base_uri": "https://localhost:8080/"
        },
        "outputId": "967a1da7-cfe2-4483-8c97-37361780c8d7"
      },
      "outputs": [
        {
          "output_type": "stream",
          "name": "stdout",
          "text": [
            "9\n"
          ]
        }
      ],
      "source": [
        "result = square(3)\n",
        "print(result)"
      ]
    },
    {
      "cell_type": "markdown",
      "metadata": {
        "id": "h3R3YZTHiZ_o"
      },
      "source": [
        "As stated previously, we can use `return` with no arguments, so that the function will return `None`."
      ]
    },
    {
      "cell_type": "code",
      "execution_count": 19,
      "metadata": {
        "id": "8bxlRmU7iZ_p"
      },
      "outputs": [],
      "source": [
        "# we return no arguments\n",
        "def square_return_noarg(x):\n",
        "    y = x ** 2\n",
        "    return"
      ]
    },
    {
      "cell_type": "code",
      "execution_count": 20,
      "metadata": {
        "id": "NS4xRUQYiZ_t",
        "colab": {
          "base_uri": "https://localhost:8080/"
        },
        "outputId": "08ab3c3e-4d52-45ce-96c6-8bd00258c66a"
      },
      "outputs": [
        {
          "output_type": "stream",
          "name": "stdout",
          "text": [
            "None\n"
          ]
        }
      ],
      "source": [
        "result = square_return_noarg(3)\n",
        "print(result)"
      ]
    },
    {
      "cell_type": "markdown",
      "metadata": {
        "id": "EqqlFdTbiZ_y"
      },
      "source": [
        "Additionally, without using the `return` statement here, the function cannot return a value so the value defaults to `None` as well."
      ]
    },
    {
      "cell_type": "code",
      "execution_count": 21,
      "metadata": {
        "id": "vQvbjx1ciZ_0"
      },
      "outputs": [],
      "source": [
        "# we do not use return\n",
        "def square_noreturn(x):\n",
        "    y = x ** 2"
      ]
    },
    {
      "cell_type": "code",
      "execution_count": 22,
      "metadata": {
        "id": "wTCG4V04iZ_5",
        "colab": {
          "base_uri": "https://localhost:8080/"
        },
        "outputId": "e5f4f52e-f96e-45dc-8e47-8e43da423d72"
      },
      "outputs": [
        {
          "output_type": "stream",
          "name": "stdout",
          "text": [
            "None\n"
          ]
        }
      ],
      "source": [
        "result = square_noreturn(3)\n",
        "print(result)"
      ]
    },
    {
      "cell_type": "markdown",
      "metadata": {
        "id": "VojBVhFdiZ_-"
      },
      "source": [
        "In the previous function `add_numbers`, instead of printing the results, we can `return` more than one value wrapped in data structures such as **tuples**, **lists** or **dictionaries**:"
      ]
    },
    {
      "cell_type": "code",
      "execution_count": 23,
      "metadata": {
        "id": "4pOEYlxQiaAA"
      },
      "outputs": [],
      "source": [
        "def add_numbers_return_dict(x, y, z):\n",
        "    a = x + y\n",
        "    b = x + z\n",
        "    c = y + z\n",
        "    return {'a': a, 'b': b, 'c': c}"
      ]
    },
    {
      "cell_type": "code",
      "execution_count": 24,
      "metadata": {
        "id": "7AN0EOD3iaAD",
        "colab": {
          "base_uri": "https://localhost:8080/"
        },
        "outputId": "c7c821c6-f2a7-4546-cf14-513717904f9f"
      },
      "outputs": [
        {
          "output_type": "stream",
          "name": "stdout",
          "text": [
            "{'a': 3, 'b': 4, 'c': 5}\n"
          ]
        }
      ],
      "source": [
        "result = add_numbers_return_dict(1, 2, 3)\n",
        "print(result)"
      ]
    },
    {
      "cell_type": "markdown",
      "metadata": {
        "id": "34gIevh1iaAG"
      },
      "source": [
        "Whenever the program hits a `return` statement, the function will exit immediately, whether or not they are returning a value."
      ]
    },
    {
      "cell_type": "code",
      "execution_count": 25,
      "metadata": {
        "id": "tzpjobWniaAH",
        "colab": {
          "base_uri": "https://localhost:8080/"
        },
        "outputId": "32c14554-1859-43a4-819e-d29329f1b0f4"
      },
      "outputs": [
        {
          "output_type": "stream",
          "name": "stdout",
          "text": [
            "0\n",
            "1\n",
            "2\n",
            "3\n",
            "4\n",
            "5\n"
          ]
        }
      ],
      "source": [
        "def loop_five():\n",
        "    for x in range(0, 25):\n",
        "        print(x)\n",
        "        if x == 5:\n",
        "            # Stop function at x == 5\n",
        "            return\n",
        "    print(\"This line will not execute.\")\n",
        "\n",
        "loop_five()"
      ]
    },
    {
      "cell_type": "markdown",
      "metadata": {
        "id": "Q5QH4hoDiaAL"
      },
      "source": [
        "The function hits `return` before the `for` loop ends, so the line that is outside of the loop will not run."
      ]
    },
    {
      "cell_type": "markdown",
      "metadata": {
        "id": "bV-Mqz3ViaAM"
      },
      "source": [
        "> **<h3>💻 Try it yourself!</h3>**\n",
        "\n",
        "Write a function that:\n",
        "- Takes as input a shopping list in the form of `items : quantity` pairs;\n",
        "- For each item to buy, prints a reminder in the form: *Don't forget to buy* + `quantity` + `items`;\n",
        "- Ends by wishing you a nice shopping time."
      ]
    },
    {
      "cell_type": "code",
      "execution_count": 26,
      "metadata": {
        "id": "FsBHVlokiaAN",
        "colab": {
          "base_uri": "https://localhost:8080/"
        },
        "outputId": "18edf3bc-59ad-4240-df89-ba7d6c59dec6"
      },
      "outputs": [
        {
          "output_type": "stream",
          "name": "stdout",
          "text": [
            "Don't forget to buy 5 pears\n",
            "Don't forget to buy 7 apples\n",
            "Don't forget to buy 4 bananas\n",
            "Have a nice shopping time\n"
          ]
        }
      ],
      "source": [
        "def print_shopping_list(shopping_list):\n",
        "    for item, quantity in shopping_list.items():\n",
        "      print(\"Don't forget to buy\", quantity, item)\n",
        "    print(\"Have a nice shopping time\")\n",
        "\n",
        "# Test your function here!\n",
        "shopping_list = {\"pears\": 5, \"apples\": 7, \"bananas\": 4}\n",
        "print_shopping_list(shopping_list)"
      ]
    },
    {
      "cell_type": "markdown",
      "metadata": {
        "id": "zWR2iAPpiaAQ"
      },
      "source": [
        "<details>\n",
        "  <summary>Click <b>here</b> to see the answer.</summary>\n",
        "  <p><pre><code>\n",
        "    def print_shopping_list(shopping_list):\n",
        "        for item, quantity in shopping_list.items():\n",
        "            print(\"Don't forget to buy\", quantity, item)\n",
        "        print(\"Have a nice shopping time!\")\n",
        "  </code></pre></p>\n",
        "</details>"
      ]
    },
    {
      "cell_type": "markdown",
      "metadata": {
        "id": "l4wnN4QTiaAQ"
      },
      "source": [
        "Now, let's make our function a bit nicer.\n",
        "What would happen, for example, if someone would enter an incorrect input?\n",
        "Our function would crash!\n",
        "\n",
        "Let's improve our `print_shopping_list` function in the cell above in this way:\n",
        "- At the beginning of the function, check that the given input is of type `dict`;\n",
        "- If the input doesn't pass this test, return a `print` statement that asks the user for a correct input.\n",
        "\n",
        "Now, test our improved funtion with the test inputs below."
      ]
    },
    {
      "cell_type": "code",
      "execution_count": 27,
      "metadata": {
        "id": "R-_VNm1liaAR",
        "colab": {
          "base_uri": "https://localhost:8080/"
        },
        "outputId": "b5b09a3d-377d-4a17-f849-0b078a3d1088"
      },
      "outputs": [
        {
          "output_type": "stream",
          "name": "stdout",
          "text": [
            "Don't forget to buy 5 pears\n",
            "Have a nice shopping time!\n",
            "Don't forget to buy 7 apples\n",
            "Have a nice shopping time!\n",
            "Don't forget to buy 4 bananas\n",
            "Have a nice shopping time!\n",
            "Please, give me a valid shopping list!\n",
            "Don't forget to buy 9 tomatoes\n",
            "Have a nice shopping time!\n",
            "Don't forget to buy 1 cat_litter\n",
            "Have a nice shopping time!\n",
            "Don't forget to buy 4 thuna_chunks\n",
            "Have a nice shopping time!\n"
          ]
        }
      ],
      "source": [
        "# Test your improved function here!\n",
        "def print_shopping_list(shopping_list):\n",
        "    if type(shopping_list) != dict:\n",
        "        print(\"Please, give me a valid shopping list!\")\n",
        "    else:\n",
        "      for item, quantity in shopping_list.items():\n",
        "        print(\"Don't forget to buy\", quantity, item)\n",
        "        print(\"Have a nice shopping time!\")\n",
        "\n",
        "\n",
        "print_shopping_list({\"pears\": 5, \"apples\": 7, \"bananas\": 4})\n",
        "print_shopping_list([\"pears\", \"apples\", \"bananas\"])\n",
        "print_shopping_list({\"tomatoes\": 9, \"cat_litter\": 1, \"thuna_chunks\": 4})"
      ]
    },
    {
      "cell_type": "markdown",
      "metadata": {
        "id": "xHBoVQbJiaAU"
      },
      "source": [
        "<details>\n",
        "  <summary>Click <b>here</b> to see the answer.</summary>\n",
        "  <p><pre><code>\n",
        "    def print_shopping_list(shopping_list):\n",
        "        if type(shopping_list) != dict:\n",
        "            return(\"Please, give me a valid shopping list!\")\n",
        "        for item, quantity in shopping_list.items():\n",
        "            print(\"Don't forget to buy\", quantity, item)\n",
        "        print(\"Have a nice shopping time!\")\n",
        "  </code></pre></p>\n",
        "</details>"
      ]
    },
    {
      "cell_type": "markdown",
      "metadata": {
        "id": "ORYJiuzbiaAW"
      },
      "source": [
        "> **<h3>💻 Try it yourself!</h3>**\n",
        "\n",
        "Now, let's write a function that returns the total cost of a shopping list given as inputs two dictionaries: a `shopping_list` dictionary composed of `item : quantity` pairs (as in the excercise above) and an `inventory` dictionary composed of `item : cost` pairs.\n",
        "\n",
        "\n",
        "Complete the function below with the missing statements."
      ]
    },
    {
      "cell_type": "code",
      "execution_count": 28,
      "metadata": {
        "id": "CGdyxXf5iaAY",
        "colab": {
          "base_uri": "https://localhost:8080/"
        },
        "outputId": "046bc54f-f0d8-4a03-c4eb-82035b23f8ed"
      },
      "outputs": [
        {
          "output_type": "stream",
          "name": "stdout",
          "text": [
            "You'll spend 12.6 GBP\n"
          ]
        }
      ],
      "source": [
        "def calculate_shopping_bill(shopping_list, inventory):\n",
        "    shopping_cost = 0\n",
        "    for item, quantity in shopping_list.items():\n",
        "      item_cost = inventory[item]\n",
        "      total_cost = item_cost*quantity\n",
        "      shopping_cost += total_cost\n",
        "        # TODO: get the total price by summing up the prices of single items\n",
        "\n",
        "    return shopping_cost\n",
        "\n",
        "\n",
        "# Test your function here!\n",
        "our_shopping = {\"pears\": 5, \"apples\": 7, \"bananas\": 4}\n",
        "current_inventory = {\"pears\": 0.5, \"apples\": 0.7, \"bananas\": 1.3}\n",
        "\n",
        "cost = calculate_shopping_bill(our_shopping, current_inventory)\n",
        "print(\"You'll spend\", cost, \"GBP\")"
      ]
    },
    {
      "cell_type": "markdown",
      "metadata": {
        "collapsed": true,
        "id": "5xr4BOHbiaAd"
      },
      "source": [
        "<details>\n",
        "  <summary>Click <b>here</b> to see the answer.</summary>\n",
        "  <p><pre><code>\n",
        "    def calculate_shopping_bill(shopping_list, inventory):\n",
        "        shopping_cost = 0\n",
        "        for item, quantity in shopping_list.items():\n",
        "            single_item_cost = inventory[item]\n",
        "            total_item_cost = single_item_cost * quantity\n",
        "            shopping_cost += total_item_cost\n",
        "        return shopping_cost\n",
        "  </code></pre></p>\n",
        "</details>"
      ]
    },
    {
      "cell_type": "markdown",
      "metadata": {
        "id": "f5089YfziaAd"
      },
      "source": [
        "### ❓ Quiz  "
      ]
    },
    {
      "cell_type": "markdown",
      "metadata": {
        "id": "mi1qg8sdiaAe"
      },
      "source": [
        "Given the function:\n",
        "```\n",
        "def add_numbers(x = 3, y = 4, z = 5):\n",
        "    x = x + y\n",
        "    y = x + z\n",
        "    z = y + z\n",
        "    print(x, y, z)\n",
        "    \n",
        "o, p, q = 5, 6, 7\n",
        "L = [5,6,7]\n",
        "```"
      ]
    },
    {
      "cell_type": "markdown",
      "metadata": {
        "id": "Ui2srriXiaAe"
      },
      "source": [
        "1. What does the following code print?\n",
        "\n",
        "```\n",
        "d = add_numbers(5)\n",
        "```\n",
        "\n",
        "A. 7, 8, 9\n",
        "\n",
        "B. 9, 10, 9\n",
        "\n",
        "C. 9, 14, 19\n",
        "\n",
        "D. 9, 10, 19"
      ]
    },
    {
      "cell_type": "markdown",
      "metadata": {
        "id": "sKH0qzTziaAf"
      },
      "source": [
        "<hr>    <!-- please remember this! -->\n",
        "<details>\n",
        "  <summary>Click <b>here</b> to see the answer.</summary>\n",
        "  <p>C</p>\n",
        "  <p>\n",
        "      The value 5 is assigned to the parameter x, so the values of parameters are x = 3, y = 4, z = 5.<br>\n",
        "      Inside the function:<br>\n",
        "      x = x + y = 5 + 4 = 9, so now the value of x is 9;<br>\n",
        "      y = x + z = 9 + 5 = 14, so now the value of y is 14;<br>\n",
        "      z = y + z = 14 + 5 = 19<br>\n",
        "  </p>\n",
        "</details>"
      ]
    },
    {
      "cell_type": "markdown",
      "metadata": {
        "id": "-MQM0Z6giaAg"
      },
      "source": [
        "2. What is the value of `d`?\n",
        "\n",
        "A. 7\n",
        "\n",
        "B. 9\n",
        "\n",
        "C. 10\n",
        "\n",
        "D. None"
      ]
    },
    {
      "cell_type": "markdown",
      "metadata": {
        "id": "UOXbA3WhiaAg"
      },
      "source": [
        "<hr>    <!-- please remember this! -->\n",
        "<details>\n",
        "  <summary>Click <b>here</b> to see the answer.</summary>\n",
        "  <p>D</p>\n",
        "  <p>Because the function does not have a <mark>return</mark> line, the there will be no returned value for the function.\n",
        "</details>"
      ]
    },
    {
      "cell_type": "markdown",
      "metadata": {
        "id": "iLtA8fIZiaAg"
      },
      "source": [
        "3. What is the value of `o p q` after running the following code?\n",
        "\n",
        "```\n",
        "add_numbers(o, p, q)\n",
        "```\n",
        "\n",
        "A. 7, 12, 17\n",
        "\n",
        "B. 9, 14, 19\n",
        "\n",
        "C. 11, 18, 25\n",
        "\n",
        "D. 5, 6, 7"
      ]
    },
    {
      "cell_type": "markdown",
      "metadata": {
        "id": "ptCAkLGqiaAg"
      },
      "source": [
        "<hr>    <!-- please remember this! -->\n",
        "<details>\n",
        "  <summary>Click <b>here</b> to see the answer.</summary>\n",
        "  <p>D</p>\n",
        "  <p>Because o, p, q are passed to the function by value, their values will not be changed after executing the code.</p>\n",
        "\n",
        "</details>"
      ]
    },
    {
      "cell_type": "markdown",
      "metadata": {
        "id": "1LWoa0jdiaAh"
      },
      "source": [
        "4. How to pass the element of `L` as the parameters of the function?\n",
        "\n",
        "\n",
        "A. ```add_numbers(L)```\n",
        "\n",
        "\n",
        "B. ```add_numbers(L*)```\n",
        "\n",
        "C. ```add_numbers(*L)```\n",
        "\n",
        "D. ```add_numbers(**L)```"
      ]
    },
    {
      "cell_type": "markdown",
      "metadata": {
        "id": "Xkz0LLJRiaAi"
      },
      "source": [
        "<hr>    <!-- please remember this! -->\n",
        "<details>\n",
        "  <summary>Click <b>here</b> to see the answer.</summary>\n",
        "  <p>C</p>\n",
        "  <p>You can unpack the list using <mark>*</mark> to pass the elements of L as the parameters of the function.</p>\n",
        "</details>"
      ]
    },
    {
      "cell_type": "markdown",
      "metadata": {
        "id": "fBo1ntiHiaAi"
      },
      "source": [
        "5. What is the value of `L` after running the following code?\n",
        "\n",
        "```\n",
        "add_numbers(L, L, L)\n",
        "```\n",
        "\n",
        "A. [5, 6, 7]\n",
        "\n",
        "B. [5, 6, 7, 5, 6, 7]\n",
        "\n",
        "C. [5, 6, 7, 5, 6, 7, 5, 6, 7]\n",
        "\n",
        "D. [5, 6, 7, 5, 6, 7, 5, 6, 7, 5, 6, 7]"
      ]
    },
    {
      "cell_type": "markdown",
      "metadata": {
        "id": "n6H7TouiiaAj"
      },
      "source": [
        "<hr>    <!-- please remember this! -->\n",
        "<details>\n",
        "  <summary>Click <b>here</b> to see the answer.</summary>\n",
        "  <p>A</p>\n",
        "  <p>Similarly, L is passed to the function by value, so its value will not be changed afterwards.</p>\n",
        "</details>"
      ]
    },
    {
      "cell_type": "markdown",
      "metadata": {
        "id": "KiYe_-gPiaAj"
      },
      "source": [
        "## Regular Expressions"
      ]
    },
    {
      "cell_type": "markdown",
      "metadata": {
        "collapsed": true,
        "id": "yyqwMTe6iaAk"
      },
      "source": [
        "This section is heavily built on this [tutorial](https://docs.python.org/3.6/howto/regex.html#regex-howto), and students are strongly recommended to go through it. A more comprehensive documentation of python regular expressions can be found [here](https://docs.python.org/3.6/library/re.html)."
      ]
    },
    {
      "cell_type": "markdown",
      "metadata": {
        "id": "X25aSxUJiaAl"
      },
      "source": [
        "Regular expressions (called REs, or regexes, or regex patterns) are essentially a tiny, highly specialized programming language embedded inside Python and made available through the `re` module. Using this little language, you specify the rules for the set of possible strings that you want to match; this set might contain English sentences, or e-mail addresses, or TeX commands, or anything you like. You can then ask questions such as “Does this string match the pattern?”, or “Is there a match for the pattern anywhere in this string?”. You can also use REs to modify a string or to split it apart in various ways."
      ]
    },
    {
      "cell_type": "markdown",
      "metadata": {
        "id": "iGOb0uGriaAl"
      },
      "source": [
        "Python uses the **raw string** (compared to regular string, search [here](https://docs.python.org/3.6/howto/regex.html#regex-howto)) notation for RE patterns, and backslashes `'\\'` are not handled in any special way in a string literal prefixed with `r`. So `r'\\n'` is a two-character string containing `'\\'` and `'n'`, while `'\\n'` is a one-character string containing a newline.\n",
        "\n",
        "We’ll use the raw string notation for the rest of the section. We will also write REs in highlight style , i.e. `r'\\n'` is equivalent to `\\n`, usually without quotes, and strings to be matched 'in single quotes'."
      ]
    },
    {
      "cell_type": "markdown",
      "metadata": {
        "id": "fZxX1QKfiaAm"
      },
      "source": [
        "REs can contain both special and ordinary characters. Most ordinary characters, like `A`, `a`, or `0`, are the simplest REs; they simply match themselves. You can concatenate ordinary characters to match more complex sequence. For example, `test` will match the string 'test' exactly.\n",
        "\n",
        "Some characters are special metacharacters, and don’t match themselves. Instead, they signal that some out-of-the-ordinary thing should be matched, or they affect other portions of the RE by repeating them or changing their meaning.\n",
        "\n",
        "Here’s a complete list of the metacharacters and their explanations:\n",
        "\n",
        "- `.`             Matches any character except a newline.\n",
        "- `^`             Matches the start of the string.\n",
        "- `$`             Matches the end of the string or just before the newline at the end of the string.\n",
        "- `*`             Matches 0 or more (greedy) repetitions of the preceding RE. Greedy means that it will match as many repetitions as possible.\n",
        "- `+`             Matches 1 or more (greedy) repetitions of the preceding RE.\n",
        "- `?`             Matches 0 or 1 (greedy) of the preceding RE.\n",
        "- `*?, +?, ??`    Non-greedy versions of the previous three special characters.\n",
        "- `{m,n}`         Matches from m to n repetitions of the preceding RE.\n",
        "- `{m,n}?`        Non-greedy version of the above.\n",
        "- `\\\\`            Either escapes special characters or signals a special sequence.\n",
        "- `[]`            Indicates a set of characters. A \"^\" as the first character indicates a complementing set.\n",
        "- `|`             A|B, creates an RE that will match either A or B.\n",
        "- `(...)`         Matches the RE inside the parentheses. The contents can be retrieved or matched later in the string.\n",
        "\n",
        "\n",
        "The special sequences consist of \"\\\\\" and a character from the list below:\n",
        "- `\\number`  Matches the contents of the group of the same number.\n",
        "- `\\A`       Matches only at the start of the string.\n",
        "- `\\Z`       Matches only at the end of the string.\n",
        "- `\\b`       Matches the empty string, but only at the start or end of a word.\n",
        "- `\\B`       Matches the empty string, but not at the start or end of a word.\n",
        "- `\\d`       Matches any decimal digit; equivalent to the set `[0-9]`.\n",
        "- `\\D`       Matches any non-digit character; equivalent to `[^\\d]`.\n",
        "- `\\s`       Matches any whitespace character; equivalent to `[ \\t\\n\\r\\f\\v]`.\n",
        "- `\\S`       Matches any non-whitespace character; equivalent to `[^\\s]`.\n",
        "- `\\w`       Matches any alphanumeric character; equivalent to `[a-zA-Z0-9_]`.\n",
        "- `\\W`       Matches the complement of `\\w`.\n",
        "- `\\\\`       Matches a literal backslash."
      ]
    },
    {
      "cell_type": "code",
      "execution_count": 29,
      "metadata": {
        "id": "NQIs9i20iaAn"
      },
      "outputs": [],
      "source": [
        "# import built-in regular expression module in python\n",
        "import re"
      ]
    },
    {
      "cell_type": "code",
      "execution_count": 30,
      "metadata": {
        "id": "B6HL3dPbiaAq",
        "colab": {
          "base_uri": "https://localhost:8080/"
        },
        "outputId": "fc821b5e-c370-4bd0-a879-5335f1d77f9a"
      },
      "outputs": [
        {
          "output_type": "stream",
          "name": "stdout",
          "text": [
            "                2\n",
            "  When forty winters shall besiege thy brow,And dig deep trenches in thy beauty's field, Thy youth's proud livery so gazed on now, Will be a tattered weed of small worth held: Then being asked, where all thy beauty lies, Where all the treasure of thy lusty days; To say within thine own deep sunken eyes, Were an all-eating shame, and thriftless praise. How much more praise deserved thy beauty's use, If thou couldst answer 'This fair child of mine Shall sum my count, and make my old excuse' Proving his beauty by succession thine. This were to be new made when thou art old, And see thy blood warm when thou feel'st it cold.\n"
          ]
        }
      ],
      "source": [
        "text = (\"\"\"                2\n",
        "  When forty winters shall besiege thy brow,\"\"\"\n",
        "  \"And dig deep trenches in thy beauty's field, \"\n",
        "  \"Thy youth's proud livery so gazed on now, \"\n",
        "  \"Will be a tattered weed of small worth held: \"\n",
        "  \"Then being asked, where all thy beauty lies, \"\n",
        "  \"Where all the treasure of thy lusty days; \"\n",
        "  \"To say within thine own deep sunken eyes, \"\n",
        "  \"Were an all-eating shame, and thriftless praise. \"\n",
        "  \"How much more praise deserved thy beauty's use, \"\n",
        "  \"If thou couldst answer 'This fair child of mine \"\n",
        "  \"Shall sum my count, and make my old excuse' \"\n",
        "  \"Proving his beauty by succession thine. \"\n",
        "  \"This were to be new made when thou art old, \"\n",
        "  \"And see thy blood warm when thou feel'st it cold.\")\n",
        "\n",
        "print(text)"
      ]
    },
    {
      "cell_type": "markdown",
      "metadata": {
        "id": "x5R3u0G4iaAt"
      },
      "source": [
        "We will mainly concentrate two essential usage of regular expressions: **searching** and **substituting** text."
      ]
    },
    {
      "cell_type": "markdown",
      "metadata": {
        "id": "5_Q730zKiaAu"
      },
      "source": [
        "### Searching text"
      ]
    },
    {
      "cell_type": "markdown",
      "metadata": {
        "id": "yZK0GIrPiaAu"
      },
      "source": [
        "Let's first find word '**where**', in regardless of case.\n",
        "\n",
        "The **re** module provides an interface to the regular expression engine, allowing you to compile REs into objects and then perform matches with them."
      ]
    },
    {
      "cell_type": "code",
      "execution_count": 31,
      "metadata": {
        "id": "FsD6ZDZoiaAv",
        "colab": {
          "base_uri": "https://localhost:8080/"
        },
        "outputId": "6b78f699-b013-474c-82e5-83de14950dce"
      },
      "outputs": [
        {
          "output_type": "execute_result",
          "data": {
            "text/plain": [
              "re.compile(r'\\b[Ww]here\\b', re.UNICODE)"
            ]
          },
          "metadata": {},
          "execution_count": 31
        }
      ],
      "source": [
        "p = re.compile(r'\\b[Ww]here\\b')\n",
        "p"
      ]
    },
    {
      "cell_type": "markdown",
      "metadata": {
        "id": "kRRhhUmRiaAy"
      },
      "source": [
        "The pattern object, after compiled, has several functions and attributes. For **searching** text, there are mainly four functions available:\n",
        "- *match()*: determine if the RE matches at the beginning of the string.\n",
        "- *search()*: scan through a string, looking for any location where this RE matches.\n",
        "- *findall()*: find all substrings where the RE matches, and returns them as a list.\n",
        "- *finditer()*: find all substrings where the RE matches, and returns them as an iterator.\n",
        "\n",
        "Please consult the **re** documentation for a complete listing."
      ]
    },
    {
      "cell_type": "code",
      "execution_count": 32,
      "metadata": {
        "id": "nsC-0yADiaAy",
        "colab": {
          "base_uri": "https://localhost:8080/"
        },
        "outputId": "2b8d3966-ace1-42a5-9f24-24bca69a1d6e"
      },
      "outputs": [
        {
          "output_type": "stream",
          "name": "stdout",
          "text": [
            "None\n"
          ]
        }
      ],
      "source": [
        "m = p.match(text)\n",
        "print(m)"
      ]
    },
    {
      "cell_type": "code",
      "execution_count": 33,
      "metadata": {
        "id": "ccowpuGPiaA3",
        "colab": {
          "base_uri": "https://localhost:8080/"
        },
        "outputId": "d5d1ed65-0ca7-4065-dbb4-348530de34e7"
      },
      "outputs": [
        {
          "output_type": "stream",
          "name": "stdout",
          "text": [
            "<re.Match object; span=(212, 217), match='where'>\n"
          ]
        }
      ],
      "source": [
        "m = p.search(text)\n",
        "print(m)"
      ]
    },
    {
      "cell_type": "markdown",
      "metadata": {
        "id": "cJdrjkUwiaA7"
      },
      "source": [
        "The functions *match()* and *search()* return None if no match can be found. If they’re successful, a match object instance is returned, containing information about the match: where it starts and ends, the substring it matched, and more.\n",
        "\n",
        "In this example, as the text doesn't start with the word 'where', so *match()* won't find any match, whereas *search()* will look for any location where RE matches.\n",
        "\n",
        "We can further query the match object for information about the matching string."
      ]
    },
    {
      "cell_type": "code",
      "execution_count": 34,
      "metadata": {
        "id": "PaY8sHs_iaA8",
        "colab": {
          "base_uri": "https://localhost:8080/",
          "height": 36
        },
        "outputId": "323f424a-7e7f-41ac-8313-eee005c7ae35"
      },
      "outputs": [
        {
          "output_type": "execute_result",
          "data": {
            "text/plain": [
              "'where'"
            ],
            "application/vnd.google.colaboratory.intrinsic+json": {
              "type": "string"
            }
          },
          "metadata": {},
          "execution_count": 34
        }
      ],
      "source": [
        "m.group()"
      ]
    },
    {
      "cell_type": "code",
      "execution_count": 35,
      "metadata": {
        "id": "F0a_IhgkiaA_",
        "colab": {
          "base_uri": "https://localhost:8080/"
        },
        "outputId": "ebc15584-e9ac-4d12-9240-937043685120"
      },
      "outputs": [
        {
          "output_type": "execute_result",
          "data": {
            "text/plain": [
              "(212, 217)"
            ]
          },
          "metadata": {},
          "execution_count": 35
        }
      ],
      "source": [
        "m.start(), m.end()"
      ]
    },
    {
      "cell_type": "code",
      "execution_count": 36,
      "metadata": {
        "id": "3tGVTSvriaBD",
        "colab": {
          "base_uri": "https://localhost:8080/"
        },
        "outputId": "ea9c0be3-3153-4ad0-d3b3-ef1be4fc3c55"
      },
      "outputs": [
        {
          "output_type": "execute_result",
          "data": {
            "text/plain": [
              "(212, 217)"
            ]
          },
          "metadata": {},
          "execution_count": 36
        }
      ],
      "source": [
        "m.span()"
      ]
    },
    {
      "cell_type": "markdown",
      "metadata": {
        "id": "3WLoR-FDiaBF"
      },
      "source": [
        "Now what if we want to find all matches, i.e. all words 'where'? We can use *findall()* and *finditer()*.\n",
        "\n",
        "The *findall()* returns a list of matching strings."
      ]
    },
    {
      "cell_type": "code",
      "execution_count": 37,
      "metadata": {
        "id": "y7sM1cO2iaBG",
        "colab": {
          "base_uri": "https://localhost:8080/"
        },
        "outputId": "92f9d5c5-fc1e-4a72-b4ed-60d32f45937d"
      },
      "outputs": [
        {
          "output_type": "stream",
          "name": "stdout",
          "text": [
            "['where', 'Where']\n"
          ]
        }
      ],
      "source": [
        "m = p.findall(text)\n",
        "print(m)"
      ]
    },
    {
      "cell_type": "markdown",
      "metadata": {
        "id": "zG5ca8G-iaBJ"
      },
      "source": [
        "The *finditer()* returns a sequence of match object instances as an iterator."
      ]
    },
    {
      "cell_type": "code",
      "execution_count": 38,
      "metadata": {
        "id": "Ivi8A8SJiaBL",
        "colab": {
          "base_uri": "https://localhost:8080/"
        },
        "outputId": "79fcfa75-a556-404c-80e9-a60ff20f36f4"
      },
      "outputs": [
        {
          "output_type": "stream",
          "name": "stdout",
          "text": [
            "<re.Match object; span=(212, 217), match='where'>\n",
            "<re.Match object; span=(239, 244), match='Where'>\n"
          ]
        }
      ],
      "source": [
        "iterator = p.finditer(text)\n",
        "for match in iterator:\n",
        "    print(match)"
      ]
    },
    {
      "cell_type": "markdown",
      "metadata": {
        "id": "PcKotYQiiaBO"
      },
      "source": [
        "You don’t have to create a pattern object and call its functions; the **re** module also provides the same top-level functions."
      ]
    },
    {
      "cell_type": "code",
      "execution_count": 39,
      "metadata": {
        "id": "yRdjpFxDiaBg",
        "colab": {
          "base_uri": "https://localhost:8080/"
        },
        "outputId": "18d87ce6-89e9-4d73-ef52-bdddb1e1a905"
      },
      "outputs": [
        {
          "output_type": "stream",
          "name": "stdout",
          "text": [
            "<re.Match object; span=(212, 217), match='where'>\n"
          ]
        }
      ],
      "source": [
        "print(re.search(r'\\b[Ww]here\\b', text))"
      ]
    },
    {
      "cell_type": "code",
      "execution_count": 40,
      "metadata": {
        "id": "986gdO8biaBl",
        "colab": {
          "base_uri": "https://localhost:8080/"
        },
        "outputId": "1bbf29b0-949e-4421-c7b3-6c9068f31763"
      },
      "outputs": [
        {
          "output_type": "stream",
          "name": "stdout",
          "text": [
            "['where', 'Where']\n"
          ]
        }
      ],
      "source": [
        "print(re.findall(r'\\b[Ww]here\\b', text))"
      ]
    },
    {
      "cell_type": "markdown",
      "metadata": {
        "id": "SJKjZMc1iaBq"
      },
      "source": [
        "Notice that when we compile the RE, there is a **re.UNICODE** item when we print the object. It is a compliation flag which let you modify some aspects of how RE works. The full flag list is available in the module documentation. For example, we can use **re.IGNORECASE** or **re.I** to do case-insensitive matches, so that we do not have to take care of capital letters."
      ]
    },
    {
      "cell_type": "code",
      "execution_count": 41,
      "metadata": {
        "id": "OBldTtqViaBr",
        "colab": {
          "base_uri": "https://localhost:8080/"
        },
        "outputId": "212685f3-d8bc-4555-efd4-baddd2ed230a"
      },
      "outputs": [
        {
          "output_type": "execute_result",
          "data": {
            "text/plain": [
              "re.compile(r'\\bwhere\\b', re.IGNORECASE|re.UNICODE)"
            ]
          },
          "metadata": {},
          "execution_count": 41
        }
      ],
      "source": [
        "p = re.compile(r'\\bwhere\\b', re.I)\n",
        "p"
      ]
    },
    {
      "cell_type": "markdown",
      "metadata": {
        "id": "7DQc8vvQiaBv"
      },
      "source": [
        "And we will still have the same results."
      ]
    },
    {
      "cell_type": "code",
      "execution_count": 42,
      "metadata": {
        "id": "3JIzadnaiaBw",
        "colab": {
          "base_uri": "https://localhost:8080/"
        },
        "outputId": "8aa23bcc-1aa7-4ee1-cd2c-f4e36b3ea8ff"
      },
      "outputs": [
        {
          "output_type": "stream",
          "name": "stdout",
          "text": [
            "['where', 'Where']\n"
          ]
        }
      ],
      "source": [
        "m = p.findall(text)\n",
        "print(m)"
      ]
    },
    {
      "cell_type": "markdown",
      "metadata": {
        "id": "Y2Mv-TEyiaBz"
      },
      "source": [
        "> **<h3>💻 Try it yourself!</h3>**\n",
        "\n",
        "Now try to come up with your regular expressions and search in the text to see if they will work.\n",
        "\n",
        "You can use the cell below:"
      ]
    },
    {
      "cell_type": "code",
      "execution_count": 43,
      "metadata": {
        "id": "5xWSm_7TiaBz",
        "colab": {
          "base_uri": "https://localhost:8080/"
        },
        "outputId": "42947ed1-6c08-4b61-c57a-154d2c5acd47"
      },
      "outputs": [
        {
          "output_type": "stream",
          "name": "stdout",
          "text": [
            "['thou', 'thou', 'thou']\n"
          ]
        }
      ],
      "source": [
        "x = re.compile(r'\\bthou\\b', re.I)\n",
        "y = x.findall(text)\n",
        "print(y)\n",
        "#print(re.findall(r'\\bthou\\b', re.I))"
      ]
    },
    {
      "cell_type": "markdown",
      "metadata": {
        "id": "Exhen6ahiaB1"
      },
      "source": [
        "#### Groupings"
      ]
    },
    {
      "cell_type": "markdown",
      "metadata": {
        "id": "yoqVEsuGiaB2"
      },
      "source": [
        "Frequently you need to obtain more information than just whether the RE matched or not. REs are often used to dissect strings by writing a RE divided into several subgroups which match different components of interest.\n",
        "\n",
        "Groups are marked by the `'('`, `')'` metacharacters. They group together the expressions contained inside them, and you can repeat the contents of a group with a repeating qualifier, such as `*`, `+`, `?`, or `{m,n}`."
      ]
    },
    {
      "cell_type": "code",
      "execution_count": 44,
      "metadata": {
        "id": "X6_7ZXnLiaB2",
        "colab": {
          "base_uri": "https://localhost:8080/"
        },
        "outputId": "d49798a8-5680-4cc7-baf3-b14ac60c01f2"
      },
      "outputs": [
        {
          "output_type": "stream",
          "name": "stdout",
          "text": [
            "(0, 8)\n"
          ]
        }
      ],
      "source": [
        "p = re.compile('((a(b)c)d)*')\n",
        "m = p.match('abcdabcd')\n",
        "print(m.span())"
      ]
    },
    {
      "cell_type": "markdown",
      "metadata": {
        "id": "Aluyq_bNiaB7"
      },
      "source": [
        "Groups indicated with `'('`, `')'` also capture the starting and ending index of the text that they match; this can be retrieved by passing an argument to `group()`, `start()`, `end()`, and `span()`.\n",
        "\n",
        "Groups are numbered starting with 0. Group 0 is always present; it’s the whole RE, so previous methods all have group 0 as their default argument."
      ]
    },
    {
      "cell_type": "code",
      "execution_count": 45,
      "metadata": {
        "id": "LAfjKaFiiaB8",
        "colab": {
          "base_uri": "https://localhost:8080/"
        },
        "outputId": "ea5c210d-69b6-4cae-da34-d553216ec068"
      },
      "outputs": [
        {
          "output_type": "stream",
          "name": "stdout",
          "text": [
            "0 8\n",
            "('abcdabcd', 'abcd', 'abc', 'b')\n",
            "(4, 7)\n"
          ]
        }
      ],
      "source": [
        "print(m.start(0), m.end(0))\n",
        "print(m.group(0,1,2,3))\n",
        "print(m.span(2))"
      ]
    },
    {
      "cell_type": "markdown",
      "metadata": {
        "id": "Vp_F6jPSiaB_"
      },
      "source": [
        "The `groups()` method returns a tuple containing the strings for all the subgroups, from 1 up to however many there are."
      ]
    },
    {
      "cell_type": "code",
      "execution_count": 46,
      "metadata": {
        "id": "_fr1QCupiaB_",
        "colab": {
          "base_uri": "https://localhost:8080/"
        },
        "outputId": "1d3123d0-eb15-45a5-94a1-859850d301e9"
      },
      "outputs": [
        {
          "output_type": "stream",
          "name": "stdout",
          "text": [
            "('abcd', 'abc', 'b')\n"
          ]
        }
      ],
      "source": [
        "print(m.groups())"
      ]
    },
    {
      "cell_type": "markdown",
      "metadata": {
        "id": "z-Owax1HiaCC"
      },
      "source": [
        "### Substituting text"
      ]
    },
    {
      "cell_type": "markdown",
      "metadata": {
        "id": "eTrmuyoZiaCC"
      },
      "source": [
        "We will use the following functions for substitution:\n",
        "- *sub()*: find all substrings where the RE matches, and replace them with a different string.\n",
        "- *subn()*: does the same thing as sub(), but returns the new string and the number of replacements.\n",
        "\n",
        "Again, you are encouraged to refer to the docs for more functions."
      ]
    },
    {
      "cell_type": "markdown",
      "metadata": {
        "id": "n20tqXFriaCC"
      },
      "source": [
        "***sub*** *(replacement, string[, count=0])*\n",
        "\n",
        "Returns the string obtained by replacing the leftmost non-overlapping occurrences of the RE in *string* by the replacement *replacement*. If the pattern isn’t found, string is returned unchanged.\n",
        "\n",
        "The optional argument *count* is the maximum number of pattern occurrences to be replaced; *count* must be a non-negative integer. The default value of 0 means to replace all occurrences."
      ]
    },
    {
      "cell_type": "markdown",
      "metadata": {
        "id": "tQAYYTPKiaCD"
      },
      "source": [
        "For the same example, let's substitute all `'where'` words to `'-------'`."
      ]
    },
    {
      "cell_type": "code",
      "execution_count": 47,
      "metadata": {
        "id": "R0d5wN3EiaCE",
        "colab": {
          "base_uri": "https://localhost:8080/"
        },
        "outputId": "f0560864-3e92-4f1c-b54c-799474f0d7ab"
      },
      "outputs": [
        {
          "output_type": "stream",
          "name": "stdout",
          "text": [
            "                2\n",
            "  When forty winters shall besiege thy brow,And dig deep trenches in thy beauty's field, Thy youth's proud livery so gazed on now, Will be a tattered weed of small worth held: Then being asked, ------ all thy beauty lies, ------ all the treasure of thy lusty days; To say within thine own deep sunken eyes, Were an all-eating shame, and thriftless praise. How much more praise deserved thy beauty's use, If thou couldst answer 'This fair child of mine Shall sum my count, and make my old excuse' Proving his beauty by succession thine. This were to be new made when thou art old, And see thy blood warm when thou feel'st it cold.\n"
          ]
        }
      ],
      "source": [
        "p = re.compile(r'\\b[Ww]here\\b')\n",
        "print(p.sub('------', text))"
      ]
    },
    {
      "cell_type": "code",
      "execution_count": 48,
      "metadata": {
        "id": "WPulxPxviaCG",
        "colab": {
          "base_uri": "https://localhost:8080/"
        },
        "outputId": "1457349c-8a93-412c-8217-7123e74ea18e"
      },
      "outputs": [
        {
          "output_type": "stream",
          "name": "stdout",
          "text": [
            "                2\n",
            "  When forty winters shall besiege thy brow,And dig deep trenches in thy beauty's field, Thy youth's proud livery so gazed on now, Will be a tattered weed of small worth held: Then being asked, ------ all thy beauty lies, Where all the treasure of thy lusty days; To say within thine own deep sunken eyes, Were an all-eating shame, and thriftless praise. How much more praise deserved thy beauty's use, If thou couldst answer 'This fair child of mine Shall sum my count, and make my old excuse' Proving his beauty by succession thine. This were to be new made when thou art old, And see thy blood warm when thou feel'st it cold.\n"
          ]
        }
      ],
      "source": [
        "print(p.sub('------', text, count = 1))"
      ]
    },
    {
      "cell_type": "markdown",
      "metadata": {
        "id": "LwS_bjmJiaCJ"
      },
      "source": [
        "The `subn()` method does the same work, but returns a 2-tuple containing the new string value and the number of replacements that were performed:"
      ]
    },
    {
      "cell_type": "code",
      "execution_count": 49,
      "metadata": {
        "id": "ddQiAMARiaCK",
        "colab": {
          "base_uri": "https://localhost:8080/"
        },
        "outputId": "14527aea-fba5-414d-f9a1-9d779b884356"
      },
      "outputs": [
        {
          "output_type": "stream",
          "name": "stdout",
          "text": [
            "(\"                2\\n  When forty winters shall besiege thy brow,And dig deep trenches in thy beauty's field, Thy youth's proud livery so gazed on now, Will be a tattered weed of small worth held: Then being asked, ------ all thy beauty lies, ------ all the treasure of thy lusty days; To say within thine own deep sunken eyes, Were an all-eating shame, and thriftless praise. How much more praise deserved thy beauty's use, If thou couldst answer 'This fair child of mine Shall sum my count, and make my old excuse' Proving his beauty by succession thine. This were to be new made when thou art old, And see thy blood warm when thou feel'st it cold.\", 2)\n"
          ]
        }
      ],
      "source": [
        "print(p.subn('------', text))"
      ]
    },
    {
      "cell_type": "code",
      "execution_count": 50,
      "metadata": {
        "id": "deA6T7lniaCN",
        "colab": {
          "base_uri": "https://localhost:8080/",
          "height": 36
        },
        "outputId": "90c739f4-7fef-4bda-9a90-1a0b59b07232"
      },
      "outputs": [
        {
          "output_type": "execute_result",
          "data": {
            "text/plain": [
              "'subsection{First} subsection{second}'"
            ],
            "application/vnd.google.colaboratory.intrinsic+json": {
              "type": "string"
            }
          },
          "metadata": {},
          "execution_count": 50
        }
      ],
      "source": [
        "p = re.compile('section{ (?P<name> [^}]* ) }', re.VERBOSE)\n",
        "p.sub(r'subsection{\\g<1>}','section{First} section{second}')"
      ]
    },
    {
      "cell_type": "markdown",
      "metadata": {
        "id": "CH8MJHUyiaCP"
      },
      "source": [
        "> **<h3>💻 Try it yourself!</h3>**\n",
        "\n",
        "Now it's your turn! Please write a regular expression to match sentences that start with the word “This” (case insensitive)."
      ]
    },
    {
      "cell_type": "code",
      "execution_count": 50,
      "metadata": {
        "id": "-0uEVthsiaCQ"
      },
      "outputs": [],
      "source": []
    },
    {
      "cell_type": "markdown",
      "metadata": {
        "id": "pAoA5PyBiaCS"
      },
      "source": [
        "And a regex that matches words which are emoticons (like *:)*). At least 5 emoticons must be matched."
      ]
    },
    {
      "cell_type": "code",
      "execution_count": 50,
      "metadata": {
        "id": "pcutqI3AiaCS"
      },
      "outputs": [],
      "source": []
    },
    {
      "cell_type": "markdown",
      "metadata": {
        "id": "VbvaILMYiaCV"
      },
      "source": [
        "And a regex that can match words which contains at least 3 *o*s in a row (so that *cooooool* would be a match, but *book* would not)."
      ]
    },
    {
      "cell_type": "code",
      "execution_count": 50,
      "metadata": {
        "id": "603MgazgiaCV"
      },
      "outputs": [],
      "source": []
    },
    {
      "cell_type": "markdown",
      "metadata": {
        "id": "TOmvwKtZiaCY"
      },
      "source": [
        "Finally, write a regex that substitutes any word-ending in *a* or *as* into an *o* or *os*.\n",
        "\n",
        "Test your regex by converting the Spanish sentence *Maria es ecuatoriana y tiene dos hijas rubias y muy altas* (Mary is Ecuadorian and has two blonde and very tall daughters) into its masculine equivalent."
      ]
    },
    {
      "cell_type": "code",
      "execution_count": 50,
      "metadata": {
        "id": "SCwd24vHiaCY"
      },
      "outputs": [],
      "source": []
    },
    {
      "cell_type": "markdown",
      "metadata": {
        "id": "27B4a3rbiaCf"
      },
      "source": [
        "### Building a simple Eliza"
      ]
    },
    {
      "cell_type": "markdown",
      "metadata": {
        "id": "zr-63l7siaCf"
      },
      "source": [
        "Having learnt about Eliza in the lecture, which is meant to emulate a Rogerian psychologist, let us now build a simple version of Eliza with RE."
      ]
    },
    {
      "cell_type": "markdown",
      "metadata": {
        "id": "_G_eqlcLiaCf"
      },
      "source": [
        "First, let us build a dictionary `grefs` that is used to map first-person pronouns to second-person pronouns and vice-versa. It is used to “reflect” a statement back against the user:"
      ]
    },
    {
      "cell_type": "code",
      "execution_count": 51,
      "metadata": {
        "id": "pamWKZLQiaCg"
      },
      "outputs": [],
      "source": [
        "grefs = {\n",
        "    \"am\":          \"are\",\n",
        "    \"was\":         \"were\",\n",
        "    \"i\":           \"you\",\n",
        "    \"i'd\":         \"you would\",\n",
        "    \"i've\":        \"you have\",\n",
        "    \"i'll\":        \"you will\",\n",
        "    \"my\":          \"your\",\n",
        "    \"are\":         \"am\",\n",
        "    \"you are\":     \"I am\",\n",
        "    \"you've\":      \"I have\",\n",
        "    \"you'll\":      \"I will\",\n",
        "    \"your\":        \"my\",\n",
        "    \"yours\":       \"mine\",\n",
        "    \"you\":         \"me\",\n",
        "    \"me\":          \"you\"\n",
        "}"
      ]
    },
    {
      "cell_type": "markdown",
      "metadata": {
        "id": "Gjf855soiaCi"
      },
      "source": [
        "Then we need another table `gpats` that is made up of a list of lists, where the first element is a RE that matches the user’s statements and the second element is a list of potential responses.\n",
        "\n",
        "Many of the potential responses contain placeholders that can be filled in with fragments to echo the user’s statements."
      ]
    },
    {
      "cell_type": "code",
      "execution_count": 52,
      "metadata": {
        "id": "K_jzixXQiaCi"
      },
      "outputs": [],
      "source": [
        "gpats = [\n",
        "  [r'I need (.*)',\n",
        "  [  \"Why do you need {0}?\",\n",
        "    \"Would it really help you to get {0}?\",\n",
        "    \"Are you sure you need {0}?\"]],\n",
        "\n",
        "  [r'I can\\'?t (.*)',\n",
        "  [  \"How do you know you can't {0}?\",\n",
        "    \"Perhaps you could {0} if you tried.\",\n",
        "    \"What would it take for you to {0}?\"]],\n",
        "\n",
        "  [r'I am (.*)',\n",
        "  [  \"Did you come to me because you are {0}?\",\n",
        "    \"How long have you been {0}?\",\n",
        "    \"How do you feel about being {0}?\"]],\n",
        "\n",
        "  [r'I\\'?m (.*)',\n",
        "  [  \"How does being {0} make you feel?\",\n",
        "    \"Do you enjoy being {0}?\",\n",
        "    \"Why do you tell me you're {0}?\",\n",
        "    \"Why do you think you're {0}?\"]],\n",
        "\n",
        "  [r'Are you ([^\\?]*)\\??',\n",
        "  [  \"Why does it matter whether I am {0}?\",\n",
        "    \"Would you prefer it if I were not {0}?\",\n",
        "    \"Perhaps you believe I am {0}.\",\n",
        "    \"I may be {0} -- what do you think?\"]],\n",
        "\n",
        "  [r'What (.*)',\n",
        "  [  \"Why do you ask?\",\n",
        "    \"How would an answer to that help you?\",\n",
        "    \"What do you think?\"]],\n",
        "\n",
        "  [r'How (.*)',\n",
        "  [  \"How do you suppose?\",\n",
        "    \"Perhaps you can answer your own question.\",\n",
        "    \"What is it you're really asking?\"]],\n",
        "\n",
        "  [r'Because (.*)',\n",
        "  [  \"Is that the real reason?\",\n",
        "    \"What other reasons come to mind?\",\n",
        "    \"Does that reason apply to anything else?\",\n",
        "    \"If {0}, what else must be true?\"]],\n",
        "\n",
        "  [r'Hello(.*)',\n",
        "  [  \"Hello... I'm glad you could drop by today.\",\n",
        "    \"Hi there... how are you today?\",\n",
        "    \"Hello, how are you feeling today?\"]],\n",
        "\n",
        "  [r'quit',\n",
        "  [  \"Thank you for talking with me.\",\n",
        "    \"Good-bye.\",\n",
        "    \"Thank you, that will be $150.  Have a good day!\"]],\n",
        "\n",
        "  [r'(.*)',\n",
        "  [  \"Please tell me more.\",\n",
        "    \"Let's change focus a bit... Tell me about your family.\",\n",
        "    \"Can you elaborate on that?\",\n",
        "    \"Why do you say that {0}?\",\n",
        "    \"I see.\",\n",
        "    \"Very interesting.\",\n",
        "    \"{0}.\",\n",
        "    \"I see.  And what does that tell you?\",\n",
        "    \"How does that make you feel?\",\n",
        "    \"How do you feel when you say that?\"]]\n",
        "]"
      ]
    },
    {
      "cell_type": "markdown",
      "metadata": {
        "id": "hw505UbniaCk"
      },
      "source": [
        "Now let us write the function `respond` that reads the user input and generates the response accordingly.\n",
        "\n",
        "We iterate through the regular expressions in `gpats`, trying to match each one with the user’s input `s`. If we find a match, we choose a response template randomly from the list of possible responses associated with the matching pattern. Then we interpolate the match groups from the RE into the response string, calling the `translate` function on each match group first.\n",
        "\n",
        "When we use the list comprehension to generate a list of reflected match groups, we explode the list with the asterisk `\\*` character before passing it to the string’s `format` method. Format expects a series of positional arguments corresponding to the number of format placeholders – `{0}`, `{1}`, etc. – in the string."
      ]
    },
    {
      "cell_type": "code",
      "execution_count": 53,
      "metadata": {
        "id": "XFBi1VfdiaCl"
      },
      "outputs": [],
      "source": [
        "import re\n",
        "import random\n",
        "def respond(s):\n",
        "    for pattern, responses in gpats:\n",
        "        # find a match for s\n",
        "        match = re.match(pattern, s)\n",
        "        if match:\n",
        "            # chosen randomly from among the available options\n",
        "            response = random.choice(responses)\n",
        "            return response.format(*[translate(g) for g in match.groups()])"
      ]
    },
    {
      "cell_type": "markdown",
      "metadata": {
        "id": "4OBCI_bLiaCo"
      },
      "source": [
        "First, we make the input lowercase, then we tokenize it by splitting on whitespace characters. We iterate through the list of tokens and, if the token exists in our reflections dictionary, we replace it with the value from the dictionary. So “I” becomes “you”, “your” becomes “my”, etc."
      ]
    },
    {
      "cell_type": "code",
      "execution_count": 54,
      "metadata": {
        "id": "1VzJ-FBRiaCp"
      },
      "outputs": [],
      "source": [
        "def translate(fragment):\n",
        "    tokens = fragment.lower().split()\n",
        "    for i, token in enumerate(tokens):\n",
        "        if token in grefs:\n",
        "            tokens[i] = grefs[token]\n",
        "    return ' '.join(tokens)"
      ]
    },
    {
      "cell_type": "markdown",
      "metadata": {
        "id": "lAbMaT77iaCr"
      },
      "source": [
        "Finally, we can wrap everything into an interface where our Eliza will wait for the user input and generate corresponding response."
      ]
    },
    {
      "cell_type": "code",
      "execution_count": 55,
      "metadata": {
        "id": "PkufxD5RiaCr"
      },
      "outputs": [],
      "source": [
        "def start_eliza():\n",
        "    print('Therapist\\n---------')\n",
        "    print('Talk to the program by typing in plain English, using normal upper-')\n",
        "    print('and lower-case letters and punctuation.  Enter \"quit\" when done.')\n",
        "    print('='*72)\n",
        "    print('Hello.  How are you feeling today?')\n",
        "\n",
        "    s = ''\n",
        "    while s != 'quit':\n",
        "        try:\n",
        "            s = input('> ')\n",
        "            while s[-1] in '!.':\n",
        "                s = s[:-1]\n",
        "        except:\n",
        "            s = 'quit'\n",
        "            print('Invalid Input, exit ...')\n",
        "        print(respond(s))"
      ]
    },
    {
      "cell_type": "code",
      "execution_count": 56,
      "metadata": {
        "id": "fm4erZi4iaCu",
        "colab": {
          "base_uri": "https://localhost:8080/"
        },
        "outputId": "f5d53db1-657a-463b-d8fc-d60011095373"
      },
      "outputs": [
        {
          "output_type": "stream",
          "name": "stdout",
          "text": [
            "Therapist\n",
            "---------\n",
            "Talk to the program by typing in plain English, using normal upper-\n",
            "and lower-case letters and punctuation.  Enter \"quit\" when done.\n",
            "========================================================================\n",
            "Hello.  How are you feeling today?\n",
            "> bad\n",
            "Please tell me more.\n",
            "> quit\n",
            "Thank you, that will be $150.  Have a good day!\n"
          ]
        }
      ],
      "source": [
        "start_eliza()"
      ]
    },
    {
      "cell_type": "markdown",
      "metadata": {
        "id": "B9FHNXoFiaCx"
      },
      "source": [
        "Now try to add your own [RE, responses] pairs to the `gpats` to capture more questions from the user. Feel free to refer to [this](https://github.com/jezhiggins/eliza.py/blob/master/eliza.py) for more REs."
      ]
    },
    {
      "cell_type": "markdown",
      "metadata": {
        "id": "6tHMsbtSiaCx"
      },
      "source": [
        "### ❓ Quiz  "
      ]
    },
    {
      "cell_type": "markdown",
      "metadata": {
        "id": "-HVFUrpmiaCx"
      },
      "source": [
        "1. For the previous variable `text` for regular expression session:"
      ]
    },
    {
      "cell_type": "code",
      "execution_count": 57,
      "metadata": {
        "id": "4wX3xoGOVp7v",
        "colab": {
          "base_uri": "https://localhost:8080/"
        },
        "outputId": "c8644603-1996-4ba7-85f9-2f7de3ee6509"
      },
      "outputs": [
        {
          "output_type": "stream",
          "name": "stdout",
          "text": [
            "                2\n",
            "  When forty winters shall besiege thy brow,And dig deep trenches in thy beauty's field, Thy youth's proud livery so gazed on now, Will be a tattered weed of small worth held: Then being asked, where all thy beauty lies, Where all the treasure of thy lusty days; To say within thine own deep sunken eyes, Were an all-eating shame, and thriftless praise. How much more praise deserved thy beauty's use, If thou couldst answer 'This fair child of mine Shall sum my count, and make my old excuse' Proving his beauty by succession thine. This were to be new made when thou art old, And see thy blood warm when thou feel'st it cold.\n"
          ]
        }
      ],
      "source": [
        "text = (\"\"\"                2\n",
        "  When forty winters shall besiege thy brow,\"\"\"\n",
        "  \"And dig deep trenches in thy beauty's field, \"\n",
        "  \"Thy youth's proud livery so gazed on now, \"\n",
        "  \"Will be a tattered weed of small worth held: \"\n",
        "  \"Then being asked, where all thy beauty lies, \"\n",
        "  \"Where all the treasure of thy lusty days; \"\n",
        "  \"To say within thine own deep sunken eyes, \"\n",
        "  \"Were an all-eating shame, and thriftless praise. \"\n",
        "  \"How much more praise deserved thy beauty's use, \"\n",
        "  \"If thou couldst answer 'This fair child of mine \"\n",
        "  \"Shall sum my count, and make my old excuse' \"\n",
        "  \"Proving his beauty by succession thine. \"\n",
        "  \"This were to be new made when thou art old, \"\n",
        "  \"And see thy blood warm when thou feel'st it cold.\")\n",
        "\n",
        "print(text)"
      ]
    },
    {
      "cell_type": "markdown",
      "metadata": {
        "id": "3iMN8SAaVp7y"
      },
      "source": [
        "Which RE can find all words with 3, 4 and 5 characters?\n",
        "\n",
        "A. `r'.{3,5}'`\n",
        "\n",
        "B. `r'\\b.{3,5}+\\b'`\n",
        "\n",
        "C. `r'\\b\\w{3,5}\\b'`\n",
        "\n",
        "D. `r'\\w{3,5}'`"
      ]
    },
    {
      "cell_type": "markdown",
      "metadata": {
        "id": "o6saHrVbiaCx"
      },
      "source": [
        "<hr>    <!-- please remember this! -->\n",
        "<details>\n",
        "  <summary>Click <b>here</b> to see the answer.</summary>\n",
        "  <p>C</p>\n",
        "  <p>\n",
        "      \\b asserts position at a word boundary;<br>\n",
        "      \\w matches any word character (equal to [a-zA-Z0-9_]);<br>\n",
        "      {3,5} Quantifier — Matches between 3 and 5 times, as many times as possible, giving back as needed.<br>\n",
        "  </p>\n",
        "</details>"
      ]
    },
    {
      "cell_type": "markdown",
      "metadata": {
        "id": "w9iKC0y5iaCx"
      },
      "source": [
        "2. Which function can you use to find all the words that the RE in 1. matches?\n",
        "\n",
        "A. `match()`\n",
        "\n",
        "B. `search()`\n",
        "\n",
        "C. `finditer()`\n",
        "\n",
        "D. `findall()`"
      ]
    },
    {
      "cell_type": "markdown",
      "metadata": {
        "id": "Sjym-hBSiaCy"
      },
      "source": [
        "<hr>    <!-- please remember this! -->\n",
        "<details>\n",
        "  <summary>Click <b>here</b> to see the answer.</summary>\n",
        "  <p>C, D</p>\n",
        "  <p><pre><code>\n",
        "    import re\n",
        "    p = re.compile(r'\\b\\w{3,5}\\b')\n",
        "    # use finditer()\n",
        "    iterator = p.finditer(text)\n",
        "    for match in iterator:\n",
        "        print(match.group())\n",
        "    # use findall()\n",
        "    m = p.findall(text)\n",
        "    print(m)\n",
        "  </code></pre></p>\n",
        "</details>"
      ]
    },
    {
      "cell_type": "markdown",
      "metadata": {
        "id": "Ak_b559SiaCy"
      },
      "source": [
        "3. How many words the RE in 1 matches are there?\n",
        "\n",
        "A. 128\n",
        "\n",
        "B. 105\n",
        "\n",
        "C. 96\n",
        "\n",
        "D. 77"
      ]
    },
    {
      "cell_type": "markdown",
      "metadata": {
        "id": "m1fyPouEiaCz"
      },
      "source": [
        "<hr>    <!-- please remember this! -->\n",
        "<details>\n",
        "  <summary>Click <b>here</b> to see the answer.</summary>\n",
        "  <p>D</p>\n",
        "  <p><pre><code>\n",
        "    import re\n",
        "    p = re.compile(r'\\b\\w{3,5}\\b')\n",
        "    m = p.findall(text)\n",
        "    print(len(m))\n",
        "  </code></pre></p>\n",
        "</details>"
      ]
    },
    {
      "cell_type": "markdown",
      "metadata": {
        "id": "Z5qJWGEKiaC0"
      },
      "source": [
        "4. How many words are there with 5 letters?\n",
        "\n",
        "A. 10\n",
        "\n",
        "B. 20\n",
        "\n",
        "C. 30\n",
        "\n",
        "D. 35"
      ]
    },
    {
      "cell_type": "markdown",
      "metadata": {
        "id": "RFlN1AEuiaC0"
      },
      "source": [
        "<hr>    <!-- please remember this! -->\n",
        "<details>\n",
        "  <summary>Click <b>here</b> to see the answer.</summary>\n",
        "  <p>B</p>\n",
        "  <p><pre><code>\n",
        "    import re\n",
        "    p = re.compile(r'\\b\\w{5}\\b')\n",
        "    m = p.findall(text)\n",
        "    print(len(m))\n",
        "  </code></pre></p>\n",
        "</details>"
      ]
    },
    {
      "cell_type": "markdown",
      "metadata": {
        "id": "AoGys8bOiaC0"
      },
      "source": [
        "5. What's the span of the first word with 4 letters?\n",
        "\n",
        "A. (16, 20)\n",
        "\n",
        "B. (18, 22)\n",
        "\n",
        "C. (20, 24)\n",
        "\n",
        "D. (22, 26)"
      ]
    },
    {
      "cell_type": "markdown",
      "metadata": {
        "id": "_3smXaHniaC0"
      },
      "source": [
        "<hr>    <!-- please remember this! -->\n",
        "<details>\n",
        "  <summary>Click <b>here</b> to see the answer.</summary>\n",
        "  <p>C</p>\n",
        "  <p><pre><code>\n",
        "    import re\n",
        "    p = re.compile(r'\\b\\w{4}\\b')\n",
        "    iterator = p.finditer(text)\n",
        "    match = next(iterator)\n",
        "    print(match.span())\n",
        "  </code></pre></p>\n",
        "</details>"
      ]
    },
    {
      "cell_type": "markdown",
      "metadata": {
        "id": "zhubIGEWiaC1"
      },
      "source": [
        "## SpaCy"
      ]
    },
    {
      "cell_type": "markdown",
      "metadata": {
        "id": "V9ET3R3YiaC2"
      },
      "source": [
        "spaCy is a free, open-source library for advanced Natural Language Processing (NLP) in Python.\n",
        "\n",
        "spaCy is designed specifically for production use and helps you build applications that process and “understand” large volumes of text. It can be used to build information extraction or natural language understanding systems, or to pre-process text for deep learning.\n",
        "\n",
        "There are many useful resources online for spaCy, among which the official [tutorial](https://spacy.io/usage/spacy-101) and the [course](https://course.spacy.io/) are extremely useful."
      ]
    },
    {
      "cell_type": "markdown",
      "metadata": {
        "id": "nemMLROOiaC2"
      },
      "source": [
        "### Package Installation"
      ]
    },
    {
      "cell_type": "markdown",
      "metadata": {
        "id": "JZBA6bcmiaC2"
      },
      "source": [
        "Python uses a software called *package manager* to install additional libraries. The most common package managers for Python are [pip](https://en.wikipedia.org/wiki/Pip_(package_manager)) and [conda](https://en.wikipedia.org/wiki/Anaconda_(Python_distribution)).\n",
        "\n",
        "[Here](https://spacy.io/usage) you will find a guide to install spaCy with pip.\n",
        "However, you can install packages directly from Jupyter by running the following\n",
        "*shell commands*:\n",
        "\n",
        "```\n",
        "pip install spacy\n",
        "python -m spacy download en_core_web_sm\n",
        "```\n",
        "\n",
        "Shell commands are usually run in a *terminal*, and are run directly by the\n",
        "operating system. In Jupyter, you can run a shell command by prepending an\n",
        "exclamation mark (\"`!`\") to the command. Don't worry - we will always prepare\n",
        "shell commands for you when they are needed!\n",
        "\n",
        "**IMPORTANT**:\n",
        "Note that shell commands will work only when running the notebooks\n",
        "- On Linux and macOS/OS X\n",
        "- On a cloud provider (e.g. Google Colab, MS Azure, Binder)\n",
        "\n",
        "These commands *may* not work when running the notebooks locally with Windows.\n",
        "\n",
        "Let's install spaCy and download the required models:"
      ]
    },
    {
      "cell_type": "code",
      "execution_count": 58,
      "metadata": {
        "id": "u_ZbKrvlmgHd",
        "colab": {
          "base_uri": "https://localhost:8080/"
        },
        "outputId": "8b06541c-ea95-4bc1-f6d9-1b5b208f47c7"
      },
      "outputs": [
        {
          "output_type": "stream",
          "name": "stdout",
          "text": [
            "Requirement already satisfied: spacy in /usr/local/lib/python3.10/dist-packages (3.7.5)\n",
            "Requirement already satisfied: spacy-legacy<3.1.0,>=3.0.11 in /usr/local/lib/python3.10/dist-packages (from spacy) (3.0.12)\n",
            "Requirement already satisfied: spacy-loggers<2.0.0,>=1.0.0 in /usr/local/lib/python3.10/dist-packages (from spacy) (1.0.5)\n",
            "Requirement already satisfied: murmurhash<1.1.0,>=0.28.0 in /usr/local/lib/python3.10/dist-packages (from spacy) (1.0.10)\n",
            "Requirement already satisfied: cymem<2.1.0,>=2.0.2 in /usr/local/lib/python3.10/dist-packages (from spacy) (2.0.8)\n",
            "Requirement already satisfied: preshed<3.1.0,>=3.0.2 in /usr/local/lib/python3.10/dist-packages (from spacy) (3.0.9)\n",
            "Requirement already satisfied: thinc<8.3.0,>=8.2.2 in /usr/local/lib/python3.10/dist-packages (from spacy) (8.2.5)\n",
            "Requirement already satisfied: wasabi<1.2.0,>=0.9.1 in /usr/local/lib/python3.10/dist-packages (from spacy) (1.1.3)\n",
            "Requirement already satisfied: srsly<3.0.0,>=2.4.3 in /usr/local/lib/python3.10/dist-packages (from spacy) (2.4.8)\n",
            "Requirement already satisfied: catalogue<2.1.0,>=2.0.6 in /usr/local/lib/python3.10/dist-packages (from spacy) (2.0.10)\n",
            "Requirement already satisfied: weasel<0.5.0,>=0.1.0 in /usr/local/lib/python3.10/dist-packages (from spacy) (0.4.1)\n",
            "Requirement already satisfied: typer<1.0.0,>=0.3.0 in /usr/local/lib/python3.10/dist-packages (from spacy) (0.13.0)\n",
            "Requirement already satisfied: tqdm<5.0.0,>=4.38.0 in /usr/local/lib/python3.10/dist-packages (from spacy) (4.66.6)\n",
            "Requirement already satisfied: requests<3.0.0,>=2.13.0 in /usr/local/lib/python3.10/dist-packages (from spacy) (2.32.3)\n",
            "Requirement already satisfied: pydantic!=1.8,!=1.8.1,<3.0.0,>=1.7.4 in /usr/local/lib/python3.10/dist-packages (from spacy) (2.9.2)\n",
            "Requirement already satisfied: jinja2 in /usr/local/lib/python3.10/dist-packages (from spacy) (3.1.4)\n",
            "Requirement already satisfied: setuptools in /usr/local/lib/python3.10/dist-packages (from spacy) (75.1.0)\n",
            "Requirement already satisfied: packaging>=20.0 in /usr/local/lib/python3.10/dist-packages (from spacy) (24.2)\n",
            "Requirement already satisfied: langcodes<4.0.0,>=3.2.0 in /usr/local/lib/python3.10/dist-packages (from spacy) (3.4.1)\n",
            "Requirement already satisfied: numpy>=1.19.0 in /usr/local/lib/python3.10/dist-packages (from spacy) (1.26.4)\n",
            "Requirement already satisfied: language-data>=1.2 in /usr/local/lib/python3.10/dist-packages (from langcodes<4.0.0,>=3.2.0->spacy) (1.2.0)\n",
            "Requirement already satisfied: annotated-types>=0.6.0 in /usr/local/lib/python3.10/dist-packages (from pydantic!=1.8,!=1.8.1,<3.0.0,>=1.7.4->spacy) (0.7.0)\n",
            "Requirement already satisfied: pydantic-core==2.23.4 in /usr/local/lib/python3.10/dist-packages (from pydantic!=1.8,!=1.8.1,<3.0.0,>=1.7.4->spacy) (2.23.4)\n",
            "Requirement already satisfied: typing-extensions>=4.6.1 in /usr/local/lib/python3.10/dist-packages (from pydantic!=1.8,!=1.8.1,<3.0.0,>=1.7.4->spacy) (4.12.2)\n",
            "Requirement already satisfied: charset-normalizer<4,>=2 in /usr/local/lib/python3.10/dist-packages (from requests<3.0.0,>=2.13.0->spacy) (3.4.0)\n",
            "Requirement already satisfied: idna<4,>=2.5 in /usr/local/lib/python3.10/dist-packages (from requests<3.0.0,>=2.13.0->spacy) (3.10)\n",
            "Requirement already satisfied: urllib3<3,>=1.21.1 in /usr/local/lib/python3.10/dist-packages (from requests<3.0.0,>=2.13.0->spacy) (2.2.3)\n",
            "Requirement already satisfied: certifi>=2017.4.17 in /usr/local/lib/python3.10/dist-packages (from requests<3.0.0,>=2.13.0->spacy) (2024.8.30)\n",
            "Requirement already satisfied: blis<0.8.0,>=0.7.8 in /usr/local/lib/python3.10/dist-packages (from thinc<8.3.0,>=8.2.2->spacy) (0.7.11)\n",
            "Requirement already satisfied: confection<1.0.0,>=0.0.1 in /usr/local/lib/python3.10/dist-packages (from thinc<8.3.0,>=8.2.2->spacy) (0.1.5)\n",
            "Requirement already satisfied: click>=8.0.0 in /usr/local/lib/python3.10/dist-packages (from typer<1.0.0,>=0.3.0->spacy) (8.1.7)\n",
            "Requirement already satisfied: shellingham>=1.3.0 in /usr/local/lib/python3.10/dist-packages (from typer<1.0.0,>=0.3.0->spacy) (1.5.4)\n",
            "Requirement already satisfied: rich>=10.11.0 in /usr/local/lib/python3.10/dist-packages (from typer<1.0.0,>=0.3.0->spacy) (13.9.4)\n",
            "Requirement already satisfied: cloudpathlib<1.0.0,>=0.7.0 in /usr/local/lib/python3.10/dist-packages (from weasel<0.5.0,>=0.1.0->spacy) (0.20.0)\n",
            "Requirement already satisfied: smart-open<8.0.0,>=5.2.1 in /usr/local/lib/python3.10/dist-packages (from weasel<0.5.0,>=0.1.0->spacy) (7.0.5)\n",
            "Requirement already satisfied: MarkupSafe>=2.0 in /usr/local/lib/python3.10/dist-packages (from jinja2->spacy) (3.0.2)\n",
            "Requirement already satisfied: marisa-trie>=0.7.7 in /usr/local/lib/python3.10/dist-packages (from language-data>=1.2->langcodes<4.0.0,>=3.2.0->spacy) (1.2.1)\n",
            "Requirement already satisfied: markdown-it-py>=2.2.0 in /usr/local/lib/python3.10/dist-packages (from rich>=10.11.0->typer<1.0.0,>=0.3.0->spacy) (3.0.0)\n",
            "Requirement already satisfied: pygments<3.0.0,>=2.13.0 in /usr/local/lib/python3.10/dist-packages (from rich>=10.11.0->typer<1.0.0,>=0.3.0->spacy) (2.18.0)\n",
            "Requirement already satisfied: wrapt in /usr/local/lib/python3.10/dist-packages (from smart-open<8.0.0,>=5.2.1->weasel<0.5.0,>=0.1.0->spacy) (1.16.0)\n",
            "Requirement already satisfied: mdurl~=0.1 in /usr/local/lib/python3.10/dist-packages (from markdown-it-py>=2.2.0->rich>=10.11.0->typer<1.0.0,>=0.3.0->spacy) (0.1.2)\n",
            "Collecting en-core-web-sm==3.7.1\n",
            "  Downloading https://github.com/explosion/spacy-models/releases/download/en_core_web_sm-3.7.1/en_core_web_sm-3.7.1-py3-none-any.whl (12.8 MB)\n",
            "\u001b[2K     \u001b[90m━━━━━━━━━━━━━━━━━━━━━━━━━━━━━━━━━━━━━━━━\u001b[0m \u001b[32m12.8/12.8 MB\u001b[0m \u001b[31m63.7 MB/s\u001b[0m eta \u001b[36m0:00:00\u001b[0m\n",
            "\u001b[?25hRequirement already satisfied: spacy<3.8.0,>=3.7.2 in /usr/local/lib/python3.10/dist-packages (from en-core-web-sm==3.7.1) (3.7.5)\n",
            "Requirement already satisfied: spacy-legacy<3.1.0,>=3.0.11 in /usr/local/lib/python3.10/dist-packages (from spacy<3.8.0,>=3.7.2->en-core-web-sm==3.7.1) (3.0.12)\n",
            "Requirement already satisfied: spacy-loggers<2.0.0,>=1.0.0 in /usr/local/lib/python3.10/dist-packages (from spacy<3.8.0,>=3.7.2->en-core-web-sm==3.7.1) (1.0.5)\n",
            "Requirement already satisfied: murmurhash<1.1.0,>=0.28.0 in /usr/local/lib/python3.10/dist-packages (from spacy<3.8.0,>=3.7.2->en-core-web-sm==3.7.1) (1.0.10)\n",
            "Requirement already satisfied: cymem<2.1.0,>=2.0.2 in /usr/local/lib/python3.10/dist-packages (from spacy<3.8.0,>=3.7.2->en-core-web-sm==3.7.1) (2.0.8)\n",
            "Requirement already satisfied: preshed<3.1.0,>=3.0.2 in /usr/local/lib/python3.10/dist-packages (from spacy<3.8.0,>=3.7.2->en-core-web-sm==3.7.1) (3.0.9)\n",
            "Requirement already satisfied: thinc<8.3.0,>=8.2.2 in /usr/local/lib/python3.10/dist-packages (from spacy<3.8.0,>=3.7.2->en-core-web-sm==3.7.1) (8.2.5)\n",
            "Requirement already satisfied: wasabi<1.2.0,>=0.9.1 in /usr/local/lib/python3.10/dist-packages (from spacy<3.8.0,>=3.7.2->en-core-web-sm==3.7.1) (1.1.3)\n",
            "Requirement already satisfied: srsly<3.0.0,>=2.4.3 in /usr/local/lib/python3.10/dist-packages (from spacy<3.8.0,>=3.7.2->en-core-web-sm==3.7.1) (2.4.8)\n",
            "Requirement already satisfied: catalogue<2.1.0,>=2.0.6 in /usr/local/lib/python3.10/dist-packages (from spacy<3.8.0,>=3.7.2->en-core-web-sm==3.7.1) (2.0.10)\n",
            "Requirement already satisfied: weasel<0.5.0,>=0.1.0 in /usr/local/lib/python3.10/dist-packages (from spacy<3.8.0,>=3.7.2->en-core-web-sm==3.7.1) (0.4.1)\n",
            "Requirement already satisfied: typer<1.0.0,>=0.3.0 in /usr/local/lib/python3.10/dist-packages (from spacy<3.8.0,>=3.7.2->en-core-web-sm==3.7.1) (0.13.0)\n",
            "Requirement already satisfied: tqdm<5.0.0,>=4.38.0 in /usr/local/lib/python3.10/dist-packages (from spacy<3.8.0,>=3.7.2->en-core-web-sm==3.7.1) (4.66.6)\n",
            "Requirement already satisfied: requests<3.0.0,>=2.13.0 in /usr/local/lib/python3.10/dist-packages (from spacy<3.8.0,>=3.7.2->en-core-web-sm==3.7.1) (2.32.3)\n",
            "Requirement already satisfied: pydantic!=1.8,!=1.8.1,<3.0.0,>=1.7.4 in /usr/local/lib/python3.10/dist-packages (from spacy<3.8.0,>=3.7.2->en-core-web-sm==3.7.1) (2.9.2)\n",
            "Requirement already satisfied: jinja2 in /usr/local/lib/python3.10/dist-packages (from spacy<3.8.0,>=3.7.2->en-core-web-sm==3.7.1) (3.1.4)\n",
            "Requirement already satisfied: setuptools in /usr/local/lib/python3.10/dist-packages (from spacy<3.8.0,>=3.7.2->en-core-web-sm==3.7.1) (75.1.0)\n",
            "Requirement already satisfied: packaging>=20.0 in /usr/local/lib/python3.10/dist-packages (from spacy<3.8.0,>=3.7.2->en-core-web-sm==3.7.1) (24.2)\n",
            "Requirement already satisfied: langcodes<4.0.0,>=3.2.0 in /usr/local/lib/python3.10/dist-packages (from spacy<3.8.0,>=3.7.2->en-core-web-sm==3.7.1) (3.4.1)\n",
            "Requirement already satisfied: numpy>=1.19.0 in /usr/local/lib/python3.10/dist-packages (from spacy<3.8.0,>=3.7.2->en-core-web-sm==3.7.1) (1.26.4)\n",
            "Requirement already satisfied: language-data>=1.2 in /usr/local/lib/python3.10/dist-packages (from langcodes<4.0.0,>=3.2.0->spacy<3.8.0,>=3.7.2->en-core-web-sm==3.7.1) (1.2.0)\n",
            "Requirement already satisfied: annotated-types>=0.6.0 in /usr/local/lib/python3.10/dist-packages (from pydantic!=1.8,!=1.8.1,<3.0.0,>=1.7.4->spacy<3.8.0,>=3.7.2->en-core-web-sm==3.7.1) (0.7.0)\n",
            "Requirement already satisfied: pydantic-core==2.23.4 in /usr/local/lib/python3.10/dist-packages (from pydantic!=1.8,!=1.8.1,<3.0.0,>=1.7.4->spacy<3.8.0,>=3.7.2->en-core-web-sm==3.7.1) (2.23.4)\n",
            "Requirement already satisfied: typing-extensions>=4.6.1 in /usr/local/lib/python3.10/dist-packages (from pydantic!=1.8,!=1.8.1,<3.0.0,>=1.7.4->spacy<3.8.0,>=3.7.2->en-core-web-sm==3.7.1) (4.12.2)\n",
            "Requirement already satisfied: charset-normalizer<4,>=2 in /usr/local/lib/python3.10/dist-packages (from requests<3.0.0,>=2.13.0->spacy<3.8.0,>=3.7.2->en-core-web-sm==3.7.1) (3.4.0)\n",
            "Requirement already satisfied: idna<4,>=2.5 in /usr/local/lib/python3.10/dist-packages (from requests<3.0.0,>=2.13.0->spacy<3.8.0,>=3.7.2->en-core-web-sm==3.7.1) (3.10)\n",
            "Requirement already satisfied: urllib3<3,>=1.21.1 in /usr/local/lib/python3.10/dist-packages (from requests<3.0.0,>=2.13.0->spacy<3.8.0,>=3.7.2->en-core-web-sm==3.7.1) (2.2.3)\n",
            "Requirement already satisfied: certifi>=2017.4.17 in /usr/local/lib/python3.10/dist-packages (from requests<3.0.0,>=2.13.0->spacy<3.8.0,>=3.7.2->en-core-web-sm==3.7.1) (2024.8.30)\n",
            "Requirement already satisfied: blis<0.8.0,>=0.7.8 in /usr/local/lib/python3.10/dist-packages (from thinc<8.3.0,>=8.2.2->spacy<3.8.0,>=3.7.2->en-core-web-sm==3.7.1) (0.7.11)\n",
            "Requirement already satisfied: confection<1.0.0,>=0.0.1 in /usr/local/lib/python3.10/dist-packages (from thinc<8.3.0,>=8.2.2->spacy<3.8.0,>=3.7.2->en-core-web-sm==3.7.1) (0.1.5)\n",
            "Requirement already satisfied: click>=8.0.0 in /usr/local/lib/python3.10/dist-packages (from typer<1.0.0,>=0.3.0->spacy<3.8.0,>=3.7.2->en-core-web-sm==3.7.1) (8.1.7)\n",
            "Requirement already satisfied: shellingham>=1.3.0 in /usr/local/lib/python3.10/dist-packages (from typer<1.0.0,>=0.3.0->spacy<3.8.0,>=3.7.2->en-core-web-sm==3.7.1) (1.5.4)\n",
            "Requirement already satisfied: rich>=10.11.0 in /usr/local/lib/python3.10/dist-packages (from typer<1.0.0,>=0.3.0->spacy<3.8.0,>=3.7.2->en-core-web-sm==3.7.1) (13.9.4)\n",
            "Requirement already satisfied: cloudpathlib<1.0.0,>=0.7.0 in /usr/local/lib/python3.10/dist-packages (from weasel<0.5.0,>=0.1.0->spacy<3.8.0,>=3.7.2->en-core-web-sm==3.7.1) (0.20.0)\n",
            "Requirement already satisfied: smart-open<8.0.0,>=5.2.1 in /usr/local/lib/python3.10/dist-packages (from weasel<0.5.0,>=0.1.0->spacy<3.8.0,>=3.7.2->en-core-web-sm==3.7.1) (7.0.5)\n",
            "Requirement already satisfied: MarkupSafe>=2.0 in /usr/local/lib/python3.10/dist-packages (from jinja2->spacy<3.8.0,>=3.7.2->en-core-web-sm==3.7.1) (3.0.2)\n",
            "Requirement already satisfied: marisa-trie>=0.7.7 in /usr/local/lib/python3.10/dist-packages (from language-data>=1.2->langcodes<4.0.0,>=3.2.0->spacy<3.8.0,>=3.7.2->en-core-web-sm==3.7.1) (1.2.1)\n",
            "Requirement already satisfied: markdown-it-py>=2.2.0 in /usr/local/lib/python3.10/dist-packages (from rich>=10.11.0->typer<1.0.0,>=0.3.0->spacy<3.8.0,>=3.7.2->en-core-web-sm==3.7.1) (3.0.0)\n",
            "Requirement already satisfied: pygments<3.0.0,>=2.13.0 in /usr/local/lib/python3.10/dist-packages (from rich>=10.11.0->typer<1.0.0,>=0.3.0->spacy<3.8.0,>=3.7.2->en-core-web-sm==3.7.1) (2.18.0)\n",
            "Requirement already satisfied: wrapt in /usr/local/lib/python3.10/dist-packages (from smart-open<8.0.0,>=5.2.1->weasel<0.5.0,>=0.1.0->spacy<3.8.0,>=3.7.2->en-core-web-sm==3.7.1) (1.16.0)\n",
            "Requirement already satisfied: mdurl~=0.1 in /usr/local/lib/python3.10/dist-packages (from markdown-it-py>=2.2.0->rich>=10.11.0->typer<1.0.0,>=0.3.0->spacy<3.8.0,>=3.7.2->en-core-web-sm==3.7.1) (0.1.2)\n",
            "\u001b[38;5;2m✔ Download and installation successful\u001b[0m\n",
            "You can now load the package via spacy.load('en_core_web_sm')\n",
            "\u001b[38;5;3m⚠ Restart to reload dependencies\u001b[0m\n",
            "If you are in a Jupyter or Colab notebook, you may need to restart Python in\n",
            "order to load all the package's dependencies. You can do this by selecting the\n",
            "'Restart kernel' or 'Restart runtime' option.\n"
          ]
        }
      ],
      "source": [
        "!pip install spacy\n",
        "!python -m spacy download en_core_web_sm"
      ]
    },
    {
      "cell_type": "markdown",
      "metadata": {
        "id": "XQupGCmBmemF"
      },
      "source": [
        "The previous command should print the message `✔ Download and installation successful`. If that didn't happen, and/or if the commands below do not work,\n",
        "please contact a course instructor for support."
      ]
    },
    {
      "cell_type": "markdown",
      "metadata": {
        "id": "D0U1XgSZpOCj"
      },
      "source": [
        "### Using spaCy"
      ]
    },
    {
      "cell_type": "markdown",
      "metadata": {
        "id": "lSx0oZnviaC3"
      },
      "source": [
        "spaCy is enables many different features introduced [here](https://spacy.io/usage/spacy-101#features), and we will focus on the simplest and direct features:\n",
        "- tokenization;\n",
        "- stemming; (not supported by spaCy)\n",
        "- lemmatization;\n",
        "- part-of-speech (POS) tagging;\n",
        "- sentence boundary detection and sentence segmentation;\n",
        "- dependency parsing;"
      ]
    },
    {
      "cell_type": "code",
      "execution_count": 59,
      "metadata": {
        "id": "I1zz_iYJiaC3"
      },
      "outputs": [],
      "source": [
        "# import spacy module\n",
        "import spacy\n",
        "\n",
        "# load english model\n",
        "nlp = spacy.load(\"en_core_web_sm\")\n",
        "# read the text and process\n",
        "doc = nlp(text)"
      ]
    },
    {
      "cell_type": "code",
      "execution_count": 60,
      "metadata": {
        "id": "4OqX0kdDiaC5",
        "colab": {
          "base_uri": "https://localhost:8080/"
        },
        "outputId": "904477cb-b871-403f-c608-974903ce00e8"
      },
      "outputs": [
        {
          "output_type": "stream",
          "name": "stdout",
          "text": [
            "['                ', '2', '\\n  ', 'When', 'forty', 'winters', 'shall', 'besiege', 'thy', 'brow', ',', 'And', 'dig', 'deep', 'trenches', 'in', 'thy', 'beauty', \"'s\", 'field', ',', 'Thy', 'youth', \"'s\", 'proud', 'livery', 'so', 'gazed', 'on', 'now', ',', 'Will', 'be', 'a', 'tattered', 'weed', 'of', 'small', 'worth', 'held', ':', 'Then', 'being', 'asked', ',', 'where', 'all', 'thy', 'beauty', 'lies', ',', 'Where', 'all', 'the', 'treasure', 'of', 'thy', 'lusty', 'days', ';', 'To', 'say', 'within', 'thine', 'own', 'deep', 'sunken', 'eyes', ',', 'Were', 'an', 'all', '-', 'eating', 'shame', ',', 'and', 'thriftless', 'praise', '.', 'How', 'much', 'more', 'praise', 'deserved', 'thy', 'beauty', \"'s\", 'use', ',', 'If', 'thou', 'couldst', 'answer', \"'\", 'This', 'fair', 'child', 'of', 'mine', 'Shall', 'sum', 'my', 'count', ',', 'and', 'make', 'my', 'old', 'excuse', \"'\", 'Proving', 'his', 'beauty', 'by', 'succession', 'thine', '.', 'This', 'were', 'to', 'be', 'new', 'made', 'when', 'thou', 'art', 'old', ',', 'And', 'see', 'thy', 'blood', 'warm', 'when', 'thou', \"feel'st\", 'it', 'cold', '.']\n"
          ]
        }
      ],
      "source": [
        "# Tokenization\n",
        "# get all separated tokens in doc\n",
        "tokens = [token.text for token in doc]\n",
        "print(tokens)"
      ]
    },
    {
      "cell_type": "markdown",
      "metadata": {
        "id": "-YDkZk1CiaC7"
      },
      "source": [
        "You can see from the list *tokens* that there each tokenized token is in the entry of the list."
      ]
    },
    {
      "cell_type": "code",
      "execution_count": 61,
      "metadata": {
        "id": "PZUuHjE-iaC7",
        "colab": {
          "base_uri": "https://localhost:8080/"
        },
        "outputId": "0ecafbf2-be94-4a4f-aee0-f8c1cc0886a6"
      },
      "outputs": [
        {
          "output_type": "stream",
          "name": "stdout",
          "text": [
            "['                ', '2', '\\n  ', 'when', 'forty', 'winter', 'shall', 'besiege', 'thy', 'brow', ',', 'and', 'dig', 'deep', 'trench', 'in', 'thy', 'beauty', \"'s\", 'field', ',', 'Thy', 'youth', \"'s\", 'proud', 'livery', 'so', 'gaze', 'on', 'now', ',', 'will', 'be', 'a', 'tattered', 'weed', 'of', 'small', 'worth', 'hold', ':', 'then', 'be', 'ask', ',', 'where', 'all', 'thy', 'beauty', 'lie', ',', 'where', 'all', 'the', 'treasure', 'of', 'thy', 'lusty', 'day', ';', 'to', 'say', 'within', 'thine', 'own', 'deep', 'sunken', 'eye', ',', 'be', 'an', 'all', '-', 'eat', 'shame', ',', 'and', 'thriftless', 'praise', '.', 'how', 'much', 'more', 'praise', 'deserve', 'thy', 'beauty', \"'s\", 'use', ',', 'if', 'thou', 'couldst', 'answer', \"'\", 'this', 'fair', 'child', 'of', 'mine', 'shall', 'sum', 'my', 'count', ',', 'and', 'make', 'my', 'old', 'excuse', \"'\", 'prove', 'his', 'beauty', 'by', 'succession', 'thine', '.', 'this', 'be', 'to', 'be', 'new', 'make', 'when', 'thou', 'art', 'old', ',', 'and', 'see', 'thy', 'blood', 'warm', 'when', 'thou', \"feel'st\", 'it', 'cold', '.']\n"
          ]
        }
      ],
      "source": [
        "# Lemmatization\n",
        "lemmas = [token.lemma_ for token in doc]\n",
        "print(lemmas)"
      ]
    },
    {
      "cell_type": "markdown",
      "metadata": {
        "id": "Fk_gIzj1iaC-"
      },
      "source": [
        "Did you notice that almost all pronouns are subsituted with `-PRON-`?\n",
        "\n",
        "Unlike verbs and common nouns, there’s no clear base form of a personal pronoun. Should the lemma of “me” be “I”, or should we normalize person as well, giving “it” — or maybe “he”? spaCy’s solution is to introduce a novel symbol, `-PRON-`, which is used as the lemma for all personal pronouns."
      ]
    },
    {
      "cell_type": "code",
      "execution_count": 62,
      "metadata": {
        "id": "MSBLc-VGiaDA",
        "colab": {
          "base_uri": "https://localhost:8080/"
        },
        "outputId": "8f001039-78f2-4f2c-8249-a5e3be64f53b"
      },
      "outputs": [
        {
          "output_type": "stream",
          "name": "stdout",
          "text": [
            "['SPACE', 'NUM', 'SPACE', 'SCONJ', 'NUM', 'NOUN', 'AUX', 'VERB', 'PRON', 'NOUN', 'PUNCT', 'CCONJ', 'VERB', 'ADJ', 'NOUN', 'ADP', 'PRON', 'NOUN', 'PART', 'NOUN', 'PUNCT', 'PROPN', 'NOUN', 'PART', 'ADJ', 'NOUN', 'ADV', 'VERB', 'ADP', 'ADV', 'PUNCT', 'AUX', 'AUX', 'DET', 'ADJ', 'NOUN', 'ADP', 'ADJ', 'NOUN', 'VERB', 'PUNCT', 'ADV', 'AUX', 'VERB', 'PUNCT', 'SCONJ', 'DET', 'PRON', 'NOUN', 'NOUN', 'PUNCT', 'SCONJ', 'DET', 'DET', 'NOUN', 'ADP', 'PRON', 'ADJ', 'NOUN', 'PUNCT', 'PART', 'VERB', 'ADP', 'NOUN', 'ADJ', 'ADJ', 'ADJ', 'NOUN', 'PUNCT', 'AUX', 'DET', 'ADV', 'PUNCT', 'VERB', 'NOUN', 'PUNCT', 'CCONJ', 'NOUN', 'NOUN', 'PUNCT', 'SCONJ', 'ADV', 'ADJ', 'NOUN', 'VERB', 'PRON', 'NOUN', 'PART', 'NOUN', 'PUNCT', 'SCONJ', 'ADJ', 'ADV', 'VERB', 'PUNCT', 'DET', 'ADJ', 'NOUN', 'ADP', 'NOUN', 'AUX', 'VERB', 'PRON', 'NOUN', 'PUNCT', 'CCONJ', 'VERB', 'PRON', 'ADJ', 'NOUN', 'PUNCT', 'VERB', 'PRON', 'NOUN', 'ADP', 'NOUN', 'NOUN', 'PUNCT', 'PRON', 'AUX', 'PART', 'AUX', 'ADJ', 'VERB', 'SCONJ', 'PROPN', 'NOUN', 'ADJ', 'PUNCT', 'CCONJ', 'VERB', 'PRON', 'NOUN', 'ADJ', 'SCONJ', 'PROPN', 'VERB', 'PRON', 'ADJ', 'PUNCT']\n"
          ]
        }
      ],
      "source": [
        "# POS tagging\n",
        "poss = [token.pos_ for token in doc]\n",
        "print(poss)"
      ]
    },
    {
      "cell_type": "markdown",
      "metadata": {
        "id": "L1n3SWljiaDC"
      },
      "source": [
        "Compare the outputs of the previous three lists."
      ]
    },
    {
      "cell_type": "markdown",
      "metadata": {
        "id": "eiCXxxnLiaDC"
      },
      "source": [
        "Now let's move to sentence level features, i.e. sentence boundary detection and sentence segmentation. Unlike other libraries, spaCy uses the dependency parse to determine sentence boundaries. This is usually more accurate than a rule-based approach, but it also means you’ll need a statistical model and accurate predictions.\n",
        "If your texts are closer to general-purpose news or web text, this should work well out-of-the-box."
      ]
    },
    {
      "cell_type": "code",
      "execution_count": 63,
      "metadata": {
        "id": "BV-GIrK5iaDD",
        "colab": {
          "base_uri": "https://localhost:8080/"
        },
        "outputId": "d4122d6e-20e8-4469-f03a-dcdf0e750255"
      },
      "outputs": [
        {
          "output_type": "stream",
          "name": "stdout",
          "text": [
            "[\"                2\\n  When forty winters shall besiege thy brow,And dig deep trenches in thy beauty's field, Thy youth's proud livery so gazed on now, Will be a tattered weed of small worth held: Then being asked, where all thy beauty lies, Where all the treasure of thy lusty days; To say within thine own deep sunken eyes, Were an all-eating shame, and thriftless praise.\", \"How much more praise deserved thy beauty's use, If thou couldst answer 'This fair child of mine Shall sum my count, and make my old excuse' Proving his beauty by succession thine.\", \"This were to be new made when thou art old, And see thy blood warm when thou feel'st it cold.\"]\n",
            "3\n"
          ]
        }
      ],
      "source": [
        "sentences = list(doc.sents)\n",
        "sent_texts = [sentence.text for sentence in sentences]\n",
        "print(sent_texts)\n",
        "print(len(sent_texts))"
      ]
    },
    {
      "cell_type": "markdown",
      "metadata": {
        "id": "BjOudVlyiaDH"
      },
      "source": [
        "However, for other texts like social media texts, your application may benefit from a custom rule-based implementation. You can either use the built-in Sentencizer or plug an entirely custom rule-based function into your processing pipeline.\n",
        "\n",
        "Let's build a rule-based sentence segmentor."
      ]
    },
    {
      "cell_type": "code",
      "execution_count": 64,
      "metadata": {
        "id": "5xO19_ykiaDH",
        "colab": {
          "base_uri": "https://localhost:8080/"
        },
        "outputId": "5986136a-ed04-4ce5-ee4a-4e4f416dfe44"
      },
      "outputs": [
        {
          "output_type": "stream",
          "name": "stdout",
          "text": [
            "[\"                2\\n  When forty winters shall besiege thy brow,And dig deep trenches in thy beauty's field, Thy youth's proud livery so gazed on now, Will be a tattered weed of small worth held: Then being asked, where all thy beauty lies, Where all the treasure of thy lusty days; To say within thine own deep sunken eyes, Were an all-eating shame, and thriftless praise.\", \"How much more praise deserved thy beauty's use, If thou couldst answer 'This fair child of mine Shall sum my count, and make my old excuse' Proving his beauty by succession thine.\", \"This were to be new made when thou art old, And see thy blood warm when thou feel'st it cold.\"]\n",
            "3\n"
          ]
        }
      ],
      "source": [
        "from spacy.lang.en import English\n",
        "\n",
        "nlp_rule = English()  # just the language with no model\n",
        "nlp_rule.add_pipe(\"sentencizer\")\n",
        "doc_rule = nlp_rule(text)\n",
        "sent_rule_texts = [sent.text for sent in doc_rule.sents]\n",
        "print(sent_rule_texts)\n",
        "print(len(sent_rule_texts))"
      ]
    },
    {
      "cell_type": "markdown",
      "metadata": {
        "id": "OJuHTGZSiaDK"
      },
      "source": [
        "You can see clearly the difference in both methods, where the statistical dependency parse sentence segmentor generate 12 sentencs, but the rule-based sentence segmentor only yields 4 sentences."
      ]
    },
    {
      "cell_type": "markdown",
      "metadata": {
        "id": "nLB45n5RiaDK"
      },
      "source": [
        "Finally, let's have a look at the dependencies, i.e. the dependency relations between tokens, which is also used to segment sentences for the first model."
      ]
    },
    {
      "cell_type": "code",
      "execution_count": 65,
      "metadata": {
        "id": "D6cm_OEhiaDK",
        "colab": {
          "base_uri": "https://localhost:8080/"
        },
        "outputId": "a7b59866-5856-4af3-e554-f48a1578835b"
      },
      "outputs": [
        {
          "output_type": "stream",
          "name": "stdout",
          "text": [
            "['dep', 'nsubj', 'dep', 'advmod', 'nummod', 'nsubj', 'aux', 'advcl', 'poss', 'dobj', 'punct', 'cc', 'advcl', 'amod', 'dobj', 'prep', 'poss', 'poss', 'case', 'pobj', 'punct', 'compound', 'poss', 'case', 'amod', 'nsubj', 'advmod', 'conj', 'prep', 'pcomp', 'punct', 'aux', 'ROOT', 'det', 'amod', 'attr', 'prep', 'amod', 'pobj', 'acl', 'punct', 'advmod', 'auxpass', 'advcl', 'punct', 'advmod', 'det', 'amod', 'compound', 'nsubj', 'punct', 'advmod', 'predet', 'det', 'relcl', 'prep', 'poss', 'amod', 'pobj', 'punct', 'aux', 'advcl', 'prep', 'pobj', 'amod', 'amod', 'amod', 'pobj', 'punct', 'ccomp', 'det', 'advmod', 'punct', 'amod', 'attr', 'punct', 'cc', 'amod', 'conj', 'punct', 'advmod', 'advmod', 'amod', 'nsubj', 'ccomp', 'poss', 'poss', 'case', 'dobj', 'punct', 'mark', 'nsubj', 'advmod', 'advcl', 'punct', 'det', 'amod', 'nsubj', 'prep', 'pobj', 'aux', 'ROOT', 'poss', 'dobj', 'punct', 'cc', 'conj', 'poss', 'amod', 'dobj', 'punct', 'ccomp', 'poss', 'dobj', 'prep', 'compound', 'pobj', 'punct', 'nsubj', 'ROOT', 'aux', 'xcomp', 'amod', 'acomp', 'advmod', 'compound', 'nsubj', 'advcl', 'punct', 'cc', 'conj', 'poss', 'nsubj', 'ccomp', 'advmod', 'nsubj', 'advcl', 'nsubj', 'ccomp', 'punct']\n"
          ]
        }
      ],
      "source": [
        "# Dependencies\n",
        "deps = [token.dep_ for token in doc]\n",
        "print(deps)"
      ]
    },
    {
      "cell_type": "markdown",
      "metadata": {
        "id": "fXgE5fUqiaDN"
      },
      "source": [
        "Using spaCy’s built-in [diaplay visualizer](https://spacy.io/usage/visualizers), here’s what our example sentence and its dependencies."
      ]
    },
    {
      "cell_type": "code",
      "execution_count": 66,
      "metadata": {
        "id": "KJgCJSM4iaDN",
        "scrolled": false,
        "colab": {
          "base_uri": "https://localhost:8080/",
          "height": 1000
        },
        "outputId": "a55c1404-02ae-41aa-f42a-ec7b07744a61"
      },
      "outputs": [
        {
          "output_type": "display_data",
          "data": {
            "text/plain": [
              "<IPython.core.display.HTML object>"
            ],
            "text/html": [
              "<span class=\"tex2jax_ignore\"><svg xmlns=\"http://www.w3.org/2000/svg\" xmlns:xlink=\"http://www.w3.org/1999/xlink\" xml:lang=\"en\" id=\"79174d05cdc948eba8bcec87dd32bd98-0\" class=\"displacy\" width=\"12125\" height=\"837.0\" direction=\"ltr\" style=\"max-width: none; height: 837.0px; color: #000000; background: #ffffff; font-family: Arial; direction: ltr\">\n",
              "<text class=\"displacy-token\" fill=\"currentColor\" text-anchor=\"middle\" y=\"747.0\">\n",
              "    <tspan class=\"displacy-word\" fill=\"currentColor\" x=\"50\">                </tspan>\n",
              "    <tspan class=\"displacy-tag\" dy=\"2em\" fill=\"currentColor\" x=\"50\">SPACE</tspan>\n",
              "</text>\n",
              "\n",
              "<text class=\"displacy-token\" fill=\"currentColor\" text-anchor=\"middle\" y=\"747.0\">\n",
              "    <tspan class=\"displacy-word\" fill=\"currentColor\" x=\"225\">2</tspan>\n",
              "    <tspan class=\"displacy-tag\" dy=\"2em\" fill=\"currentColor\" x=\"225\">NUM</tspan>\n",
              "</text>\n",
              "\n",
              "<text class=\"displacy-token\" fill=\"currentColor\" text-anchor=\"middle\" y=\"747.0\">\n",
              "    <tspan class=\"displacy-word\" fill=\"currentColor\" x=\"400\">\n",
              "  </tspan>\n",
              "    <tspan class=\"displacy-tag\" dy=\"2em\" fill=\"currentColor\" x=\"400\">SPACE</tspan>\n",
              "</text>\n",
              "\n",
              "<text class=\"displacy-token\" fill=\"currentColor\" text-anchor=\"middle\" y=\"747.0\">\n",
              "    <tspan class=\"displacy-word\" fill=\"currentColor\" x=\"575\">When</tspan>\n",
              "    <tspan class=\"displacy-tag\" dy=\"2em\" fill=\"currentColor\" x=\"575\">SCONJ</tspan>\n",
              "</text>\n",
              "\n",
              "<text class=\"displacy-token\" fill=\"currentColor\" text-anchor=\"middle\" y=\"747.0\">\n",
              "    <tspan class=\"displacy-word\" fill=\"currentColor\" x=\"750\">forty</tspan>\n",
              "    <tspan class=\"displacy-tag\" dy=\"2em\" fill=\"currentColor\" x=\"750\">NUM</tspan>\n",
              "</text>\n",
              "\n",
              "<text class=\"displacy-token\" fill=\"currentColor\" text-anchor=\"middle\" y=\"747.0\">\n",
              "    <tspan class=\"displacy-word\" fill=\"currentColor\" x=\"925\">winters</tspan>\n",
              "    <tspan class=\"displacy-tag\" dy=\"2em\" fill=\"currentColor\" x=\"925\">NOUN</tspan>\n",
              "</text>\n",
              "\n",
              "<text class=\"displacy-token\" fill=\"currentColor\" text-anchor=\"middle\" y=\"747.0\">\n",
              "    <tspan class=\"displacy-word\" fill=\"currentColor\" x=\"1100\">shall</tspan>\n",
              "    <tspan class=\"displacy-tag\" dy=\"2em\" fill=\"currentColor\" x=\"1100\">AUX</tspan>\n",
              "</text>\n",
              "\n",
              "<text class=\"displacy-token\" fill=\"currentColor\" text-anchor=\"middle\" y=\"747.0\">\n",
              "    <tspan class=\"displacy-word\" fill=\"currentColor\" x=\"1275\">besiege</tspan>\n",
              "    <tspan class=\"displacy-tag\" dy=\"2em\" fill=\"currentColor\" x=\"1275\">VERB</tspan>\n",
              "</text>\n",
              "\n",
              "<text class=\"displacy-token\" fill=\"currentColor\" text-anchor=\"middle\" y=\"747.0\">\n",
              "    <tspan class=\"displacy-word\" fill=\"currentColor\" x=\"1450\">thy</tspan>\n",
              "    <tspan class=\"displacy-tag\" dy=\"2em\" fill=\"currentColor\" x=\"1450\">PRON</tspan>\n",
              "</text>\n",
              "\n",
              "<text class=\"displacy-token\" fill=\"currentColor\" text-anchor=\"middle\" y=\"747.0\">\n",
              "    <tspan class=\"displacy-word\" fill=\"currentColor\" x=\"1625\">brow,</tspan>\n",
              "    <tspan class=\"displacy-tag\" dy=\"2em\" fill=\"currentColor\" x=\"1625\">NOUN</tspan>\n",
              "</text>\n",
              "\n",
              "<text class=\"displacy-token\" fill=\"currentColor\" text-anchor=\"middle\" y=\"747.0\">\n",
              "    <tspan class=\"displacy-word\" fill=\"currentColor\" x=\"1800\">And</tspan>\n",
              "    <tspan class=\"displacy-tag\" dy=\"2em\" fill=\"currentColor\" x=\"1800\">CCONJ</tspan>\n",
              "</text>\n",
              "\n",
              "<text class=\"displacy-token\" fill=\"currentColor\" text-anchor=\"middle\" y=\"747.0\">\n",
              "    <tspan class=\"displacy-word\" fill=\"currentColor\" x=\"1975\">dig</tspan>\n",
              "    <tspan class=\"displacy-tag\" dy=\"2em\" fill=\"currentColor\" x=\"1975\">VERB</tspan>\n",
              "</text>\n",
              "\n",
              "<text class=\"displacy-token\" fill=\"currentColor\" text-anchor=\"middle\" y=\"747.0\">\n",
              "    <tspan class=\"displacy-word\" fill=\"currentColor\" x=\"2150\">deep</tspan>\n",
              "    <tspan class=\"displacy-tag\" dy=\"2em\" fill=\"currentColor\" x=\"2150\">ADJ</tspan>\n",
              "</text>\n",
              "\n",
              "<text class=\"displacy-token\" fill=\"currentColor\" text-anchor=\"middle\" y=\"747.0\">\n",
              "    <tspan class=\"displacy-word\" fill=\"currentColor\" x=\"2325\">trenches</tspan>\n",
              "    <tspan class=\"displacy-tag\" dy=\"2em\" fill=\"currentColor\" x=\"2325\">NOUN</tspan>\n",
              "</text>\n",
              "\n",
              "<text class=\"displacy-token\" fill=\"currentColor\" text-anchor=\"middle\" y=\"747.0\">\n",
              "    <tspan class=\"displacy-word\" fill=\"currentColor\" x=\"2500\">in</tspan>\n",
              "    <tspan class=\"displacy-tag\" dy=\"2em\" fill=\"currentColor\" x=\"2500\">ADP</tspan>\n",
              "</text>\n",
              "\n",
              "<text class=\"displacy-token\" fill=\"currentColor\" text-anchor=\"middle\" y=\"747.0\">\n",
              "    <tspan class=\"displacy-word\" fill=\"currentColor\" x=\"2675\">thy</tspan>\n",
              "    <tspan class=\"displacy-tag\" dy=\"2em\" fill=\"currentColor\" x=\"2675\">PRON</tspan>\n",
              "</text>\n",
              "\n",
              "<text class=\"displacy-token\" fill=\"currentColor\" text-anchor=\"middle\" y=\"747.0\">\n",
              "    <tspan class=\"displacy-word\" fill=\"currentColor\" x=\"2850\">beauty</tspan>\n",
              "    <tspan class=\"displacy-tag\" dy=\"2em\" fill=\"currentColor\" x=\"2850\">NOUN</tspan>\n",
              "</text>\n",
              "\n",
              "<text class=\"displacy-token\" fill=\"currentColor\" text-anchor=\"middle\" y=\"747.0\">\n",
              "    <tspan class=\"displacy-word\" fill=\"currentColor\" x=\"3025\">'s</tspan>\n",
              "    <tspan class=\"displacy-tag\" dy=\"2em\" fill=\"currentColor\" x=\"3025\">PART</tspan>\n",
              "</text>\n",
              "\n",
              "<text class=\"displacy-token\" fill=\"currentColor\" text-anchor=\"middle\" y=\"747.0\">\n",
              "    <tspan class=\"displacy-word\" fill=\"currentColor\" x=\"3200\">field,</tspan>\n",
              "    <tspan class=\"displacy-tag\" dy=\"2em\" fill=\"currentColor\" x=\"3200\">NOUN</tspan>\n",
              "</text>\n",
              "\n",
              "<text class=\"displacy-token\" fill=\"currentColor\" text-anchor=\"middle\" y=\"747.0\">\n",
              "    <tspan class=\"displacy-word\" fill=\"currentColor\" x=\"3375\">Thy</tspan>\n",
              "    <tspan class=\"displacy-tag\" dy=\"2em\" fill=\"currentColor\" x=\"3375\">PROPN</tspan>\n",
              "</text>\n",
              "\n",
              "<text class=\"displacy-token\" fill=\"currentColor\" text-anchor=\"middle\" y=\"747.0\">\n",
              "    <tspan class=\"displacy-word\" fill=\"currentColor\" x=\"3550\">youth</tspan>\n",
              "    <tspan class=\"displacy-tag\" dy=\"2em\" fill=\"currentColor\" x=\"3550\">NOUN</tspan>\n",
              "</text>\n",
              "\n",
              "<text class=\"displacy-token\" fill=\"currentColor\" text-anchor=\"middle\" y=\"747.0\">\n",
              "    <tspan class=\"displacy-word\" fill=\"currentColor\" x=\"3725\">'s</tspan>\n",
              "    <tspan class=\"displacy-tag\" dy=\"2em\" fill=\"currentColor\" x=\"3725\">PART</tspan>\n",
              "</text>\n",
              "\n",
              "<text class=\"displacy-token\" fill=\"currentColor\" text-anchor=\"middle\" y=\"747.0\">\n",
              "    <tspan class=\"displacy-word\" fill=\"currentColor\" x=\"3900\">proud</tspan>\n",
              "    <tspan class=\"displacy-tag\" dy=\"2em\" fill=\"currentColor\" x=\"3900\">ADJ</tspan>\n",
              "</text>\n",
              "\n",
              "<text class=\"displacy-token\" fill=\"currentColor\" text-anchor=\"middle\" y=\"747.0\">\n",
              "    <tspan class=\"displacy-word\" fill=\"currentColor\" x=\"4075\">livery</tspan>\n",
              "    <tspan class=\"displacy-tag\" dy=\"2em\" fill=\"currentColor\" x=\"4075\">NOUN</tspan>\n",
              "</text>\n",
              "\n",
              "<text class=\"displacy-token\" fill=\"currentColor\" text-anchor=\"middle\" y=\"747.0\">\n",
              "    <tspan class=\"displacy-word\" fill=\"currentColor\" x=\"4250\">so</tspan>\n",
              "    <tspan class=\"displacy-tag\" dy=\"2em\" fill=\"currentColor\" x=\"4250\">ADV</tspan>\n",
              "</text>\n",
              "\n",
              "<text class=\"displacy-token\" fill=\"currentColor\" text-anchor=\"middle\" y=\"747.0\">\n",
              "    <tspan class=\"displacy-word\" fill=\"currentColor\" x=\"4425\">gazed</tspan>\n",
              "    <tspan class=\"displacy-tag\" dy=\"2em\" fill=\"currentColor\" x=\"4425\">VERB</tspan>\n",
              "</text>\n",
              "\n",
              "<text class=\"displacy-token\" fill=\"currentColor\" text-anchor=\"middle\" y=\"747.0\">\n",
              "    <tspan class=\"displacy-word\" fill=\"currentColor\" x=\"4600\">on</tspan>\n",
              "    <tspan class=\"displacy-tag\" dy=\"2em\" fill=\"currentColor\" x=\"4600\">ADP</tspan>\n",
              "</text>\n",
              "\n",
              "<text class=\"displacy-token\" fill=\"currentColor\" text-anchor=\"middle\" y=\"747.0\">\n",
              "    <tspan class=\"displacy-word\" fill=\"currentColor\" x=\"4775\">now,</tspan>\n",
              "    <tspan class=\"displacy-tag\" dy=\"2em\" fill=\"currentColor\" x=\"4775\">ADV</tspan>\n",
              "</text>\n",
              "\n",
              "<text class=\"displacy-token\" fill=\"currentColor\" text-anchor=\"middle\" y=\"747.0\">\n",
              "    <tspan class=\"displacy-word\" fill=\"currentColor\" x=\"4950\">Will</tspan>\n",
              "    <tspan class=\"displacy-tag\" dy=\"2em\" fill=\"currentColor\" x=\"4950\">AUX</tspan>\n",
              "</text>\n",
              "\n",
              "<text class=\"displacy-token\" fill=\"currentColor\" text-anchor=\"middle\" y=\"747.0\">\n",
              "    <tspan class=\"displacy-word\" fill=\"currentColor\" x=\"5125\">be</tspan>\n",
              "    <tspan class=\"displacy-tag\" dy=\"2em\" fill=\"currentColor\" x=\"5125\">AUX</tspan>\n",
              "</text>\n",
              "\n",
              "<text class=\"displacy-token\" fill=\"currentColor\" text-anchor=\"middle\" y=\"747.0\">\n",
              "    <tspan class=\"displacy-word\" fill=\"currentColor\" x=\"5300\">a</tspan>\n",
              "    <tspan class=\"displacy-tag\" dy=\"2em\" fill=\"currentColor\" x=\"5300\">DET</tspan>\n",
              "</text>\n",
              "\n",
              "<text class=\"displacy-token\" fill=\"currentColor\" text-anchor=\"middle\" y=\"747.0\">\n",
              "    <tspan class=\"displacy-word\" fill=\"currentColor\" x=\"5475\">tattered</tspan>\n",
              "    <tspan class=\"displacy-tag\" dy=\"2em\" fill=\"currentColor\" x=\"5475\">ADJ</tspan>\n",
              "</text>\n",
              "\n",
              "<text class=\"displacy-token\" fill=\"currentColor\" text-anchor=\"middle\" y=\"747.0\">\n",
              "    <tspan class=\"displacy-word\" fill=\"currentColor\" x=\"5650\">weed</tspan>\n",
              "    <tspan class=\"displacy-tag\" dy=\"2em\" fill=\"currentColor\" x=\"5650\">NOUN</tspan>\n",
              "</text>\n",
              "\n",
              "<text class=\"displacy-token\" fill=\"currentColor\" text-anchor=\"middle\" y=\"747.0\">\n",
              "    <tspan class=\"displacy-word\" fill=\"currentColor\" x=\"5825\">of</tspan>\n",
              "    <tspan class=\"displacy-tag\" dy=\"2em\" fill=\"currentColor\" x=\"5825\">ADP</tspan>\n",
              "</text>\n",
              "\n",
              "<text class=\"displacy-token\" fill=\"currentColor\" text-anchor=\"middle\" y=\"747.0\">\n",
              "    <tspan class=\"displacy-word\" fill=\"currentColor\" x=\"6000\">small</tspan>\n",
              "    <tspan class=\"displacy-tag\" dy=\"2em\" fill=\"currentColor\" x=\"6000\">ADJ</tspan>\n",
              "</text>\n",
              "\n",
              "<text class=\"displacy-token\" fill=\"currentColor\" text-anchor=\"middle\" y=\"747.0\">\n",
              "    <tspan class=\"displacy-word\" fill=\"currentColor\" x=\"6175\">worth</tspan>\n",
              "    <tspan class=\"displacy-tag\" dy=\"2em\" fill=\"currentColor\" x=\"6175\">NOUN</tspan>\n",
              "</text>\n",
              "\n",
              "<text class=\"displacy-token\" fill=\"currentColor\" text-anchor=\"middle\" y=\"747.0\">\n",
              "    <tspan class=\"displacy-word\" fill=\"currentColor\" x=\"6350\">held:</tspan>\n",
              "    <tspan class=\"displacy-tag\" dy=\"2em\" fill=\"currentColor\" x=\"6350\">VERB</tspan>\n",
              "</text>\n",
              "\n",
              "<text class=\"displacy-token\" fill=\"currentColor\" text-anchor=\"middle\" y=\"747.0\">\n",
              "    <tspan class=\"displacy-word\" fill=\"currentColor\" x=\"6525\">Then</tspan>\n",
              "    <tspan class=\"displacy-tag\" dy=\"2em\" fill=\"currentColor\" x=\"6525\">ADV</tspan>\n",
              "</text>\n",
              "\n",
              "<text class=\"displacy-token\" fill=\"currentColor\" text-anchor=\"middle\" y=\"747.0\">\n",
              "    <tspan class=\"displacy-word\" fill=\"currentColor\" x=\"6700\">being</tspan>\n",
              "    <tspan class=\"displacy-tag\" dy=\"2em\" fill=\"currentColor\" x=\"6700\">AUX</tspan>\n",
              "</text>\n",
              "\n",
              "<text class=\"displacy-token\" fill=\"currentColor\" text-anchor=\"middle\" y=\"747.0\">\n",
              "    <tspan class=\"displacy-word\" fill=\"currentColor\" x=\"6875\">asked,</tspan>\n",
              "    <tspan class=\"displacy-tag\" dy=\"2em\" fill=\"currentColor\" x=\"6875\">VERB</tspan>\n",
              "</text>\n",
              "\n",
              "<text class=\"displacy-token\" fill=\"currentColor\" text-anchor=\"middle\" y=\"747.0\">\n",
              "    <tspan class=\"displacy-word\" fill=\"currentColor\" x=\"7050\">where</tspan>\n",
              "    <tspan class=\"displacy-tag\" dy=\"2em\" fill=\"currentColor\" x=\"7050\">SCONJ</tspan>\n",
              "</text>\n",
              "\n",
              "<text class=\"displacy-token\" fill=\"currentColor\" text-anchor=\"middle\" y=\"747.0\">\n",
              "    <tspan class=\"displacy-word\" fill=\"currentColor\" x=\"7225\">all</tspan>\n",
              "    <tspan class=\"displacy-tag\" dy=\"2em\" fill=\"currentColor\" x=\"7225\">DET</tspan>\n",
              "</text>\n",
              "\n",
              "<text class=\"displacy-token\" fill=\"currentColor\" text-anchor=\"middle\" y=\"747.0\">\n",
              "    <tspan class=\"displacy-word\" fill=\"currentColor\" x=\"7400\">thy</tspan>\n",
              "    <tspan class=\"displacy-tag\" dy=\"2em\" fill=\"currentColor\" x=\"7400\">PRON</tspan>\n",
              "</text>\n",
              "\n",
              "<text class=\"displacy-token\" fill=\"currentColor\" text-anchor=\"middle\" y=\"747.0\">\n",
              "    <tspan class=\"displacy-word\" fill=\"currentColor\" x=\"7575\">beauty</tspan>\n",
              "    <tspan class=\"displacy-tag\" dy=\"2em\" fill=\"currentColor\" x=\"7575\">NOUN</tspan>\n",
              "</text>\n",
              "\n",
              "<text class=\"displacy-token\" fill=\"currentColor\" text-anchor=\"middle\" y=\"747.0\">\n",
              "    <tspan class=\"displacy-word\" fill=\"currentColor\" x=\"7750\">lies,</tspan>\n",
              "    <tspan class=\"displacy-tag\" dy=\"2em\" fill=\"currentColor\" x=\"7750\">NOUN</tspan>\n",
              "</text>\n",
              "\n",
              "<text class=\"displacy-token\" fill=\"currentColor\" text-anchor=\"middle\" y=\"747.0\">\n",
              "    <tspan class=\"displacy-word\" fill=\"currentColor\" x=\"7925\">Where</tspan>\n",
              "    <tspan class=\"displacy-tag\" dy=\"2em\" fill=\"currentColor\" x=\"7925\">SCONJ</tspan>\n",
              "</text>\n",
              "\n",
              "<text class=\"displacy-token\" fill=\"currentColor\" text-anchor=\"middle\" y=\"747.0\">\n",
              "    <tspan class=\"displacy-word\" fill=\"currentColor\" x=\"8100\">all</tspan>\n",
              "    <tspan class=\"displacy-tag\" dy=\"2em\" fill=\"currentColor\" x=\"8100\">DET</tspan>\n",
              "</text>\n",
              "\n",
              "<text class=\"displacy-token\" fill=\"currentColor\" text-anchor=\"middle\" y=\"747.0\">\n",
              "    <tspan class=\"displacy-word\" fill=\"currentColor\" x=\"8275\">the</tspan>\n",
              "    <tspan class=\"displacy-tag\" dy=\"2em\" fill=\"currentColor\" x=\"8275\">DET</tspan>\n",
              "</text>\n",
              "\n",
              "<text class=\"displacy-token\" fill=\"currentColor\" text-anchor=\"middle\" y=\"747.0\">\n",
              "    <tspan class=\"displacy-word\" fill=\"currentColor\" x=\"8450\">treasure</tspan>\n",
              "    <tspan class=\"displacy-tag\" dy=\"2em\" fill=\"currentColor\" x=\"8450\">NOUN</tspan>\n",
              "</text>\n",
              "\n",
              "<text class=\"displacy-token\" fill=\"currentColor\" text-anchor=\"middle\" y=\"747.0\">\n",
              "    <tspan class=\"displacy-word\" fill=\"currentColor\" x=\"8625\">of</tspan>\n",
              "    <tspan class=\"displacy-tag\" dy=\"2em\" fill=\"currentColor\" x=\"8625\">ADP</tspan>\n",
              "</text>\n",
              "\n",
              "<text class=\"displacy-token\" fill=\"currentColor\" text-anchor=\"middle\" y=\"747.0\">\n",
              "    <tspan class=\"displacy-word\" fill=\"currentColor\" x=\"8800\">thy</tspan>\n",
              "    <tspan class=\"displacy-tag\" dy=\"2em\" fill=\"currentColor\" x=\"8800\">PRON</tspan>\n",
              "</text>\n",
              "\n",
              "<text class=\"displacy-token\" fill=\"currentColor\" text-anchor=\"middle\" y=\"747.0\">\n",
              "    <tspan class=\"displacy-word\" fill=\"currentColor\" x=\"8975\">lusty</tspan>\n",
              "    <tspan class=\"displacy-tag\" dy=\"2em\" fill=\"currentColor\" x=\"8975\">ADJ</tspan>\n",
              "</text>\n",
              "\n",
              "<text class=\"displacy-token\" fill=\"currentColor\" text-anchor=\"middle\" y=\"747.0\">\n",
              "    <tspan class=\"displacy-word\" fill=\"currentColor\" x=\"9150\">days;</tspan>\n",
              "    <tspan class=\"displacy-tag\" dy=\"2em\" fill=\"currentColor\" x=\"9150\">NOUN</tspan>\n",
              "</text>\n",
              "\n",
              "<text class=\"displacy-token\" fill=\"currentColor\" text-anchor=\"middle\" y=\"747.0\">\n",
              "    <tspan class=\"displacy-word\" fill=\"currentColor\" x=\"9325\">To</tspan>\n",
              "    <tspan class=\"displacy-tag\" dy=\"2em\" fill=\"currentColor\" x=\"9325\">PART</tspan>\n",
              "</text>\n",
              "\n",
              "<text class=\"displacy-token\" fill=\"currentColor\" text-anchor=\"middle\" y=\"747.0\">\n",
              "    <tspan class=\"displacy-word\" fill=\"currentColor\" x=\"9500\">say</tspan>\n",
              "    <tspan class=\"displacy-tag\" dy=\"2em\" fill=\"currentColor\" x=\"9500\">VERB</tspan>\n",
              "</text>\n",
              "\n",
              "<text class=\"displacy-token\" fill=\"currentColor\" text-anchor=\"middle\" y=\"747.0\">\n",
              "    <tspan class=\"displacy-word\" fill=\"currentColor\" x=\"9675\">within</tspan>\n",
              "    <tspan class=\"displacy-tag\" dy=\"2em\" fill=\"currentColor\" x=\"9675\">ADP</tspan>\n",
              "</text>\n",
              "\n",
              "<text class=\"displacy-token\" fill=\"currentColor\" text-anchor=\"middle\" y=\"747.0\">\n",
              "    <tspan class=\"displacy-word\" fill=\"currentColor\" x=\"9850\">thine</tspan>\n",
              "    <tspan class=\"displacy-tag\" dy=\"2em\" fill=\"currentColor\" x=\"9850\">NOUN</tspan>\n",
              "</text>\n",
              "\n",
              "<text class=\"displacy-token\" fill=\"currentColor\" text-anchor=\"middle\" y=\"747.0\">\n",
              "    <tspan class=\"displacy-word\" fill=\"currentColor\" x=\"10025\">own</tspan>\n",
              "    <tspan class=\"displacy-tag\" dy=\"2em\" fill=\"currentColor\" x=\"10025\">ADJ</tspan>\n",
              "</text>\n",
              "\n",
              "<text class=\"displacy-token\" fill=\"currentColor\" text-anchor=\"middle\" y=\"747.0\">\n",
              "    <tspan class=\"displacy-word\" fill=\"currentColor\" x=\"10200\">deep</tspan>\n",
              "    <tspan class=\"displacy-tag\" dy=\"2em\" fill=\"currentColor\" x=\"10200\">ADJ</tspan>\n",
              "</text>\n",
              "\n",
              "<text class=\"displacy-token\" fill=\"currentColor\" text-anchor=\"middle\" y=\"747.0\">\n",
              "    <tspan class=\"displacy-word\" fill=\"currentColor\" x=\"10375\">sunken</tspan>\n",
              "    <tspan class=\"displacy-tag\" dy=\"2em\" fill=\"currentColor\" x=\"10375\">ADJ</tspan>\n",
              "</text>\n",
              "\n",
              "<text class=\"displacy-token\" fill=\"currentColor\" text-anchor=\"middle\" y=\"747.0\">\n",
              "    <tspan class=\"displacy-word\" fill=\"currentColor\" x=\"10550\">eyes,</tspan>\n",
              "    <tspan class=\"displacy-tag\" dy=\"2em\" fill=\"currentColor\" x=\"10550\">NOUN</tspan>\n",
              "</text>\n",
              "\n",
              "<text class=\"displacy-token\" fill=\"currentColor\" text-anchor=\"middle\" y=\"747.0\">\n",
              "    <tspan class=\"displacy-word\" fill=\"currentColor\" x=\"10725\">Were</tspan>\n",
              "    <tspan class=\"displacy-tag\" dy=\"2em\" fill=\"currentColor\" x=\"10725\">AUX</tspan>\n",
              "</text>\n",
              "\n",
              "<text class=\"displacy-token\" fill=\"currentColor\" text-anchor=\"middle\" y=\"747.0\">\n",
              "    <tspan class=\"displacy-word\" fill=\"currentColor\" x=\"10900\">an</tspan>\n",
              "    <tspan class=\"displacy-tag\" dy=\"2em\" fill=\"currentColor\" x=\"10900\">DET</tspan>\n",
              "</text>\n",
              "\n",
              "<text class=\"displacy-token\" fill=\"currentColor\" text-anchor=\"middle\" y=\"747.0\">\n",
              "    <tspan class=\"displacy-word\" fill=\"currentColor\" x=\"11075\">all-</tspan>\n",
              "    <tspan class=\"displacy-tag\" dy=\"2em\" fill=\"currentColor\" x=\"11075\">ADV</tspan>\n",
              "</text>\n",
              "\n",
              "<text class=\"displacy-token\" fill=\"currentColor\" text-anchor=\"middle\" y=\"747.0\">\n",
              "    <tspan class=\"displacy-word\" fill=\"currentColor\" x=\"11250\">eating</tspan>\n",
              "    <tspan class=\"displacy-tag\" dy=\"2em\" fill=\"currentColor\" x=\"11250\">VERB</tspan>\n",
              "</text>\n",
              "\n",
              "<text class=\"displacy-token\" fill=\"currentColor\" text-anchor=\"middle\" y=\"747.0\">\n",
              "    <tspan class=\"displacy-word\" fill=\"currentColor\" x=\"11425\">shame,</tspan>\n",
              "    <tspan class=\"displacy-tag\" dy=\"2em\" fill=\"currentColor\" x=\"11425\">NOUN</tspan>\n",
              "</text>\n",
              "\n",
              "<text class=\"displacy-token\" fill=\"currentColor\" text-anchor=\"middle\" y=\"747.0\">\n",
              "    <tspan class=\"displacy-word\" fill=\"currentColor\" x=\"11600\">and</tspan>\n",
              "    <tspan class=\"displacy-tag\" dy=\"2em\" fill=\"currentColor\" x=\"11600\">CCONJ</tspan>\n",
              "</text>\n",
              "\n",
              "<text class=\"displacy-token\" fill=\"currentColor\" text-anchor=\"middle\" y=\"747.0\">\n",
              "    <tspan class=\"displacy-word\" fill=\"currentColor\" x=\"11775\">thriftless</tspan>\n",
              "    <tspan class=\"displacy-tag\" dy=\"2em\" fill=\"currentColor\" x=\"11775\">NOUN</tspan>\n",
              "</text>\n",
              "\n",
              "<text class=\"displacy-token\" fill=\"currentColor\" text-anchor=\"middle\" y=\"747.0\">\n",
              "    <tspan class=\"displacy-word\" fill=\"currentColor\" x=\"11950\">praise.</tspan>\n",
              "    <tspan class=\"displacy-tag\" dy=\"2em\" fill=\"currentColor\" x=\"11950\">NOUN</tspan>\n",
              "</text>\n",
              "\n",
              "<g class=\"displacy-arrow\">\n",
              "    <path class=\"displacy-arc\" id=\"arrow-79174d05cdc948eba8bcec87dd32bd98-0-0\" stroke-width=\"2px\" d=\"M70,702.0 C70,614.5 190.0,614.5 190.0,702.0\" fill=\"none\" stroke=\"currentColor\"/>\n",
              "    <text dy=\"1.25em\" style=\"font-size: 0.8em; letter-spacing: 1px\">\n",
              "        <textPath xlink:href=\"#arrow-79174d05cdc948eba8bcec87dd32bd98-0-0\" class=\"displacy-label\" startOffset=\"50%\" side=\"left\" fill=\"currentColor\" text-anchor=\"middle\">dep</textPath>\n",
              "    </text>\n",
              "    <path class=\"displacy-arrowhead\" d=\"M70,704.0 L62,692.0 78,692.0\" fill=\"currentColor\"/>\n",
              "</g>\n",
              "\n",
              "<g class=\"displacy-arrow\">\n",
              "    <path class=\"displacy-arc\" id=\"arrow-79174d05cdc948eba8bcec87dd32bd98-0-1\" stroke-width=\"2px\" d=\"M245,702.0 C245,89.5 5120.0,89.5 5120.0,702.0\" fill=\"none\" stroke=\"currentColor\"/>\n",
              "    <text dy=\"1.25em\" style=\"font-size: 0.8em; letter-spacing: 1px\">\n",
              "        <textPath xlink:href=\"#arrow-79174d05cdc948eba8bcec87dd32bd98-0-1\" class=\"displacy-label\" startOffset=\"50%\" side=\"left\" fill=\"currentColor\" text-anchor=\"middle\">nsubj</textPath>\n",
              "    </text>\n",
              "    <path class=\"displacy-arrowhead\" d=\"M245,704.0 L237,692.0 253,692.0\" fill=\"currentColor\"/>\n",
              "</g>\n",
              "\n",
              "<g class=\"displacy-arrow\">\n",
              "    <path class=\"displacy-arc\" id=\"arrow-79174d05cdc948eba8bcec87dd32bd98-0-2\" stroke-width=\"2px\" d=\"M245,702.0 C245,614.5 365.0,614.5 365.0,702.0\" fill=\"none\" stroke=\"currentColor\"/>\n",
              "    <text dy=\"1.25em\" style=\"font-size: 0.8em; letter-spacing: 1px\">\n",
              "        <textPath xlink:href=\"#arrow-79174d05cdc948eba8bcec87dd32bd98-0-2\" class=\"displacy-label\" startOffset=\"50%\" side=\"left\" fill=\"currentColor\" text-anchor=\"middle\">dep</textPath>\n",
              "    </text>\n",
              "    <path class=\"displacy-arrowhead\" d=\"M365.0,704.0 L373.0,692.0 357.0,692.0\" fill=\"currentColor\"/>\n",
              "</g>\n",
              "\n",
              "<g class=\"displacy-arrow\">\n",
              "    <path class=\"displacy-arc\" id=\"arrow-79174d05cdc948eba8bcec87dd32bd98-0-3\" stroke-width=\"2px\" d=\"M595,702.0 C595,439.5 1250.0,439.5 1250.0,702.0\" fill=\"none\" stroke=\"currentColor\"/>\n",
              "    <text dy=\"1.25em\" style=\"font-size: 0.8em; letter-spacing: 1px\">\n",
              "        <textPath xlink:href=\"#arrow-79174d05cdc948eba8bcec87dd32bd98-0-3\" class=\"displacy-label\" startOffset=\"50%\" side=\"left\" fill=\"currentColor\" text-anchor=\"middle\">advmod</textPath>\n",
              "    </text>\n",
              "    <path class=\"displacy-arrowhead\" d=\"M595,704.0 L587,692.0 603,692.0\" fill=\"currentColor\"/>\n",
              "</g>\n",
              "\n",
              "<g class=\"displacy-arrow\">\n",
              "    <path class=\"displacy-arc\" id=\"arrow-79174d05cdc948eba8bcec87dd32bd98-0-4\" stroke-width=\"2px\" d=\"M770,702.0 C770,614.5 890.0,614.5 890.0,702.0\" fill=\"none\" stroke=\"currentColor\"/>\n",
              "    <text dy=\"1.25em\" style=\"font-size: 0.8em; letter-spacing: 1px\">\n",
              "        <textPath xlink:href=\"#arrow-79174d05cdc948eba8bcec87dd32bd98-0-4\" class=\"displacy-label\" startOffset=\"50%\" side=\"left\" fill=\"currentColor\" text-anchor=\"middle\">nummod</textPath>\n",
              "    </text>\n",
              "    <path class=\"displacy-arrowhead\" d=\"M770,704.0 L762,692.0 778,692.0\" fill=\"currentColor\"/>\n",
              "</g>\n",
              "\n",
              "<g class=\"displacy-arrow\">\n",
              "    <path class=\"displacy-arc\" id=\"arrow-79174d05cdc948eba8bcec87dd32bd98-0-5\" stroke-width=\"2px\" d=\"M945,702.0 C945,527.0 1245.0,527.0 1245.0,702.0\" fill=\"none\" stroke=\"currentColor\"/>\n",
              "    <text dy=\"1.25em\" style=\"font-size: 0.8em; letter-spacing: 1px\">\n",
              "        <textPath xlink:href=\"#arrow-79174d05cdc948eba8bcec87dd32bd98-0-5\" class=\"displacy-label\" startOffset=\"50%\" side=\"left\" fill=\"currentColor\" text-anchor=\"middle\">nsubj</textPath>\n",
              "    </text>\n",
              "    <path class=\"displacy-arrowhead\" d=\"M945,704.0 L937,692.0 953,692.0\" fill=\"currentColor\"/>\n",
              "</g>\n",
              "\n",
              "<g class=\"displacy-arrow\">\n",
              "    <path class=\"displacy-arc\" id=\"arrow-79174d05cdc948eba8bcec87dd32bd98-0-6\" stroke-width=\"2px\" d=\"M1120,702.0 C1120,614.5 1240.0,614.5 1240.0,702.0\" fill=\"none\" stroke=\"currentColor\"/>\n",
              "    <text dy=\"1.25em\" style=\"font-size: 0.8em; letter-spacing: 1px\">\n",
              "        <textPath xlink:href=\"#arrow-79174d05cdc948eba8bcec87dd32bd98-0-6\" class=\"displacy-label\" startOffset=\"50%\" side=\"left\" fill=\"currentColor\" text-anchor=\"middle\">aux</textPath>\n",
              "    </text>\n",
              "    <path class=\"displacy-arrowhead\" d=\"M1120,704.0 L1112,692.0 1128,692.0\" fill=\"currentColor\"/>\n",
              "</g>\n",
              "\n",
              "<g class=\"displacy-arrow\">\n",
              "    <path class=\"displacy-arc\" id=\"arrow-79174d05cdc948eba8bcec87dd32bd98-0-7\" stroke-width=\"2px\" d=\"M245,702.0 C245,352.0 1255.0,352.0 1255.0,702.0\" fill=\"none\" stroke=\"currentColor\"/>\n",
              "    <text dy=\"1.25em\" style=\"font-size: 0.8em; letter-spacing: 1px\">\n",
              "        <textPath xlink:href=\"#arrow-79174d05cdc948eba8bcec87dd32bd98-0-7\" class=\"displacy-label\" startOffset=\"50%\" side=\"left\" fill=\"currentColor\" text-anchor=\"middle\">advcl</textPath>\n",
              "    </text>\n",
              "    <path class=\"displacy-arrowhead\" d=\"M1255.0,704.0 L1263.0,692.0 1247.0,692.0\" fill=\"currentColor\"/>\n",
              "</g>\n",
              "\n",
              "<g class=\"displacy-arrow\">\n",
              "    <path class=\"displacy-arc\" id=\"arrow-79174d05cdc948eba8bcec87dd32bd98-0-8\" stroke-width=\"2px\" d=\"M1470,702.0 C1470,614.5 1590.0,614.5 1590.0,702.0\" fill=\"none\" stroke=\"currentColor\"/>\n",
              "    <text dy=\"1.25em\" style=\"font-size: 0.8em; letter-spacing: 1px\">\n",
              "        <textPath xlink:href=\"#arrow-79174d05cdc948eba8bcec87dd32bd98-0-8\" class=\"displacy-label\" startOffset=\"50%\" side=\"left\" fill=\"currentColor\" text-anchor=\"middle\">poss</textPath>\n",
              "    </text>\n",
              "    <path class=\"displacy-arrowhead\" d=\"M1470,704.0 L1462,692.0 1478,692.0\" fill=\"currentColor\"/>\n",
              "</g>\n",
              "\n",
              "<g class=\"displacy-arrow\">\n",
              "    <path class=\"displacy-arc\" id=\"arrow-79174d05cdc948eba8bcec87dd32bd98-0-9\" stroke-width=\"2px\" d=\"M1295,702.0 C1295,527.0 1595.0,527.0 1595.0,702.0\" fill=\"none\" stroke=\"currentColor\"/>\n",
              "    <text dy=\"1.25em\" style=\"font-size: 0.8em; letter-spacing: 1px\">\n",
              "        <textPath xlink:href=\"#arrow-79174d05cdc948eba8bcec87dd32bd98-0-9\" class=\"displacy-label\" startOffset=\"50%\" side=\"left\" fill=\"currentColor\" text-anchor=\"middle\">dobj</textPath>\n",
              "    </text>\n",
              "    <path class=\"displacy-arrowhead\" d=\"M1595.0,704.0 L1603.0,692.0 1587.0,692.0\" fill=\"currentColor\"/>\n",
              "</g>\n",
              "\n",
              "<g class=\"displacy-arrow\">\n",
              "    <path class=\"displacy-arc\" id=\"arrow-79174d05cdc948eba8bcec87dd32bd98-0-10\" stroke-width=\"2px\" d=\"M245,702.0 C245,264.5 1785.0,264.5 1785.0,702.0\" fill=\"none\" stroke=\"currentColor\"/>\n",
              "    <text dy=\"1.25em\" style=\"font-size: 0.8em; letter-spacing: 1px\">\n",
              "        <textPath xlink:href=\"#arrow-79174d05cdc948eba8bcec87dd32bd98-0-10\" class=\"displacy-label\" startOffset=\"50%\" side=\"left\" fill=\"currentColor\" text-anchor=\"middle\">cc</textPath>\n",
              "    </text>\n",
              "    <path class=\"displacy-arrowhead\" d=\"M1785.0,704.0 L1793.0,692.0 1777.0,692.0\" fill=\"currentColor\"/>\n",
              "</g>\n",
              "\n",
              "<g class=\"displacy-arrow\">\n",
              "    <path class=\"displacy-arc\" id=\"arrow-79174d05cdc948eba8bcec87dd32bd98-0-11\" stroke-width=\"2px\" d=\"M1995,702.0 C1995,264.5 4410.0,264.5 4410.0,702.0\" fill=\"none\" stroke=\"currentColor\"/>\n",
              "    <text dy=\"1.25em\" style=\"font-size: 0.8em; letter-spacing: 1px\">\n",
              "        <textPath xlink:href=\"#arrow-79174d05cdc948eba8bcec87dd32bd98-0-11\" class=\"displacy-label\" startOffset=\"50%\" side=\"left\" fill=\"currentColor\" text-anchor=\"middle\">advcl</textPath>\n",
              "    </text>\n",
              "    <path class=\"displacy-arrowhead\" d=\"M1995,704.0 L1987,692.0 2003,692.0\" fill=\"currentColor\"/>\n",
              "</g>\n",
              "\n",
              "<g class=\"displacy-arrow\">\n",
              "    <path class=\"displacy-arc\" id=\"arrow-79174d05cdc948eba8bcec87dd32bd98-0-12\" stroke-width=\"2px\" d=\"M2170,702.0 C2170,614.5 2290.0,614.5 2290.0,702.0\" fill=\"none\" stroke=\"currentColor\"/>\n",
              "    <text dy=\"1.25em\" style=\"font-size: 0.8em; letter-spacing: 1px\">\n",
              "        <textPath xlink:href=\"#arrow-79174d05cdc948eba8bcec87dd32bd98-0-12\" class=\"displacy-label\" startOffset=\"50%\" side=\"left\" fill=\"currentColor\" text-anchor=\"middle\">amod</textPath>\n",
              "    </text>\n",
              "    <path class=\"displacy-arrowhead\" d=\"M2170,704.0 L2162,692.0 2178,692.0\" fill=\"currentColor\"/>\n",
              "</g>\n",
              "\n",
              "<g class=\"displacy-arrow\">\n",
              "    <path class=\"displacy-arc\" id=\"arrow-79174d05cdc948eba8bcec87dd32bd98-0-13\" stroke-width=\"2px\" d=\"M1995,702.0 C1995,527.0 2295.0,527.0 2295.0,702.0\" fill=\"none\" stroke=\"currentColor\"/>\n",
              "    <text dy=\"1.25em\" style=\"font-size: 0.8em; letter-spacing: 1px\">\n",
              "        <textPath xlink:href=\"#arrow-79174d05cdc948eba8bcec87dd32bd98-0-13\" class=\"displacy-label\" startOffset=\"50%\" side=\"left\" fill=\"currentColor\" text-anchor=\"middle\">dobj</textPath>\n",
              "    </text>\n",
              "    <path class=\"displacy-arrowhead\" d=\"M2295.0,704.0 L2303.0,692.0 2287.0,692.0\" fill=\"currentColor\"/>\n",
              "</g>\n",
              "\n",
              "<g class=\"displacy-arrow\">\n",
              "    <path class=\"displacy-arc\" id=\"arrow-79174d05cdc948eba8bcec87dd32bd98-0-14\" stroke-width=\"2px\" d=\"M1995,702.0 C1995,439.5 2475.0,439.5 2475.0,702.0\" fill=\"none\" stroke=\"currentColor\"/>\n",
              "    <text dy=\"1.25em\" style=\"font-size: 0.8em; letter-spacing: 1px\">\n",
              "        <textPath xlink:href=\"#arrow-79174d05cdc948eba8bcec87dd32bd98-0-14\" class=\"displacy-label\" startOffset=\"50%\" side=\"left\" fill=\"currentColor\" text-anchor=\"middle\">prep</textPath>\n",
              "    </text>\n",
              "    <path class=\"displacy-arrowhead\" d=\"M2475.0,704.0 L2483.0,692.0 2467.0,692.0\" fill=\"currentColor\"/>\n",
              "</g>\n",
              "\n",
              "<g class=\"displacy-arrow\">\n",
              "    <path class=\"displacy-arc\" id=\"arrow-79174d05cdc948eba8bcec87dd32bd98-0-15\" stroke-width=\"2px\" d=\"M2695,702.0 C2695,439.5 3175.0,439.5 3175.0,702.0\" fill=\"none\" stroke=\"currentColor\"/>\n",
              "    <text dy=\"1.25em\" style=\"font-size: 0.8em; letter-spacing: 1px\">\n",
              "        <textPath xlink:href=\"#arrow-79174d05cdc948eba8bcec87dd32bd98-0-15\" class=\"displacy-label\" startOffset=\"50%\" side=\"left\" fill=\"currentColor\" text-anchor=\"middle\">poss</textPath>\n",
              "    </text>\n",
              "    <path class=\"displacy-arrowhead\" d=\"M2695,704.0 L2687,692.0 2703,692.0\" fill=\"currentColor\"/>\n",
              "</g>\n",
              "\n",
              "<g class=\"displacy-arrow\">\n",
              "    <path class=\"displacy-arc\" id=\"arrow-79174d05cdc948eba8bcec87dd32bd98-0-16\" stroke-width=\"2px\" d=\"M2870,702.0 C2870,527.0 3170.0,527.0 3170.0,702.0\" fill=\"none\" stroke=\"currentColor\"/>\n",
              "    <text dy=\"1.25em\" style=\"font-size: 0.8em; letter-spacing: 1px\">\n",
              "        <textPath xlink:href=\"#arrow-79174d05cdc948eba8bcec87dd32bd98-0-16\" class=\"displacy-label\" startOffset=\"50%\" side=\"left\" fill=\"currentColor\" text-anchor=\"middle\">poss</textPath>\n",
              "    </text>\n",
              "    <path class=\"displacy-arrowhead\" d=\"M2870,704.0 L2862,692.0 2878,692.0\" fill=\"currentColor\"/>\n",
              "</g>\n",
              "\n",
              "<g class=\"displacy-arrow\">\n",
              "    <path class=\"displacy-arc\" id=\"arrow-79174d05cdc948eba8bcec87dd32bd98-0-17\" stroke-width=\"2px\" d=\"M2870,702.0 C2870,614.5 2990.0,614.5 2990.0,702.0\" fill=\"none\" stroke=\"currentColor\"/>\n",
              "    <text dy=\"1.25em\" style=\"font-size: 0.8em; letter-spacing: 1px\">\n",
              "        <textPath xlink:href=\"#arrow-79174d05cdc948eba8bcec87dd32bd98-0-17\" class=\"displacy-label\" startOffset=\"50%\" side=\"left\" fill=\"currentColor\" text-anchor=\"middle\">case</textPath>\n",
              "    </text>\n",
              "    <path class=\"displacy-arrowhead\" d=\"M2990.0,704.0 L2998.0,692.0 2982.0,692.0\" fill=\"currentColor\"/>\n",
              "</g>\n",
              "\n",
              "<g class=\"displacy-arrow\">\n",
              "    <path class=\"displacy-arc\" id=\"arrow-79174d05cdc948eba8bcec87dd32bd98-0-18\" stroke-width=\"2px\" d=\"M2520,702.0 C2520,352.0 3180.0,352.0 3180.0,702.0\" fill=\"none\" stroke=\"currentColor\"/>\n",
              "    <text dy=\"1.25em\" style=\"font-size: 0.8em; letter-spacing: 1px\">\n",
              "        <textPath xlink:href=\"#arrow-79174d05cdc948eba8bcec87dd32bd98-0-18\" class=\"displacy-label\" startOffset=\"50%\" side=\"left\" fill=\"currentColor\" text-anchor=\"middle\">pobj</textPath>\n",
              "    </text>\n",
              "    <path class=\"displacy-arrowhead\" d=\"M3180.0,704.0 L3188.0,692.0 3172.0,692.0\" fill=\"currentColor\"/>\n",
              "</g>\n",
              "\n",
              "<g class=\"displacy-arrow\">\n",
              "    <path class=\"displacy-arc\" id=\"arrow-79174d05cdc948eba8bcec87dd32bd98-0-19\" stroke-width=\"2px\" d=\"M3395,702.0 C3395,614.5 3515.0,614.5 3515.0,702.0\" fill=\"none\" stroke=\"currentColor\"/>\n",
              "    <text dy=\"1.25em\" style=\"font-size: 0.8em; letter-spacing: 1px\">\n",
              "        <textPath xlink:href=\"#arrow-79174d05cdc948eba8bcec87dd32bd98-0-19\" class=\"displacy-label\" startOffset=\"50%\" side=\"left\" fill=\"currentColor\" text-anchor=\"middle\">compound</textPath>\n",
              "    </text>\n",
              "    <path class=\"displacy-arrowhead\" d=\"M3395,704.0 L3387,692.0 3403,692.0\" fill=\"currentColor\"/>\n",
              "</g>\n",
              "\n",
              "<g class=\"displacy-arrow\">\n",
              "    <path class=\"displacy-arc\" id=\"arrow-79174d05cdc948eba8bcec87dd32bd98-0-20\" stroke-width=\"2px\" d=\"M3570,702.0 C3570,527.0 4045.0,527.0 4045.0,702.0\" fill=\"none\" stroke=\"currentColor\"/>\n",
              "    <text dy=\"1.25em\" style=\"font-size: 0.8em; letter-spacing: 1px\">\n",
              "        <textPath xlink:href=\"#arrow-79174d05cdc948eba8bcec87dd32bd98-0-20\" class=\"displacy-label\" startOffset=\"50%\" side=\"left\" fill=\"currentColor\" text-anchor=\"middle\">poss</textPath>\n",
              "    </text>\n",
              "    <path class=\"displacy-arrowhead\" d=\"M3570,704.0 L3562,692.0 3578,692.0\" fill=\"currentColor\"/>\n",
              "</g>\n",
              "\n",
              "<g class=\"displacy-arrow\">\n",
              "    <path class=\"displacy-arc\" id=\"arrow-79174d05cdc948eba8bcec87dd32bd98-0-21\" stroke-width=\"2px\" d=\"M3570,702.0 C3570,614.5 3690.0,614.5 3690.0,702.0\" fill=\"none\" stroke=\"currentColor\"/>\n",
              "    <text dy=\"1.25em\" style=\"font-size: 0.8em; letter-spacing: 1px\">\n",
              "        <textPath xlink:href=\"#arrow-79174d05cdc948eba8bcec87dd32bd98-0-21\" class=\"displacy-label\" startOffset=\"50%\" side=\"left\" fill=\"currentColor\" text-anchor=\"middle\">case</textPath>\n",
              "    </text>\n",
              "    <path class=\"displacy-arrowhead\" d=\"M3690.0,704.0 L3698.0,692.0 3682.0,692.0\" fill=\"currentColor\"/>\n",
              "</g>\n",
              "\n",
              "<g class=\"displacy-arrow\">\n",
              "    <path class=\"displacy-arc\" id=\"arrow-79174d05cdc948eba8bcec87dd32bd98-0-22\" stroke-width=\"2px\" d=\"M3920,702.0 C3920,614.5 4040.0,614.5 4040.0,702.0\" fill=\"none\" stroke=\"currentColor\"/>\n",
              "    <text dy=\"1.25em\" style=\"font-size: 0.8em; letter-spacing: 1px\">\n",
              "        <textPath xlink:href=\"#arrow-79174d05cdc948eba8bcec87dd32bd98-0-22\" class=\"displacy-label\" startOffset=\"50%\" side=\"left\" fill=\"currentColor\" text-anchor=\"middle\">amod</textPath>\n",
              "    </text>\n",
              "    <path class=\"displacy-arrowhead\" d=\"M3920,704.0 L3912,692.0 3928,692.0\" fill=\"currentColor\"/>\n",
              "</g>\n",
              "\n",
              "<g class=\"displacy-arrow\">\n",
              "    <path class=\"displacy-arc\" id=\"arrow-79174d05cdc948eba8bcec87dd32bd98-0-23\" stroke-width=\"2px\" d=\"M4095,702.0 C4095,527.0 4395.0,527.0 4395.0,702.0\" fill=\"none\" stroke=\"currentColor\"/>\n",
              "    <text dy=\"1.25em\" style=\"font-size: 0.8em; letter-spacing: 1px\">\n",
              "        <textPath xlink:href=\"#arrow-79174d05cdc948eba8bcec87dd32bd98-0-23\" class=\"displacy-label\" startOffset=\"50%\" side=\"left\" fill=\"currentColor\" text-anchor=\"middle\">nsubj</textPath>\n",
              "    </text>\n",
              "    <path class=\"displacy-arrowhead\" d=\"M4095,704.0 L4087,692.0 4103,692.0\" fill=\"currentColor\"/>\n",
              "</g>\n",
              "\n",
              "<g class=\"displacy-arrow\">\n",
              "    <path class=\"displacy-arc\" id=\"arrow-79174d05cdc948eba8bcec87dd32bd98-0-24\" stroke-width=\"2px\" d=\"M4270,702.0 C4270,614.5 4390.0,614.5 4390.0,702.0\" fill=\"none\" stroke=\"currentColor\"/>\n",
              "    <text dy=\"1.25em\" style=\"font-size: 0.8em; letter-spacing: 1px\">\n",
              "        <textPath xlink:href=\"#arrow-79174d05cdc948eba8bcec87dd32bd98-0-24\" class=\"displacy-label\" startOffset=\"50%\" side=\"left\" fill=\"currentColor\" text-anchor=\"middle\">advmod</textPath>\n",
              "    </text>\n",
              "    <path class=\"displacy-arrowhead\" d=\"M4270,704.0 L4262,692.0 4278,692.0\" fill=\"currentColor\"/>\n",
              "</g>\n",
              "\n",
              "<g class=\"displacy-arrow\">\n",
              "    <path class=\"displacy-arc\" id=\"arrow-79174d05cdc948eba8bcec87dd32bd98-0-25\" stroke-width=\"2px\" d=\"M245,702.0 C245,177.0 4415.0,177.0 4415.0,702.0\" fill=\"none\" stroke=\"currentColor\"/>\n",
              "    <text dy=\"1.25em\" style=\"font-size: 0.8em; letter-spacing: 1px\">\n",
              "        <textPath xlink:href=\"#arrow-79174d05cdc948eba8bcec87dd32bd98-0-25\" class=\"displacy-label\" startOffset=\"50%\" side=\"left\" fill=\"currentColor\" text-anchor=\"middle\">conj</textPath>\n",
              "    </text>\n",
              "    <path class=\"displacy-arrowhead\" d=\"M4415.0,704.0 L4423.0,692.0 4407.0,692.0\" fill=\"currentColor\"/>\n",
              "</g>\n",
              "\n",
              "<g class=\"displacy-arrow\">\n",
              "    <path class=\"displacy-arc\" id=\"arrow-79174d05cdc948eba8bcec87dd32bd98-0-26\" stroke-width=\"2px\" d=\"M4445,702.0 C4445,614.5 4565.0,614.5 4565.0,702.0\" fill=\"none\" stroke=\"currentColor\"/>\n",
              "    <text dy=\"1.25em\" style=\"font-size: 0.8em; letter-spacing: 1px\">\n",
              "        <textPath xlink:href=\"#arrow-79174d05cdc948eba8bcec87dd32bd98-0-26\" class=\"displacy-label\" startOffset=\"50%\" side=\"left\" fill=\"currentColor\" text-anchor=\"middle\">prep</textPath>\n",
              "    </text>\n",
              "    <path class=\"displacy-arrowhead\" d=\"M4565.0,704.0 L4573.0,692.0 4557.0,692.0\" fill=\"currentColor\"/>\n",
              "</g>\n",
              "\n",
              "<g class=\"displacy-arrow\">\n",
              "    <path class=\"displacy-arc\" id=\"arrow-79174d05cdc948eba8bcec87dd32bd98-0-27\" stroke-width=\"2px\" d=\"M4620,702.0 C4620,614.5 4740.0,614.5 4740.0,702.0\" fill=\"none\" stroke=\"currentColor\"/>\n",
              "    <text dy=\"1.25em\" style=\"font-size: 0.8em; letter-spacing: 1px\">\n",
              "        <textPath xlink:href=\"#arrow-79174d05cdc948eba8bcec87dd32bd98-0-27\" class=\"displacy-label\" startOffset=\"50%\" side=\"left\" fill=\"currentColor\" text-anchor=\"middle\">pcomp</textPath>\n",
              "    </text>\n",
              "    <path class=\"displacy-arrowhead\" d=\"M4740.0,704.0 L4748.0,692.0 4732.0,692.0\" fill=\"currentColor\"/>\n",
              "</g>\n",
              "\n",
              "<g class=\"displacy-arrow\">\n",
              "    <path class=\"displacy-arc\" id=\"arrow-79174d05cdc948eba8bcec87dd32bd98-0-28\" stroke-width=\"2px\" d=\"M4970,702.0 C4970,614.5 5090.0,614.5 5090.0,702.0\" fill=\"none\" stroke=\"currentColor\"/>\n",
              "    <text dy=\"1.25em\" style=\"font-size: 0.8em; letter-spacing: 1px\">\n",
              "        <textPath xlink:href=\"#arrow-79174d05cdc948eba8bcec87dd32bd98-0-28\" class=\"displacy-label\" startOffset=\"50%\" side=\"left\" fill=\"currentColor\" text-anchor=\"middle\">aux</textPath>\n",
              "    </text>\n",
              "    <path class=\"displacy-arrowhead\" d=\"M4970,704.0 L4962,692.0 4978,692.0\" fill=\"currentColor\"/>\n",
              "</g>\n",
              "\n",
              "<g class=\"displacy-arrow\">\n",
              "    <path class=\"displacy-arc\" id=\"arrow-79174d05cdc948eba8bcec87dd32bd98-0-29\" stroke-width=\"2px\" d=\"M5320,702.0 C5320,527.0 5620.0,527.0 5620.0,702.0\" fill=\"none\" stroke=\"currentColor\"/>\n",
              "    <text dy=\"1.25em\" style=\"font-size: 0.8em; letter-spacing: 1px\">\n",
              "        <textPath xlink:href=\"#arrow-79174d05cdc948eba8bcec87dd32bd98-0-29\" class=\"displacy-label\" startOffset=\"50%\" side=\"left\" fill=\"currentColor\" text-anchor=\"middle\">det</textPath>\n",
              "    </text>\n",
              "    <path class=\"displacy-arrowhead\" d=\"M5320,704.0 L5312,692.0 5328,692.0\" fill=\"currentColor\"/>\n",
              "</g>\n",
              "\n",
              "<g class=\"displacy-arrow\">\n",
              "    <path class=\"displacy-arc\" id=\"arrow-79174d05cdc948eba8bcec87dd32bd98-0-30\" stroke-width=\"2px\" d=\"M5495,702.0 C5495,614.5 5615.0,614.5 5615.0,702.0\" fill=\"none\" stroke=\"currentColor\"/>\n",
              "    <text dy=\"1.25em\" style=\"font-size: 0.8em; letter-spacing: 1px\">\n",
              "        <textPath xlink:href=\"#arrow-79174d05cdc948eba8bcec87dd32bd98-0-30\" class=\"displacy-label\" startOffset=\"50%\" side=\"left\" fill=\"currentColor\" text-anchor=\"middle\">amod</textPath>\n",
              "    </text>\n",
              "    <path class=\"displacy-arrowhead\" d=\"M5495,704.0 L5487,692.0 5503,692.0\" fill=\"currentColor\"/>\n",
              "</g>\n",
              "\n",
              "<g class=\"displacy-arrow\">\n",
              "    <path class=\"displacy-arc\" id=\"arrow-79174d05cdc948eba8bcec87dd32bd98-0-31\" stroke-width=\"2px\" d=\"M5145,702.0 C5145,439.5 5625.0,439.5 5625.0,702.0\" fill=\"none\" stroke=\"currentColor\"/>\n",
              "    <text dy=\"1.25em\" style=\"font-size: 0.8em; letter-spacing: 1px\">\n",
              "        <textPath xlink:href=\"#arrow-79174d05cdc948eba8bcec87dd32bd98-0-31\" class=\"displacy-label\" startOffset=\"50%\" side=\"left\" fill=\"currentColor\" text-anchor=\"middle\">attr</textPath>\n",
              "    </text>\n",
              "    <path class=\"displacy-arrowhead\" d=\"M5625.0,704.0 L5633.0,692.0 5617.0,692.0\" fill=\"currentColor\"/>\n",
              "</g>\n",
              "\n",
              "<g class=\"displacy-arrow\">\n",
              "    <path class=\"displacy-arc\" id=\"arrow-79174d05cdc948eba8bcec87dd32bd98-0-32\" stroke-width=\"2px\" d=\"M5670,702.0 C5670,614.5 5790.0,614.5 5790.0,702.0\" fill=\"none\" stroke=\"currentColor\"/>\n",
              "    <text dy=\"1.25em\" style=\"font-size: 0.8em; letter-spacing: 1px\">\n",
              "        <textPath xlink:href=\"#arrow-79174d05cdc948eba8bcec87dd32bd98-0-32\" class=\"displacy-label\" startOffset=\"50%\" side=\"left\" fill=\"currentColor\" text-anchor=\"middle\">prep</textPath>\n",
              "    </text>\n",
              "    <path class=\"displacy-arrowhead\" d=\"M5790.0,704.0 L5798.0,692.0 5782.0,692.0\" fill=\"currentColor\"/>\n",
              "</g>\n",
              "\n",
              "<g class=\"displacy-arrow\">\n",
              "    <path class=\"displacy-arc\" id=\"arrow-79174d05cdc948eba8bcec87dd32bd98-0-33\" stroke-width=\"2px\" d=\"M6020,702.0 C6020,614.5 6140.0,614.5 6140.0,702.0\" fill=\"none\" stroke=\"currentColor\"/>\n",
              "    <text dy=\"1.25em\" style=\"font-size: 0.8em; letter-spacing: 1px\">\n",
              "        <textPath xlink:href=\"#arrow-79174d05cdc948eba8bcec87dd32bd98-0-33\" class=\"displacy-label\" startOffset=\"50%\" side=\"left\" fill=\"currentColor\" text-anchor=\"middle\">amod</textPath>\n",
              "    </text>\n",
              "    <path class=\"displacy-arrowhead\" d=\"M6020,704.0 L6012,692.0 6028,692.0\" fill=\"currentColor\"/>\n",
              "</g>\n",
              "\n",
              "<g class=\"displacy-arrow\">\n",
              "    <path class=\"displacy-arc\" id=\"arrow-79174d05cdc948eba8bcec87dd32bd98-0-34\" stroke-width=\"2px\" d=\"M5845,702.0 C5845,527.0 6145.0,527.0 6145.0,702.0\" fill=\"none\" stroke=\"currentColor\"/>\n",
              "    <text dy=\"1.25em\" style=\"font-size: 0.8em; letter-spacing: 1px\">\n",
              "        <textPath xlink:href=\"#arrow-79174d05cdc948eba8bcec87dd32bd98-0-34\" class=\"displacy-label\" startOffset=\"50%\" side=\"left\" fill=\"currentColor\" text-anchor=\"middle\">pobj</textPath>\n",
              "    </text>\n",
              "    <path class=\"displacy-arrowhead\" d=\"M6145.0,704.0 L6153.0,692.0 6137.0,692.0\" fill=\"currentColor\"/>\n",
              "</g>\n",
              "\n",
              "<g class=\"displacy-arrow\">\n",
              "    <path class=\"displacy-arc\" id=\"arrow-79174d05cdc948eba8bcec87dd32bd98-0-35\" stroke-width=\"2px\" d=\"M6195,702.0 C6195,614.5 6315.0,614.5 6315.0,702.0\" fill=\"none\" stroke=\"currentColor\"/>\n",
              "    <text dy=\"1.25em\" style=\"font-size: 0.8em; letter-spacing: 1px\">\n",
              "        <textPath xlink:href=\"#arrow-79174d05cdc948eba8bcec87dd32bd98-0-35\" class=\"displacy-label\" startOffset=\"50%\" side=\"left\" fill=\"currentColor\" text-anchor=\"middle\">acl</textPath>\n",
              "    </text>\n",
              "    <path class=\"displacy-arrowhead\" d=\"M6315.0,704.0 L6323.0,692.0 6307.0,692.0\" fill=\"currentColor\"/>\n",
              "</g>\n",
              "\n",
              "<g class=\"displacy-arrow\">\n",
              "    <path class=\"displacy-arc\" id=\"arrow-79174d05cdc948eba8bcec87dd32bd98-0-36\" stroke-width=\"2px\" d=\"M6545,702.0 C6545,527.0 6845.0,527.0 6845.0,702.0\" fill=\"none\" stroke=\"currentColor\"/>\n",
              "    <text dy=\"1.25em\" style=\"font-size: 0.8em; letter-spacing: 1px\">\n",
              "        <textPath xlink:href=\"#arrow-79174d05cdc948eba8bcec87dd32bd98-0-36\" class=\"displacy-label\" startOffset=\"50%\" side=\"left\" fill=\"currentColor\" text-anchor=\"middle\">advmod</textPath>\n",
              "    </text>\n",
              "    <path class=\"displacy-arrowhead\" d=\"M6545,704.0 L6537,692.0 6553,692.0\" fill=\"currentColor\"/>\n",
              "</g>\n",
              "\n",
              "<g class=\"displacy-arrow\">\n",
              "    <path class=\"displacy-arc\" id=\"arrow-79174d05cdc948eba8bcec87dd32bd98-0-37\" stroke-width=\"2px\" d=\"M6720,702.0 C6720,614.5 6840.0,614.5 6840.0,702.0\" fill=\"none\" stroke=\"currentColor\"/>\n",
              "    <text dy=\"1.25em\" style=\"font-size: 0.8em; letter-spacing: 1px\">\n",
              "        <textPath xlink:href=\"#arrow-79174d05cdc948eba8bcec87dd32bd98-0-37\" class=\"displacy-label\" startOffset=\"50%\" side=\"left\" fill=\"currentColor\" text-anchor=\"middle\">auxpass</textPath>\n",
              "    </text>\n",
              "    <path class=\"displacy-arrowhead\" d=\"M6720,704.0 L6712,692.0 6728,692.0\" fill=\"currentColor\"/>\n",
              "</g>\n",
              "\n",
              "<g class=\"displacy-arrow\">\n",
              "    <path class=\"displacy-arc\" id=\"arrow-79174d05cdc948eba8bcec87dd32bd98-0-38\" stroke-width=\"2px\" d=\"M5145,702.0 C5145,352.0 6855.0,352.0 6855.0,702.0\" fill=\"none\" stroke=\"currentColor\"/>\n",
              "    <text dy=\"1.25em\" style=\"font-size: 0.8em; letter-spacing: 1px\">\n",
              "        <textPath xlink:href=\"#arrow-79174d05cdc948eba8bcec87dd32bd98-0-38\" class=\"displacy-label\" startOffset=\"50%\" side=\"left\" fill=\"currentColor\" text-anchor=\"middle\">advcl</textPath>\n",
              "    </text>\n",
              "    <path class=\"displacy-arrowhead\" d=\"M6855.0,704.0 L6863.0,692.0 6847.0,692.0\" fill=\"currentColor\"/>\n",
              "</g>\n",
              "\n",
              "<g class=\"displacy-arrow\">\n",
              "    <path class=\"displacy-arc\" id=\"arrow-79174d05cdc948eba8bcec87dd32bd98-0-39\" stroke-width=\"2px\" d=\"M7070,702.0 C7070,89.5 10720.0,89.5 10720.0,702.0\" fill=\"none\" stroke=\"currentColor\"/>\n",
              "    <text dy=\"1.25em\" style=\"font-size: 0.8em; letter-spacing: 1px\">\n",
              "        <textPath xlink:href=\"#arrow-79174d05cdc948eba8bcec87dd32bd98-0-39\" class=\"displacy-label\" startOffset=\"50%\" side=\"left\" fill=\"currentColor\" text-anchor=\"middle\">advmod</textPath>\n",
              "    </text>\n",
              "    <path class=\"displacy-arrowhead\" d=\"M7070,704.0 L7062,692.0 7078,692.0\" fill=\"currentColor\"/>\n",
              "</g>\n",
              "\n",
              "<g class=\"displacy-arrow\">\n",
              "    <path class=\"displacy-arc\" id=\"arrow-79174d05cdc948eba8bcec87dd32bd98-0-40\" stroke-width=\"2px\" d=\"M7245,702.0 C7245,439.5 7725.0,439.5 7725.0,702.0\" fill=\"none\" stroke=\"currentColor\"/>\n",
              "    <text dy=\"1.25em\" style=\"font-size: 0.8em; letter-spacing: 1px\">\n",
              "        <textPath xlink:href=\"#arrow-79174d05cdc948eba8bcec87dd32bd98-0-40\" class=\"displacy-label\" startOffset=\"50%\" side=\"left\" fill=\"currentColor\" text-anchor=\"middle\">det</textPath>\n",
              "    </text>\n",
              "    <path class=\"displacy-arrowhead\" d=\"M7245,704.0 L7237,692.0 7253,692.0\" fill=\"currentColor\"/>\n",
              "</g>\n",
              "\n",
              "<g class=\"displacy-arrow\">\n",
              "    <path class=\"displacy-arc\" id=\"arrow-79174d05cdc948eba8bcec87dd32bd98-0-41\" stroke-width=\"2px\" d=\"M7420,702.0 C7420,527.0 7720.0,527.0 7720.0,702.0\" fill=\"none\" stroke=\"currentColor\"/>\n",
              "    <text dy=\"1.25em\" style=\"font-size: 0.8em; letter-spacing: 1px\">\n",
              "        <textPath xlink:href=\"#arrow-79174d05cdc948eba8bcec87dd32bd98-0-41\" class=\"displacy-label\" startOffset=\"50%\" side=\"left\" fill=\"currentColor\" text-anchor=\"middle\">amod</textPath>\n",
              "    </text>\n",
              "    <path class=\"displacy-arrowhead\" d=\"M7420,704.0 L7412,692.0 7428,692.0\" fill=\"currentColor\"/>\n",
              "</g>\n",
              "\n",
              "<g class=\"displacy-arrow\">\n",
              "    <path class=\"displacy-arc\" id=\"arrow-79174d05cdc948eba8bcec87dd32bd98-0-42\" stroke-width=\"2px\" d=\"M7595,702.0 C7595,614.5 7715.0,614.5 7715.0,702.0\" fill=\"none\" stroke=\"currentColor\"/>\n",
              "    <text dy=\"1.25em\" style=\"font-size: 0.8em; letter-spacing: 1px\">\n",
              "        <textPath xlink:href=\"#arrow-79174d05cdc948eba8bcec87dd32bd98-0-42\" class=\"displacy-label\" startOffset=\"50%\" side=\"left\" fill=\"currentColor\" text-anchor=\"middle\">compound</textPath>\n",
              "    </text>\n",
              "    <path class=\"displacy-arrowhead\" d=\"M7595,704.0 L7587,692.0 7603,692.0\" fill=\"currentColor\"/>\n",
              "</g>\n",
              "\n",
              "<g class=\"displacy-arrow\">\n",
              "    <path class=\"displacy-arc\" id=\"arrow-79174d05cdc948eba8bcec87dd32bd98-0-43\" stroke-width=\"2px\" d=\"M7770,702.0 C7770,177.0 10715.0,177.0 10715.0,702.0\" fill=\"none\" stroke=\"currentColor\"/>\n",
              "    <text dy=\"1.25em\" style=\"font-size: 0.8em; letter-spacing: 1px\">\n",
              "        <textPath xlink:href=\"#arrow-79174d05cdc948eba8bcec87dd32bd98-0-43\" class=\"displacy-label\" startOffset=\"50%\" side=\"left\" fill=\"currentColor\" text-anchor=\"middle\">nsubj</textPath>\n",
              "    </text>\n",
              "    <path class=\"displacy-arrowhead\" d=\"M7770,704.0 L7762,692.0 7778,692.0\" fill=\"currentColor\"/>\n",
              "</g>\n",
              "\n",
              "<g class=\"displacy-arrow\">\n",
              "    <path class=\"displacy-arc\" id=\"arrow-79174d05cdc948eba8bcec87dd32bd98-0-44\" stroke-width=\"2px\" d=\"M7945,702.0 C7945,439.5 8425.0,439.5 8425.0,702.0\" fill=\"none\" stroke=\"currentColor\"/>\n",
              "    <text dy=\"1.25em\" style=\"font-size: 0.8em; letter-spacing: 1px\">\n",
              "        <textPath xlink:href=\"#arrow-79174d05cdc948eba8bcec87dd32bd98-0-44\" class=\"displacy-label\" startOffset=\"50%\" side=\"left\" fill=\"currentColor\" text-anchor=\"middle\">advmod</textPath>\n",
              "    </text>\n",
              "    <path class=\"displacy-arrowhead\" d=\"M7945,704.0 L7937,692.0 7953,692.0\" fill=\"currentColor\"/>\n",
              "</g>\n",
              "\n",
              "<g class=\"displacy-arrow\">\n",
              "    <path class=\"displacy-arc\" id=\"arrow-79174d05cdc948eba8bcec87dd32bd98-0-45\" stroke-width=\"2px\" d=\"M8120,702.0 C8120,527.0 8420.0,527.0 8420.0,702.0\" fill=\"none\" stroke=\"currentColor\"/>\n",
              "    <text dy=\"1.25em\" style=\"font-size: 0.8em; letter-spacing: 1px\">\n",
              "        <textPath xlink:href=\"#arrow-79174d05cdc948eba8bcec87dd32bd98-0-45\" class=\"displacy-label\" startOffset=\"50%\" side=\"left\" fill=\"currentColor\" text-anchor=\"middle\">predet</textPath>\n",
              "    </text>\n",
              "    <path class=\"displacy-arrowhead\" d=\"M8120,704.0 L8112,692.0 8128,692.0\" fill=\"currentColor\"/>\n",
              "</g>\n",
              "\n",
              "<g class=\"displacy-arrow\">\n",
              "    <path class=\"displacy-arc\" id=\"arrow-79174d05cdc948eba8bcec87dd32bd98-0-46\" stroke-width=\"2px\" d=\"M8295,702.0 C8295,614.5 8415.0,614.5 8415.0,702.0\" fill=\"none\" stroke=\"currentColor\"/>\n",
              "    <text dy=\"1.25em\" style=\"font-size: 0.8em; letter-spacing: 1px\">\n",
              "        <textPath xlink:href=\"#arrow-79174d05cdc948eba8bcec87dd32bd98-0-46\" class=\"displacy-label\" startOffset=\"50%\" side=\"left\" fill=\"currentColor\" text-anchor=\"middle\">det</textPath>\n",
              "    </text>\n",
              "    <path class=\"displacy-arrowhead\" d=\"M8295,704.0 L8287,692.0 8303,692.0\" fill=\"currentColor\"/>\n",
              "</g>\n",
              "\n",
              "<g class=\"displacy-arrow\">\n",
              "    <path class=\"displacy-arc\" id=\"arrow-79174d05cdc948eba8bcec87dd32bd98-0-47\" stroke-width=\"2px\" d=\"M7770,702.0 C7770,352.0 8430.0,352.0 8430.0,702.0\" fill=\"none\" stroke=\"currentColor\"/>\n",
              "    <text dy=\"1.25em\" style=\"font-size: 0.8em; letter-spacing: 1px\">\n",
              "        <textPath xlink:href=\"#arrow-79174d05cdc948eba8bcec87dd32bd98-0-47\" class=\"displacy-label\" startOffset=\"50%\" side=\"left\" fill=\"currentColor\" text-anchor=\"middle\">relcl</textPath>\n",
              "    </text>\n",
              "    <path class=\"displacy-arrowhead\" d=\"M8430.0,704.0 L8438.0,692.0 8422.0,692.0\" fill=\"currentColor\"/>\n",
              "</g>\n",
              "\n",
              "<g class=\"displacy-arrow\">\n",
              "    <path class=\"displacy-arc\" id=\"arrow-79174d05cdc948eba8bcec87dd32bd98-0-48\" stroke-width=\"2px\" d=\"M8470,702.0 C8470,614.5 8590.0,614.5 8590.0,702.0\" fill=\"none\" stroke=\"currentColor\"/>\n",
              "    <text dy=\"1.25em\" style=\"font-size: 0.8em; letter-spacing: 1px\">\n",
              "        <textPath xlink:href=\"#arrow-79174d05cdc948eba8bcec87dd32bd98-0-48\" class=\"displacy-label\" startOffset=\"50%\" side=\"left\" fill=\"currentColor\" text-anchor=\"middle\">prep</textPath>\n",
              "    </text>\n",
              "    <path class=\"displacy-arrowhead\" d=\"M8590.0,704.0 L8598.0,692.0 8582.0,692.0\" fill=\"currentColor\"/>\n",
              "</g>\n",
              "\n",
              "<g class=\"displacy-arrow\">\n",
              "    <path class=\"displacy-arc\" id=\"arrow-79174d05cdc948eba8bcec87dd32bd98-0-49\" stroke-width=\"2px\" d=\"M8820,702.0 C8820,527.0 9120.0,527.0 9120.0,702.0\" fill=\"none\" stroke=\"currentColor\"/>\n",
              "    <text dy=\"1.25em\" style=\"font-size: 0.8em; letter-spacing: 1px\">\n",
              "        <textPath xlink:href=\"#arrow-79174d05cdc948eba8bcec87dd32bd98-0-49\" class=\"displacy-label\" startOffset=\"50%\" side=\"left\" fill=\"currentColor\" text-anchor=\"middle\">poss</textPath>\n",
              "    </text>\n",
              "    <path class=\"displacy-arrowhead\" d=\"M8820,704.0 L8812,692.0 8828,692.0\" fill=\"currentColor\"/>\n",
              "</g>\n",
              "\n",
              "<g class=\"displacy-arrow\">\n",
              "    <path class=\"displacy-arc\" id=\"arrow-79174d05cdc948eba8bcec87dd32bd98-0-50\" stroke-width=\"2px\" d=\"M8995,702.0 C8995,614.5 9115.0,614.5 9115.0,702.0\" fill=\"none\" stroke=\"currentColor\"/>\n",
              "    <text dy=\"1.25em\" style=\"font-size: 0.8em; letter-spacing: 1px\">\n",
              "        <textPath xlink:href=\"#arrow-79174d05cdc948eba8bcec87dd32bd98-0-50\" class=\"displacy-label\" startOffset=\"50%\" side=\"left\" fill=\"currentColor\" text-anchor=\"middle\">amod</textPath>\n",
              "    </text>\n",
              "    <path class=\"displacy-arrowhead\" d=\"M8995,704.0 L8987,692.0 9003,692.0\" fill=\"currentColor\"/>\n",
              "</g>\n",
              "\n",
              "<g class=\"displacy-arrow\">\n",
              "    <path class=\"displacy-arc\" id=\"arrow-79174d05cdc948eba8bcec87dd32bd98-0-51\" stroke-width=\"2px\" d=\"M8645,702.0 C8645,439.5 9125.0,439.5 9125.0,702.0\" fill=\"none\" stroke=\"currentColor\"/>\n",
              "    <text dy=\"1.25em\" style=\"font-size: 0.8em; letter-spacing: 1px\">\n",
              "        <textPath xlink:href=\"#arrow-79174d05cdc948eba8bcec87dd32bd98-0-51\" class=\"displacy-label\" startOffset=\"50%\" side=\"left\" fill=\"currentColor\" text-anchor=\"middle\">pobj</textPath>\n",
              "    </text>\n",
              "    <path class=\"displacy-arrowhead\" d=\"M9125.0,704.0 L9133.0,692.0 9117.0,692.0\" fill=\"currentColor\"/>\n",
              "</g>\n",
              "\n",
              "<g class=\"displacy-arrow\">\n",
              "    <path class=\"displacy-arc\" id=\"arrow-79174d05cdc948eba8bcec87dd32bd98-0-52\" stroke-width=\"2px\" d=\"M9345,702.0 C9345,614.5 9465.0,614.5 9465.0,702.0\" fill=\"none\" stroke=\"currentColor\"/>\n",
              "    <text dy=\"1.25em\" style=\"font-size: 0.8em; letter-spacing: 1px\">\n",
              "        <textPath xlink:href=\"#arrow-79174d05cdc948eba8bcec87dd32bd98-0-52\" class=\"displacy-label\" startOffset=\"50%\" side=\"left\" fill=\"currentColor\" text-anchor=\"middle\">aux</textPath>\n",
              "    </text>\n",
              "    <path class=\"displacy-arrowhead\" d=\"M9345,704.0 L9337,692.0 9353,692.0\" fill=\"currentColor\"/>\n",
              "</g>\n",
              "\n",
              "<g class=\"displacy-arrow\">\n",
              "    <path class=\"displacy-arc\" id=\"arrow-79174d05cdc948eba8bcec87dd32bd98-0-53\" stroke-width=\"2px\" d=\"M9520,702.0 C9520,264.5 10710.0,264.5 10710.0,702.0\" fill=\"none\" stroke=\"currentColor\"/>\n",
              "    <text dy=\"1.25em\" style=\"font-size: 0.8em; letter-spacing: 1px\">\n",
              "        <textPath xlink:href=\"#arrow-79174d05cdc948eba8bcec87dd32bd98-0-53\" class=\"displacy-label\" startOffset=\"50%\" side=\"left\" fill=\"currentColor\" text-anchor=\"middle\">advcl</textPath>\n",
              "    </text>\n",
              "    <path class=\"displacy-arrowhead\" d=\"M9520,704.0 L9512,692.0 9528,692.0\" fill=\"currentColor\"/>\n",
              "</g>\n",
              "\n",
              "<g class=\"displacy-arrow\">\n",
              "    <path class=\"displacy-arc\" id=\"arrow-79174d05cdc948eba8bcec87dd32bd98-0-54\" stroke-width=\"2px\" d=\"M9520,702.0 C9520,614.5 9640.0,614.5 9640.0,702.0\" fill=\"none\" stroke=\"currentColor\"/>\n",
              "    <text dy=\"1.25em\" style=\"font-size: 0.8em; letter-spacing: 1px\">\n",
              "        <textPath xlink:href=\"#arrow-79174d05cdc948eba8bcec87dd32bd98-0-54\" class=\"displacy-label\" startOffset=\"50%\" side=\"left\" fill=\"currentColor\" text-anchor=\"middle\">prep</textPath>\n",
              "    </text>\n",
              "    <path class=\"displacy-arrowhead\" d=\"M9640.0,704.0 L9648.0,692.0 9632.0,692.0\" fill=\"currentColor\"/>\n",
              "</g>\n",
              "\n",
              "<g class=\"displacy-arrow\">\n",
              "    <path class=\"displacy-arc\" id=\"arrow-79174d05cdc948eba8bcec87dd32bd98-0-55\" stroke-width=\"2px\" d=\"M9695,702.0 C9695,614.5 9815.0,614.5 9815.0,702.0\" fill=\"none\" stroke=\"currentColor\"/>\n",
              "    <text dy=\"1.25em\" style=\"font-size: 0.8em; letter-spacing: 1px\">\n",
              "        <textPath xlink:href=\"#arrow-79174d05cdc948eba8bcec87dd32bd98-0-55\" class=\"displacy-label\" startOffset=\"50%\" side=\"left\" fill=\"currentColor\" text-anchor=\"middle\">pobj</textPath>\n",
              "    </text>\n",
              "    <path class=\"displacy-arrowhead\" d=\"M9815.0,704.0 L9823.0,692.0 9807.0,692.0\" fill=\"currentColor\"/>\n",
              "</g>\n",
              "\n",
              "<g class=\"displacy-arrow\">\n",
              "    <path class=\"displacy-arc\" id=\"arrow-79174d05cdc948eba8bcec87dd32bd98-0-56\" stroke-width=\"2px\" d=\"M10045,702.0 C10045,439.5 10525.0,439.5 10525.0,702.0\" fill=\"none\" stroke=\"currentColor\"/>\n",
              "    <text dy=\"1.25em\" style=\"font-size: 0.8em; letter-spacing: 1px\">\n",
              "        <textPath xlink:href=\"#arrow-79174d05cdc948eba8bcec87dd32bd98-0-56\" class=\"displacy-label\" startOffset=\"50%\" side=\"left\" fill=\"currentColor\" text-anchor=\"middle\">amod</textPath>\n",
              "    </text>\n",
              "    <path class=\"displacy-arrowhead\" d=\"M10045,704.0 L10037,692.0 10053,692.0\" fill=\"currentColor\"/>\n",
              "</g>\n",
              "\n",
              "<g class=\"displacy-arrow\">\n",
              "    <path class=\"displacy-arc\" id=\"arrow-79174d05cdc948eba8bcec87dd32bd98-0-57\" stroke-width=\"2px\" d=\"M10220,702.0 C10220,527.0 10520.0,527.0 10520.0,702.0\" fill=\"none\" stroke=\"currentColor\"/>\n",
              "    <text dy=\"1.25em\" style=\"font-size: 0.8em; letter-spacing: 1px\">\n",
              "        <textPath xlink:href=\"#arrow-79174d05cdc948eba8bcec87dd32bd98-0-57\" class=\"displacy-label\" startOffset=\"50%\" side=\"left\" fill=\"currentColor\" text-anchor=\"middle\">amod</textPath>\n",
              "    </text>\n",
              "    <path class=\"displacy-arrowhead\" d=\"M10220,704.0 L10212,692.0 10228,692.0\" fill=\"currentColor\"/>\n",
              "</g>\n",
              "\n",
              "<g class=\"displacy-arrow\">\n",
              "    <path class=\"displacy-arc\" id=\"arrow-79174d05cdc948eba8bcec87dd32bd98-0-58\" stroke-width=\"2px\" d=\"M10395,702.0 C10395,614.5 10515.0,614.5 10515.0,702.0\" fill=\"none\" stroke=\"currentColor\"/>\n",
              "    <text dy=\"1.25em\" style=\"font-size: 0.8em; letter-spacing: 1px\">\n",
              "        <textPath xlink:href=\"#arrow-79174d05cdc948eba8bcec87dd32bd98-0-58\" class=\"displacy-label\" startOffset=\"50%\" side=\"left\" fill=\"currentColor\" text-anchor=\"middle\">amod</textPath>\n",
              "    </text>\n",
              "    <path class=\"displacy-arrowhead\" d=\"M10395,704.0 L10387,692.0 10403,692.0\" fill=\"currentColor\"/>\n",
              "</g>\n",
              "\n",
              "<g class=\"displacy-arrow\">\n",
              "    <path class=\"displacy-arc\" id=\"arrow-79174d05cdc948eba8bcec87dd32bd98-0-59\" stroke-width=\"2px\" d=\"M9695,702.0 C9695,352.0 10530.0,352.0 10530.0,702.0\" fill=\"none\" stroke=\"currentColor\"/>\n",
              "    <text dy=\"1.25em\" style=\"font-size: 0.8em; letter-spacing: 1px\">\n",
              "        <textPath xlink:href=\"#arrow-79174d05cdc948eba8bcec87dd32bd98-0-59\" class=\"displacy-label\" startOffset=\"50%\" side=\"left\" fill=\"currentColor\" text-anchor=\"middle\">pobj</textPath>\n",
              "    </text>\n",
              "    <path class=\"displacy-arrowhead\" d=\"M10530.0,704.0 L10538.0,692.0 10522.0,692.0\" fill=\"currentColor\"/>\n",
              "</g>\n",
              "\n",
              "<g class=\"displacy-arrow\">\n",
              "    <path class=\"displacy-arc\" id=\"arrow-79174d05cdc948eba8bcec87dd32bd98-0-60\" stroke-width=\"2px\" d=\"M6895,702.0 C6895,2.0 10725.0,2.0 10725.0,702.0\" fill=\"none\" stroke=\"currentColor\"/>\n",
              "    <text dy=\"1.25em\" style=\"font-size: 0.8em; letter-spacing: 1px\">\n",
              "        <textPath xlink:href=\"#arrow-79174d05cdc948eba8bcec87dd32bd98-0-60\" class=\"displacy-label\" startOffset=\"50%\" side=\"left\" fill=\"currentColor\" text-anchor=\"middle\">ccomp</textPath>\n",
              "    </text>\n",
              "    <path class=\"displacy-arrowhead\" d=\"M10725.0,704.0 L10733.0,692.0 10717.0,692.0\" fill=\"currentColor\"/>\n",
              "</g>\n",
              "\n",
              "<g class=\"displacy-arrow\">\n",
              "    <path class=\"displacy-arc\" id=\"arrow-79174d05cdc948eba8bcec87dd32bd98-0-61\" stroke-width=\"2px\" d=\"M10920,702.0 C10920,527.0 11395.0,527.0 11395.0,702.0\" fill=\"none\" stroke=\"currentColor\"/>\n",
              "    <text dy=\"1.25em\" style=\"font-size: 0.8em; letter-spacing: 1px\">\n",
              "        <textPath xlink:href=\"#arrow-79174d05cdc948eba8bcec87dd32bd98-0-61\" class=\"displacy-label\" startOffset=\"50%\" side=\"left\" fill=\"currentColor\" text-anchor=\"middle\">det</textPath>\n",
              "    </text>\n",
              "    <path class=\"displacy-arrowhead\" d=\"M10920,704.0 L10912,692.0 10928,692.0\" fill=\"currentColor\"/>\n",
              "</g>\n",
              "\n",
              "<g class=\"displacy-arrow\">\n",
              "    <path class=\"displacy-arc\" id=\"arrow-79174d05cdc948eba8bcec87dd32bd98-0-62\" stroke-width=\"2px\" d=\"M11095,702.0 C11095,614.5 11215.0,614.5 11215.0,702.0\" fill=\"none\" stroke=\"currentColor\"/>\n",
              "    <text dy=\"1.25em\" style=\"font-size: 0.8em; letter-spacing: 1px\">\n",
              "        <textPath xlink:href=\"#arrow-79174d05cdc948eba8bcec87dd32bd98-0-62\" class=\"displacy-label\" startOffset=\"50%\" side=\"left\" fill=\"currentColor\" text-anchor=\"middle\">advmod</textPath>\n",
              "    </text>\n",
              "    <path class=\"displacy-arrowhead\" d=\"M11095,704.0 L11087,692.0 11103,692.0\" fill=\"currentColor\"/>\n",
              "</g>\n",
              "\n",
              "<g class=\"displacy-arrow\">\n",
              "    <path class=\"displacy-arc\" id=\"arrow-79174d05cdc948eba8bcec87dd32bd98-0-63\" stroke-width=\"2px\" d=\"M11270,702.0 C11270,614.5 11390.0,614.5 11390.0,702.0\" fill=\"none\" stroke=\"currentColor\"/>\n",
              "    <text dy=\"1.25em\" style=\"font-size: 0.8em; letter-spacing: 1px\">\n",
              "        <textPath xlink:href=\"#arrow-79174d05cdc948eba8bcec87dd32bd98-0-63\" class=\"displacy-label\" startOffset=\"50%\" side=\"left\" fill=\"currentColor\" text-anchor=\"middle\">amod</textPath>\n",
              "    </text>\n",
              "    <path class=\"displacy-arrowhead\" d=\"M11270,704.0 L11262,692.0 11278,692.0\" fill=\"currentColor\"/>\n",
              "</g>\n",
              "\n",
              "<g class=\"displacy-arrow\">\n",
              "    <path class=\"displacy-arc\" id=\"arrow-79174d05cdc948eba8bcec87dd32bd98-0-64\" stroke-width=\"2px\" d=\"M10745,702.0 C10745,439.5 11400.0,439.5 11400.0,702.0\" fill=\"none\" stroke=\"currentColor\"/>\n",
              "    <text dy=\"1.25em\" style=\"font-size: 0.8em; letter-spacing: 1px\">\n",
              "        <textPath xlink:href=\"#arrow-79174d05cdc948eba8bcec87dd32bd98-0-64\" class=\"displacy-label\" startOffset=\"50%\" side=\"left\" fill=\"currentColor\" text-anchor=\"middle\">attr</textPath>\n",
              "    </text>\n",
              "    <path class=\"displacy-arrowhead\" d=\"M11400.0,704.0 L11408.0,692.0 11392.0,692.0\" fill=\"currentColor\"/>\n",
              "</g>\n",
              "\n",
              "<g class=\"displacy-arrow\">\n",
              "    <path class=\"displacy-arc\" id=\"arrow-79174d05cdc948eba8bcec87dd32bd98-0-65\" stroke-width=\"2px\" d=\"M10745,702.0 C10745,352.0 11580.0,352.0 11580.0,702.0\" fill=\"none\" stroke=\"currentColor\"/>\n",
              "    <text dy=\"1.25em\" style=\"font-size: 0.8em; letter-spacing: 1px\">\n",
              "        <textPath xlink:href=\"#arrow-79174d05cdc948eba8bcec87dd32bd98-0-65\" class=\"displacy-label\" startOffset=\"50%\" side=\"left\" fill=\"currentColor\" text-anchor=\"middle\">cc</textPath>\n",
              "    </text>\n",
              "    <path class=\"displacy-arrowhead\" d=\"M11580.0,704.0 L11588.0,692.0 11572.0,692.0\" fill=\"currentColor\"/>\n",
              "</g>\n",
              "\n",
              "<g class=\"displacy-arrow\">\n",
              "    <path class=\"displacy-arc\" id=\"arrow-79174d05cdc948eba8bcec87dd32bd98-0-66\" stroke-width=\"2px\" d=\"M11795,702.0 C11795,614.5 11915.0,614.5 11915.0,702.0\" fill=\"none\" stroke=\"currentColor\"/>\n",
              "    <text dy=\"1.25em\" style=\"font-size: 0.8em; letter-spacing: 1px\">\n",
              "        <textPath xlink:href=\"#arrow-79174d05cdc948eba8bcec87dd32bd98-0-66\" class=\"displacy-label\" startOffset=\"50%\" side=\"left\" fill=\"currentColor\" text-anchor=\"middle\">amod</textPath>\n",
              "    </text>\n",
              "    <path class=\"displacy-arrowhead\" d=\"M11795,704.0 L11787,692.0 11803,692.0\" fill=\"currentColor\"/>\n",
              "</g>\n",
              "\n",
              "<g class=\"displacy-arrow\">\n",
              "    <path class=\"displacy-arc\" id=\"arrow-79174d05cdc948eba8bcec87dd32bd98-0-67\" stroke-width=\"2px\" d=\"M10745,702.0 C10745,264.5 11935.0,264.5 11935.0,702.0\" fill=\"none\" stroke=\"currentColor\"/>\n",
              "    <text dy=\"1.25em\" style=\"font-size: 0.8em; letter-spacing: 1px\">\n",
              "        <textPath xlink:href=\"#arrow-79174d05cdc948eba8bcec87dd32bd98-0-67\" class=\"displacy-label\" startOffset=\"50%\" side=\"left\" fill=\"currentColor\" text-anchor=\"middle\">conj</textPath>\n",
              "    </text>\n",
              "    <path class=\"displacy-arrowhead\" d=\"M11935.0,704.0 L11943.0,692.0 11927.0,692.0\" fill=\"currentColor\"/>\n",
              "</g>\n",
              "</svg>\n",
              "\n",
              "<svg xmlns=\"http://www.w3.org/2000/svg\" xmlns:xlink=\"http://www.w3.org/1999/xlink\" xml:lang=\"en\" id=\"79174d05cdc948eba8bcec87dd32bd98-1\" class=\"displacy\" width=\"5825\" height=\"574.5\" direction=\"ltr\" style=\"max-width: none; height: 574.5px; color: #000000; background: #ffffff; font-family: Arial; direction: ltr\">\n",
              "<text class=\"displacy-token\" fill=\"currentColor\" text-anchor=\"middle\" y=\"484.5\">\n",
              "    <tspan class=\"displacy-word\" fill=\"currentColor\" x=\"50\">How</tspan>\n",
              "    <tspan class=\"displacy-tag\" dy=\"2em\" fill=\"currentColor\" x=\"50\">SCONJ</tspan>\n",
              "</text>\n",
              "\n",
              "<text class=\"displacy-token\" fill=\"currentColor\" text-anchor=\"middle\" y=\"484.5\">\n",
              "    <tspan class=\"displacy-word\" fill=\"currentColor\" x=\"225\">much</tspan>\n",
              "    <tspan class=\"displacy-tag\" dy=\"2em\" fill=\"currentColor\" x=\"225\">ADV</tspan>\n",
              "</text>\n",
              "\n",
              "<text class=\"displacy-token\" fill=\"currentColor\" text-anchor=\"middle\" y=\"484.5\">\n",
              "    <tspan class=\"displacy-word\" fill=\"currentColor\" x=\"400\">more</tspan>\n",
              "    <tspan class=\"displacy-tag\" dy=\"2em\" fill=\"currentColor\" x=\"400\">ADJ</tspan>\n",
              "</text>\n",
              "\n",
              "<text class=\"displacy-token\" fill=\"currentColor\" text-anchor=\"middle\" y=\"484.5\">\n",
              "    <tspan class=\"displacy-word\" fill=\"currentColor\" x=\"575\">praise</tspan>\n",
              "    <tspan class=\"displacy-tag\" dy=\"2em\" fill=\"currentColor\" x=\"575\">NOUN</tspan>\n",
              "</text>\n",
              "\n",
              "<text class=\"displacy-token\" fill=\"currentColor\" text-anchor=\"middle\" y=\"484.5\">\n",
              "    <tspan class=\"displacy-word\" fill=\"currentColor\" x=\"750\">deserved</tspan>\n",
              "    <tspan class=\"displacy-tag\" dy=\"2em\" fill=\"currentColor\" x=\"750\">VERB</tspan>\n",
              "</text>\n",
              "\n",
              "<text class=\"displacy-token\" fill=\"currentColor\" text-anchor=\"middle\" y=\"484.5\">\n",
              "    <tspan class=\"displacy-word\" fill=\"currentColor\" x=\"925\">thy</tspan>\n",
              "    <tspan class=\"displacy-tag\" dy=\"2em\" fill=\"currentColor\" x=\"925\">PRON</tspan>\n",
              "</text>\n",
              "\n",
              "<text class=\"displacy-token\" fill=\"currentColor\" text-anchor=\"middle\" y=\"484.5\">\n",
              "    <tspan class=\"displacy-word\" fill=\"currentColor\" x=\"1100\">beauty</tspan>\n",
              "    <tspan class=\"displacy-tag\" dy=\"2em\" fill=\"currentColor\" x=\"1100\">NOUN</tspan>\n",
              "</text>\n",
              "\n",
              "<text class=\"displacy-token\" fill=\"currentColor\" text-anchor=\"middle\" y=\"484.5\">\n",
              "    <tspan class=\"displacy-word\" fill=\"currentColor\" x=\"1275\">'s</tspan>\n",
              "    <tspan class=\"displacy-tag\" dy=\"2em\" fill=\"currentColor\" x=\"1275\">PART</tspan>\n",
              "</text>\n",
              "\n",
              "<text class=\"displacy-token\" fill=\"currentColor\" text-anchor=\"middle\" y=\"484.5\">\n",
              "    <tspan class=\"displacy-word\" fill=\"currentColor\" x=\"1450\">use,</tspan>\n",
              "    <tspan class=\"displacy-tag\" dy=\"2em\" fill=\"currentColor\" x=\"1450\">NOUN</tspan>\n",
              "</text>\n",
              "\n",
              "<text class=\"displacy-token\" fill=\"currentColor\" text-anchor=\"middle\" y=\"484.5\">\n",
              "    <tspan class=\"displacy-word\" fill=\"currentColor\" x=\"1625\">If</tspan>\n",
              "    <tspan class=\"displacy-tag\" dy=\"2em\" fill=\"currentColor\" x=\"1625\">SCONJ</tspan>\n",
              "</text>\n",
              "\n",
              "<text class=\"displacy-token\" fill=\"currentColor\" text-anchor=\"middle\" y=\"484.5\">\n",
              "    <tspan class=\"displacy-word\" fill=\"currentColor\" x=\"1800\">thou</tspan>\n",
              "    <tspan class=\"displacy-tag\" dy=\"2em\" fill=\"currentColor\" x=\"1800\">ADJ</tspan>\n",
              "</text>\n",
              "\n",
              "<text class=\"displacy-token\" fill=\"currentColor\" text-anchor=\"middle\" y=\"484.5\">\n",
              "    <tspan class=\"displacy-word\" fill=\"currentColor\" x=\"1975\">couldst</tspan>\n",
              "    <tspan class=\"displacy-tag\" dy=\"2em\" fill=\"currentColor\" x=\"1975\">ADV</tspan>\n",
              "</text>\n",
              "\n",
              "<text class=\"displacy-token\" fill=\"currentColor\" text-anchor=\"middle\" y=\"484.5\">\n",
              "    <tspan class=\"displacy-word\" fill=\"currentColor\" x=\"2150\">answer '</tspan>\n",
              "    <tspan class=\"displacy-tag\" dy=\"2em\" fill=\"currentColor\" x=\"2150\">VERB</tspan>\n",
              "</text>\n",
              "\n",
              "<text class=\"displacy-token\" fill=\"currentColor\" text-anchor=\"middle\" y=\"484.5\">\n",
              "    <tspan class=\"displacy-word\" fill=\"currentColor\" x=\"2325\">This</tspan>\n",
              "    <tspan class=\"displacy-tag\" dy=\"2em\" fill=\"currentColor\" x=\"2325\">DET</tspan>\n",
              "</text>\n",
              "\n",
              "<text class=\"displacy-token\" fill=\"currentColor\" text-anchor=\"middle\" y=\"484.5\">\n",
              "    <tspan class=\"displacy-word\" fill=\"currentColor\" x=\"2500\">fair</tspan>\n",
              "    <tspan class=\"displacy-tag\" dy=\"2em\" fill=\"currentColor\" x=\"2500\">ADJ</tspan>\n",
              "</text>\n",
              "\n",
              "<text class=\"displacy-token\" fill=\"currentColor\" text-anchor=\"middle\" y=\"484.5\">\n",
              "    <tspan class=\"displacy-word\" fill=\"currentColor\" x=\"2675\">child</tspan>\n",
              "    <tspan class=\"displacy-tag\" dy=\"2em\" fill=\"currentColor\" x=\"2675\">NOUN</tspan>\n",
              "</text>\n",
              "\n",
              "<text class=\"displacy-token\" fill=\"currentColor\" text-anchor=\"middle\" y=\"484.5\">\n",
              "    <tspan class=\"displacy-word\" fill=\"currentColor\" x=\"2850\">of</tspan>\n",
              "    <tspan class=\"displacy-tag\" dy=\"2em\" fill=\"currentColor\" x=\"2850\">ADP</tspan>\n",
              "</text>\n",
              "\n",
              "<text class=\"displacy-token\" fill=\"currentColor\" text-anchor=\"middle\" y=\"484.5\">\n",
              "    <tspan class=\"displacy-word\" fill=\"currentColor\" x=\"3025\">mine</tspan>\n",
              "    <tspan class=\"displacy-tag\" dy=\"2em\" fill=\"currentColor\" x=\"3025\">NOUN</tspan>\n",
              "</text>\n",
              "\n",
              "<text class=\"displacy-token\" fill=\"currentColor\" text-anchor=\"middle\" y=\"484.5\">\n",
              "    <tspan class=\"displacy-word\" fill=\"currentColor\" x=\"3200\">Shall</tspan>\n",
              "    <tspan class=\"displacy-tag\" dy=\"2em\" fill=\"currentColor\" x=\"3200\">AUX</tspan>\n",
              "</text>\n",
              "\n",
              "<text class=\"displacy-token\" fill=\"currentColor\" text-anchor=\"middle\" y=\"484.5\">\n",
              "    <tspan class=\"displacy-word\" fill=\"currentColor\" x=\"3375\">sum</tspan>\n",
              "    <tspan class=\"displacy-tag\" dy=\"2em\" fill=\"currentColor\" x=\"3375\">VERB</tspan>\n",
              "</text>\n",
              "\n",
              "<text class=\"displacy-token\" fill=\"currentColor\" text-anchor=\"middle\" y=\"484.5\">\n",
              "    <tspan class=\"displacy-word\" fill=\"currentColor\" x=\"3550\">my</tspan>\n",
              "    <tspan class=\"displacy-tag\" dy=\"2em\" fill=\"currentColor\" x=\"3550\">PRON</tspan>\n",
              "</text>\n",
              "\n",
              "<text class=\"displacy-token\" fill=\"currentColor\" text-anchor=\"middle\" y=\"484.5\">\n",
              "    <tspan class=\"displacy-word\" fill=\"currentColor\" x=\"3725\">count,</tspan>\n",
              "    <tspan class=\"displacy-tag\" dy=\"2em\" fill=\"currentColor\" x=\"3725\">NOUN</tspan>\n",
              "</text>\n",
              "\n",
              "<text class=\"displacy-token\" fill=\"currentColor\" text-anchor=\"middle\" y=\"484.5\">\n",
              "    <tspan class=\"displacy-word\" fill=\"currentColor\" x=\"3900\">and</tspan>\n",
              "    <tspan class=\"displacy-tag\" dy=\"2em\" fill=\"currentColor\" x=\"3900\">CCONJ</tspan>\n",
              "</text>\n",
              "\n",
              "<text class=\"displacy-token\" fill=\"currentColor\" text-anchor=\"middle\" y=\"484.5\">\n",
              "    <tspan class=\"displacy-word\" fill=\"currentColor\" x=\"4075\">make</tspan>\n",
              "    <tspan class=\"displacy-tag\" dy=\"2em\" fill=\"currentColor\" x=\"4075\">VERB</tspan>\n",
              "</text>\n",
              "\n",
              "<text class=\"displacy-token\" fill=\"currentColor\" text-anchor=\"middle\" y=\"484.5\">\n",
              "    <tspan class=\"displacy-word\" fill=\"currentColor\" x=\"4250\">my</tspan>\n",
              "    <tspan class=\"displacy-tag\" dy=\"2em\" fill=\"currentColor\" x=\"4250\">PRON</tspan>\n",
              "</text>\n",
              "\n",
              "<text class=\"displacy-token\" fill=\"currentColor\" text-anchor=\"middle\" y=\"484.5\">\n",
              "    <tspan class=\"displacy-word\" fill=\"currentColor\" x=\"4425\">old</tspan>\n",
              "    <tspan class=\"displacy-tag\" dy=\"2em\" fill=\"currentColor\" x=\"4425\">ADJ</tspan>\n",
              "</text>\n",
              "\n",
              "<text class=\"displacy-token\" fill=\"currentColor\" text-anchor=\"middle\" y=\"484.5\">\n",
              "    <tspan class=\"displacy-word\" fill=\"currentColor\" x=\"4600\">excuse'</tspan>\n",
              "    <tspan class=\"displacy-tag\" dy=\"2em\" fill=\"currentColor\" x=\"4600\">NOUN</tspan>\n",
              "</text>\n",
              "\n",
              "<text class=\"displacy-token\" fill=\"currentColor\" text-anchor=\"middle\" y=\"484.5\">\n",
              "    <tspan class=\"displacy-word\" fill=\"currentColor\" x=\"4775\">Proving</tspan>\n",
              "    <tspan class=\"displacy-tag\" dy=\"2em\" fill=\"currentColor\" x=\"4775\">VERB</tspan>\n",
              "</text>\n",
              "\n",
              "<text class=\"displacy-token\" fill=\"currentColor\" text-anchor=\"middle\" y=\"484.5\">\n",
              "    <tspan class=\"displacy-word\" fill=\"currentColor\" x=\"4950\">his</tspan>\n",
              "    <tspan class=\"displacy-tag\" dy=\"2em\" fill=\"currentColor\" x=\"4950\">PRON</tspan>\n",
              "</text>\n",
              "\n",
              "<text class=\"displacy-token\" fill=\"currentColor\" text-anchor=\"middle\" y=\"484.5\">\n",
              "    <tspan class=\"displacy-word\" fill=\"currentColor\" x=\"5125\">beauty</tspan>\n",
              "    <tspan class=\"displacy-tag\" dy=\"2em\" fill=\"currentColor\" x=\"5125\">NOUN</tspan>\n",
              "</text>\n",
              "\n",
              "<text class=\"displacy-token\" fill=\"currentColor\" text-anchor=\"middle\" y=\"484.5\">\n",
              "    <tspan class=\"displacy-word\" fill=\"currentColor\" x=\"5300\">by</tspan>\n",
              "    <tspan class=\"displacy-tag\" dy=\"2em\" fill=\"currentColor\" x=\"5300\">ADP</tspan>\n",
              "</text>\n",
              "\n",
              "<text class=\"displacy-token\" fill=\"currentColor\" text-anchor=\"middle\" y=\"484.5\">\n",
              "    <tspan class=\"displacy-word\" fill=\"currentColor\" x=\"5475\">succession</tspan>\n",
              "    <tspan class=\"displacy-tag\" dy=\"2em\" fill=\"currentColor\" x=\"5475\">NOUN</tspan>\n",
              "</text>\n",
              "\n",
              "<text class=\"displacy-token\" fill=\"currentColor\" text-anchor=\"middle\" y=\"484.5\">\n",
              "    <tspan class=\"displacy-word\" fill=\"currentColor\" x=\"5650\">thine.</tspan>\n",
              "    <tspan class=\"displacy-tag\" dy=\"2em\" fill=\"currentColor\" x=\"5650\">NOUN</tspan>\n",
              "</text>\n",
              "\n",
              "<g class=\"displacy-arrow\">\n",
              "    <path class=\"displacy-arc\" id=\"arrow-79174d05cdc948eba8bcec87dd32bd98-1-0\" stroke-width=\"2px\" d=\"M70,439.5 C70,352.0 205.0,352.0 205.0,439.5\" fill=\"none\" stroke=\"currentColor\"/>\n",
              "    <text dy=\"1.25em\" style=\"font-size: 0.8em; letter-spacing: 1px\">\n",
              "        <textPath xlink:href=\"#arrow-79174d05cdc948eba8bcec87dd32bd98-1-0\" class=\"displacy-label\" startOffset=\"50%\" side=\"left\" fill=\"currentColor\" text-anchor=\"middle\">advmod</textPath>\n",
              "    </text>\n",
              "    <path class=\"displacy-arrowhead\" d=\"M70,441.5 L62,429.5 78,429.5\" fill=\"currentColor\"/>\n",
              "</g>\n",
              "\n",
              "<g class=\"displacy-arrow\">\n",
              "    <path class=\"displacy-arc\" id=\"arrow-79174d05cdc948eba8bcec87dd32bd98-1-1\" stroke-width=\"2px\" d=\"M245,439.5 C245,352.0 380.0,352.0 380.0,439.5\" fill=\"none\" stroke=\"currentColor\"/>\n",
              "    <text dy=\"1.25em\" style=\"font-size: 0.8em; letter-spacing: 1px\">\n",
              "        <textPath xlink:href=\"#arrow-79174d05cdc948eba8bcec87dd32bd98-1-1\" class=\"displacy-label\" startOffset=\"50%\" side=\"left\" fill=\"currentColor\" text-anchor=\"middle\">advmod</textPath>\n",
              "    </text>\n",
              "    <path class=\"displacy-arrowhead\" d=\"M245,441.5 L237,429.5 253,429.5\" fill=\"currentColor\"/>\n",
              "</g>\n",
              "\n",
              "<g class=\"displacy-arrow\">\n",
              "    <path class=\"displacy-arc\" id=\"arrow-79174d05cdc948eba8bcec87dd32bd98-1-2\" stroke-width=\"2px\" d=\"M420,439.5 C420,352.0 555.0,352.0 555.0,439.5\" fill=\"none\" stroke=\"currentColor\"/>\n",
              "    <text dy=\"1.25em\" style=\"font-size: 0.8em; letter-spacing: 1px\">\n",
              "        <textPath xlink:href=\"#arrow-79174d05cdc948eba8bcec87dd32bd98-1-2\" class=\"displacy-label\" startOffset=\"50%\" side=\"left\" fill=\"currentColor\" text-anchor=\"middle\">amod</textPath>\n",
              "    </text>\n",
              "    <path class=\"displacy-arrowhead\" d=\"M420,441.5 L412,429.5 428,429.5\" fill=\"currentColor\"/>\n",
              "</g>\n",
              "\n",
              "<g class=\"displacy-arrow\">\n",
              "    <path class=\"displacy-arc\" id=\"arrow-79174d05cdc948eba8bcec87dd32bd98-1-3\" stroke-width=\"2px\" d=\"M595,439.5 C595,352.0 730.0,352.0 730.0,439.5\" fill=\"none\" stroke=\"currentColor\"/>\n",
              "    <text dy=\"1.25em\" style=\"font-size: 0.8em; letter-spacing: 1px\">\n",
              "        <textPath xlink:href=\"#arrow-79174d05cdc948eba8bcec87dd32bd98-1-3\" class=\"displacy-label\" startOffset=\"50%\" side=\"left\" fill=\"currentColor\" text-anchor=\"middle\">nsubj</textPath>\n",
              "    </text>\n",
              "    <path class=\"displacy-arrowhead\" d=\"M595,441.5 L587,429.5 603,429.5\" fill=\"currentColor\"/>\n",
              "</g>\n",
              "\n",
              "<g class=\"displacy-arrow\">\n",
              "    <path class=\"displacy-arc\" id=\"arrow-79174d05cdc948eba8bcec87dd32bd98-1-4\" stroke-width=\"2px\" d=\"M770,439.5 C770,2.0 3375.0,2.0 3375.0,439.5\" fill=\"none\" stroke=\"currentColor\"/>\n",
              "    <text dy=\"1.25em\" style=\"font-size: 0.8em; letter-spacing: 1px\">\n",
              "        <textPath xlink:href=\"#arrow-79174d05cdc948eba8bcec87dd32bd98-1-4\" class=\"displacy-label\" startOffset=\"50%\" side=\"left\" fill=\"currentColor\" text-anchor=\"middle\">ccomp</textPath>\n",
              "    </text>\n",
              "    <path class=\"displacy-arrowhead\" d=\"M770,441.5 L762,429.5 778,429.5\" fill=\"currentColor\"/>\n",
              "</g>\n",
              "\n",
              "<g class=\"displacy-arrow\">\n",
              "    <path class=\"displacy-arc\" id=\"arrow-79174d05cdc948eba8bcec87dd32bd98-1-5\" stroke-width=\"2px\" d=\"M945,439.5 C945,177.0 1440.0,177.0 1440.0,439.5\" fill=\"none\" stroke=\"currentColor\"/>\n",
              "    <text dy=\"1.25em\" style=\"font-size: 0.8em; letter-spacing: 1px\">\n",
              "        <textPath xlink:href=\"#arrow-79174d05cdc948eba8bcec87dd32bd98-1-5\" class=\"displacy-label\" startOffset=\"50%\" side=\"left\" fill=\"currentColor\" text-anchor=\"middle\">poss</textPath>\n",
              "    </text>\n",
              "    <path class=\"displacy-arrowhead\" d=\"M945,441.5 L937,429.5 953,429.5\" fill=\"currentColor\"/>\n",
              "</g>\n",
              "\n",
              "<g class=\"displacy-arrow\">\n",
              "    <path class=\"displacy-arc\" id=\"arrow-79174d05cdc948eba8bcec87dd32bd98-1-6\" stroke-width=\"2px\" d=\"M1120,439.5 C1120,264.5 1435.0,264.5 1435.0,439.5\" fill=\"none\" stroke=\"currentColor\"/>\n",
              "    <text dy=\"1.25em\" style=\"font-size: 0.8em; letter-spacing: 1px\">\n",
              "        <textPath xlink:href=\"#arrow-79174d05cdc948eba8bcec87dd32bd98-1-6\" class=\"displacy-label\" startOffset=\"50%\" side=\"left\" fill=\"currentColor\" text-anchor=\"middle\">poss</textPath>\n",
              "    </text>\n",
              "    <path class=\"displacy-arrowhead\" d=\"M1120,441.5 L1112,429.5 1128,429.5\" fill=\"currentColor\"/>\n",
              "</g>\n",
              "\n",
              "<g class=\"displacy-arrow\">\n",
              "    <path class=\"displacy-arc\" id=\"arrow-79174d05cdc948eba8bcec87dd32bd98-1-7\" stroke-width=\"2px\" d=\"M1120,439.5 C1120,352.0 1255.0,352.0 1255.0,439.5\" fill=\"none\" stroke=\"currentColor\"/>\n",
              "    <text dy=\"1.25em\" style=\"font-size: 0.8em; letter-spacing: 1px\">\n",
              "        <textPath xlink:href=\"#arrow-79174d05cdc948eba8bcec87dd32bd98-1-7\" class=\"displacy-label\" startOffset=\"50%\" side=\"left\" fill=\"currentColor\" text-anchor=\"middle\">case</textPath>\n",
              "    </text>\n",
              "    <path class=\"displacy-arrowhead\" d=\"M1255.0,441.5 L1263.0,429.5 1247.0,429.5\" fill=\"currentColor\"/>\n",
              "</g>\n",
              "\n",
              "<g class=\"displacy-arrow\">\n",
              "    <path class=\"displacy-arc\" id=\"arrow-79174d05cdc948eba8bcec87dd32bd98-1-8\" stroke-width=\"2px\" d=\"M770,439.5 C770,89.5 1445.0,89.5 1445.0,439.5\" fill=\"none\" stroke=\"currentColor\"/>\n",
              "    <text dy=\"1.25em\" style=\"font-size: 0.8em; letter-spacing: 1px\">\n",
              "        <textPath xlink:href=\"#arrow-79174d05cdc948eba8bcec87dd32bd98-1-8\" class=\"displacy-label\" startOffset=\"50%\" side=\"left\" fill=\"currentColor\" text-anchor=\"middle\">dobj</textPath>\n",
              "    </text>\n",
              "    <path class=\"displacy-arrowhead\" d=\"M1445.0,441.5 L1453.0,429.5 1437.0,429.5\" fill=\"currentColor\"/>\n",
              "</g>\n",
              "\n",
              "<g class=\"displacy-arrow\">\n",
              "    <path class=\"displacy-arc\" id=\"arrow-79174d05cdc948eba8bcec87dd32bd98-1-9\" stroke-width=\"2px\" d=\"M1645,439.5 C1645,177.0 2140.0,177.0 2140.0,439.5\" fill=\"none\" stroke=\"currentColor\"/>\n",
              "    <text dy=\"1.25em\" style=\"font-size: 0.8em; letter-spacing: 1px\">\n",
              "        <textPath xlink:href=\"#arrow-79174d05cdc948eba8bcec87dd32bd98-1-9\" class=\"displacy-label\" startOffset=\"50%\" side=\"left\" fill=\"currentColor\" text-anchor=\"middle\">mark</textPath>\n",
              "    </text>\n",
              "    <path class=\"displacy-arrowhead\" d=\"M1645,441.5 L1637,429.5 1653,429.5\" fill=\"currentColor\"/>\n",
              "</g>\n",
              "\n",
              "<g class=\"displacy-arrow\">\n",
              "    <path class=\"displacy-arc\" id=\"arrow-79174d05cdc948eba8bcec87dd32bd98-1-10\" stroke-width=\"2px\" d=\"M1820,439.5 C1820,264.5 2135.0,264.5 2135.0,439.5\" fill=\"none\" stroke=\"currentColor\"/>\n",
              "    <text dy=\"1.25em\" style=\"font-size: 0.8em; letter-spacing: 1px\">\n",
              "        <textPath xlink:href=\"#arrow-79174d05cdc948eba8bcec87dd32bd98-1-10\" class=\"displacy-label\" startOffset=\"50%\" side=\"left\" fill=\"currentColor\" text-anchor=\"middle\">nsubj</textPath>\n",
              "    </text>\n",
              "    <path class=\"displacy-arrowhead\" d=\"M1820,441.5 L1812,429.5 1828,429.5\" fill=\"currentColor\"/>\n",
              "</g>\n",
              "\n",
              "<g class=\"displacy-arrow\">\n",
              "    <path class=\"displacy-arc\" id=\"arrow-79174d05cdc948eba8bcec87dd32bd98-1-11\" stroke-width=\"2px\" d=\"M1995,439.5 C1995,352.0 2130.0,352.0 2130.0,439.5\" fill=\"none\" stroke=\"currentColor\"/>\n",
              "    <text dy=\"1.25em\" style=\"font-size: 0.8em; letter-spacing: 1px\">\n",
              "        <textPath xlink:href=\"#arrow-79174d05cdc948eba8bcec87dd32bd98-1-11\" class=\"displacy-label\" startOffset=\"50%\" side=\"left\" fill=\"currentColor\" text-anchor=\"middle\">advmod</textPath>\n",
              "    </text>\n",
              "    <path class=\"displacy-arrowhead\" d=\"M1995,441.5 L1987,429.5 2003,429.5\" fill=\"currentColor\"/>\n",
              "</g>\n",
              "\n",
              "<g class=\"displacy-arrow\">\n",
              "    <path class=\"displacy-arc\" id=\"arrow-79174d05cdc948eba8bcec87dd32bd98-1-12\" stroke-width=\"2px\" d=\"M2170,439.5 C2170,177.0 3365.0,177.0 3365.0,439.5\" fill=\"none\" stroke=\"currentColor\"/>\n",
              "    <text dy=\"1.25em\" style=\"font-size: 0.8em; letter-spacing: 1px\">\n",
              "        <textPath xlink:href=\"#arrow-79174d05cdc948eba8bcec87dd32bd98-1-12\" class=\"displacy-label\" startOffset=\"50%\" side=\"left\" fill=\"currentColor\" text-anchor=\"middle\">advcl</textPath>\n",
              "    </text>\n",
              "    <path class=\"displacy-arrowhead\" d=\"M2170,441.5 L2162,429.5 2178,429.5\" fill=\"currentColor\"/>\n",
              "</g>\n",
              "\n",
              "<g class=\"displacy-arrow\">\n",
              "    <path class=\"displacy-arc\" id=\"arrow-79174d05cdc948eba8bcec87dd32bd98-1-13\" stroke-width=\"2px\" d=\"M2345,439.5 C2345,264.5 2660.0,264.5 2660.0,439.5\" fill=\"none\" stroke=\"currentColor\"/>\n",
              "    <text dy=\"1.25em\" style=\"font-size: 0.8em; letter-spacing: 1px\">\n",
              "        <textPath xlink:href=\"#arrow-79174d05cdc948eba8bcec87dd32bd98-1-13\" class=\"displacy-label\" startOffset=\"50%\" side=\"left\" fill=\"currentColor\" text-anchor=\"middle\">det</textPath>\n",
              "    </text>\n",
              "    <path class=\"displacy-arrowhead\" d=\"M2345,441.5 L2337,429.5 2353,429.5\" fill=\"currentColor\"/>\n",
              "</g>\n",
              "\n",
              "<g class=\"displacy-arrow\">\n",
              "    <path class=\"displacy-arc\" id=\"arrow-79174d05cdc948eba8bcec87dd32bd98-1-14\" stroke-width=\"2px\" d=\"M2520,439.5 C2520,352.0 2655.0,352.0 2655.0,439.5\" fill=\"none\" stroke=\"currentColor\"/>\n",
              "    <text dy=\"1.25em\" style=\"font-size: 0.8em; letter-spacing: 1px\">\n",
              "        <textPath xlink:href=\"#arrow-79174d05cdc948eba8bcec87dd32bd98-1-14\" class=\"displacy-label\" startOffset=\"50%\" side=\"left\" fill=\"currentColor\" text-anchor=\"middle\">amod</textPath>\n",
              "    </text>\n",
              "    <path class=\"displacy-arrowhead\" d=\"M2520,441.5 L2512,429.5 2528,429.5\" fill=\"currentColor\"/>\n",
              "</g>\n",
              "\n",
              "<g class=\"displacy-arrow\">\n",
              "    <path class=\"displacy-arc\" id=\"arrow-79174d05cdc948eba8bcec87dd32bd98-1-15\" stroke-width=\"2px\" d=\"M2695,439.5 C2695,264.5 3360.0,264.5 3360.0,439.5\" fill=\"none\" stroke=\"currentColor\"/>\n",
              "    <text dy=\"1.25em\" style=\"font-size: 0.8em; letter-spacing: 1px\">\n",
              "        <textPath xlink:href=\"#arrow-79174d05cdc948eba8bcec87dd32bd98-1-15\" class=\"displacy-label\" startOffset=\"50%\" side=\"left\" fill=\"currentColor\" text-anchor=\"middle\">nsubj</textPath>\n",
              "    </text>\n",
              "    <path class=\"displacy-arrowhead\" d=\"M2695,441.5 L2687,429.5 2703,429.5\" fill=\"currentColor\"/>\n",
              "</g>\n",
              "\n",
              "<g class=\"displacy-arrow\">\n",
              "    <path class=\"displacy-arc\" id=\"arrow-79174d05cdc948eba8bcec87dd32bd98-1-16\" stroke-width=\"2px\" d=\"M2695,439.5 C2695,352.0 2830.0,352.0 2830.0,439.5\" fill=\"none\" stroke=\"currentColor\"/>\n",
              "    <text dy=\"1.25em\" style=\"font-size: 0.8em; letter-spacing: 1px\">\n",
              "        <textPath xlink:href=\"#arrow-79174d05cdc948eba8bcec87dd32bd98-1-16\" class=\"displacy-label\" startOffset=\"50%\" side=\"left\" fill=\"currentColor\" text-anchor=\"middle\">prep</textPath>\n",
              "    </text>\n",
              "    <path class=\"displacy-arrowhead\" d=\"M2830.0,441.5 L2838.0,429.5 2822.0,429.5\" fill=\"currentColor\"/>\n",
              "</g>\n",
              "\n",
              "<g class=\"displacy-arrow\">\n",
              "    <path class=\"displacy-arc\" id=\"arrow-79174d05cdc948eba8bcec87dd32bd98-1-17\" stroke-width=\"2px\" d=\"M2870,439.5 C2870,352.0 3005.0,352.0 3005.0,439.5\" fill=\"none\" stroke=\"currentColor\"/>\n",
              "    <text dy=\"1.25em\" style=\"font-size: 0.8em; letter-spacing: 1px\">\n",
              "        <textPath xlink:href=\"#arrow-79174d05cdc948eba8bcec87dd32bd98-1-17\" class=\"displacy-label\" startOffset=\"50%\" side=\"left\" fill=\"currentColor\" text-anchor=\"middle\">pobj</textPath>\n",
              "    </text>\n",
              "    <path class=\"displacy-arrowhead\" d=\"M3005.0,441.5 L3013.0,429.5 2997.0,429.5\" fill=\"currentColor\"/>\n",
              "</g>\n",
              "\n",
              "<g class=\"displacy-arrow\">\n",
              "    <path class=\"displacy-arc\" id=\"arrow-79174d05cdc948eba8bcec87dd32bd98-1-18\" stroke-width=\"2px\" d=\"M3220,439.5 C3220,352.0 3355.0,352.0 3355.0,439.5\" fill=\"none\" stroke=\"currentColor\"/>\n",
              "    <text dy=\"1.25em\" style=\"font-size: 0.8em; letter-spacing: 1px\">\n",
              "        <textPath xlink:href=\"#arrow-79174d05cdc948eba8bcec87dd32bd98-1-18\" class=\"displacy-label\" startOffset=\"50%\" side=\"left\" fill=\"currentColor\" text-anchor=\"middle\">aux</textPath>\n",
              "    </text>\n",
              "    <path class=\"displacy-arrowhead\" d=\"M3220,441.5 L3212,429.5 3228,429.5\" fill=\"currentColor\"/>\n",
              "</g>\n",
              "\n",
              "<g class=\"displacy-arrow\">\n",
              "    <path class=\"displacy-arc\" id=\"arrow-79174d05cdc948eba8bcec87dd32bd98-1-19\" stroke-width=\"2px\" d=\"M3570,439.5 C3570,352.0 3705.0,352.0 3705.0,439.5\" fill=\"none\" stroke=\"currentColor\"/>\n",
              "    <text dy=\"1.25em\" style=\"font-size: 0.8em; letter-spacing: 1px\">\n",
              "        <textPath xlink:href=\"#arrow-79174d05cdc948eba8bcec87dd32bd98-1-19\" class=\"displacy-label\" startOffset=\"50%\" side=\"left\" fill=\"currentColor\" text-anchor=\"middle\">poss</textPath>\n",
              "    </text>\n",
              "    <path class=\"displacy-arrowhead\" d=\"M3570,441.5 L3562,429.5 3578,429.5\" fill=\"currentColor\"/>\n",
              "</g>\n",
              "\n",
              "<g class=\"displacy-arrow\">\n",
              "    <path class=\"displacy-arc\" id=\"arrow-79174d05cdc948eba8bcec87dd32bd98-1-20\" stroke-width=\"2px\" d=\"M3395,439.5 C3395,264.5 3710.0,264.5 3710.0,439.5\" fill=\"none\" stroke=\"currentColor\"/>\n",
              "    <text dy=\"1.25em\" style=\"font-size: 0.8em; letter-spacing: 1px\">\n",
              "        <textPath xlink:href=\"#arrow-79174d05cdc948eba8bcec87dd32bd98-1-20\" class=\"displacy-label\" startOffset=\"50%\" side=\"left\" fill=\"currentColor\" text-anchor=\"middle\">dobj</textPath>\n",
              "    </text>\n",
              "    <path class=\"displacy-arrowhead\" d=\"M3710.0,441.5 L3718.0,429.5 3702.0,429.5\" fill=\"currentColor\"/>\n",
              "</g>\n",
              "\n",
              "<g class=\"displacy-arrow\">\n",
              "    <path class=\"displacy-arc\" id=\"arrow-79174d05cdc948eba8bcec87dd32bd98-1-21\" stroke-width=\"2px\" d=\"M3395,439.5 C3395,177.0 3890.0,177.0 3890.0,439.5\" fill=\"none\" stroke=\"currentColor\"/>\n",
              "    <text dy=\"1.25em\" style=\"font-size: 0.8em; letter-spacing: 1px\">\n",
              "        <textPath xlink:href=\"#arrow-79174d05cdc948eba8bcec87dd32bd98-1-21\" class=\"displacy-label\" startOffset=\"50%\" side=\"left\" fill=\"currentColor\" text-anchor=\"middle\">cc</textPath>\n",
              "    </text>\n",
              "    <path class=\"displacy-arrowhead\" d=\"M3890.0,441.5 L3898.0,429.5 3882.0,429.5\" fill=\"currentColor\"/>\n",
              "</g>\n",
              "\n",
              "<g class=\"displacy-arrow\">\n",
              "    <path class=\"displacy-arc\" id=\"arrow-79174d05cdc948eba8bcec87dd32bd98-1-22\" stroke-width=\"2px\" d=\"M3395,439.5 C3395,89.5 4070.0,89.5 4070.0,439.5\" fill=\"none\" stroke=\"currentColor\"/>\n",
              "    <text dy=\"1.25em\" style=\"font-size: 0.8em; letter-spacing: 1px\">\n",
              "        <textPath xlink:href=\"#arrow-79174d05cdc948eba8bcec87dd32bd98-1-22\" class=\"displacy-label\" startOffset=\"50%\" side=\"left\" fill=\"currentColor\" text-anchor=\"middle\">conj</textPath>\n",
              "    </text>\n",
              "    <path class=\"displacy-arrowhead\" d=\"M4070.0,441.5 L4078.0,429.5 4062.0,429.5\" fill=\"currentColor\"/>\n",
              "</g>\n",
              "\n",
              "<g class=\"displacy-arrow\">\n",
              "    <path class=\"displacy-arc\" id=\"arrow-79174d05cdc948eba8bcec87dd32bd98-1-23\" stroke-width=\"2px\" d=\"M4270,439.5 C4270,264.5 4585.0,264.5 4585.0,439.5\" fill=\"none\" stroke=\"currentColor\"/>\n",
              "    <text dy=\"1.25em\" style=\"font-size: 0.8em; letter-spacing: 1px\">\n",
              "        <textPath xlink:href=\"#arrow-79174d05cdc948eba8bcec87dd32bd98-1-23\" class=\"displacy-label\" startOffset=\"50%\" side=\"left\" fill=\"currentColor\" text-anchor=\"middle\">poss</textPath>\n",
              "    </text>\n",
              "    <path class=\"displacy-arrowhead\" d=\"M4270,441.5 L4262,429.5 4278,429.5\" fill=\"currentColor\"/>\n",
              "</g>\n",
              "\n",
              "<g class=\"displacy-arrow\">\n",
              "    <path class=\"displacy-arc\" id=\"arrow-79174d05cdc948eba8bcec87dd32bd98-1-24\" stroke-width=\"2px\" d=\"M4445,439.5 C4445,352.0 4580.0,352.0 4580.0,439.5\" fill=\"none\" stroke=\"currentColor\"/>\n",
              "    <text dy=\"1.25em\" style=\"font-size: 0.8em; letter-spacing: 1px\">\n",
              "        <textPath xlink:href=\"#arrow-79174d05cdc948eba8bcec87dd32bd98-1-24\" class=\"displacy-label\" startOffset=\"50%\" side=\"left\" fill=\"currentColor\" text-anchor=\"middle\">amod</textPath>\n",
              "    </text>\n",
              "    <path class=\"displacy-arrowhead\" d=\"M4445,441.5 L4437,429.5 4453,429.5\" fill=\"currentColor\"/>\n",
              "</g>\n",
              "\n",
              "<g class=\"displacy-arrow\">\n",
              "    <path class=\"displacy-arc\" id=\"arrow-79174d05cdc948eba8bcec87dd32bd98-1-25\" stroke-width=\"2px\" d=\"M4095,439.5 C4095,177.0 4590.0,177.0 4590.0,439.5\" fill=\"none\" stroke=\"currentColor\"/>\n",
              "    <text dy=\"1.25em\" style=\"font-size: 0.8em; letter-spacing: 1px\">\n",
              "        <textPath xlink:href=\"#arrow-79174d05cdc948eba8bcec87dd32bd98-1-25\" class=\"displacy-label\" startOffset=\"50%\" side=\"left\" fill=\"currentColor\" text-anchor=\"middle\">dobj</textPath>\n",
              "    </text>\n",
              "    <path class=\"displacy-arrowhead\" d=\"M4590.0,441.5 L4598.0,429.5 4582.0,429.5\" fill=\"currentColor\"/>\n",
              "</g>\n",
              "\n",
              "<g class=\"displacy-arrow\">\n",
              "    <path class=\"displacy-arc\" id=\"arrow-79174d05cdc948eba8bcec87dd32bd98-1-26\" stroke-width=\"2px\" d=\"M4095,439.5 C4095,89.5 4770.0,89.5 4770.0,439.5\" fill=\"none\" stroke=\"currentColor\"/>\n",
              "    <text dy=\"1.25em\" style=\"font-size: 0.8em; letter-spacing: 1px\">\n",
              "        <textPath xlink:href=\"#arrow-79174d05cdc948eba8bcec87dd32bd98-1-26\" class=\"displacy-label\" startOffset=\"50%\" side=\"left\" fill=\"currentColor\" text-anchor=\"middle\">ccomp</textPath>\n",
              "    </text>\n",
              "    <path class=\"displacy-arrowhead\" d=\"M4770.0,441.5 L4778.0,429.5 4762.0,429.5\" fill=\"currentColor\"/>\n",
              "</g>\n",
              "\n",
              "<g class=\"displacy-arrow\">\n",
              "    <path class=\"displacy-arc\" id=\"arrow-79174d05cdc948eba8bcec87dd32bd98-1-27\" stroke-width=\"2px\" d=\"M4970,439.5 C4970,352.0 5105.0,352.0 5105.0,439.5\" fill=\"none\" stroke=\"currentColor\"/>\n",
              "    <text dy=\"1.25em\" style=\"font-size: 0.8em; letter-spacing: 1px\">\n",
              "        <textPath xlink:href=\"#arrow-79174d05cdc948eba8bcec87dd32bd98-1-27\" class=\"displacy-label\" startOffset=\"50%\" side=\"left\" fill=\"currentColor\" text-anchor=\"middle\">poss</textPath>\n",
              "    </text>\n",
              "    <path class=\"displacy-arrowhead\" d=\"M4970,441.5 L4962,429.5 4978,429.5\" fill=\"currentColor\"/>\n",
              "</g>\n",
              "\n",
              "<g class=\"displacy-arrow\">\n",
              "    <path class=\"displacy-arc\" id=\"arrow-79174d05cdc948eba8bcec87dd32bd98-1-28\" stroke-width=\"2px\" d=\"M4795,439.5 C4795,264.5 5110.0,264.5 5110.0,439.5\" fill=\"none\" stroke=\"currentColor\"/>\n",
              "    <text dy=\"1.25em\" style=\"font-size: 0.8em; letter-spacing: 1px\">\n",
              "        <textPath xlink:href=\"#arrow-79174d05cdc948eba8bcec87dd32bd98-1-28\" class=\"displacy-label\" startOffset=\"50%\" side=\"left\" fill=\"currentColor\" text-anchor=\"middle\">dobj</textPath>\n",
              "    </text>\n",
              "    <path class=\"displacy-arrowhead\" d=\"M5110.0,441.5 L5118.0,429.5 5102.0,429.5\" fill=\"currentColor\"/>\n",
              "</g>\n",
              "\n",
              "<g class=\"displacy-arrow\">\n",
              "    <path class=\"displacy-arc\" id=\"arrow-79174d05cdc948eba8bcec87dd32bd98-1-29\" stroke-width=\"2px\" d=\"M4795,439.5 C4795,177.0 5290.0,177.0 5290.0,439.5\" fill=\"none\" stroke=\"currentColor\"/>\n",
              "    <text dy=\"1.25em\" style=\"font-size: 0.8em; letter-spacing: 1px\">\n",
              "        <textPath xlink:href=\"#arrow-79174d05cdc948eba8bcec87dd32bd98-1-29\" class=\"displacy-label\" startOffset=\"50%\" side=\"left\" fill=\"currentColor\" text-anchor=\"middle\">prep</textPath>\n",
              "    </text>\n",
              "    <path class=\"displacy-arrowhead\" d=\"M5290.0,441.5 L5298.0,429.5 5282.0,429.5\" fill=\"currentColor\"/>\n",
              "</g>\n",
              "\n",
              "<g class=\"displacy-arrow\">\n",
              "    <path class=\"displacy-arc\" id=\"arrow-79174d05cdc948eba8bcec87dd32bd98-1-30\" stroke-width=\"2px\" d=\"M5495,439.5 C5495,352.0 5630.0,352.0 5630.0,439.5\" fill=\"none\" stroke=\"currentColor\"/>\n",
              "    <text dy=\"1.25em\" style=\"font-size: 0.8em; letter-spacing: 1px\">\n",
              "        <textPath xlink:href=\"#arrow-79174d05cdc948eba8bcec87dd32bd98-1-30\" class=\"displacy-label\" startOffset=\"50%\" side=\"left\" fill=\"currentColor\" text-anchor=\"middle\">compound</textPath>\n",
              "    </text>\n",
              "    <path class=\"displacy-arrowhead\" d=\"M5495,441.5 L5487,429.5 5503,429.5\" fill=\"currentColor\"/>\n",
              "</g>\n",
              "\n",
              "<g class=\"displacy-arrow\">\n",
              "    <path class=\"displacy-arc\" id=\"arrow-79174d05cdc948eba8bcec87dd32bd98-1-31\" stroke-width=\"2px\" d=\"M5320,439.5 C5320,264.5 5635.0,264.5 5635.0,439.5\" fill=\"none\" stroke=\"currentColor\"/>\n",
              "    <text dy=\"1.25em\" style=\"font-size: 0.8em; letter-spacing: 1px\">\n",
              "        <textPath xlink:href=\"#arrow-79174d05cdc948eba8bcec87dd32bd98-1-31\" class=\"displacy-label\" startOffset=\"50%\" side=\"left\" fill=\"currentColor\" text-anchor=\"middle\">pobj</textPath>\n",
              "    </text>\n",
              "    <path class=\"displacy-arrowhead\" d=\"M5635.0,441.5 L5643.0,429.5 5627.0,429.5\" fill=\"currentColor\"/>\n",
              "</g>\n",
              "</svg>\n",
              "\n",
              "<svg xmlns=\"http://www.w3.org/2000/svg\" xmlns:xlink=\"http://www.w3.org/1999/xlink\" xml:lang=\"en\" id=\"79174d05cdc948eba8bcec87dd32bd98-2\" class=\"displacy\" width=\"3550\" height=\"574.5\" direction=\"ltr\" style=\"max-width: none; height: 574.5px; color: #000000; background: #ffffff; font-family: Arial; direction: ltr\">\n",
              "<text class=\"displacy-token\" fill=\"currentColor\" text-anchor=\"middle\" y=\"484.5\">\n",
              "    <tspan class=\"displacy-word\" fill=\"currentColor\" x=\"50\">This</tspan>\n",
              "    <tspan class=\"displacy-tag\" dy=\"2em\" fill=\"currentColor\" x=\"50\">PRON</tspan>\n",
              "</text>\n",
              "\n",
              "<text class=\"displacy-token\" fill=\"currentColor\" text-anchor=\"middle\" y=\"484.5\">\n",
              "    <tspan class=\"displacy-word\" fill=\"currentColor\" x=\"225\">were</tspan>\n",
              "    <tspan class=\"displacy-tag\" dy=\"2em\" fill=\"currentColor\" x=\"225\">AUX</tspan>\n",
              "</text>\n",
              "\n",
              "<text class=\"displacy-token\" fill=\"currentColor\" text-anchor=\"middle\" y=\"484.5\">\n",
              "    <tspan class=\"displacy-word\" fill=\"currentColor\" x=\"400\">to</tspan>\n",
              "    <tspan class=\"displacy-tag\" dy=\"2em\" fill=\"currentColor\" x=\"400\">PART</tspan>\n",
              "</text>\n",
              "\n",
              "<text class=\"displacy-token\" fill=\"currentColor\" text-anchor=\"middle\" y=\"484.5\">\n",
              "    <tspan class=\"displacy-word\" fill=\"currentColor\" x=\"575\">be</tspan>\n",
              "    <tspan class=\"displacy-tag\" dy=\"2em\" fill=\"currentColor\" x=\"575\">AUX</tspan>\n",
              "</text>\n",
              "\n",
              "<text class=\"displacy-token\" fill=\"currentColor\" text-anchor=\"middle\" y=\"484.5\">\n",
              "    <tspan class=\"displacy-word\" fill=\"currentColor\" x=\"750\">new</tspan>\n",
              "    <tspan class=\"displacy-tag\" dy=\"2em\" fill=\"currentColor\" x=\"750\">ADJ</tspan>\n",
              "</text>\n",
              "\n",
              "<text class=\"displacy-token\" fill=\"currentColor\" text-anchor=\"middle\" y=\"484.5\">\n",
              "    <tspan class=\"displacy-word\" fill=\"currentColor\" x=\"925\">made</tspan>\n",
              "    <tspan class=\"displacy-tag\" dy=\"2em\" fill=\"currentColor\" x=\"925\">VERB</tspan>\n",
              "</text>\n",
              "\n",
              "<text class=\"displacy-token\" fill=\"currentColor\" text-anchor=\"middle\" y=\"484.5\">\n",
              "    <tspan class=\"displacy-word\" fill=\"currentColor\" x=\"1100\">when</tspan>\n",
              "    <tspan class=\"displacy-tag\" dy=\"2em\" fill=\"currentColor\" x=\"1100\">SCONJ</tspan>\n",
              "</text>\n",
              "\n",
              "<text class=\"displacy-token\" fill=\"currentColor\" text-anchor=\"middle\" y=\"484.5\">\n",
              "    <tspan class=\"displacy-word\" fill=\"currentColor\" x=\"1275\">thou</tspan>\n",
              "    <tspan class=\"displacy-tag\" dy=\"2em\" fill=\"currentColor\" x=\"1275\">PROPN</tspan>\n",
              "</text>\n",
              "\n",
              "<text class=\"displacy-token\" fill=\"currentColor\" text-anchor=\"middle\" y=\"484.5\">\n",
              "    <tspan class=\"displacy-word\" fill=\"currentColor\" x=\"1450\">art</tspan>\n",
              "    <tspan class=\"displacy-tag\" dy=\"2em\" fill=\"currentColor\" x=\"1450\">NOUN</tspan>\n",
              "</text>\n",
              "\n",
              "<text class=\"displacy-token\" fill=\"currentColor\" text-anchor=\"middle\" y=\"484.5\">\n",
              "    <tspan class=\"displacy-word\" fill=\"currentColor\" x=\"1625\">old,</tspan>\n",
              "    <tspan class=\"displacy-tag\" dy=\"2em\" fill=\"currentColor\" x=\"1625\">ADJ</tspan>\n",
              "</text>\n",
              "\n",
              "<text class=\"displacy-token\" fill=\"currentColor\" text-anchor=\"middle\" y=\"484.5\">\n",
              "    <tspan class=\"displacy-word\" fill=\"currentColor\" x=\"1800\">And</tspan>\n",
              "    <tspan class=\"displacy-tag\" dy=\"2em\" fill=\"currentColor\" x=\"1800\">CCONJ</tspan>\n",
              "</text>\n",
              "\n",
              "<text class=\"displacy-token\" fill=\"currentColor\" text-anchor=\"middle\" y=\"484.5\">\n",
              "    <tspan class=\"displacy-word\" fill=\"currentColor\" x=\"1975\">see</tspan>\n",
              "    <tspan class=\"displacy-tag\" dy=\"2em\" fill=\"currentColor\" x=\"1975\">VERB</tspan>\n",
              "</text>\n",
              "\n",
              "<text class=\"displacy-token\" fill=\"currentColor\" text-anchor=\"middle\" y=\"484.5\">\n",
              "    <tspan class=\"displacy-word\" fill=\"currentColor\" x=\"2150\">thy</tspan>\n",
              "    <tspan class=\"displacy-tag\" dy=\"2em\" fill=\"currentColor\" x=\"2150\">PRON</tspan>\n",
              "</text>\n",
              "\n",
              "<text class=\"displacy-token\" fill=\"currentColor\" text-anchor=\"middle\" y=\"484.5\">\n",
              "    <tspan class=\"displacy-word\" fill=\"currentColor\" x=\"2325\">blood</tspan>\n",
              "    <tspan class=\"displacy-tag\" dy=\"2em\" fill=\"currentColor\" x=\"2325\">NOUN</tspan>\n",
              "</text>\n",
              "\n",
              "<text class=\"displacy-token\" fill=\"currentColor\" text-anchor=\"middle\" y=\"484.5\">\n",
              "    <tspan class=\"displacy-word\" fill=\"currentColor\" x=\"2500\">warm</tspan>\n",
              "    <tspan class=\"displacy-tag\" dy=\"2em\" fill=\"currentColor\" x=\"2500\">ADJ</tspan>\n",
              "</text>\n",
              "\n",
              "<text class=\"displacy-token\" fill=\"currentColor\" text-anchor=\"middle\" y=\"484.5\">\n",
              "    <tspan class=\"displacy-word\" fill=\"currentColor\" x=\"2675\">when</tspan>\n",
              "    <tspan class=\"displacy-tag\" dy=\"2em\" fill=\"currentColor\" x=\"2675\">SCONJ</tspan>\n",
              "</text>\n",
              "\n",
              "<text class=\"displacy-token\" fill=\"currentColor\" text-anchor=\"middle\" y=\"484.5\">\n",
              "    <tspan class=\"displacy-word\" fill=\"currentColor\" x=\"2850\">thou</tspan>\n",
              "    <tspan class=\"displacy-tag\" dy=\"2em\" fill=\"currentColor\" x=\"2850\">PROPN</tspan>\n",
              "</text>\n",
              "\n",
              "<text class=\"displacy-token\" fill=\"currentColor\" text-anchor=\"middle\" y=\"484.5\">\n",
              "    <tspan class=\"displacy-word\" fill=\"currentColor\" x=\"3025\">feel'st</tspan>\n",
              "    <tspan class=\"displacy-tag\" dy=\"2em\" fill=\"currentColor\" x=\"3025\">VERB</tspan>\n",
              "</text>\n",
              "\n",
              "<text class=\"displacy-token\" fill=\"currentColor\" text-anchor=\"middle\" y=\"484.5\">\n",
              "    <tspan class=\"displacy-word\" fill=\"currentColor\" x=\"3200\">it</tspan>\n",
              "    <tspan class=\"displacy-tag\" dy=\"2em\" fill=\"currentColor\" x=\"3200\">PRON</tspan>\n",
              "</text>\n",
              "\n",
              "<text class=\"displacy-token\" fill=\"currentColor\" text-anchor=\"middle\" y=\"484.5\">\n",
              "    <tspan class=\"displacy-word\" fill=\"currentColor\" x=\"3375\">cold.</tspan>\n",
              "    <tspan class=\"displacy-tag\" dy=\"2em\" fill=\"currentColor\" x=\"3375\">ADJ</tspan>\n",
              "</text>\n",
              "\n",
              "<g class=\"displacy-arrow\">\n",
              "    <path class=\"displacy-arc\" id=\"arrow-79174d05cdc948eba8bcec87dd32bd98-2-0\" stroke-width=\"2px\" d=\"M70,439.5 C70,352.0 205.0,352.0 205.0,439.5\" fill=\"none\" stroke=\"currentColor\"/>\n",
              "    <text dy=\"1.25em\" style=\"font-size: 0.8em; letter-spacing: 1px\">\n",
              "        <textPath xlink:href=\"#arrow-79174d05cdc948eba8bcec87dd32bd98-2-0\" class=\"displacy-label\" startOffset=\"50%\" side=\"left\" fill=\"currentColor\" text-anchor=\"middle\">nsubj</textPath>\n",
              "    </text>\n",
              "    <path class=\"displacy-arrowhead\" d=\"M70,441.5 L62,429.5 78,429.5\" fill=\"currentColor\"/>\n",
              "</g>\n",
              "\n",
              "<g class=\"displacy-arrow\">\n",
              "    <path class=\"displacy-arc\" id=\"arrow-79174d05cdc948eba8bcec87dd32bd98-2-1\" stroke-width=\"2px\" d=\"M420,439.5 C420,352.0 555.0,352.0 555.0,439.5\" fill=\"none\" stroke=\"currentColor\"/>\n",
              "    <text dy=\"1.25em\" style=\"font-size: 0.8em; letter-spacing: 1px\">\n",
              "        <textPath xlink:href=\"#arrow-79174d05cdc948eba8bcec87dd32bd98-2-1\" class=\"displacy-label\" startOffset=\"50%\" side=\"left\" fill=\"currentColor\" text-anchor=\"middle\">aux</textPath>\n",
              "    </text>\n",
              "    <path class=\"displacy-arrowhead\" d=\"M420,441.5 L412,429.5 428,429.5\" fill=\"currentColor\"/>\n",
              "</g>\n",
              "\n",
              "<g class=\"displacy-arrow\">\n",
              "    <path class=\"displacy-arc\" id=\"arrow-79174d05cdc948eba8bcec87dd32bd98-2-2\" stroke-width=\"2px\" d=\"M245,439.5 C245,264.5 560.0,264.5 560.0,439.5\" fill=\"none\" stroke=\"currentColor\"/>\n",
              "    <text dy=\"1.25em\" style=\"font-size: 0.8em; letter-spacing: 1px\">\n",
              "        <textPath xlink:href=\"#arrow-79174d05cdc948eba8bcec87dd32bd98-2-2\" class=\"displacy-label\" startOffset=\"50%\" side=\"left\" fill=\"currentColor\" text-anchor=\"middle\">xcomp</textPath>\n",
              "    </text>\n",
              "    <path class=\"displacy-arrowhead\" d=\"M560.0,441.5 L568.0,429.5 552.0,429.5\" fill=\"currentColor\"/>\n",
              "</g>\n",
              "\n",
              "<g class=\"displacy-arrow\">\n",
              "    <path class=\"displacy-arc\" id=\"arrow-79174d05cdc948eba8bcec87dd32bd98-2-3\" stroke-width=\"2px\" d=\"M770,439.5 C770,352.0 905.0,352.0 905.0,439.5\" fill=\"none\" stroke=\"currentColor\"/>\n",
              "    <text dy=\"1.25em\" style=\"font-size: 0.8em; letter-spacing: 1px\">\n",
              "        <textPath xlink:href=\"#arrow-79174d05cdc948eba8bcec87dd32bd98-2-3\" class=\"displacy-label\" startOffset=\"50%\" side=\"left\" fill=\"currentColor\" text-anchor=\"middle\">amod</textPath>\n",
              "    </text>\n",
              "    <path class=\"displacy-arrowhead\" d=\"M770,441.5 L762,429.5 778,429.5\" fill=\"currentColor\"/>\n",
              "</g>\n",
              "\n",
              "<g class=\"displacy-arrow\">\n",
              "    <path class=\"displacy-arc\" id=\"arrow-79174d05cdc948eba8bcec87dd32bd98-2-4\" stroke-width=\"2px\" d=\"M595,439.5 C595,264.5 910.0,264.5 910.0,439.5\" fill=\"none\" stroke=\"currentColor\"/>\n",
              "    <text dy=\"1.25em\" style=\"font-size: 0.8em; letter-spacing: 1px\">\n",
              "        <textPath xlink:href=\"#arrow-79174d05cdc948eba8bcec87dd32bd98-2-4\" class=\"displacy-label\" startOffset=\"50%\" side=\"left\" fill=\"currentColor\" text-anchor=\"middle\">acomp</textPath>\n",
              "    </text>\n",
              "    <path class=\"displacy-arrowhead\" d=\"M910.0,441.5 L918.0,429.5 902.0,429.5\" fill=\"currentColor\"/>\n",
              "</g>\n",
              "\n",
              "<g class=\"displacy-arrow\">\n",
              "    <path class=\"displacy-arc\" id=\"arrow-79174d05cdc948eba8bcec87dd32bd98-2-5\" stroke-width=\"2px\" d=\"M1120,439.5 C1120,264.5 1610.0,264.5 1610.0,439.5\" fill=\"none\" stroke=\"currentColor\"/>\n",
              "    <text dy=\"1.25em\" style=\"font-size: 0.8em; letter-spacing: 1px\">\n",
              "        <textPath xlink:href=\"#arrow-79174d05cdc948eba8bcec87dd32bd98-2-5\" class=\"displacy-label\" startOffset=\"50%\" side=\"left\" fill=\"currentColor\" text-anchor=\"middle\">advmod</textPath>\n",
              "    </text>\n",
              "    <path class=\"displacy-arrowhead\" d=\"M1120,441.5 L1112,429.5 1128,429.5\" fill=\"currentColor\"/>\n",
              "</g>\n",
              "\n",
              "<g class=\"displacy-arrow\">\n",
              "    <path class=\"displacy-arc\" id=\"arrow-79174d05cdc948eba8bcec87dd32bd98-2-6\" stroke-width=\"2px\" d=\"M1295,439.5 C1295,352.0 1430.0,352.0 1430.0,439.5\" fill=\"none\" stroke=\"currentColor\"/>\n",
              "    <text dy=\"1.25em\" style=\"font-size: 0.8em; letter-spacing: 1px\">\n",
              "        <textPath xlink:href=\"#arrow-79174d05cdc948eba8bcec87dd32bd98-2-6\" class=\"displacy-label\" startOffset=\"50%\" side=\"left\" fill=\"currentColor\" text-anchor=\"middle\">compound</textPath>\n",
              "    </text>\n",
              "    <path class=\"displacy-arrowhead\" d=\"M1295,441.5 L1287,429.5 1303,429.5\" fill=\"currentColor\"/>\n",
              "</g>\n",
              "\n",
              "<g class=\"displacy-arrow\">\n",
              "    <path class=\"displacy-arc\" id=\"arrow-79174d05cdc948eba8bcec87dd32bd98-2-7\" stroke-width=\"2px\" d=\"M1470,439.5 C1470,352.0 1605.0,352.0 1605.0,439.5\" fill=\"none\" stroke=\"currentColor\"/>\n",
              "    <text dy=\"1.25em\" style=\"font-size: 0.8em; letter-spacing: 1px\">\n",
              "        <textPath xlink:href=\"#arrow-79174d05cdc948eba8bcec87dd32bd98-2-7\" class=\"displacy-label\" startOffset=\"50%\" side=\"left\" fill=\"currentColor\" text-anchor=\"middle\">nsubj</textPath>\n",
              "    </text>\n",
              "    <path class=\"displacy-arrowhead\" d=\"M1470,441.5 L1462,429.5 1478,429.5\" fill=\"currentColor\"/>\n",
              "</g>\n",
              "\n",
              "<g class=\"displacy-arrow\">\n",
              "    <path class=\"displacy-arc\" id=\"arrow-79174d05cdc948eba8bcec87dd32bd98-2-8\" stroke-width=\"2px\" d=\"M595,439.5 C595,177.0 1615.0,177.0 1615.0,439.5\" fill=\"none\" stroke=\"currentColor\"/>\n",
              "    <text dy=\"1.25em\" style=\"font-size: 0.8em; letter-spacing: 1px\">\n",
              "        <textPath xlink:href=\"#arrow-79174d05cdc948eba8bcec87dd32bd98-2-8\" class=\"displacy-label\" startOffset=\"50%\" side=\"left\" fill=\"currentColor\" text-anchor=\"middle\">advcl</textPath>\n",
              "    </text>\n",
              "    <path class=\"displacy-arrowhead\" d=\"M1615.0,441.5 L1623.0,429.5 1607.0,429.5\" fill=\"currentColor\"/>\n",
              "</g>\n",
              "\n",
              "<g class=\"displacy-arrow\">\n",
              "    <path class=\"displacy-arc\" id=\"arrow-79174d05cdc948eba8bcec87dd32bd98-2-9\" stroke-width=\"2px\" d=\"M245,439.5 C245,89.5 1795.0,89.5 1795.0,439.5\" fill=\"none\" stroke=\"currentColor\"/>\n",
              "    <text dy=\"1.25em\" style=\"font-size: 0.8em; letter-spacing: 1px\">\n",
              "        <textPath xlink:href=\"#arrow-79174d05cdc948eba8bcec87dd32bd98-2-9\" class=\"displacy-label\" startOffset=\"50%\" side=\"left\" fill=\"currentColor\" text-anchor=\"middle\">cc</textPath>\n",
              "    </text>\n",
              "    <path class=\"displacy-arrowhead\" d=\"M1795.0,441.5 L1803.0,429.5 1787.0,429.5\" fill=\"currentColor\"/>\n",
              "</g>\n",
              "\n",
              "<g class=\"displacy-arrow\">\n",
              "    <path class=\"displacy-arc\" id=\"arrow-79174d05cdc948eba8bcec87dd32bd98-2-10\" stroke-width=\"2px\" d=\"M245,439.5 C245,2.0 1975.0,2.0 1975.0,439.5\" fill=\"none\" stroke=\"currentColor\"/>\n",
              "    <text dy=\"1.25em\" style=\"font-size: 0.8em; letter-spacing: 1px\">\n",
              "        <textPath xlink:href=\"#arrow-79174d05cdc948eba8bcec87dd32bd98-2-10\" class=\"displacy-label\" startOffset=\"50%\" side=\"left\" fill=\"currentColor\" text-anchor=\"middle\">conj</textPath>\n",
              "    </text>\n",
              "    <path class=\"displacy-arrowhead\" d=\"M1975.0,441.5 L1983.0,429.5 1967.0,429.5\" fill=\"currentColor\"/>\n",
              "</g>\n",
              "\n",
              "<g class=\"displacy-arrow\">\n",
              "    <path class=\"displacy-arc\" id=\"arrow-79174d05cdc948eba8bcec87dd32bd98-2-11\" stroke-width=\"2px\" d=\"M2170,439.5 C2170,352.0 2305.0,352.0 2305.0,439.5\" fill=\"none\" stroke=\"currentColor\"/>\n",
              "    <text dy=\"1.25em\" style=\"font-size: 0.8em; letter-spacing: 1px\">\n",
              "        <textPath xlink:href=\"#arrow-79174d05cdc948eba8bcec87dd32bd98-2-11\" class=\"displacy-label\" startOffset=\"50%\" side=\"left\" fill=\"currentColor\" text-anchor=\"middle\">poss</textPath>\n",
              "    </text>\n",
              "    <path class=\"displacy-arrowhead\" d=\"M2170,441.5 L2162,429.5 2178,429.5\" fill=\"currentColor\"/>\n",
              "</g>\n",
              "\n",
              "<g class=\"displacy-arrow\">\n",
              "    <path class=\"displacy-arc\" id=\"arrow-79174d05cdc948eba8bcec87dd32bd98-2-12\" stroke-width=\"2px\" d=\"M2345,439.5 C2345,352.0 2480.0,352.0 2480.0,439.5\" fill=\"none\" stroke=\"currentColor\"/>\n",
              "    <text dy=\"1.25em\" style=\"font-size: 0.8em; letter-spacing: 1px\">\n",
              "        <textPath xlink:href=\"#arrow-79174d05cdc948eba8bcec87dd32bd98-2-12\" class=\"displacy-label\" startOffset=\"50%\" side=\"left\" fill=\"currentColor\" text-anchor=\"middle\">nsubj</textPath>\n",
              "    </text>\n",
              "    <path class=\"displacy-arrowhead\" d=\"M2345,441.5 L2337,429.5 2353,429.5\" fill=\"currentColor\"/>\n",
              "</g>\n",
              "\n",
              "<g class=\"displacy-arrow\">\n",
              "    <path class=\"displacy-arc\" id=\"arrow-79174d05cdc948eba8bcec87dd32bd98-2-13\" stroke-width=\"2px\" d=\"M1995,439.5 C1995,264.5 2485.0,264.5 2485.0,439.5\" fill=\"none\" stroke=\"currentColor\"/>\n",
              "    <text dy=\"1.25em\" style=\"font-size: 0.8em; letter-spacing: 1px\">\n",
              "        <textPath xlink:href=\"#arrow-79174d05cdc948eba8bcec87dd32bd98-2-13\" class=\"displacy-label\" startOffset=\"50%\" side=\"left\" fill=\"currentColor\" text-anchor=\"middle\">ccomp</textPath>\n",
              "    </text>\n",
              "    <path class=\"displacy-arrowhead\" d=\"M2485.0,441.5 L2493.0,429.5 2477.0,429.5\" fill=\"currentColor\"/>\n",
              "</g>\n",
              "\n",
              "<g class=\"displacy-arrow\">\n",
              "    <path class=\"displacy-arc\" id=\"arrow-79174d05cdc948eba8bcec87dd32bd98-2-14\" stroke-width=\"2px\" d=\"M2695,439.5 C2695,264.5 3010.0,264.5 3010.0,439.5\" fill=\"none\" stroke=\"currentColor\"/>\n",
              "    <text dy=\"1.25em\" style=\"font-size: 0.8em; letter-spacing: 1px\">\n",
              "        <textPath xlink:href=\"#arrow-79174d05cdc948eba8bcec87dd32bd98-2-14\" class=\"displacy-label\" startOffset=\"50%\" side=\"left\" fill=\"currentColor\" text-anchor=\"middle\">advmod</textPath>\n",
              "    </text>\n",
              "    <path class=\"displacy-arrowhead\" d=\"M2695,441.5 L2687,429.5 2703,429.5\" fill=\"currentColor\"/>\n",
              "</g>\n",
              "\n",
              "<g class=\"displacy-arrow\">\n",
              "    <path class=\"displacy-arc\" id=\"arrow-79174d05cdc948eba8bcec87dd32bd98-2-15\" stroke-width=\"2px\" d=\"M2870,439.5 C2870,352.0 3005.0,352.0 3005.0,439.5\" fill=\"none\" stroke=\"currentColor\"/>\n",
              "    <text dy=\"1.25em\" style=\"font-size: 0.8em; letter-spacing: 1px\">\n",
              "        <textPath xlink:href=\"#arrow-79174d05cdc948eba8bcec87dd32bd98-2-15\" class=\"displacy-label\" startOffset=\"50%\" side=\"left\" fill=\"currentColor\" text-anchor=\"middle\">nsubj</textPath>\n",
              "    </text>\n",
              "    <path class=\"displacy-arrowhead\" d=\"M2870,441.5 L2862,429.5 2878,429.5\" fill=\"currentColor\"/>\n",
              "</g>\n",
              "\n",
              "<g class=\"displacy-arrow\">\n",
              "    <path class=\"displacy-arc\" id=\"arrow-79174d05cdc948eba8bcec87dd32bd98-2-16\" stroke-width=\"2px\" d=\"M1995,439.5 C1995,177.0 3015.0,177.0 3015.0,439.5\" fill=\"none\" stroke=\"currentColor\"/>\n",
              "    <text dy=\"1.25em\" style=\"font-size: 0.8em; letter-spacing: 1px\">\n",
              "        <textPath xlink:href=\"#arrow-79174d05cdc948eba8bcec87dd32bd98-2-16\" class=\"displacy-label\" startOffset=\"50%\" side=\"left\" fill=\"currentColor\" text-anchor=\"middle\">advcl</textPath>\n",
              "    </text>\n",
              "    <path class=\"displacy-arrowhead\" d=\"M3015.0,441.5 L3023.0,429.5 3007.0,429.5\" fill=\"currentColor\"/>\n",
              "</g>\n",
              "\n",
              "<g class=\"displacy-arrow\">\n",
              "    <path class=\"displacy-arc\" id=\"arrow-79174d05cdc948eba8bcec87dd32bd98-2-17\" stroke-width=\"2px\" d=\"M3220,439.5 C3220,352.0 3355.0,352.0 3355.0,439.5\" fill=\"none\" stroke=\"currentColor\"/>\n",
              "    <text dy=\"1.25em\" style=\"font-size: 0.8em; letter-spacing: 1px\">\n",
              "        <textPath xlink:href=\"#arrow-79174d05cdc948eba8bcec87dd32bd98-2-17\" class=\"displacy-label\" startOffset=\"50%\" side=\"left\" fill=\"currentColor\" text-anchor=\"middle\">nsubj</textPath>\n",
              "    </text>\n",
              "    <path class=\"displacy-arrowhead\" d=\"M3220,441.5 L3212,429.5 3228,429.5\" fill=\"currentColor\"/>\n",
              "</g>\n",
              "\n",
              "<g class=\"displacy-arrow\">\n",
              "    <path class=\"displacy-arc\" id=\"arrow-79174d05cdc948eba8bcec87dd32bd98-2-18\" stroke-width=\"2px\" d=\"M3045,439.5 C3045,264.5 3360.0,264.5 3360.0,439.5\" fill=\"none\" stroke=\"currentColor\"/>\n",
              "    <text dy=\"1.25em\" style=\"font-size: 0.8em; letter-spacing: 1px\">\n",
              "        <textPath xlink:href=\"#arrow-79174d05cdc948eba8bcec87dd32bd98-2-18\" class=\"displacy-label\" startOffset=\"50%\" side=\"left\" fill=\"currentColor\" text-anchor=\"middle\">ccomp</textPath>\n",
              "    </text>\n",
              "    <path class=\"displacy-arrowhead\" d=\"M3360.0,441.5 L3368.0,429.5 3352.0,429.5\" fill=\"currentColor\"/>\n",
              "</g>\n",
              "</svg></span>"
            ]
          },
          "metadata": {}
        }
      ],
      "source": [
        "from spacy import displacy\n",
        "displacy.render(sentences, style = \"dep\", jupyter=True)"
      ]
    },
    {
      "cell_type": "markdown",
      "metadata": {
        "id": "CnXN__YniaDQ"
      },
      "source": [
        "## ✍️ Final Assessment"
      ]
    },
    {
      "cell_type": "markdown",
      "metadata": {
        "id": "U41cETTCiaDR"
      },
      "source": [
        "[5 marks] Question 1. Write a function to calculate the $N_{th}$ Finbonacci number without `for` loop using the folloing formula:\n",
        "$$\n",
        "f_n = \\frac{a^n - b^n}{a - b} = \\frac{a^n - b^n}{\\sqrt{5}}\n",
        "$$\n",
        "where $a = \\frac{1 + \\sqrt{5}}{2}$ and $b = \\frac{1- \\sqrt{5}}{2}$.\n",
        "\n",
        "Note that you are only required to implement the code according to the formula, and you don't have to know how the formula is derived, but in case you are interested, you can have a look at [Wikipedia](https://en.wikipedia.org/wiki/Fibonacci_number) and the derivations of the closed form formula [here](https://en.wikipedia.org/wiki/Fibonacci_number#Closed-form_expression)."
      ]
    },
    {
      "cell_type": "code",
      "execution_count": 74,
      "metadata": {
        "id": "tkWhkaBIVp8h",
        "colab": {
          "base_uri": "https://localhost:8080/"
        },
        "outputId": "ec20c182-60b5-447e-e6a9-b81f651cd04e"
      },
      "outputs": [
        {
          "output_type": "stream",
          "name": "stdout",
          "text": [
            "Please enter a number: 4\n",
            "Fibonacci number 4 is: 3\n"
          ]
        }
      ],
      "source": [
        "def fib(n): #define function with parameter n\n",
        "    a = (1 + 5 ** 0.5) / 2 #assign value to a\n",
        "    b = (1 - 5 ** 0.5) / 2 #assign value to b\n",
        "    return (a ** n - b ** n) / (a - b) #return result of calculation using a, b, and parameter n\n",
        "\n",
        "num = int(input(\"Please enter a number: \")) #user inputs an integer\n",
        "\n",
        "print(\"Fibonacci number\", num, \"is:\", int(fib(num))) #outputs result with num as parameter for function\n",
        "#int used for fib(num) output to avoid long decimals\n",
        "#e.g. output of 4 is 3, not 3.0000000000000004"
      ]
    },
    {
      "cell_type": "markdown",
      "metadata": {
        "id": "3oFBidXGiaDU"
      },
      "source": [
        "[8 marks] Question 2. Tokenize the following sentences with RE:\n",
        "```\n",
        "sents = \"\"\"He asked: \"When will you graduate?\"\\n\"I will get my Ph.D. degree(Doctor of Philosophy) in a few years, hehe. And get $123,45675.45.\" I answered. END\"\"\"\n",
        "```\n",
        "How many token types are there in total?"
      ]
    },
    {
      "cell_type": "code",
      "execution_count": 68,
      "metadata": {
        "id": "MWKcdqMfVp8j",
        "colab": {
          "base_uri": "https://localhost:8080/"
        },
        "outputId": "a472e3ab-f7cd-4f27-8cf4-40e5b9d8607b"
      },
      "outputs": [
        {
          "output_type": "stream",
          "name": "stdout",
          "text": [
            "There are 23 token types.\n"
          ]
        }
      ],
      "source": [
        "sents = \"\"\"He asked: \"When will you graduate?\"\\n\"I will get my Ph.D. degree(Doctor of Philosophy) in a few years, hehe. And get $123,45675.45.\" I answered. END\"\"\"\n",
        "\n",
        "token_types = len(set(sents.split()))\n",
        "print(\"There are\", token_types, \"token types.\")"
      ]
    },
    {
      "cell_type": "markdown",
      "metadata": {
        "id": "OXq7klDBiaDd"
      },
      "source": [
        "[2 marks] Question 3. Tokenize the previous sentences with SpaCy. How many token types are there in total?"
      ]
    },
    {
      "cell_type": "code",
      "execution_count": 70,
      "metadata": {
        "id": "SKU-ODFaVp8m",
        "colab": {
          "base_uri": "https://localhost:8080/"
        },
        "outputId": "1202339b-e0d4-4d83-897c-3a785b4eb1f8"
      },
      "outputs": [
        {
          "output_type": "stream",
          "name": "stdout",
          "text": [
            "There are 30 token types.\n"
          ]
        }
      ],
      "source": [
        "sents = \"\"\"He asked: \"When will you graduate?\"\\n\"I will get my Ph.D. degree(Doctor of Philosophy) in a few years, hehe. And get $123,45675.45.\" I answered. END\"\"\"\n",
        "\n",
        "nlp = spacy.load(\"en_core_web_sm\")\n",
        "doc = nlp(sents)\n",
        "token_types = len(set([token.text for token in doc]))\n",
        "print(\"There are\", token_types, \"token types.\")"
      ]
    },
    {
      "cell_type": "markdown",
      "metadata": {
        "id": "E6WVbaMuiaDf"
      },
      "source": [
        "## External Resources"
      ]
    },
    {
      "cell_type": "markdown",
      "metadata": {
        "id": "zL6CoT4KiaDf"
      },
      "source": [
        "- [How To Define Functions in Python 3](https://www.digitalocean.com/community/tutorials/how-to-define-functions-in-python-3)\n",
        "- [Regular Expression HOWTO](https://docs.python.org/3.6/howto/regex.html#regex-howto)\n",
        "- [Regular Expression Documentation](https://docs.python.org/3.6/library/re.html)\n",
        "- [Eliza](https://github.com/jezhiggins/eliza.py/blob/master/eliza.py)\n",
        "- [spaCy 101: Everything you need to know](https://spacy.io/usage/spacy-101#_title)\n",
        "- [Advanced NLP with spaCy](https://course.spacy.io/)"
      ]
    },
    {
      "cell_type": "markdown",
      "metadata": {
        "id": "JQpENhrXVp8o"
      },
      "source": [
        "# Survey\n",
        "\n",
        "Please complete the [post-module survey](https://docs.google.com/forms/d/e/1FAIpQLSeLX1N344kBn8q9PTgg455lrzvVzzI5IW9itF4cT_WqeQKaFQ/viewform) when you are finished. Thank you!"
      ]
    },
    {
      "cell_type": "markdown",
      "metadata": {
        "id": "kkBWDFnwiaDg"
      },
      "source": [
        "# Next Module\n",
        "\n",
        "[Click here](../module_1.4/module_1.4.ipynb) to move to the next module."
      ]
    }
  ],
  "metadata": {
    "colab": {
      "name": "module_1.3.ipynb",
      "provenance": []
    },
    "kernelspec": {
      "display_name": "Python 3",
      "language": "python",
      "name": "python3"
    },
    "language_info": {
      "codemirror_mode": {
        "name": "ipython",
        "version": 3
      },
      "file_extension": ".py",
      "mimetype": "text/x-python",
      "name": "python",
      "nbconvert_exporter": "python",
      "pygments_lexer": "ipython3",
      "version": "3.6.8"
    },
    "toc": {
      "base_numbering": 1,
      "nav_menu": {},
      "number_sections": true,
      "sideBar": true,
      "skip_h1_title": false,
      "title_cell": "Table of Contents",
      "title_sidebar": "Contents",
      "toc_cell": false,
      "toc_position": {},
      "toc_section_display": true,
      "toc_window_display": true
    },
    "varInspector": {
      "cols": {
        "lenName": 16,
        "lenType": 16,
        "lenVar": 40
      },
      "kernels_config": {
        "python": {
          "delete_cmd_postfix": "",
          "delete_cmd_prefix": "del ",
          "library": "var_list.py",
          "varRefreshCmd": "print(var_dic_list())"
        },
        "r": {
          "delete_cmd_postfix": ") ",
          "delete_cmd_prefix": "rm(",
          "library": "var_list.r",
          "varRefreshCmd": "cat(var_dic_list()) "
        }
      },
      "types_to_exclude": [
        "module",
        "function",
        "builtin_function_or_method",
        "instance",
        "_Feature"
      ],
      "window_display": false
    }
  },
  "nbformat": 4,
  "nbformat_minor": 0
}