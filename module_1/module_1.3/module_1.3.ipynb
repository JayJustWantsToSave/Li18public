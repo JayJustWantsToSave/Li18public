{
  "cells": [
    {
      "cell_type": "markdown",
      "metadata": {
        "id": "StAgzSRNiZ9U"
      },
      "source": [
        "# Python for Computational Linguists 1.3: Basic NLP with Python\n"
      ]
    },
    {
      "cell_type": "markdown",
      "metadata": {
        "id": "LvqkJOQriZ9X"
      },
      "source": [
        "## Introduction"
      ]
    },
    {
      "cell_type": "markdown",
      "metadata": {
        "id": "NGLNhGYuiZ9Z"
      },
      "source": [
        "In this module, we will cover\n",
        "- functions;\n",
        "- regular expressions;\n",
        "- spaCy;"
      ]
    },
    {
      "cell_type": "markdown",
      "metadata": {
        "id": "A1noIyp0iZ9b"
      },
      "source": [
        "## Functions"
      ]
    },
    {
      "cell_type": "markdown",
      "metadata": {
        "id": "m5oAlB7YiZ9d"
      },
      "source": [
        "This section is built on this [tutorial](https://www.digitalocean.com/community/tutorials/how-to-define-functions-in-python-3), and students are strongly recommended to go through it.\n",
        "\n",
        "> A *function* is a block of instructions that performs an action and, once defined, can be reused. Functions make code more modular, allowing you to use the same code over and over again.\n",
        "\n",
        "Python has a number of built-in functions that you may be familiar with, including:\n",
        "\n",
        "- `print()` which will print an object to the terminal;\n",
        "- `int()` which will convert a string or number data type to an integer data type;\n",
        "- `len()` which returns the length of an object."
      ]
    },
    {
      "cell_type": "code",
      "execution_count": null,
      "metadata": {
        "id": "q7owoG-OiZ9f"
      },
      "outputs": [],
      "source": [
        "print('hello world!')"
      ]
    },
    {
      "cell_type": "code",
      "execution_count": null,
      "metadata": {
        "id": "Js33i8qriZ9r"
      },
      "outputs": [],
      "source": [
        "int(3.5)"
      ]
    },
    {
      "cell_type": "code",
      "execution_count": null,
      "metadata": {
        "id": "jQh4pJuiiZ91"
      },
      "outputs": [],
      "source": [
        "len([1,2,3])"
      ]
    },
    {
      "cell_type": "markdown",
      "metadata": {
        "id": "c0pPuDHSiZ97"
      },
      "source": [
        "Another similar concept is `method`. Check [here](https://stackoverflow.com/questions/155609/whats-the-difference-between-a-method-and-a-function) for their difference."
      ]
    },
    {
      "cell_type": "markdown",
      "metadata": {
        "id": "Z3gWa1jviZ99"
      },
      "source": [
        "Now let's learn how to define and call functions."
      ]
    },
    {
      "cell_type": "markdown",
      "metadata": {
        "id": "OyXGSCF-iZ9-"
      },
      "source": [
        "### Define a function"
      ]
    },
    {
      "cell_type": "markdown",
      "metadata": {
        "id": "nSWbxxs_iZ9_"
      },
      "source": [
        "A function is defined by using the `def` keyword, followed by\n",
        "1. a **function name** of your choosing;\n",
        "2. a set of parentheses which hold any **parameters** the function will take (they can be empty);\n",
        "3. an ending **colon**;\n",
        "4. function **content code**."
      ]
    },
    {
      "cell_type": "markdown",
      "metadata": {
        "id": "jGzPQD11iZ-B"
      },
      "source": [
        "Let's define a simple function `hello()`that prints **hello world**."
      ]
    },
    {
      "cell_type": "code",
      "execution_count": null,
      "metadata": {
        "id": "JrKBQJtDiZ-C"
      },
      "outputs": [],
      "source": [
        "def hello():\n",
        "    print('hello world')"
      ]
    },
    {
      "cell_type": "markdown",
      "metadata": {
        "id": "1hp8kl9niZ-J"
      },
      "source": [
        "Note that\n",
        "- We do not have any parameter for this function, and we will discuss on it in more details later;\n",
        "- To start our real function content code, python requires a 4-space indent, as shown above.\n",
        "\n",
        "Now we have defined our first function. In order to let the program run this function, we still need to call the function, just like what we did to the python built-in functions:"
      ]
    },
    {
      "cell_type": "code",
      "execution_count": null,
      "metadata": {
        "id": "hOrL3uq7iZ-K"
      },
      "outputs": [],
      "source": [
        "hello()"
      ]
    },
    {
      "cell_type": "markdown",
      "metadata": {
        "id": "lNAXJRIYiZ-P"
      },
      "source": [
        "Functions can be more complicated. For example, we can use `for` loops, conditional statements, and more within our function block.\n",
        "\n",
        "For example, the function defined below utilizes a conditional statement to check if the input for the name variable contains a vowel, then uses a for loop to iterate over the letters in the name string."
      ]
    },
    {
      "cell_type": "code",
      "execution_count": 2,
      "metadata": {
        "id": "edZuOKldiZ-R"
      },
      "outputs": [],
      "source": [
        "# Define function names()\n",
        "def names():\n",
        "    # Set up name variable with input\n",
        "    name = str(input('Enter your name: '))\n",
        "    # Check whether name has a vowel\n",
        "    if set('aeiou').intersection(name.lower()):\n",
        "        print('Your name contains a vowel.')\n",
        "    else:\n",
        "        print('Your name does not contain a vowel.')\n",
        "\n",
        "    # Iterate over name\n",
        "    for letter in name:\n",
        "        print(letter)"
      ]
    },
    {
      "cell_type": "code",
      "execution_count": 3,
      "metadata": {
        "id": "tzd9Ktz7iZ-W",
        "colab": {
          "base_uri": "https://localhost:8080/"
        },
        "outputId": "2dafcf5e-ea03-4c98-fe9a-2f16f7c0845c"
      },
      "outputs": [
        {
          "output_type": "stream",
          "name": "stdout",
          "text": [
            "Enter your name: Jay\n",
            "Your name contains a vowel.\n",
            "J\n",
            "a\n",
            "y\n"
          ]
        }
      ],
      "source": [
        "# Call the function\n",
        "names()"
      ]
    },
    {
      "cell_type": "markdown",
      "metadata": {
        "id": "q9uY96kIiZ-b"
      },
      "source": [
        "The `names()` function sets up a conditional statement and a for loop, showing how code can be organized within a function definition.\n",
        "\n",
        "> Defining functions within a program makes our code modular and reusable so that we can call the same functions without rewriting them."
      ]
    },
    {
      "cell_type": "markdown",
      "metadata": {
        "id": "XzT4hNmQiZ-d"
      },
      "source": [
        "### Function parameters"
      ]
    },
    {
      "cell_type": "markdown",
      "metadata": {
        "id": "utzVT3ASiZ-e"
      },
      "source": [
        "So far we have looked at functions with empty parentheses, but we can define parameters in function definitions within their parentheses.\n",
        "\n",
        "> A parameter is a variable in the definition of a function that the function can accept.\n",
        "\n",
        "Let’s create a function that takes three parameters `x`, `y`, `z`, and adds them in different configurations. The sums of these will be printed by the function. Then we’ll call the function and pass numbers into the function."
      ]
    },
    {
      "cell_type": "code",
      "execution_count": 1,
      "metadata": {
        "id": "rwUNe7mPiZ-f"
      },
      "outputs": [],
      "source": [
        "def add_numbers(x, y, z):\n",
        "    a = x + y\n",
        "    b = x + z\n",
        "    c = y + z\n",
        "    print(a, b, c)"
      ]
    },
    {
      "cell_type": "markdown",
      "metadata": {
        "id": "sCdd_WrOiZ-l"
      },
      "source": [
        "Now we can pass the `arguments` we want into the function to call it. Check [here](https://www.quora.com/What-is-the-difference-between-argument-and-parameters-in-C) for the difference between parameter and argument."
      ]
    },
    {
      "cell_type": "code",
      "execution_count": 4,
      "metadata": {
        "id": "t4YQoRhDiZ-m",
        "colab": {
          "base_uri": "https://localhost:8080/"
        },
        "outputId": "a1de1349-5dfd-42b1-ac0a-477f73203a3b"
      },
      "outputs": [
        {
          "output_type": "stream",
          "name": "stdout",
          "text": [
            "3 4 5\n"
          ]
        }
      ],
      "source": [
        "add_numbers(1, 2, 3)"
      ]
    },
    {
      "cell_type": "markdown",
      "metadata": {
        "id": "lGt9pKW0iZ-s"
      },
      "source": [
        "We passed the number `1` in for the `x` parameter, `2` in for the `y` parameter, and `3` in for the `z` parameter. These values correspond with each parameter in the order they are given."
      ]
    },
    {
      "cell_type": "code",
      "execution_count": 5,
      "metadata": {
        "id": "mqn4aCDbiZ-t",
        "colab": {
          "base_uri": "https://localhost:8080/"
        },
        "outputId": "05ba8c08-68fb-4261-df10-522cd47a9854"
      },
      "outputs": [
        {
          "output_type": "stream",
          "name": "stdout",
          "text": [
            "10 12 14\n",
            "ab ac bc\n"
          ]
        }
      ],
      "source": [
        "# try different arguments\n",
        "add_numbers(4, 6, 8)\n",
        "add_numbers('a', 'b', 'c') # how does it work?"
      ]
    },
    {
      "cell_type": "markdown",
      "metadata": {
        "collapsed": true,
        "id": "6tlFQKyBiZ-1"
      },
      "source": [
        "> **<h3>💻 Try it yourself!</h3>**\n",
        "\n",
        "Write a function that, given an input list of integers, prints their average."
      ]
    },
    {
      "cell_type": "code",
      "execution_count": 10,
      "metadata": {
        "id": "tfuV5bXEiZ-2",
        "colab": {
          "base_uri": "https://localhost:8080/"
        },
        "outputId": "be511a0f-4f17-4850-8be5-963360017200"
      },
      "outputs": [
        {
          "output_type": "stream",
          "name": "stdout",
          "text": [
            "Enter a number: 1\n",
            "Enter a number: 3\n",
            "Enter a number: 15\n",
            "Enter a number: 18\n",
            "Enter a number: 2\n",
            "7.8\n"
          ]
        }
      ],
      "source": [
        "def get_average_list(input_list):\n",
        "    # TODO: write your code here\n",
        "    print(sum(input_list) / len(input_list))\n",
        "\n",
        "numlist = []\n",
        "for i in range(5):\n",
        "    num = int(input(\"Enter a number: \"))\n",
        "    numlist.append(num)\n",
        "get_average_list(numlist)\n"
      ]
    },
    {
      "cell_type": "markdown",
      "metadata": {
        "id": "Qrfr-xSGiZ-7"
      },
      "source": [
        "<details>\n",
        "  <summary>Click <b>here</b> to see the answer.</summary>\n",
        "  <p><pre><code>\n",
        "  def get_average_list(input_list):\n",
        "      print(sum(input_list) / len(input_list))\n",
        "  </code></pre></p>\n",
        "</details>"
      ]
    },
    {
      "cell_type": "markdown",
      "metadata": {
        "id": "9alVSUysiZ-8"
      },
      "source": [
        "> **<h3>💻 Try it yourself!</h3>**\n",
        "\n",
        "Write a function that, given an input string, computes and prints the following statistics:\n",
        "- Total number of characters.\n",
        "- Total number of tokens.\n",
        "- Total number of word types (i.e., distinct tokens) *Hint: there is a datatype that can help you with this!*"
      ]
    },
    {
      "cell_type": "code",
      "execution_count": 13,
      "metadata": {
        "id": "57wlqV_tiZ-9",
        "colab": {
          "base_uri": "https://localhost:8080/"
        },
        "outputId": "49912822-fafd-4bae-b57c-6d4f229f07ff"
      },
      "outputs": [
        {
          "output_type": "stream",
          "name": "stdout",
          "text": [
            "The given input string contains 39 characters, 12 tokens and 7 types\n"
          ]
        }
      ],
      "source": [
        "def string_statistics(s):\n",
        "    tot_characters = len(test_string)#TODO\n",
        "    tot_tokens = len(test_string.split())#TODO\n",
        "    tot_types = len(set(test_string.split()))#TODO\n",
        "\n",
        "    print(\"The given input string contains\", tot_characters, \"characters,\",\\\n",
        "         tot_tokens, \"tokens and\", tot_types, \"types\")\n",
        "\n",
        "# Test your function here!\n",
        "test_string = \"To be or not to be, not to be or to be!\"\n",
        "string_statistics(test_string)"
      ]
    },
    {
      "cell_type": "markdown",
      "metadata": {
        "id": "E7pNUD9gVp3S"
      },
      "source": [
        "<details>\n",
        "  <summary>Click <b>here</b> to see the answer.</summary>\n",
        "  <p><pre><code>\n",
        "    tot_characters = len(test_string)\n",
        "    tot_tokens = len(test_string.split())\n",
        "    tot_types = len(set(test_string.split()))\n",
        "  </code></pre></p>\n",
        "</details>"
      ]
    },
    {
      "cell_type": "markdown",
      "metadata": {
        "id": "r0bJtIkjiZ_C"
      },
      "source": [
        "### Keyword Arguments"
      ]
    },
    {
      "cell_type": "markdown",
      "metadata": {
        "id": "KRJkuyspiZ_G"
      },
      "source": [
        "We can also use keyword arguments in a function call to identify the arguments by the parameter name.\n",
        "\n",
        "When using keyword arguments, we can use parameters out of order because the Python interpreter will use the keywords provided to match the values to the parameters:"
      ]
    },
    {
      "cell_type": "code",
      "execution_count": 14,
      "metadata": {
        "id": "VY8cDmgViZ_H",
        "colab": {
          "base_uri": "https://localhost:8080/"
        },
        "outputId": "150fb708-938e-4f27-b8be-2ec5b9eeda4f"
      },
      "outputs": [
        {
          "output_type": "stream",
          "name": "stdout",
          "text": [
            "10 12 14\n",
            "10 12 14\n"
          ]
        }
      ],
      "source": [
        "add_numbers(x = 4, y = 6, z = 8)\n",
        "add_numbers(y = 6, x = 4, z = 8) # out of order, but same arguments"
      ]
    },
    {
      "cell_type": "markdown",
      "metadata": {
        "id": "ZiUi-ihsiZ_O"
      },
      "source": [
        "### Default Argument Values"
      ]
    },
    {
      "cell_type": "markdown",
      "metadata": {
        "id": "JCQD2xEUiZ_O"
      },
      "source": [
        "We can also provide default values for one or more parameters, so the parameters will be set to the default values\n",
        "if we do not mention them when calling the function."
      ]
    },
    {
      "cell_type": "code",
      "execution_count": 15,
      "metadata": {
        "id": "IP-7iag1iZ_P"
      },
      "outputs": [],
      "source": [
        "def add_numbers_default_value(x, y = 6, z = 10):\n",
        "    a = x + y\n",
        "    b = x + z\n",
        "    c = y + z\n",
        "    print(a, b, c)"
      ]
    },
    {
      "cell_type": "code",
      "execution_count": 16,
      "metadata": {
        "id": "aJdszbfWiZ_T",
        "colab": {
          "base_uri": "https://localhost:8080/"
        },
        "outputId": "72043469-803f-4fe5-9f83-b2b9c36fdf5c"
      },
      "outputs": [
        {
          "output_type": "stream",
          "name": "stdout",
          "text": [
            "10 14 16\n",
            "10 14 16\n"
          ]
        }
      ],
      "source": [
        "add_numbers_default_value(4)\n",
        "add_numbers_default_value(x = 4)"
      ]
    },
    {
      "cell_type": "markdown",
      "metadata": {
        "id": "OtroWiu-iZ_X"
      },
      "source": [
        "We can also explicitly pass the arguments to the parameters with the default value:"
      ]
    },
    {
      "cell_type": "code",
      "execution_count": 17,
      "metadata": {
        "id": "6DU-uk_OiZ_Y",
        "colab": {
          "base_uri": "https://localhost:8080/"
        },
        "outputId": "951e733f-9564-4530-a10c-80c6bea7fdf9"
      },
      "outputs": [
        {
          "output_type": "stream",
          "name": "stdout",
          "text": [
            "12 14 18\n"
          ]
        }
      ],
      "source": [
        "add_numbers_default_value(4, y = 8)"
      ]
    },
    {
      "cell_type": "markdown",
      "metadata": {
        "id": "42xzzKuBiZ_e"
      },
      "source": [
        "### Returning a Value"
      ]
    },
    {
      "cell_type": "markdown",
      "metadata": {
        "id": "CvhG-lk1iZ_e"
      },
      "source": [
        "We can pass parameters into a function, and a function can also return a value to us in the end. When a function exits, it can *optionally* pass an expression back to the caller, with the `return` statement. If you use a `return` statement with no arguments, the function will return `None`.\n",
        "\n",
        "So far, we have used the `print()` statement instead of the `return` statement in our functions. Let’s create a program that instead of printing will return a variable. The function `square` will take a parameter `x`, and returns the variable `y` representing the square of `x`."
      ]
    },
    {
      "cell_type": "code",
      "execution_count": 18,
      "metadata": {
        "id": "ij6u6BpaiZ_f"
      },
      "outputs": [],
      "source": [
        "def square(x):\n",
        "    y = x ** 2\n",
        "    return y"
      ]
    },
    {
      "cell_type": "code",
      "execution_count": 19,
      "metadata": {
        "id": "-ppQpR_PiZ_j",
        "colab": {
          "base_uri": "https://localhost:8080/"
        },
        "outputId": "e1489eb9-a8a5-4204-8129-4a46f7f50b63"
      },
      "outputs": [
        {
          "output_type": "stream",
          "name": "stdout",
          "text": [
            "9\n"
          ]
        }
      ],
      "source": [
        "result = square(3)\n",
        "print(result)"
      ]
    },
    {
      "cell_type": "markdown",
      "metadata": {
        "id": "h3R3YZTHiZ_o"
      },
      "source": [
        "As stated previously, we can use `return` with no arguments, so that the function will return `None`."
      ]
    },
    {
      "cell_type": "code",
      "execution_count": 20,
      "metadata": {
        "id": "8bxlRmU7iZ_p"
      },
      "outputs": [],
      "source": [
        "# we return no arguments\n",
        "def square_return_noarg(x):\n",
        "    y = x ** 2\n",
        "    return"
      ]
    },
    {
      "cell_type": "code",
      "execution_count": 21,
      "metadata": {
        "id": "NS4xRUQYiZ_t",
        "colab": {
          "base_uri": "https://localhost:8080/"
        },
        "outputId": "ebf9a212-ab3f-4492-d342-24f0a3e40158"
      },
      "outputs": [
        {
          "output_type": "stream",
          "name": "stdout",
          "text": [
            "None\n"
          ]
        }
      ],
      "source": [
        "result = square_return_noarg(3)\n",
        "print(result)"
      ]
    },
    {
      "cell_type": "markdown",
      "metadata": {
        "id": "EqqlFdTbiZ_y"
      },
      "source": [
        "Additionally, without using the `return` statement here, the function cannot return a value so the value defaults to `None` as well."
      ]
    },
    {
      "cell_type": "code",
      "execution_count": 22,
      "metadata": {
        "id": "vQvbjx1ciZ_0"
      },
      "outputs": [],
      "source": [
        "# we do not use return\n",
        "def square_noreturn(x):\n",
        "    y = x ** 2"
      ]
    },
    {
      "cell_type": "code",
      "execution_count": 23,
      "metadata": {
        "id": "wTCG4V04iZ_5",
        "colab": {
          "base_uri": "https://localhost:8080/"
        },
        "outputId": "e497ca51-b3c1-45ad-b45c-a60a6c8d3539"
      },
      "outputs": [
        {
          "output_type": "stream",
          "name": "stdout",
          "text": [
            "None\n"
          ]
        }
      ],
      "source": [
        "result = square_noreturn(3)\n",
        "print(result)"
      ]
    },
    {
      "cell_type": "markdown",
      "metadata": {
        "id": "VojBVhFdiZ_-"
      },
      "source": [
        "In the previous function `add_numbers`, instead of printing the results, we can `return` more than one value wrapped in data structures such as **tuples**, **lists** or **dictionaries**:"
      ]
    },
    {
      "cell_type": "code",
      "execution_count": 24,
      "metadata": {
        "id": "4pOEYlxQiaAA"
      },
      "outputs": [],
      "source": [
        "def add_numbers_return_dict(x, y, z):\n",
        "    a = x + y\n",
        "    b = x + z\n",
        "    c = y + z\n",
        "    return {'a': a, 'b': b, 'c': c}"
      ]
    },
    {
      "cell_type": "code",
      "execution_count": 25,
      "metadata": {
        "id": "7AN0EOD3iaAD",
        "colab": {
          "base_uri": "https://localhost:8080/"
        },
        "outputId": "2188bffe-5a74-4e2a-d37d-16ada46fee7b"
      },
      "outputs": [
        {
          "output_type": "stream",
          "name": "stdout",
          "text": [
            "{'a': 3, 'b': 4, 'c': 5}\n"
          ]
        }
      ],
      "source": [
        "result = add_numbers_return_dict(1, 2, 3)\n",
        "print(result)"
      ]
    },
    {
      "cell_type": "markdown",
      "metadata": {
        "id": "34gIevh1iaAG"
      },
      "source": [
        "Whenever the program hits a `return` statement, the function will exit immediately, whether or not they are returning a value."
      ]
    },
    {
      "cell_type": "code",
      "execution_count": 26,
      "metadata": {
        "id": "tzpjobWniaAH",
        "colab": {
          "base_uri": "https://localhost:8080/"
        },
        "outputId": "61d49986-35de-4644-b1f9-9bc9e2c85eda"
      },
      "outputs": [
        {
          "output_type": "stream",
          "name": "stdout",
          "text": [
            "0\n",
            "1\n",
            "2\n",
            "3\n",
            "4\n",
            "5\n"
          ]
        }
      ],
      "source": [
        "def loop_five():\n",
        "    for x in range(0, 25):\n",
        "        print(x)\n",
        "        if x == 5:\n",
        "            # Stop function at x == 5\n",
        "            return\n",
        "    print(\"This line will not execute.\")\n",
        "\n",
        "loop_five()"
      ]
    },
    {
      "cell_type": "markdown",
      "metadata": {
        "id": "Q5QH4hoDiaAL"
      },
      "source": [
        "The function hits `return` before the `for` loop ends, so the line that is outside of the loop will not run."
      ]
    },
    {
      "cell_type": "markdown",
      "metadata": {
        "id": "bV-Mqz3ViaAM"
      },
      "source": [
        "> **<h3>💻 Try it yourself!</h3>**\n",
        "\n",
        "Write a function that:\n",
        "- Takes as input a shopping list in the form of `items : quantity` pairs;\n",
        "- For each item to buy, prints a reminder in the form: *Don't forget to buy* + `quantity` + `items`;\n",
        "- Ends by wishing you a nice shopping time."
      ]
    },
    {
      "cell_type": "code",
      "execution_count": 27,
      "metadata": {
        "id": "FsBHVlokiaAN",
        "colab": {
          "base_uri": "https://localhost:8080/"
        },
        "outputId": "728ebe06-9f45-4ccc-fc0b-982dc6216bd5"
      },
      "outputs": [
        {
          "output_type": "stream",
          "name": "stdout",
          "text": [
            "Don't forget to buy 5 pears\n",
            "Don't forget to buy 7 apples\n",
            "Don't forget to buy 4 bananas\n",
            "Have a nice shopping time\n"
          ]
        }
      ],
      "source": [
        "def print_shopping_list(shopping_list):\n",
        "    for item, quantity in shopping_list.items():\n",
        "      print(\"Don't forget to buy\", quantity, item)\n",
        "    print(\"Have a nice shopping time\")\n",
        "\n",
        "# Test your function here!\n",
        "shopping_list = {\"pears\": 5, \"apples\": 7, \"bananas\": 4}\n",
        "print_shopping_list(shopping_list)"
      ]
    },
    {
      "cell_type": "markdown",
      "metadata": {
        "id": "zWR2iAPpiaAQ"
      },
      "source": [
        "<details>\n",
        "  <summary>Click <b>here</b> to see the answer.</summary>\n",
        "  <p><pre><code>\n",
        "    def print_shopping_list(shopping_list):\n",
        "        for item, quantity in shopping_list.items():\n",
        "            print(\"Don't forget to buy\", quantity, item)\n",
        "        print(\"Have a nice shopping time!\")\n",
        "  </code></pre></p>\n",
        "</details>"
      ]
    },
    {
      "cell_type": "markdown",
      "metadata": {
        "id": "l4wnN4QTiaAQ"
      },
      "source": [
        "Now, let's make our function a bit nicer.\n",
        "What would happen, for example, if someone would enter an incorrect input?\n",
        "Our function would crash!\n",
        "\n",
        "Let's improve our `print_shopping_list` function in the cell above in this way:\n",
        "- At the beginning of the function, check that the given input is of type `dict`;\n",
        "- If the input doesn't pass this test, return a `print` statement that asks the user for a correct input.\n",
        "\n",
        "Now, test our improved funtion with the test inputs below."
      ]
    },
    {
      "cell_type": "code",
      "execution_count": 35,
      "metadata": {
        "id": "R-_VNm1liaAR",
        "colab": {
          "base_uri": "https://localhost:8080/"
        },
        "outputId": "a81f5eba-c8da-4d62-a3d2-a1e5e45b6aef"
      },
      "outputs": [
        {
          "output_type": "stream",
          "name": "stdout",
          "text": [
            "Don't forget to buy 5 pears\n",
            "Have a nice shopping time!\n",
            "Don't forget to buy 7 apples\n",
            "Have a nice shopping time!\n",
            "Don't forget to buy 4 bananas\n",
            "Have a nice shopping time!\n",
            "Please, give me a valid shopping list!\n",
            "Don't forget to buy 9 tomatoes\n",
            "Have a nice shopping time!\n",
            "Don't forget to buy 1 cat_litter\n",
            "Have a nice shopping time!\n",
            "Don't forget to buy 4 thuna_chunks\n",
            "Have a nice shopping time!\n"
          ]
        }
      ],
      "source": [
        "# Test your improved function here!\n",
        "def print_shopping_list(shopping_list):\n",
        "    if type(shopping_list) != dict:\n",
        "        print(\"Please, give me a valid shopping list!\")\n",
        "    else:\n",
        "      for item, quantity in shopping_list.items():\n",
        "        print(\"Don't forget to buy\", quantity, item)\n",
        "        print(\"Have a nice shopping time!\")\n",
        "\n",
        "\n",
        "print_shopping_list({\"pears\": 5, \"apples\": 7, \"bananas\": 4})\n",
        "print_shopping_list([\"pears\", \"apples\", \"bananas\"])\n",
        "print_shopping_list({\"tomatoes\": 9, \"cat_litter\": 1, \"thuna_chunks\": 4})"
      ]
    },
    {
      "cell_type": "markdown",
      "metadata": {
        "id": "xHBoVQbJiaAU"
      },
      "source": [
        "<details>\n",
        "  <summary>Click <b>here</b> to see the answer.</summary>\n",
        "  <p><pre><code>\n",
        "    def print_shopping_list(shopping_list):\n",
        "        if type(shopping_list) != dict:\n",
        "            return(\"Please, give me a valid shopping list!\")\n",
        "        for item, quantity in shopping_list.items():\n",
        "            print(\"Don't forget to buy\", quantity, item)\n",
        "        print(\"Have a nice shopping time!\")\n",
        "  </code></pre></p>\n",
        "</details>"
      ]
    },
    {
      "cell_type": "markdown",
      "metadata": {
        "id": "ORYJiuzbiaAW"
      },
      "source": [
        "> **<h3>💻 Try it yourself!</h3>**\n",
        "\n",
        "Now, let's write a function that returns the total cost of a shopping list given as inputs two dictionaries: a `shopping_list` dictionary composed of `item : quantity` pairs (as in the excercise above) and an `inventory` dictionary composed of `item : cost` pairs.\n",
        "\n",
        "\n",
        "Complete the function below with the missing statements."
      ]
    },
    {
      "cell_type": "code",
      "execution_count": 38,
      "metadata": {
        "id": "CGdyxXf5iaAY",
        "colab": {
          "base_uri": "https://localhost:8080/"
        },
        "outputId": "5b251f2c-4e7c-4bb1-cbc3-eacb2d16f5af"
      },
      "outputs": [
        {
          "output_type": "stream",
          "name": "stdout",
          "text": [
            "You'll spend 12.6 GBP\n"
          ]
        }
      ],
      "source": [
        "def calculate_shopping_bill(shopping_list, inventory):\n",
        "    shopping_cost = 0\n",
        "    for item, quantity in shopping_list.items():\n",
        "      item_cost = inventory[item]\n",
        "      total_cost = item_cost*quantity\n",
        "      shopping_cost += total_cost\n",
        "        # TODO: get the total price by summing up the prices of single items\n",
        "\n",
        "    return shopping_cost\n",
        "\n",
        "\n",
        "# Test your function here!\n",
        "our_shopping = {\"pears\": 5, \"apples\": 7, \"bananas\": 4}\n",
        "current_inventory = {\"pears\": 0.5, \"apples\": 0.7, \"bananas\": 1.3}\n",
        "\n",
        "cost = calculate_shopping_bill(our_shopping, current_inventory)\n",
        "print(\"You'll spend\", cost, \"GBP\")"
      ]
    },
    {
      "cell_type": "markdown",
      "metadata": {
        "collapsed": true,
        "id": "5xr4BOHbiaAd"
      },
      "source": [
        "<details>\n",
        "  <summary>Click <b>here</b> to see the answer.</summary>\n",
        "  <p><pre><code>\n",
        "    def calculate_shopping_bill(shopping_list, inventory):\n",
        "        shopping_cost = 0\n",
        "        for item, quantity in shopping_list.items():\n",
        "            single_item_cost = inventory[item]\n",
        "            total_item_cost = single_item_cost * quantity\n",
        "            shopping_cost += total_item_cost\n",
        "        return shopping_cost\n",
        "  </code></pre></p>\n",
        "</details>"
      ]
    },
    {
      "cell_type": "markdown",
      "metadata": {
        "id": "f5089YfziaAd"
      },
      "source": [
        "### ❓ Quiz  "
      ]
    },
    {
      "cell_type": "markdown",
      "metadata": {
        "id": "mi1qg8sdiaAe"
      },
      "source": [
        "Given the function:\n",
        "```\n",
        "def add_numbers(x = 3, y = 4, z = 5):\n",
        "    x = x + y\n",
        "    y = x + z\n",
        "    z = y + z\n",
        "    print(x, y, z)\n",
        "    \n",
        "o, p, q = 5, 6, 7\n",
        "L = [5,6,7]\n",
        "```"
      ]
    },
    {
      "cell_type": "markdown",
      "metadata": {
        "id": "Ui2srriXiaAe"
      },
      "source": [
        "1. What does the following code print?\n",
        "\n",
        "```\n",
        "d = add_numbers(5)\n",
        "```\n",
        "\n",
        "A. 7, 8, 9\n",
        "\n",
        "B. 9, 10, 9\n",
        "\n",
        "C. 9, 14, 19\n",
        "\n",
        "D. 9, 10, 19"
      ]
    },
    {
      "cell_type": "markdown",
      "metadata": {
        "id": "sKH0qzTziaAf"
      },
      "source": [
        "<hr>    <!-- please remember this! -->\n",
        "<details>\n",
        "  <summary>Click <b>here</b> to see the answer.</summary>\n",
        "  <p>C</p>\n",
        "  <p>\n",
        "      The value 5 is assigned to the parameter x, so the values of parameters are x = 3, y = 4, z = 5.<br>\n",
        "      Inside the function:<br>\n",
        "      x = x + y = 5 + 4 = 9, so now the value of x is 9;<br>\n",
        "      y = x + z = 9 + 5 = 14, so now the value of y is 14;<br>\n",
        "      z = y + z = 14 + 5 = 19<br>\n",
        "  </p>\n",
        "</details>"
      ]
    },
    {
      "cell_type": "markdown",
      "metadata": {
        "id": "-MQM0Z6giaAg"
      },
      "source": [
        "2. What is the value of `d`?\n",
        "\n",
        "A. 7\n",
        "\n",
        "B. 9\n",
        "\n",
        "C. 10\n",
        "\n",
        "D. None"
      ]
    },
    {
      "cell_type": "markdown",
      "metadata": {
        "id": "UOXbA3WhiaAg"
      },
      "source": [
        "<hr>    <!-- please remember this! -->\n",
        "<details>\n",
        "  <summary>Click <b>here</b> to see the answer.</summary>\n",
        "  <p>D</p>\n",
        "  <p>Because the function does not have a <mark>return</mark> line, the there will be no returned value for the function.\n",
        "</details>"
      ]
    },
    {
      "cell_type": "markdown",
      "metadata": {
        "id": "iLtA8fIZiaAg"
      },
      "source": [
        "3. What is the value of `o p q` after running the following code?\n",
        "\n",
        "```\n",
        "add_numbers(o, p, q)\n",
        "```\n",
        "\n",
        "A. 7, 12, 17\n",
        "\n",
        "B. 9, 14, 19\n",
        "\n",
        "C. 11, 18, 25\n",
        "\n",
        "D. 5, 6, 7"
      ]
    },
    {
      "cell_type": "markdown",
      "metadata": {
        "id": "ptCAkLGqiaAg"
      },
      "source": [
        "<hr>    <!-- please remember this! -->\n",
        "<details>\n",
        "  <summary>Click <b>here</b> to see the answer.</summary>\n",
        "  <p>D</p>\n",
        "  <p>Because o, p, q are passed to the function by value, their values will not be changed after executing the code.</p>\n",
        "\n",
        "</details>"
      ]
    },
    {
      "cell_type": "markdown",
      "metadata": {
        "id": "1LWoa0jdiaAh"
      },
      "source": [
        "4. How to pass the element of `L` as the parameters of the function?\n",
        "\n",
        "\n",
        "A. ```add_numbers(L)```\n",
        "\n",
        "\n",
        "B. ```add_numbers(L*)```\n",
        "\n",
        "C. ```add_numbers(*L)```\n",
        "\n",
        "D. ```add_numbers(**L)```"
      ]
    },
    {
      "cell_type": "markdown",
      "metadata": {
        "id": "Xkz0LLJRiaAi"
      },
      "source": [
        "<hr>    <!-- please remember this! -->\n",
        "<details>\n",
        "  <summary>Click <b>here</b> to see the answer.</summary>\n",
        "  <p>C</p>\n",
        "  <p>You can unpack the list using <mark>*</mark> to pass the elements of L as the parameters of the function.</p>\n",
        "</details>"
      ]
    },
    {
      "cell_type": "markdown",
      "metadata": {
        "id": "fBo1ntiHiaAi"
      },
      "source": [
        "5. What is the value of `L` after running the following code?\n",
        "\n",
        "```\n",
        "add_numbers(L, L, L)\n",
        "```\n",
        "\n",
        "A. [5, 6, 7]\n",
        "\n",
        "B. [5, 6, 7, 5, 6, 7]\n",
        "\n",
        "C. [5, 6, 7, 5, 6, 7, 5, 6, 7]\n",
        "\n",
        "D. [5, 6, 7, 5, 6, 7, 5, 6, 7, 5, 6, 7]"
      ]
    },
    {
      "cell_type": "markdown",
      "metadata": {
        "id": "n6H7TouiiaAj"
      },
      "source": [
        "<hr>    <!-- please remember this! -->\n",
        "<details>\n",
        "  <summary>Click <b>here</b> to see the answer.</summary>\n",
        "  <p>A</p>\n",
        "  <p>Similarly, L is passed to the function by value, so its value will not be changed afterwards.</p>\n",
        "</details>"
      ]
    },
    {
      "cell_type": "markdown",
      "metadata": {
        "id": "KiYe_-gPiaAj"
      },
      "source": [
        "## Regular Expressions"
      ]
    },
    {
      "cell_type": "markdown",
      "metadata": {
        "collapsed": true,
        "id": "yyqwMTe6iaAk"
      },
      "source": [
        "This section is heavily built on this [tutorial](https://docs.python.org/3.6/howto/regex.html#regex-howto), and students are strongly recommended to go through it. A more comprehensive documentation of python regular expressions can be found [here](https://docs.python.org/3.6/library/re.html)."
      ]
    },
    {
      "cell_type": "markdown",
      "metadata": {
        "id": "X25aSxUJiaAl"
      },
      "source": [
        "Regular expressions (called REs, or regexes, or regex patterns) are essentially a tiny, highly specialized programming language embedded inside Python and made available through the `re` module. Using this little language, you specify the rules for the set of possible strings that you want to match; this set might contain English sentences, or e-mail addresses, or TeX commands, or anything you like. You can then ask questions such as “Does this string match the pattern?”, or “Is there a match for the pattern anywhere in this string?”. You can also use REs to modify a string or to split it apart in various ways."
      ]
    },
    {
      "cell_type": "markdown",
      "metadata": {
        "id": "iGOb0uGriaAl"
      },
      "source": [
        "Python uses the **raw string** (compared to regular string, search [here](https://docs.python.org/3.6/howto/regex.html#regex-howto)) notation for RE patterns, and backslashes `'\\'` are not handled in any special way in a string literal prefixed with `r`. So `r'\\n'` is a two-character string containing `'\\'` and `'n'`, while `'\\n'` is a one-character string containing a newline.\n",
        "\n",
        "We’ll use the raw string notation for the rest of the section. We will also write REs in highlight style , i.e. `r'\\n'` is equivalent to `\\n`, usually without quotes, and strings to be matched 'in single quotes'."
      ]
    },
    {
      "cell_type": "markdown",
      "metadata": {
        "id": "fZxX1QKfiaAm"
      },
      "source": [
        "REs can contain both special and ordinary characters. Most ordinary characters, like `A`, `a`, or `0`, are the simplest REs; they simply match themselves. You can concatenate ordinary characters to match more complex sequence. For example, `test` will match the string 'test' exactly.\n",
        "\n",
        "Some characters are special metacharacters, and don’t match themselves. Instead, they signal that some out-of-the-ordinary thing should be matched, or they affect other portions of the RE by repeating them or changing their meaning.\n",
        "\n",
        "Here’s a complete list of the metacharacters and their explanations:\n",
        "\n",
        "- `.`             Matches any character except a newline.\n",
        "- `^`             Matches the start of the string.\n",
        "- `$`             Matches the end of the string or just before the newline at the end of the string.\n",
        "- `*`             Matches 0 or more (greedy) repetitions of the preceding RE. Greedy means that it will match as many repetitions as possible.\n",
        "- `+`             Matches 1 or more (greedy) repetitions of the preceding RE.\n",
        "- `?`             Matches 0 or 1 (greedy) of the preceding RE.\n",
        "- `*?, +?, ??`    Non-greedy versions of the previous three special characters.\n",
        "- `{m,n}`         Matches from m to n repetitions of the preceding RE.\n",
        "- `{m,n}?`        Non-greedy version of the above.\n",
        "- `\\\\`            Either escapes special characters or signals a special sequence.\n",
        "- `[]`            Indicates a set of characters. A \"^\" as the first character indicates a complementing set.\n",
        "- `|`             A|B, creates an RE that will match either A or B.\n",
        "- `(...)`         Matches the RE inside the parentheses. The contents can be retrieved or matched later in the string.\n",
        "\n",
        "\n",
        "The special sequences consist of \"\\\\\" and a character from the list below:\n",
        "- `\\number`  Matches the contents of the group of the same number.\n",
        "- `\\A`       Matches only at the start of the string.\n",
        "- `\\Z`       Matches only at the end of the string.\n",
        "- `\\b`       Matches the empty string, but only at the start or end of a word.\n",
        "- `\\B`       Matches the empty string, but not at the start or end of a word.\n",
        "- `\\d`       Matches any decimal digit; equivalent to the set `[0-9]`.\n",
        "- `\\D`       Matches any non-digit character; equivalent to `[^\\d]`.\n",
        "- `\\s`       Matches any whitespace character; equivalent to `[ \\t\\n\\r\\f\\v]`.\n",
        "- `\\S`       Matches any non-whitespace character; equivalent to `[^\\s]`.\n",
        "- `\\w`       Matches any alphanumeric character; equivalent to `[a-zA-Z0-9_]`.\n",
        "- `\\W`       Matches the complement of `\\w`.\n",
        "- `\\\\`       Matches a literal backslash."
      ]
    },
    {
      "cell_type": "code",
      "execution_count": 2,
      "metadata": {
        "id": "NQIs9i20iaAn"
      },
      "outputs": [],
      "source": [
        "# import built-in regular expression module in python\n",
        "import re"
      ]
    },
    {
      "cell_type": "code",
      "execution_count": 3,
      "metadata": {
        "id": "B6HL3dPbiaAq",
        "colab": {
          "base_uri": "https://localhost:8080/"
        },
        "outputId": "1151f17e-1976-4ea8-d2e6-ed29dd3aaa34"
      },
      "outputs": [
        {
          "output_type": "stream",
          "name": "stdout",
          "text": [
            "                2\n",
            "  When forty winters shall besiege thy brow,And dig deep trenches in thy beauty's field, Thy youth's proud livery so gazed on now, Will be a tattered weed of small worth held: Then being asked, where all thy beauty lies, Where all the treasure of thy lusty days; To say within thine own deep sunken eyes, Were an all-eating shame, and thriftless praise. How much more praise deserved thy beauty's use, If thou couldst answer 'This fair child of mine Shall sum my count, and make my old excuse' Proving his beauty by succession thine. This were to be new made when thou art old, And see thy blood warm when thou feel'st it cold.\n"
          ]
        }
      ],
      "source": [
        "text = (\"\"\"                2\n",
        "  When forty winters shall besiege thy brow,\"\"\"\n",
        "  \"And dig deep trenches in thy beauty's field, \"\n",
        "  \"Thy youth's proud livery so gazed on now, \"\n",
        "  \"Will be a tattered weed of small worth held: \"\n",
        "  \"Then being asked, where all thy beauty lies, \"\n",
        "  \"Where all the treasure of thy lusty days; \"\n",
        "  \"To say within thine own deep sunken eyes, \"\n",
        "  \"Were an all-eating shame, and thriftless praise. \"\n",
        "  \"How much more praise deserved thy beauty's use, \"\n",
        "  \"If thou couldst answer 'This fair child of mine \"\n",
        "  \"Shall sum my count, and make my old excuse' \"\n",
        "  \"Proving his beauty by succession thine. \"\n",
        "  \"This were to be new made when thou art old, \"\n",
        "  \"And see thy blood warm when thou feel'st it cold.\")\n",
        "\n",
        "print(text)"
      ]
    },
    {
      "cell_type": "markdown",
      "metadata": {
        "id": "x5R3u0G4iaAt"
      },
      "source": [
        "We will mainly concentrate two essential usage of regular expressions: **searching** and **substituting** text."
      ]
    },
    {
      "cell_type": "markdown",
      "metadata": {
        "id": "5_Q730zKiaAu"
      },
      "source": [
        "### Searching text"
      ]
    },
    {
      "cell_type": "markdown",
      "metadata": {
        "id": "yZK0GIrPiaAu"
      },
      "source": [
        "Let's first find word '**where**', in regardless of case.\n",
        "\n",
        "The **re** module provides an interface to the regular expression engine, allowing you to compile REs into objects and then perform matches with them."
      ]
    },
    {
      "cell_type": "code",
      "execution_count": 4,
      "metadata": {
        "id": "FsD6ZDZoiaAv",
        "colab": {
          "base_uri": "https://localhost:8080/"
        },
        "outputId": "8b67abb6-ffb6-4111-aa73-ab6f58b70237"
      },
      "outputs": [
        {
          "output_type": "execute_result",
          "data": {
            "text/plain": [
              "re.compile(r'\\b[Ww]here\\b', re.UNICODE)"
            ]
          },
          "metadata": {},
          "execution_count": 4
        }
      ],
      "source": [
        "p = re.compile(r'\\b[Ww]here\\b')\n",
        "p"
      ]
    },
    {
      "cell_type": "markdown",
      "metadata": {
        "id": "kRRhhUmRiaAy"
      },
      "source": [
        "The pattern object, after compiled, has several functions and attributes. For **searching** text, there are mainly four functions available:\n",
        "- *match()*: determine if the RE matches at the beginning of the string.\n",
        "- *search()*: scan through a string, looking for any location where this RE matches.\n",
        "- *findall()*: find all substrings where the RE matches, and returns them as a list.\n",
        "- *finditer()*: find all substrings where the RE matches, and returns them as an iterator.\n",
        "\n",
        "Please consult the **re** documentation for a complete listing."
      ]
    },
    {
      "cell_type": "code",
      "execution_count": 5,
      "metadata": {
        "id": "nsC-0yADiaAy",
        "colab": {
          "base_uri": "https://localhost:8080/"
        },
        "outputId": "bdf06d12-918f-4f38-d0e3-e114456cc56c"
      },
      "outputs": [
        {
          "output_type": "stream",
          "name": "stdout",
          "text": [
            "None\n"
          ]
        }
      ],
      "source": [
        "m = p.match(text)\n",
        "print(m)"
      ]
    },
    {
      "cell_type": "code",
      "execution_count": 6,
      "metadata": {
        "id": "ccowpuGPiaA3",
        "colab": {
          "base_uri": "https://localhost:8080/"
        },
        "outputId": "a927da75-42dc-483f-ed14-ea1a0ed7e7af"
      },
      "outputs": [
        {
          "output_type": "stream",
          "name": "stdout",
          "text": [
            "<re.Match object; span=(212, 217), match='where'>\n"
          ]
        }
      ],
      "source": [
        "m = p.search(text)\n",
        "print(m)"
      ]
    },
    {
      "cell_type": "markdown",
      "metadata": {
        "id": "cJdrjkUwiaA7"
      },
      "source": [
        "The functions *match()* and *search()* return None if no match can be found. If they’re successful, a match object instance is returned, containing information about the match: where it starts and ends, the substring it matched, and more.\n",
        "\n",
        "In this example, as the text doesn't start with the word 'where', so *match()* won't find any match, whereas *search()* will look for any location where RE matches.\n",
        "\n",
        "We can further query the match object for information about the matching string."
      ]
    },
    {
      "cell_type": "code",
      "execution_count": 7,
      "metadata": {
        "id": "PaY8sHs_iaA8",
        "colab": {
          "base_uri": "https://localhost:8080/",
          "height": 36
        },
        "outputId": "4b34ba1e-415c-4961-ad20-bf401c0cc9ee"
      },
      "outputs": [
        {
          "output_type": "execute_result",
          "data": {
            "text/plain": [
              "'where'"
            ],
            "application/vnd.google.colaboratory.intrinsic+json": {
              "type": "string"
            }
          },
          "metadata": {},
          "execution_count": 7
        }
      ],
      "source": [
        "m.group()"
      ]
    },
    {
      "cell_type": "code",
      "execution_count": 8,
      "metadata": {
        "id": "F0a_IhgkiaA_",
        "colab": {
          "base_uri": "https://localhost:8080/"
        },
        "outputId": "808ceeef-8e2b-4cd3-93e9-b192b80deee7"
      },
      "outputs": [
        {
          "output_type": "execute_result",
          "data": {
            "text/plain": [
              "(212, 217)"
            ]
          },
          "metadata": {},
          "execution_count": 8
        }
      ],
      "source": [
        "m.start(), m.end()"
      ]
    },
    {
      "cell_type": "code",
      "execution_count": 9,
      "metadata": {
        "id": "3tGVTSvriaBD",
        "colab": {
          "base_uri": "https://localhost:8080/"
        },
        "outputId": "3858d3c0-4161-439a-dc1c-52609e9ad2e8"
      },
      "outputs": [
        {
          "output_type": "execute_result",
          "data": {
            "text/plain": [
              "(212, 217)"
            ]
          },
          "metadata": {},
          "execution_count": 9
        }
      ],
      "source": [
        "m.span()"
      ]
    },
    {
      "cell_type": "markdown",
      "metadata": {
        "id": "3WLoR-FDiaBF"
      },
      "source": [
        "Now what if we want to find all matches, i.e. all words 'where'? We can use *findall()* and *finditer()*.\n",
        "\n",
        "The *findall()* returns a list of matching strings."
      ]
    },
    {
      "cell_type": "code",
      "execution_count": 10,
      "metadata": {
        "id": "y7sM1cO2iaBG",
        "colab": {
          "base_uri": "https://localhost:8080/"
        },
        "outputId": "3b9f38e9-de10-4005-e508-17f8cb45420b"
      },
      "outputs": [
        {
          "output_type": "stream",
          "name": "stdout",
          "text": [
            "['where', 'Where']\n"
          ]
        }
      ],
      "source": [
        "m = p.findall(text)\n",
        "print(m)"
      ]
    },
    {
      "cell_type": "markdown",
      "metadata": {
        "id": "zG5ca8G-iaBJ"
      },
      "source": [
        "The *finditer()* returns a sequence of match object instances as an iterator."
      ]
    },
    {
      "cell_type": "code",
      "execution_count": 11,
      "metadata": {
        "id": "Ivi8A8SJiaBL",
        "colab": {
          "base_uri": "https://localhost:8080/"
        },
        "outputId": "368f1575-88cc-4e50-bd59-5f20940dd3c7"
      },
      "outputs": [
        {
          "output_type": "stream",
          "name": "stdout",
          "text": [
            "<re.Match object; span=(212, 217), match='where'>\n",
            "<re.Match object; span=(239, 244), match='Where'>\n"
          ]
        }
      ],
      "source": [
        "iterator = p.finditer(text)\n",
        "for match in iterator:\n",
        "    print(match)"
      ]
    },
    {
      "cell_type": "markdown",
      "metadata": {
        "id": "PcKotYQiiaBO"
      },
      "source": [
        "You don’t have to create a pattern object and call its functions; the **re** module also provides the same top-level functions."
      ]
    },
    {
      "cell_type": "code",
      "execution_count": 12,
      "metadata": {
        "id": "yRdjpFxDiaBg",
        "colab": {
          "base_uri": "https://localhost:8080/"
        },
        "outputId": "3805561c-7180-4e40-e08e-7f0beb79ebca"
      },
      "outputs": [
        {
          "output_type": "stream",
          "name": "stdout",
          "text": [
            "<re.Match object; span=(212, 217), match='where'>\n"
          ]
        }
      ],
      "source": [
        "print(re.search(r'\\b[Ww]here\\b', text))"
      ]
    },
    {
      "cell_type": "code",
      "execution_count": 13,
      "metadata": {
        "id": "986gdO8biaBl",
        "colab": {
          "base_uri": "https://localhost:8080/"
        },
        "outputId": "a23b4f55-5f8d-4b94-9d71-77d29d32d8a2"
      },
      "outputs": [
        {
          "output_type": "stream",
          "name": "stdout",
          "text": [
            "['where', 'Where']\n"
          ]
        }
      ],
      "source": [
        "print(re.findall(r'\\b[Ww]here\\b', text))"
      ]
    },
    {
      "cell_type": "markdown",
      "metadata": {
        "id": "SJKjZMc1iaBq"
      },
      "source": [
        "Notice that when we compile the RE, there is a **re.UNICODE** item when we print the object. It is a compliation flag which let you modify some aspects of how RE works. The full flag list is available in the module documentation. For example, we can use **re.IGNORECASE** or **re.I** to do case-insensitive matches, so that we do not have to take care of capital letters."
      ]
    },
    {
      "cell_type": "code",
      "execution_count": 14,
      "metadata": {
        "id": "OBldTtqViaBr",
        "colab": {
          "base_uri": "https://localhost:8080/"
        },
        "outputId": "2740bf18-b99c-47a1-f06c-1420f464768b"
      },
      "outputs": [
        {
          "output_type": "execute_result",
          "data": {
            "text/plain": [
              "re.compile(r'\\bwhere\\b', re.IGNORECASE|re.UNICODE)"
            ]
          },
          "metadata": {},
          "execution_count": 14
        }
      ],
      "source": [
        "p = re.compile(r'\\bwhere\\b', re.I)\n",
        "p"
      ]
    },
    {
      "cell_type": "markdown",
      "metadata": {
        "id": "7DQc8vvQiaBv"
      },
      "source": [
        "And we will still have the same results."
      ]
    },
    {
      "cell_type": "code",
      "execution_count": 15,
      "metadata": {
        "id": "3JIzadnaiaBw",
        "colab": {
          "base_uri": "https://localhost:8080/"
        },
        "outputId": "8fbec953-5c12-4896-87ed-21ac1e96fe97"
      },
      "outputs": [
        {
          "output_type": "stream",
          "name": "stdout",
          "text": [
            "['where', 'Where']\n"
          ]
        }
      ],
      "source": [
        "m = p.findall(text)\n",
        "print(m)"
      ]
    },
    {
      "cell_type": "markdown",
      "metadata": {
        "id": "Y2Mv-TEyiaBz"
      },
      "source": [
        "> **<h3>💻 Try it yourself!</h3>**\n",
        "\n",
        "Now try to come up with your regular expressions and search in the text to see if they will work.\n",
        "\n",
        "You can use the cell below:"
      ]
    },
    {
      "cell_type": "code",
      "execution_count": 16,
      "metadata": {
        "id": "5xWSm_7TiaBz",
        "colab": {
          "base_uri": "https://localhost:8080/"
        },
        "outputId": "7400a8c8-7dec-4e7c-8fd8-044e0a6ce027"
      },
      "outputs": [
        {
          "output_type": "stream",
          "name": "stdout",
          "text": [
            "['thou', 'thou', 'thou']\n"
          ]
        }
      ],
      "source": [
        "x = re.compile(r'\\bthou\\b', re.I)\n",
        "y = x.findall(text)\n",
        "print(y)\n",
        "#print(re.findall(r'\\bthou\\b', re.I))"
      ]
    },
    {
      "cell_type": "markdown",
      "metadata": {
        "id": "Exhen6ahiaB1"
      },
      "source": [
        "#### Groupings"
      ]
    },
    {
      "cell_type": "markdown",
      "metadata": {
        "id": "yoqVEsuGiaB2"
      },
      "source": [
        "Frequently you need to obtain more information than just whether the RE matched or not. REs are often used to dissect strings by writing a RE divided into several subgroups which match different components of interest.\n",
        "\n",
        "Groups are marked by the `'('`, `')'` metacharacters. They group together the expressions contained inside them, and you can repeat the contents of a group with a repeating qualifier, such as `*`, `+`, `?`, or `{m,n}`."
      ]
    },
    {
      "cell_type": "code",
      "execution_count": 17,
      "metadata": {
        "id": "X6_7ZXnLiaB2",
        "colab": {
          "base_uri": "https://localhost:8080/"
        },
        "outputId": "d6318a4a-ba38-412b-90ba-0f6d8aa60420"
      },
      "outputs": [
        {
          "output_type": "stream",
          "name": "stdout",
          "text": [
            "(0, 8)\n"
          ]
        }
      ],
      "source": [
        "p = re.compile('((a(b)c)d)*')\n",
        "m = p.match('abcdabcd')\n",
        "print(m.span())"
      ]
    },
    {
      "cell_type": "markdown",
      "metadata": {
        "id": "Aluyq_bNiaB7"
      },
      "source": [
        "Groups indicated with `'('`, `')'` also capture the starting and ending index of the text that they match; this can be retrieved by passing an argument to `group()`, `start()`, `end()`, and `span()`.\n",
        "\n",
        "Groups are numbered starting with 0. Group 0 is always present; it’s the whole RE, so previous methods all have group 0 as their default argument."
      ]
    },
    {
      "cell_type": "code",
      "execution_count": 18,
      "metadata": {
        "id": "LAfjKaFiiaB8",
        "colab": {
          "base_uri": "https://localhost:8080/"
        },
        "outputId": "30edb2e6-3f4f-4ba0-9ea8-dfd0fe350983"
      },
      "outputs": [
        {
          "output_type": "stream",
          "name": "stdout",
          "text": [
            "0 8\n",
            "('abcdabcd', 'abcd', 'abc', 'b')\n",
            "(4, 7)\n"
          ]
        }
      ],
      "source": [
        "print(m.start(0), m.end(0))\n",
        "print(m.group(0,1,2,3))\n",
        "print(m.span(2))"
      ]
    },
    {
      "cell_type": "markdown",
      "metadata": {
        "id": "Vp_F6jPSiaB_"
      },
      "source": [
        "The `groups()` method returns a tuple containing the strings for all the subgroups, from 1 up to however many there are."
      ]
    },
    {
      "cell_type": "code",
      "execution_count": 19,
      "metadata": {
        "id": "_fr1QCupiaB_",
        "colab": {
          "base_uri": "https://localhost:8080/"
        },
        "outputId": "c6605af8-9ef9-4227-a398-6c1626e48a14"
      },
      "outputs": [
        {
          "output_type": "stream",
          "name": "stdout",
          "text": [
            "('abcd', 'abc', 'b')\n"
          ]
        }
      ],
      "source": [
        "print(m.groups())"
      ]
    },
    {
      "cell_type": "markdown",
      "metadata": {
        "id": "z-Owax1HiaCC"
      },
      "source": [
        "### Substituting text"
      ]
    },
    {
      "cell_type": "markdown",
      "metadata": {
        "id": "eTrmuyoZiaCC"
      },
      "source": [
        "We will use the following functions for substitution:\n",
        "- *sub()*: find all substrings where the RE matches, and replace them with a different string.\n",
        "- *subn()*: does the same thing as sub(), but returns the new string and the number of replacements.\n",
        "\n",
        "Again, you are encouraged to refer to the docs for more functions."
      ]
    },
    {
      "cell_type": "markdown",
      "metadata": {
        "id": "n20tqXFriaCC"
      },
      "source": [
        "***sub*** *(replacement, string[, count=0])*\n",
        "\n",
        "Returns the string obtained by replacing the leftmost non-overlapping occurrences of the RE in *string* by the replacement *replacement*. If the pattern isn’t found, string is returned unchanged.\n",
        "\n",
        "The optional argument *count* is the maximum number of pattern occurrences to be replaced; *count* must be a non-negative integer. The default value of 0 means to replace all occurrences."
      ]
    },
    {
      "cell_type": "markdown",
      "metadata": {
        "id": "tQAYYTPKiaCD"
      },
      "source": [
        "For the same example, let's substitute all `'where'` words to `'-------'`."
      ]
    },
    {
      "cell_type": "code",
      "execution_count": 20,
      "metadata": {
        "id": "R0d5wN3EiaCE",
        "colab": {
          "base_uri": "https://localhost:8080/"
        },
        "outputId": "0d854c44-2696-4fd0-eb08-ed159b6d9c4d"
      },
      "outputs": [
        {
          "output_type": "stream",
          "name": "stdout",
          "text": [
            "                2\n",
            "  When forty winters shall besiege thy brow,And dig deep trenches in thy beauty's field, Thy youth's proud livery so gazed on now, Will be a tattered weed of small worth held: Then being asked, ------ all thy beauty lies, ------ all the treasure of thy lusty days; To say within thine own deep sunken eyes, Were an all-eating shame, and thriftless praise. How much more praise deserved thy beauty's use, If thou couldst answer 'This fair child of mine Shall sum my count, and make my old excuse' Proving his beauty by succession thine. This were to be new made when thou art old, And see thy blood warm when thou feel'st it cold.\n"
          ]
        }
      ],
      "source": [
        "p = re.compile(r'\\b[Ww]here\\b')\n",
        "print(p.sub('------', text))"
      ]
    },
    {
      "cell_type": "code",
      "execution_count": 21,
      "metadata": {
        "id": "WPulxPxviaCG",
        "colab": {
          "base_uri": "https://localhost:8080/"
        },
        "outputId": "f01a4cc4-fa3f-41e5-e495-d5535259ddb1"
      },
      "outputs": [
        {
          "output_type": "stream",
          "name": "stdout",
          "text": [
            "                2\n",
            "  When forty winters shall besiege thy brow,And dig deep trenches in thy beauty's field, Thy youth's proud livery so gazed on now, Will be a tattered weed of small worth held: Then being asked, ------ all thy beauty lies, Where all the treasure of thy lusty days; To say within thine own deep sunken eyes, Were an all-eating shame, and thriftless praise. How much more praise deserved thy beauty's use, If thou couldst answer 'This fair child of mine Shall sum my count, and make my old excuse' Proving his beauty by succession thine. This were to be new made when thou art old, And see thy blood warm when thou feel'st it cold.\n"
          ]
        }
      ],
      "source": [
        "print(p.sub('------', text, count = 1))"
      ]
    },
    {
      "cell_type": "markdown",
      "metadata": {
        "id": "LwS_bjmJiaCJ"
      },
      "source": [
        "The `subn()` method does the same work, but returns a 2-tuple containing the new string value and the number of replacements that were performed:"
      ]
    },
    {
      "cell_type": "code",
      "execution_count": 22,
      "metadata": {
        "id": "ddQiAMARiaCK",
        "colab": {
          "base_uri": "https://localhost:8080/"
        },
        "outputId": "987424d1-46f8-442b-a812-fb28acad8042"
      },
      "outputs": [
        {
          "output_type": "stream",
          "name": "stdout",
          "text": [
            "(\"                2\\n  When forty winters shall besiege thy brow,And dig deep trenches in thy beauty's field, Thy youth's proud livery so gazed on now, Will be a tattered weed of small worth held: Then being asked, ------ all thy beauty lies, ------ all the treasure of thy lusty days; To say within thine own deep sunken eyes, Were an all-eating shame, and thriftless praise. How much more praise deserved thy beauty's use, If thou couldst answer 'This fair child of mine Shall sum my count, and make my old excuse' Proving his beauty by succession thine. This were to be new made when thou art old, And see thy blood warm when thou feel'st it cold.\", 2)\n"
          ]
        }
      ],
      "source": [
        "print(p.subn('------', text))"
      ]
    },
    {
      "cell_type": "code",
      "execution_count": 24,
      "metadata": {
        "id": "deA6T7lniaCN",
        "colab": {
          "base_uri": "https://localhost:8080/",
          "height": 36
        },
        "outputId": "ef6eb014-f1a3-41d0-cc1e-0dd8a16a1a75"
      },
      "outputs": [
        {
          "output_type": "execute_result",
          "data": {
            "text/plain": [
              "'subsection{First} subsection{second}'"
            ],
            "application/vnd.google.colaboratory.intrinsic+json": {
              "type": "string"
            }
          },
          "metadata": {},
          "execution_count": 24
        }
      ],
      "source": [
        "p = re.compile('section{ (?P<name> [^}]* ) }', re.VERBOSE)\n",
        "p.sub(r'subsection{\\g<1>}','section{First} section{second}')"
      ]
    },
    {
      "cell_type": "markdown",
      "metadata": {
        "id": "CH8MJHUyiaCP"
      },
      "source": [
        "> **<h3>💻 Try it yourself!</h3>**\n",
        "\n",
        "Now it's your turn! Please write a regular expression to match sentences that start with the word “This” (case insensitive)."
      ]
    },
    {
      "cell_type": "code",
      "execution_count": null,
      "metadata": {
        "id": "-0uEVthsiaCQ"
      },
      "outputs": [],
      "source": []
    },
    {
      "cell_type": "markdown",
      "metadata": {
        "id": "pAoA5PyBiaCS"
      },
      "source": [
        "And a regex that matches words which are emoticons (like *:)*). At least 5 emoticons must be matched."
      ]
    },
    {
      "cell_type": "code",
      "execution_count": null,
      "metadata": {
        "id": "pcutqI3AiaCS"
      },
      "outputs": [],
      "source": []
    },
    {
      "cell_type": "markdown",
      "metadata": {
        "id": "VbvaILMYiaCV"
      },
      "source": [
        "And a regex that can match words which contains at least 3 *o*s in a row (so that *cooooool* would be a match, but *book* would not)."
      ]
    },
    {
      "cell_type": "code",
      "execution_count": null,
      "metadata": {
        "id": "603MgazgiaCV"
      },
      "outputs": [],
      "source": []
    },
    {
      "cell_type": "markdown",
      "metadata": {
        "id": "TOmvwKtZiaCY"
      },
      "source": [
        "Finally, write a regex that substitutes any word-ending in *a* or *as* into an *o* or *os*.\n",
        "\n",
        "Test your regex by converting the Spanish sentence *Maria es ecuatoriana y tiene dos hijas rubias y muy altas* (Mary is Ecuadorian and has two blonde and very tall daughters) into its masculine equivalent."
      ]
    },
    {
      "cell_type": "code",
      "execution_count": null,
      "metadata": {
        "id": "SCwd24vHiaCY"
      },
      "outputs": [],
      "source": []
    },
    {
      "cell_type": "markdown",
      "metadata": {
        "id": "27B4a3rbiaCf"
      },
      "source": [
        "### Building a simple Eliza"
      ]
    },
    {
      "cell_type": "markdown",
      "metadata": {
        "id": "zr-63l7siaCf"
      },
      "source": [
        "Having learnt about Eliza in the lecture, which is meant to emulate a Rogerian psychologist, let us now build a simple version of Eliza with RE."
      ]
    },
    {
      "cell_type": "markdown",
      "metadata": {
        "id": "_G_eqlcLiaCf"
      },
      "source": [
        "First, let us build a dictionary `grefs` that is used to map first-person pronouns to second-person pronouns and vice-versa. It is used to “reflect” a statement back against the user:"
      ]
    },
    {
      "cell_type": "code",
      "execution_count": 25,
      "metadata": {
        "id": "pamWKZLQiaCg"
      },
      "outputs": [],
      "source": [
        "grefs = {\n",
        "    \"am\":          \"are\",\n",
        "    \"was\":         \"were\",\n",
        "    \"i\":           \"you\",\n",
        "    \"i'd\":         \"you would\",\n",
        "    \"i've\":        \"you have\",\n",
        "    \"i'll\":        \"you will\",\n",
        "    \"my\":          \"your\",\n",
        "    \"are\":         \"am\",\n",
        "    \"you are\":     \"I am\",\n",
        "    \"you've\":      \"I have\",\n",
        "    \"you'll\":      \"I will\",\n",
        "    \"your\":        \"my\",\n",
        "    \"yours\":       \"mine\",\n",
        "    \"you\":         \"me\",\n",
        "    \"me\":          \"you\"\n",
        "}"
      ]
    },
    {
      "cell_type": "markdown",
      "metadata": {
        "id": "Gjf855soiaCi"
      },
      "source": [
        "Then we need another table `gpats` that is made up of a list of lists, where the first element is a RE that matches the user’s statements and the second element is a list of potential responses.\n",
        "\n",
        "Many of the potential responses contain placeholders that can be filled in with fragments to echo the user’s statements."
      ]
    },
    {
      "cell_type": "code",
      "execution_count": 26,
      "metadata": {
        "id": "K_jzixXQiaCi"
      },
      "outputs": [],
      "source": [
        "gpats = [\n",
        "  [r'I need (.*)',\n",
        "  [  \"Why do you need {0}?\",\n",
        "    \"Would it really help you to get {0}?\",\n",
        "    \"Are you sure you need {0}?\"]],\n",
        "\n",
        "  [r'I can\\'?t (.*)',\n",
        "  [  \"How do you know you can't {0}?\",\n",
        "    \"Perhaps you could {0} if you tried.\",\n",
        "    \"What would it take for you to {0}?\"]],\n",
        "\n",
        "  [r'I am (.*)',\n",
        "  [  \"Did you come to me because you are {0}?\",\n",
        "    \"How long have you been {0}?\",\n",
        "    \"How do you feel about being {0}?\"]],\n",
        "\n",
        "  [r'I\\'?m (.*)',\n",
        "  [  \"How does being {0} make you feel?\",\n",
        "    \"Do you enjoy being {0}?\",\n",
        "    \"Why do you tell me you're {0}?\",\n",
        "    \"Why do you think you're {0}?\"]],\n",
        "\n",
        "  [r'Are you ([^\\?]*)\\??',\n",
        "  [  \"Why does it matter whether I am {0}?\",\n",
        "    \"Would you prefer it if I were not {0}?\",\n",
        "    \"Perhaps you believe I am {0}.\",\n",
        "    \"I may be {0} -- what do you think?\"]],\n",
        "\n",
        "  [r'What (.*)',\n",
        "  [  \"Why do you ask?\",\n",
        "    \"How would an answer to that help you?\",\n",
        "    \"What do you think?\"]],\n",
        "\n",
        "  [r'How (.*)',\n",
        "  [  \"How do you suppose?\",\n",
        "    \"Perhaps you can answer your own question.\",\n",
        "    \"What is it you're really asking?\"]],\n",
        "\n",
        "  [r'Because (.*)',\n",
        "  [  \"Is that the real reason?\",\n",
        "    \"What other reasons come to mind?\",\n",
        "    \"Does that reason apply to anything else?\",\n",
        "    \"If {0}, what else must be true?\"]],\n",
        "\n",
        "  [r'Hello(.*)',\n",
        "  [  \"Hello... I'm glad you could drop by today.\",\n",
        "    \"Hi there... how are you today?\",\n",
        "    \"Hello, how are you feeling today?\"]],\n",
        "\n",
        "  [r'quit',\n",
        "  [  \"Thank you for talking with me.\",\n",
        "    \"Good-bye.\",\n",
        "    \"Thank you, that will be $150.  Have a good day!\"]],\n",
        "\n",
        "  [r'(.*)',\n",
        "  [  \"Please tell me more.\",\n",
        "    \"Let's change focus a bit... Tell me about your family.\",\n",
        "    \"Can you elaborate on that?\",\n",
        "    \"Why do you say that {0}?\",\n",
        "    \"I see.\",\n",
        "    \"Very interesting.\",\n",
        "    \"{0}.\",\n",
        "    \"I see.  And what does that tell you?\",\n",
        "    \"How does that make you feel?\",\n",
        "    \"How do you feel when you say that?\"]]\n",
        "]"
      ]
    },
    {
      "cell_type": "markdown",
      "metadata": {
        "id": "hw505UbniaCk"
      },
      "source": [
        "Now let us write the function `respond` that reads the user input and generates the response accordingly.\n",
        "\n",
        "We iterate through the regular expressions in `gpats`, trying to match each one with the user’s input `s`. If we find a match, we choose a response template randomly from the list of possible responses associated with the matching pattern. Then we interpolate the match groups from the RE into the response string, calling the `translate` function on each match group first.\n",
        "\n",
        "When we use the list comprehension to generate a list of reflected match groups, we explode the list with the asterisk `\\*` character before passing it to the string’s `format` method. Format expects a series of positional arguments corresponding to the number of format placeholders – `{0}`, `{1}`, etc. – in the string."
      ]
    },
    {
      "cell_type": "code",
      "execution_count": 27,
      "metadata": {
        "id": "XFBi1VfdiaCl"
      },
      "outputs": [],
      "source": [
        "import re\n",
        "import random\n",
        "def respond(s):\n",
        "    for pattern, responses in gpats:\n",
        "        # find a match for s\n",
        "        match = re.match(pattern, s)\n",
        "        if match:\n",
        "            # chosen randomly from among the available options\n",
        "            response = random.choice(responses)\n",
        "            return response.format(*[translate(g) for g in match.groups()])"
      ]
    },
    {
      "cell_type": "markdown",
      "metadata": {
        "id": "4OBCI_bLiaCo"
      },
      "source": [
        "First, we make the input lowercase, then we tokenize it by splitting on whitespace characters. We iterate through the list of tokens and, if the token exists in our reflections dictionary, we replace it with the value from the dictionary. So “I” becomes “you”, “your” becomes “my”, etc."
      ]
    },
    {
      "cell_type": "code",
      "execution_count": 28,
      "metadata": {
        "id": "1VzJ-FBRiaCp"
      },
      "outputs": [],
      "source": [
        "def translate(fragment):\n",
        "    tokens = fragment.lower().split()\n",
        "    for i, token in enumerate(tokens):\n",
        "        if token in grefs:\n",
        "            tokens[i] = grefs[token]\n",
        "    return ' '.join(tokens)"
      ]
    },
    {
      "cell_type": "markdown",
      "metadata": {
        "id": "lAbMaT77iaCr"
      },
      "source": [
        "Finally, we can wrap everything into an interface where our Eliza will wait for the user input and generate corresponding response."
      ]
    },
    {
      "cell_type": "code",
      "execution_count": 29,
      "metadata": {
        "id": "PkufxD5RiaCr"
      },
      "outputs": [],
      "source": [
        "def start_eliza():\n",
        "    print('Therapist\\n---------')\n",
        "    print('Talk to the program by typing in plain English, using normal upper-')\n",
        "    print('and lower-case letters and punctuation.  Enter \"quit\" when done.')\n",
        "    print('='*72)\n",
        "    print('Hello.  How are you feeling today?')\n",
        "\n",
        "    s = ''\n",
        "    while s != 'quit':\n",
        "        try:\n",
        "            s = input('> ')\n",
        "            while s[-1] in '!.':\n",
        "                s = s[:-1]\n",
        "        except:\n",
        "            s = 'quit'\n",
        "            print('Invalid Input, exit ...')\n",
        "        print(respond(s))"
      ]
    },
    {
      "cell_type": "code",
      "execution_count": 30,
      "metadata": {
        "id": "fm4erZi4iaCu",
        "colab": {
          "base_uri": "https://localhost:8080/"
        },
        "outputId": "d15729c3-c78a-457b-a10d-ea23cfdd33c0"
      },
      "outputs": [
        {
          "output_type": "stream",
          "name": "stdout",
          "text": [
            "Therapist\n",
            "---------\n",
            "Talk to the program by typing in plain English, using normal upper-\n",
            "and lower-case letters and punctuation.  Enter \"quit\" when done.\n",
            "========================================================================\n",
            "Hello.  How are you feeling today?\n",
            "> fine\n",
            "fine.\n",
            "> yes\n",
            "I see.  And what does that tell you?\n",
            "> that I'm fine\n",
            "Let's change focus a bit... Tell me about your family.\n",
            "> they are fine\n",
            "Let's change focus a bit... Tell me about your family.\n",
            "> i already told you\n",
            "I see.  And what does that tell you?\n",
            "> that you are useless\n",
            "I see.  And what does that tell you?\n",
            "> nothing\n",
            "Why do you say that nothing?\n",
            "> goodbye\n",
            "How does that make you feel?\n",
            "> quit\n",
            "Good-bye.\n"
          ]
        }
      ],
      "source": [
        "start_eliza()"
      ]
    },
    {
      "cell_type": "markdown",
      "metadata": {
        "id": "B9FHNXoFiaCx"
      },
      "source": [
        "Now try to add your own [RE, responses] pairs to the `gpats` to capture more questions from the user. Feel free to refer to [this](https://github.com/jezhiggins/eliza.py/blob/master/eliza.py) for more REs."
      ]
    },
    {
      "cell_type": "markdown",
      "metadata": {
        "id": "6tHMsbtSiaCx"
      },
      "source": [
        "### ❓ Quiz  "
      ]
    },
    {
      "cell_type": "markdown",
      "metadata": {
        "id": "-HVFUrpmiaCx"
      },
      "source": [
        "1. For the previous variable `text` for regular expression session:"
      ]
    },
    {
      "cell_type": "code",
      "execution_count": 31,
      "metadata": {
        "id": "4wX3xoGOVp7v",
        "colab": {
          "base_uri": "https://localhost:8080/"
        },
        "outputId": "693b91b1-e3d1-4b08-d854-0071f86b2e70"
      },
      "outputs": [
        {
          "output_type": "stream",
          "name": "stdout",
          "text": [
            "                2\n",
            "  When forty winters shall besiege thy brow,And dig deep trenches in thy beauty's field, Thy youth's proud livery so gazed on now, Will be a tattered weed of small worth held: Then being asked, where all thy beauty lies, Where all the treasure of thy lusty days; To say within thine own deep sunken eyes, Were an all-eating shame, and thriftless praise. How much more praise deserved thy beauty's use, If thou couldst answer 'This fair child of mine Shall sum my count, and make my old excuse' Proving his beauty by succession thine. This were to be new made when thou art old, And see thy blood warm when thou feel'st it cold.\n"
          ]
        }
      ],
      "source": [
        "text = (\"\"\"                2\n",
        "  When forty winters shall besiege thy brow,\"\"\"\n",
        "  \"And dig deep trenches in thy beauty's field, \"\n",
        "  \"Thy youth's proud livery so gazed on now, \"\n",
        "  \"Will be a tattered weed of small worth held: \"\n",
        "  \"Then being asked, where all thy beauty lies, \"\n",
        "  \"Where all the treasure of thy lusty days; \"\n",
        "  \"To say within thine own deep sunken eyes, \"\n",
        "  \"Were an all-eating shame, and thriftless praise. \"\n",
        "  \"How much more praise deserved thy beauty's use, \"\n",
        "  \"If thou couldst answer 'This fair child of mine \"\n",
        "  \"Shall sum my count, and make my old excuse' \"\n",
        "  \"Proving his beauty by succession thine. \"\n",
        "  \"This were to be new made when thou art old, \"\n",
        "  \"And see thy blood warm when thou feel'st it cold.\")\n",
        "\n",
        "print(text)"
      ]
    },
    {
      "cell_type": "markdown",
      "metadata": {
        "id": "3iMN8SAaVp7y"
      },
      "source": [
        "Which RE can find all words with 3, 4 and 5 characters?\n",
        "\n",
        "A. `r'.{3,5}'`\n",
        "\n",
        "B. `r'\\b.{3,5}+\\b'`\n",
        "\n",
        "C. `r'\\b\\w{3,5}\\b'`\n",
        "\n",
        "D. `r'\\w{3,5}'`"
      ]
    },
    {
      "cell_type": "markdown",
      "metadata": {
        "id": "o6saHrVbiaCx"
      },
      "source": [
        "<hr>    <!-- please remember this! -->\n",
        "<details>\n",
        "  <summary>Click <b>here</b> to see the answer.</summary>\n",
        "  <p>C</p>\n",
        "  <p>\n",
        "      \\b asserts position at a word boundary;<br>\n",
        "      \\w matches any word character (equal to [a-zA-Z0-9_]);<br>\n",
        "      {3,5} Quantifier — Matches between 3 and 5 times, as many times as possible, giving back as needed.<br>\n",
        "  </p>\n",
        "</details>"
      ]
    },
    {
      "cell_type": "markdown",
      "metadata": {
        "id": "w9iKC0y5iaCx"
      },
      "source": [
        "2. Which function can you use to find all the words that the RE in 1. matches?\n",
        "\n",
        "A. `match()`\n",
        "\n",
        "B. `search()`\n",
        "\n",
        "C. `finditer()`\n",
        "\n",
        "D. `findall()`"
      ]
    },
    {
      "cell_type": "markdown",
      "metadata": {
        "id": "Sjym-hBSiaCy"
      },
      "source": [
        "<hr>    <!-- please remember this! -->\n",
        "<details>\n",
        "  <summary>Click <b>here</b> to see the answer.</summary>\n",
        "  <p>C, D</p>\n",
        "  <p><pre><code>\n",
        "    import re\n",
        "    p = re.compile(r'\\b\\w{3,5}\\b')\n",
        "    # use finditer()\n",
        "    iterator = p.finditer(text)\n",
        "    for match in iterator:\n",
        "        print(match.group())\n",
        "    # use findall()\n",
        "    m = p.findall(text)\n",
        "    print(m)\n",
        "  </code></pre></p>\n",
        "</details>"
      ]
    },
    {
      "cell_type": "markdown",
      "metadata": {
        "id": "Ak_b559SiaCy"
      },
      "source": [
        "3. How many words the RE in 1 matches are there?\n",
        "\n",
        "A. 128\n",
        "\n",
        "B. 105\n",
        "\n",
        "C. 96\n",
        "\n",
        "D. 77"
      ]
    },
    {
      "cell_type": "markdown",
      "metadata": {
        "id": "m1fyPouEiaCz"
      },
      "source": [
        "<hr>    <!-- please remember this! -->\n",
        "<details>\n",
        "  <summary>Click <b>here</b> to see the answer.</summary>\n",
        "  <p>D</p>\n",
        "  <p><pre><code>\n",
        "    import re\n",
        "    p = re.compile(r'\\b\\w{3,5}\\b')\n",
        "    m = p.findall(text)\n",
        "    print(len(m))\n",
        "  </code></pre></p>\n",
        "</details>"
      ]
    },
    {
      "cell_type": "markdown",
      "metadata": {
        "id": "Z5qJWGEKiaC0"
      },
      "source": [
        "4. How many words are there with 5 letters?\n",
        "\n",
        "A. 10\n",
        "\n",
        "B. 20\n",
        "\n",
        "C. 30\n",
        "\n",
        "D. 35"
      ]
    },
    {
      "cell_type": "markdown",
      "metadata": {
        "id": "RFlN1AEuiaC0"
      },
      "source": [
        "<hr>    <!-- please remember this! -->\n",
        "<details>\n",
        "  <summary>Click <b>here</b> to see the answer.</summary>\n",
        "  <p>B</p>\n",
        "  <p><pre><code>\n",
        "    import re\n",
        "    p = re.compile(r'\\b\\w{5}\\b')\n",
        "    m = p.findall(text)\n",
        "    print(len(m))\n",
        "  </code></pre></p>\n",
        "</details>"
      ]
    },
    {
      "cell_type": "markdown",
      "metadata": {
        "id": "AoGys8bOiaC0"
      },
      "source": [
        "5. What's the span of the first word with 4 letters?\n",
        "\n",
        "A. (16, 20)\n",
        "\n",
        "B. (18, 22)\n",
        "\n",
        "C. (20, 24)\n",
        "\n",
        "D. (22, 26)"
      ]
    },
    {
      "cell_type": "markdown",
      "metadata": {
        "id": "_3smXaHniaC0"
      },
      "source": [
        "<hr>    <!-- please remember this! -->\n",
        "<details>\n",
        "  <summary>Click <b>here</b> to see the answer.</summary>\n",
        "  <p>C</p>\n",
        "  <p><pre><code>\n",
        "    import re\n",
        "    p = re.compile(r'\\b\\w{4}\\b')\n",
        "    iterator = p.finditer(text)\n",
        "    match = next(iterator)\n",
        "    print(match.span())\n",
        "  </code></pre></p>\n",
        "</details>"
      ]
    },
    {
      "cell_type": "markdown",
      "metadata": {
        "id": "zhubIGEWiaC1"
      },
      "source": [
        "## SpaCy"
      ]
    },
    {
      "cell_type": "markdown",
      "metadata": {
        "id": "V9ET3R3YiaC2"
      },
      "source": [
        "spaCy is a free, open-source library for advanced Natural Language Processing (NLP) in Python.\n",
        "\n",
        "spaCy is designed specifically for production use and helps you build applications that process and “understand” large volumes of text. It can be used to build information extraction or natural language understanding systems, or to pre-process text for deep learning.\n",
        "\n",
        "There are many useful resources online for spaCy, among which the official [tutorial](https://spacy.io/usage/spacy-101) and the [course](https://course.spacy.io/) are extremely useful."
      ]
    },
    {
      "cell_type": "markdown",
      "metadata": {
        "id": "nemMLROOiaC2"
      },
      "source": [
        "### Package Installation"
      ]
    },
    {
      "cell_type": "markdown",
      "metadata": {
        "id": "JZBA6bcmiaC2"
      },
      "source": [
        "Python uses a software called *package manager* to install additional libraries. The most common package managers for Python are [pip](https://en.wikipedia.org/wiki/Pip_(package_manager)) and [conda](https://en.wikipedia.org/wiki/Anaconda_(Python_distribution)).\n",
        "\n",
        "[Here](https://spacy.io/usage) you will find a guide to install spaCy with pip.\n",
        "However, you can install packages directly from Jupyter by running the following\n",
        "*shell commands*:\n",
        "\n",
        "```\n",
        "pip install spacy\n",
        "python -m spacy download en_core_web_sm\n",
        "```\n",
        "\n",
        "Shell commands are usually run in a *terminal*, and are run directly by the\n",
        "operating system. In Jupyter, you can run a shell command by prepending an\n",
        "exclamation mark (\"`!`\") to the command. Don't worry - we will always prepare\n",
        "shell commands for you when they are needed!\n",
        "\n",
        "**IMPORTANT**:\n",
        "Note that shell commands will work only when running the notebooks\n",
        "- On Linux and macOS/OS X\n",
        "- On a cloud provider (e.g. Google Colab, MS Azure, Binder)\n",
        "\n",
        "These commands *may* not work when running the notebooks locally with Windows.\n",
        "\n",
        "Let's install spaCy and download the required models:"
      ]
    },
    {
      "cell_type": "code",
      "execution_count": null,
      "metadata": {
        "id": "u_ZbKrvlmgHd"
      },
      "outputs": [],
      "source": [
        "!pip install spacy\n",
        "!python -m spacy download en_core_web_sm"
      ]
    },
    {
      "cell_type": "markdown",
      "metadata": {
        "id": "XQupGCmBmemF"
      },
      "source": [
        "The previous command should print the message `✔ Download and installation successful`. If that didn't happen, and/or if the commands below do not work,\n",
        "please contact a course instructor for support."
      ]
    },
    {
      "cell_type": "markdown",
      "metadata": {
        "id": "D0U1XgSZpOCj"
      },
      "source": [
        "### Using spaCy"
      ]
    },
    {
      "cell_type": "markdown",
      "metadata": {
        "id": "lSx0oZnviaC3"
      },
      "source": [
        "spaCy is enables many different features introduced [here](https://spacy.io/usage/spacy-101#features), and we will focus on the simplest and direct features:\n",
        "- tokenization;\n",
        "- stemming; (not supported by spaCy)\n",
        "- lemmatization;\n",
        "- part-of-speech (POS) tagging;\n",
        "- sentence boundary detection and sentence segmentation;\n",
        "- dependency parsing;"
      ]
    },
    {
      "cell_type": "code",
      "execution_count": null,
      "metadata": {
        "id": "I1zz_iYJiaC3"
      },
      "outputs": [],
      "source": [
        "# import spacy module\n",
        "import spacy\n",
        "\n",
        "# load english model\n",
        "nlp = spacy.load(\"en_core_web_sm\")\n",
        "# read the text and process\n",
        "doc = nlp(text)"
      ]
    },
    {
      "cell_type": "code",
      "execution_count": null,
      "metadata": {
        "id": "4OqX0kdDiaC5"
      },
      "outputs": [],
      "source": [
        "# Tokenization\n",
        "# get all separated tokens in doc\n",
        "tokens = [token.text for token in doc]\n",
        "print(tokens)"
      ]
    },
    {
      "cell_type": "markdown",
      "metadata": {
        "id": "-YDkZk1CiaC7"
      },
      "source": [
        "You can see from the list *tokens* that there each tokenized token is in the entry of the list."
      ]
    },
    {
      "cell_type": "code",
      "execution_count": null,
      "metadata": {
        "id": "PZUuHjE-iaC7"
      },
      "outputs": [],
      "source": [
        "# Lemmatization\n",
        "lemmas = [token.lemma_ for token in doc]\n",
        "print(lemmas)"
      ]
    },
    {
      "cell_type": "markdown",
      "metadata": {
        "id": "Fk_gIzj1iaC-"
      },
      "source": [
        "Did you notice that almost all pronouns are subsituted with `-PRON-`?\n",
        "\n",
        "Unlike verbs and common nouns, there’s no clear base form of a personal pronoun. Should the lemma of “me” be “I”, or should we normalize person as well, giving “it” — or maybe “he”? spaCy’s solution is to introduce a novel symbol, `-PRON-`, which is used as the lemma for all personal pronouns."
      ]
    },
    {
      "cell_type": "code",
      "execution_count": null,
      "metadata": {
        "id": "MSBLc-VGiaDA"
      },
      "outputs": [],
      "source": [
        "# POS tagging\n",
        "poss = [token.pos_ for token in doc]\n",
        "print(poss)"
      ]
    },
    {
      "cell_type": "markdown",
      "metadata": {
        "id": "L1n3SWljiaDC"
      },
      "source": [
        "Compare the outputs of the previous three lists."
      ]
    },
    {
      "cell_type": "markdown",
      "metadata": {
        "id": "eiCXxxnLiaDC"
      },
      "source": [
        "Now let's move to sentence level features, i.e. sentence boundary detection and sentence segmentation. Unlike other libraries, spaCy uses the dependency parse to determine sentence boundaries. This is usually more accurate than a rule-based approach, but it also means you’ll need a statistical model and accurate predictions.\n",
        "If your texts are closer to general-purpose news or web text, this should work well out-of-the-box."
      ]
    },
    {
      "cell_type": "code",
      "execution_count": null,
      "metadata": {
        "id": "BV-GIrK5iaDD"
      },
      "outputs": [],
      "source": [
        "sentences = list(doc.sents)\n",
        "sent_texts = [sentence.text for sentence in sentences]\n",
        "print(sent_texts)\n",
        "print(len(sent_texts))"
      ]
    },
    {
      "cell_type": "markdown",
      "metadata": {
        "id": "BjOudVlyiaDH"
      },
      "source": [
        "However, for other texts like social media texts, your application may benefit from a custom rule-based implementation. You can either use the built-in Sentencizer or plug an entirely custom rule-based function into your processing pipeline.\n",
        "\n",
        "Let's build a rule-based sentence segmentor."
      ]
    },
    {
      "cell_type": "code",
      "execution_count": null,
      "metadata": {
        "id": "5xO19_ykiaDH"
      },
      "outputs": [],
      "source": [
        "from spacy.lang.en import English\n",
        "\n",
        "nlp_rule = English()  # just the language with no model\n",
        "nlp_rule.add_pipe(\"sentencizer\")\n",
        "doc_rule = nlp_rule(text)\n",
        "sent_rule_texts = [sent.text for sent in doc_rule.sents]\n",
        "print(sent_rule_texts)\n",
        "print(len(sent_rule_texts))"
      ]
    },
    {
      "cell_type": "markdown",
      "metadata": {
        "id": "OJuHTGZSiaDK"
      },
      "source": [
        "You can see clearly the difference in both methods, where the statistical dependency parse sentence segmentor generate 12 sentencs, but the rule-based sentence segmentor only yields 4 sentences."
      ]
    },
    {
      "cell_type": "markdown",
      "metadata": {
        "id": "nLB45n5RiaDK"
      },
      "source": [
        "Finally, let's have a look at the dependencies, i.e. the dependency relations between tokens, which is also used to segment sentences for the first model."
      ]
    },
    {
      "cell_type": "code",
      "execution_count": null,
      "metadata": {
        "id": "D6cm_OEhiaDK"
      },
      "outputs": [],
      "source": [
        "# Dependencies\n",
        "deps = [token.dep_ for token in doc]\n",
        "print(deps)"
      ]
    },
    {
      "cell_type": "markdown",
      "metadata": {
        "id": "fXgE5fUqiaDN"
      },
      "source": [
        "Using spaCy’s built-in [diaplay visualizer](https://spacy.io/usage/visualizers), here’s what our example sentence and its dependencies."
      ]
    },
    {
      "cell_type": "code",
      "execution_count": null,
      "metadata": {
        "id": "KJgCJSM4iaDN",
        "scrolled": false
      },
      "outputs": [],
      "source": [
        "from spacy import displacy\n",
        "displacy.render(sentences, style = \"dep\", jupyter=True)"
      ]
    },
    {
      "cell_type": "markdown",
      "metadata": {
        "id": "CnXN__YniaDQ"
      },
      "source": [
        "## ✍️ Final Assessment"
      ]
    },
    {
      "cell_type": "markdown",
      "metadata": {
        "id": "U41cETTCiaDR"
      },
      "source": [
        "[5 marks] Question 1. Write a function to calculate the $N_{th}$ Finbonacci number without `for` loop using the folloing formula:\n",
        "$$\n",
        "f_n = \\frac{a^n - b^n}{a - b} = \\frac{a^n - b^n}{\\sqrt{5}}\n",
        "$$\n",
        "where $a = \\frac{1 + \\sqrt{5}}{2}$ and $b = \\frac{1- \\sqrt{5}}{2}$.\n",
        "\n",
        "Note that you are only required to implement the code according to the formula, and you don't have to know how the formula is derived, but in case you are interested, you can have a look at [Wikipedia](https://en.wikipedia.org/wiki/Fibonacci_number) and the derivations of the closed form formula [here](https://en.wikipedia.org/wiki/Fibonacci_number#Closed-form_expression)."
      ]
    },
    {
      "cell_type": "code",
      "execution_count": 65,
      "metadata": {
        "id": "tkWhkaBIVp8h",
        "colab": {
          "base_uri": "https://localhost:8080/"
        },
        "outputId": "7b878db8-5a73-48af-c994-97327ef96b93"
      },
      "outputs": [
        {
          "output_type": "stream",
          "name": "stdout",
          "text": [
            "Please enter a number: 4\n",
            "Fibonacci number 4 is: 3\n"
          ]
        }
      ],
      "source": [
        "def fib(n):\n",
        "    a = (1 + 5 ** 0.5) / 2\n",
        "    b = (1 - 5 ** 0.5) / 2\n",
        "    return (a ** n - b ** n) / (a - b)\n",
        "\n",
        "num = int(input(\"Please enter a number: \"))\n",
        "\n",
        "print(\"Fibonacci number\", num, \"is:\", int(fib(num)))"
      ]
    },
    {
      "cell_type": "markdown",
      "metadata": {
        "id": "3oFBidXGiaDU"
      },
      "source": [
        "[8 marks] Question 2. Tokenize the following sentences with RE:\n",
        "```\n",
        "sents = \"\"\"He asked: \"When will you graduate?\"\\n\"I will get my Ph.D. degree(Doctor of Philosophy) in a few years, hehe. And get $123,45675.45.\" I answered. END\"\"\"\n",
        "```\n",
        "How many token types are there in total?"
      ]
    },
    {
      "cell_type": "code",
      "execution_count": 34,
      "metadata": {
        "id": "MWKcdqMfVp8j",
        "colab": {
          "base_uri": "https://localhost:8080/"
        },
        "outputId": "49f8c6a3-16fe-4783-a523-855d610c3d67"
      },
      "outputs": [
        {
          "output_type": "stream",
          "name": "stdout",
          "text": [
            "There are 23 token types.\n"
          ]
        }
      ],
      "source": [
        "sents = \"\"\"He asked: \"When will you graduate?\"\\n\"I will get my Ph.D. degree(Doctor of Philosophy) in a few years, hehe. And get $123,45675.45.\" I answered. END\"\"\"\n",
        "\n",
        "token_types = len(set(sents.split()))\n",
        "print(\"There are\", token_types, \"token types.\")"
      ]
    },
    {
      "cell_type": "markdown",
      "metadata": {
        "id": "OXq7klDBiaDd"
      },
      "source": [
        "[2 marks] Question 3. Tokenize the previous sentences with SpaCy. How many token types are there in total?"
      ]
    },
    {
      "cell_type": "code",
      "execution_count": null,
      "metadata": {
        "id": "SKU-ODFaVp8m"
      },
      "outputs": [],
      "source": [
        "sents = \"\"\"He asked: \"When will you graduate?\"\\n\"I will get my Ph.D. degree(Doctor of Philosophy) in a few years, hehe. And get $123,45675.45.\" I answered. END\"\"\"\n",
        "\n",
        "nlp = spacy.load(\"en_core_web_sm\")\n",
        "doc = nlp(sents)\n",
        "token_types = len(set([token.text for token in doc]))\n",
        "print(\"There are\", token_types, \"token types.\")"
      ]
    },
    {
      "cell_type": "markdown",
      "metadata": {
        "id": "E6WVbaMuiaDf"
      },
      "source": [
        "## External Resources"
      ]
    },
    {
      "cell_type": "markdown",
      "metadata": {
        "id": "zL6CoT4KiaDf"
      },
      "source": [
        "- [How To Define Functions in Python 3](https://www.digitalocean.com/community/tutorials/how-to-define-functions-in-python-3)\n",
        "- [Regular Expression HOWTO](https://docs.python.org/3.6/howto/regex.html#regex-howto)\n",
        "- [Regular Expression Documentation](https://docs.python.org/3.6/library/re.html)\n",
        "- [Eliza](https://github.com/jezhiggins/eliza.py/blob/master/eliza.py)\n",
        "- [spaCy 101: Everything you need to know](https://spacy.io/usage/spacy-101#_title)\n",
        "- [Advanced NLP with spaCy](https://course.spacy.io/)"
      ]
    },
    {
      "cell_type": "markdown",
      "metadata": {
        "id": "JQpENhrXVp8o"
      },
      "source": [
        "# Survey\n",
        "\n",
        "Please complete the [post-module survey](https://docs.google.com/forms/d/e/1FAIpQLSeLX1N344kBn8q9PTgg455lrzvVzzI5IW9itF4cT_WqeQKaFQ/viewform) when you are finished. Thank you!"
      ]
    },
    {
      "cell_type": "markdown",
      "metadata": {
        "id": "kkBWDFnwiaDg"
      },
      "source": [
        "# Next Module\n",
        "\n",
        "[Click here](../module_1.4/module_1.4.ipynb) to move to the next module."
      ]
    }
  ],
  "metadata": {
    "colab": {
      "name": "module_1.3.ipynb",
      "provenance": []
    },
    "kernelspec": {
      "display_name": "Python 3",
      "language": "python",
      "name": "python3"
    },
    "language_info": {
      "codemirror_mode": {
        "name": "ipython",
        "version": 3
      },
      "file_extension": ".py",
      "mimetype": "text/x-python",
      "name": "python",
      "nbconvert_exporter": "python",
      "pygments_lexer": "ipython3",
      "version": "3.6.8"
    },
    "toc": {
      "base_numbering": 1,
      "nav_menu": {},
      "number_sections": true,
      "sideBar": true,
      "skip_h1_title": false,
      "title_cell": "Table of Contents",
      "title_sidebar": "Contents",
      "toc_cell": false,
      "toc_position": {},
      "toc_section_display": true,
      "toc_window_display": true
    },
    "varInspector": {
      "cols": {
        "lenName": 16,
        "lenType": 16,
        "lenVar": 40
      },
      "kernels_config": {
        "python": {
          "delete_cmd_postfix": "",
          "delete_cmd_prefix": "del ",
          "library": "var_list.py",
          "varRefreshCmd": "print(var_dic_list())"
        },
        "r": {
          "delete_cmd_postfix": ") ",
          "delete_cmd_prefix": "rm(",
          "library": "var_list.r",
          "varRefreshCmd": "cat(var_dic_list()) "
        }
      },
      "types_to_exclude": [
        "module",
        "function",
        "builtin_function_or_method",
        "instance",
        "_Feature"
      ],
      "window_display": false
    }
  },
  "nbformat": 4,
  "nbformat_minor": 0
}