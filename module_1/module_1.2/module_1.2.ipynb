{
  "nbformat": 4,
  "nbformat_minor": 0,
  "metadata": {
    "colab": {
      "name": "module_1.2.ipynb",
      "provenance": []
    },
    "kernelspec": {
      "display_name": "Python 3",
      "language": "python",
      "name": "python3"
    },
    "language_info": {
      "codemirror_mode": {
        "name": "ipython",
        "version": 3
      },
      "file_extension": ".py",
      "mimetype": "text/x-python",
      "name": "python",
      "nbconvert_exporter": "python",
      "pygments_lexer": "ipython3",
      "version": "3.8.2"
    },
    "toc": {
      "base_numbering": 1,
      "nav_menu": {},
      "number_sections": true,
      "sideBar": true,
      "skip_h1_title": false,
      "title_cell": "Table of Contents",
      "title_sidebar": "Contents",
      "toc_cell": false,
      "toc_position": {
        "height": "calc(100% - 180px)",
        "left": "10px",
        "top": "150px",
        "width": "371px"
      },
      "toc_section_display": true,
      "toc_window_display": true
    },
    "varInspector": {
      "cols": {
        "lenName": 16,
        "lenType": 16,
        "lenVar": 40
      },
      "kernels_config": {
        "python": {
          "delete_cmd_postfix": "",
          "delete_cmd_prefix": "del ",
          "library": "var_list.py",
          "varRefreshCmd": "print(var_dic_list())"
        },
        "r": {
          "delete_cmd_postfix": ") ",
          "delete_cmd_prefix": "rm(",
          "library": "var_list.r",
          "varRefreshCmd": "cat(var_dic_list()) "
        }
      },
      "types_to_exclude": [
        "module",
        "function",
        "builtin_function_or_method",
        "instance",
        "_Feature"
      ],
      "window_display": false
    }
  },
  "cells": [
    {
      "cell_type": "markdown",
      "metadata": {
        "id": "vIp9q5JUTkjG"
      },
      "source": [
        "# Python for Computational Linguists 1.2: Introduction to Python"
      ]
    },
    {
      "cell_type": "markdown",
      "metadata": {
        "id": "3AATENhqTkjI"
      },
      "source": [
        "# Python for Linguists"
      ]
    },
    {
      "cell_type": "markdown",
      "metadata": {
        "id": "PSQh4MfTTkjL"
      },
      "source": [
        "Hello and welcome to the first module of Python for Computational Linguistics!\n",
        "\n",
        "This module will introduce you to Python, the programming language that we will use throughout this course. We recommend you to go through this module even if you're already familiar with Python - a reminder is always good.\n",
        "\n",
        "## What is Python?\n",
        "\n",
        "Python is a simple programming language which aim is to aid programmers to write clear, readable code quickly, and it's particularly suitable for beginners due to its simple syntax. However, don't be fooled by its simplicity - Python is a full-fledged programming language which, later in this course, will allow us to build complex language models and train huge neural networks!\n",
        "\n",
        "> **<h3>💻 Try it yourself!</h3>**\n",
        "\n",
        "To begin your career as a programmer, you can run your first Python code in the box below by clicking inside the box with your mouse and pressing simultaneously the keys `Control` and `Enter` on your keyboard:"
      ]
    },
    {
      "cell_type": "code",
      "metadata": {
        "id": "RboXmbfATkjN"
      },
      "source": [
        "2 + 2"
      ],
      "execution_count": null,
      "outputs": []
    },
    {
      "cell_type": "markdown",
      "metadata": {
        "id": "M6rieVFuTkjZ"
      },
      "source": [
        "Did the number `4` appear just below the equation? Congratulations! You just have solved a very difficult mathematical problem with Python."
      ]
    },
    {
      "cell_type": "markdown",
      "metadata": {
        "id": "OP0v8nbnTkja"
      },
      "source": [
        "# Jupyter Notebooks"
      ]
    },
    {
      "cell_type": "markdown",
      "metadata": {
        "id": "y1wzFO5qTkjb"
      },
      "source": [
        "The web page you are visiting right now is a *Jupyter Notebook*. A Jupyter Notebook is an environment which allows you to run Python code within your browser.\n",
        "\n",
        "Actually, the code does not run *in* your browser, but on a [*server*](https://en.wikipedia.org/wiki/Client%E2%80%93server_model); if you're running this notebook on Azure or Colab, for example, the instructions you write run on Microsoft's or Google's servers somewhere in the world, which then send back the results on this page. However, you can also run a Jupyter server, for example, on your laptop; this way, the code will effectively run on your machine.\n",
        "\n",
        "We write code in *cells*, which are the grey boxes you see in this page.\n",
        "\n",
        "> **<h3>💻 Try it yourself!</h3>**\n",
        "\n",
        "Try to write\n",
        "\n",
        "`print('Hello world!')`\n",
        "\n",
        "In the cell below. To run the code, press `Control` and `Enter` on your keyboard, as you did before."
      ]
    },
    {
      "cell_type": "code",
      "metadata": {
        "id": "balBHez-Tkjd",
        "colab": {
          "base_uri": "https://localhost:8080/"
        },
        "outputId": "b0b9c1fa-20ee-44a5-877f-dbea999427ee"
      },
      "source": [
        "print('Hello world!')"
      ],
      "execution_count": 1,
      "outputs": [
        {
          "output_type": "stream",
          "name": "stdout",
          "text": [
            "Hello world!\n"
          ]
        }
      ]
    },
    {
      "cell_type": "markdown",
      "metadata": {
        "id": "Xxv6gKwZTkjl"
      },
      "source": [
        "You should see the string `Hello world!` appearing under the cell!\n",
        "\n",
        "Now that we know how to run code, let's begin with some programming basics. When you encounter a cell code, please always assume that you should run it by using the usual `Control` and `Enter` keyboard combination, unless specified otherwise."
      ]
    },
    {
      "cell_type": "markdown",
      "metadata": {
        "id": "TTe_dbrITkjm"
      },
      "source": [
        "# Basic programming concepts"
      ]
    },
    {
      "cell_type": "markdown",
      "metadata": {
        "id": "jzzRsKswTkjo"
      },
      "source": [
        "## Statements"
      ]
    },
    {
      "cell_type": "markdown",
      "metadata": {
        "id": "JsGQeRr7Tkjo"
      },
      "source": [
        "A computer program is usually divided into many *instructions*, called statements, which tell the computer what operations should run. Please note that from now on we will use the term *statement* and *instruction* interchangeably.\n",
        "\n",
        "For example, run the cell below:"
      ]
    },
    {
      "cell_type": "code",
      "metadata": {
        "id": "tYE28gSXTkjq",
        "colab": {
          "base_uri": "https://localhost:8080/"
        },
        "outputId": "de990922-b987-491a-c58f-228582ed2085"
      },
      "source": [
        "print('This is a statement')\n",
        "print('This is another statement')"
      ],
      "execution_count": 2,
      "outputs": [
        {
          "output_type": "stream",
          "name": "stdout",
          "text": [
            "This is a statement\n",
            "This is another statement\n"
          ]
        }
      ]
    },
    {
      "cell_type": "markdown",
      "metadata": {
        "id": "T2a7-_H_Tkjx"
      },
      "source": [
        "As you can see, in Python, each line corresponds to a statement. If we need, we can break a instruction in multiple lines, but this works only on special cases. For example, if you run the cell below, you will see that"
      ]
    },
    {
      "cell_type": "code",
      "metadata": {
        "id": "BEicR0R-Tkjy",
        "colab": {
          "base_uri": "https://localhost:8080/"
        },
        "outputId": "f50642da-6676-4566-df1d-8d60d6ddab4c"
      },
      "source": [
        "print(\n",
        "    'A multiline instruction'\n",
        ")"
      ],
      "execution_count": 3,
      "outputs": [
        {
          "output_type": "stream",
          "name": "stdout",
          "text": [
            "A multiline instruction\n"
          ]
        }
      ]
    },
    {
      "cell_type": "markdown",
      "metadata": {
        "id": "dvXrDVBKTkj4"
      },
      "source": [
        "Is a valid instruction. On the other hand, if you run the cell below, you will gen an **`Error`**:"
      ]
    },
    {
      "cell_type": "code",
      "metadata": {
        "id": "DTmdVI-jTkj5",
        "scrolled": true,
        "colab": {
          "base_uri": "https://localhost:8080/",
          "height": 106
        },
        "outputId": "12f58925-8dd1-4bd4-d2fb-cdb8a2c3958c"
      },
      "source": [
        "2 +\n",
        "2"
      ],
      "execution_count": 4,
      "outputs": [
        {
          "output_type": "error",
          "ename": "SyntaxError",
          "evalue": "invalid syntax (<ipython-input-4-61f4b0ef3787>, line 1)",
          "traceback": [
            "\u001b[0;36m  File \u001b[0;32m\"<ipython-input-4-61f4b0ef3787>\"\u001b[0;36m, line \u001b[0;32m1\u001b[0m\n\u001b[0;31m    2 +\u001b[0m\n\u001b[0m       ^\u001b[0m\n\u001b[0;31mSyntaxError\u001b[0m\u001b[0;31m:\u001b[0m invalid syntax\n"
          ]
        }
      ]
    },
    {
      "cell_type": "markdown",
      "metadata": {
        "id": "g9CPNTeeTkj-"
      },
      "source": [
        "This happens because Python does not know how to read the code in the cell, so it will *raise* a an error and try to display an informative message about what is happening.\n",
        "\n",
        "As a rule of thumb, statements inside parentheses can be split on multiple lines, in order to improve the readability of the code. However, until you are more confident with the language, we advise you to write an instruction per line.\n",
        "\n",
        "Please note that when you encounter errors, you should **always** read the error type and message to understand what is happening; however, we will delve into this topic later."
      ]
    },
    {
      "cell_type": "markdown",
      "metadata": {
        "id": "hD2DXa4YTkj_"
      },
      "source": [
        "We will start by using Python as a calculator. In Python, numbers support the basic mathematical operations, as `+`, `-`, `*, /`.\n",
        "\n",
        "For example, we can sum two numbers by writing:"
      ]
    },
    {
      "cell_type": "code",
      "metadata": {
        "id": "qCqMlf9WTkkB",
        "colab": {
          "base_uri": "https://localhost:8080/"
        },
        "outputId": "66b5f04a-16f6-41d2-cc57-27c415c46566"
      },
      "source": [
        "134 + 25"
      ],
      "execution_count": 5,
      "outputs": [
        {
          "output_type": "execute_result",
          "data": {
            "text/plain": [
              "159"
            ]
          },
          "metadata": {},
          "execution_count": 5
        }
      ]
    },
    {
      "cell_type": "markdown",
      "metadata": {
        "id": "20mRpl6vTkkH"
      },
      "source": [
        "And we can multiply them by writing:"
      ]
    },
    {
      "cell_type": "code",
      "metadata": {
        "id": "MCB4D_cDTkkH",
        "colab": {
          "base_uri": "https://localhost:8080/"
        },
        "outputId": "f8630202-e331-4fee-c204-779d7186ac0a"
      },
      "source": [
        "13.4 * 4"
      ],
      "execution_count": 6,
      "outputs": [
        {
          "output_type": "execute_result",
          "data": {
            "text/plain": [
              "53.6"
            ]
          },
          "metadata": {},
          "execution_count": 6
        }
      ]
    },
    {
      "cell_type": "markdown",
      "metadata": {
        "id": "a84MCWhVTkkN"
      },
      "source": [
        "However, Python supports more complex operations as well, such as the power. For example, $2^3$ can be written as:"
      ]
    },
    {
      "cell_type": "code",
      "metadata": {
        "id": "nBBAg8L0TkkN",
        "colab": {
          "base_uri": "https://localhost:8080/"
        },
        "outputId": "40b440fa-16f9-47d6-c2a9-a053aa34ae54"
      },
      "source": [
        "2 ** 3"
      ],
      "execution_count": 7,
      "outputs": [
        {
          "output_type": "execute_result",
          "data": {
            "text/plain": [
              "8"
            ]
          },
          "metadata": {},
          "execution_count": 7
        }
      ]
    },
    {
      "cell_type": "markdown",
      "metadata": {
        "id": "l36R7nmLTkkT"
      },
      "source": [
        "We can also group operations using parentheses:"
      ]
    },
    {
      "cell_type": "code",
      "metadata": {
        "id": "9WHp8FY4TkkU",
        "colab": {
          "base_uri": "https://localhost:8080/"
        },
        "outputId": "58dbb763-447b-4dec-adfe-2c5d828a3f63"
      },
      "source": [
        "(2 ** 3) / 3"
      ],
      "execution_count": 8,
      "outputs": [
        {
          "output_type": "execute_result",
          "data": {
            "text/plain": [
              "2.6666666666666665"
            ]
          },
          "metadata": {},
          "execution_count": 8
        }
      ]
    },
    {
      "cell_type": "markdown",
      "metadata": {
        "id": "CaCKcN2GTkkZ"
      },
      "source": [
        "> **<h3>💻 Try it yourself!</h3>**\n",
        "\n",
        "Play with basic maths operations in the cell below."
      ]
    },
    {
      "cell_type": "code",
      "metadata": {
        "id": "BZ1EGc2aTkkc",
        "colab": {
          "base_uri": "https://localhost:8080/"
        },
        "outputId": "61c68d87-7747-46eb-c2b3-ede2c2c7305f"
      },
      "source": [
        "45//6"
      ],
      "execution_count": 13,
      "outputs": [
        {
          "output_type": "execute_result",
          "data": {
            "text/plain": [
              "7"
            ]
          },
          "metadata": {},
          "execution_count": 13
        }
      ]
    },
    {
      "cell_type": "markdown",
      "metadata": {
        "id": "gbCpihXtTkkg"
      },
      "source": [
        "## Variables"
      ]
    },
    {
      "cell_type": "markdown",
      "metadata": {
        "id": "odgKmnzMTkkh"
      },
      "source": [
        "While playing with a calculator is surely amusing, if we could only do mathematical operations in Python, it would be obviously quite limited. For example, what if we wanted to store the result of an operation, to reuse it again later?\n",
        "\n",
        "For this reason, virtually all programming languages offer the possibility of storing data in  **variables**. This way, we can store a datum in the computer's memory and reuse it later, e.g. to form more complex expressions, to pass it to external programs, and so on.\n",
        "\n",
        "The syntax for assigning variables is\n",
        "\n",
        "`variable_name = value`\n",
        "\n",
        "For example, if we write and run:"
      ]
    },
    {
      "cell_type": "code",
      "metadata": {
        "id": "CcF-LHeOTkki"
      },
      "source": [
        "a = 5"
      ],
      "execution_count": 14,
      "outputs": []
    },
    {
      "cell_type": "markdown",
      "metadata": {
        "id": "WbRBygOuTkkn"
      },
      "source": [
        "We saved the value `5` in the variable `a`. To see the value stored in a variable, we can simply write its name in a cell, e.g.:"
      ]
    },
    {
      "cell_type": "code",
      "metadata": {
        "id": "222DTkIlTkkq",
        "colab": {
          "base_uri": "https://localhost:8080/"
        },
        "outputId": "4a2a7c64-7a07-42f1-862b-78b2e26cc19d"
      },
      "source": [
        "a"
      ],
      "execution_count": 15,
      "outputs": [
        {
          "output_type": "execute_result",
          "data": {
            "text/plain": [
              "5"
            ]
          },
          "metadata": {},
          "execution_count": 15
        }
      ]
    },
    {
      "cell_type": "markdown",
      "metadata": {
        "id": "qVG_voBpTkkv"
      },
      "source": [
        "> **<h3>💻 Try it yourself!</h3>**\n",
        "\n",
        "Let's play with some variables! Can you guess the results of the cells below before running them?"
      ]
    },
    {
      "cell_type": "code",
      "metadata": {
        "id": "EHsszbUXTkkw"
      },
      "source": [
        "a = 5\n",
        "b = 2"
      ],
      "execution_count": 16,
      "outputs": []
    },
    {
      "cell_type": "code",
      "metadata": {
        "id": "Zi5TlQfSTkk1",
        "scrolled": true,
        "colab": {
          "base_uri": "https://localhost:8080/"
        },
        "outputId": "94d1c194-6093-4f89-8e87-d745e1a54933"
      },
      "source": [
        "a ** b"
      ],
      "execution_count": 17,
      "outputs": [
        {
          "output_type": "execute_result",
          "data": {
            "text/plain": [
              "25"
            ]
          },
          "metadata": {},
          "execution_count": 17
        }
      ]
    },
    {
      "cell_type": "code",
      "metadata": {
        "id": "nJmKnVsmTkk6",
        "scrolled": true,
        "colab": {
          "base_uri": "https://localhost:8080/"
        },
        "outputId": "9c03f16c-df30-4570-d1cf-db28671c022d"
      },
      "source": [
        "(a + b) / 3"
      ],
      "execution_count": 18,
      "outputs": [
        {
          "output_type": "execute_result",
          "data": {
            "text/plain": [
              "2.3333333333333335"
            ]
          },
          "metadata": {},
          "execution_count": 18
        }
      ]
    },
    {
      "cell_type": "code",
      "metadata": {
        "id": "y0depIHnTkk9",
        "colab": {
          "base_uri": "https://localhost:8080/"
        },
        "outputId": "8d2cd082-5b64-47b0-f52a-3b936c2acdad"
      },
      "source": [
        "(b * 2) / a - 3"
      ],
      "execution_count": 19,
      "outputs": [
        {
          "output_type": "execute_result",
          "data": {
            "text/plain": [
              "-2.2"
            ]
          },
          "metadata": {},
          "execution_count": 19
        }
      ]
    },
    {
      "cell_type": "code",
      "metadata": {
        "id": "dp937AtZTklC",
        "colab": {
          "base_uri": "https://localhost:8080/"
        },
        "outputId": "0b77d6d4-25fa-4803-f3b6-123f6ea8dfe0"
      },
      "source": [
        "string1 = 'hello'\n",
        "string2 = 'world'\n",
        "print(string1 + ' ' + string2)"
      ],
      "execution_count": 20,
      "outputs": [
        {
          "output_type": "stream",
          "name": "stdout",
          "text": [
            "hello world\n"
          ]
        }
      ]
    },
    {
      "cell_type": "markdown",
      "metadata": {
        "id": "-_9YIqCBVaCo"
      },
      "source": [
        "Did you correctly guess everything? Good! If you are puzzled by the concept of *summing texts* don't worry - we'll explain that later."
      ]
    },
    {
      "cell_type": "markdown",
      "metadata": {
        "id": "Tyd7OJ2eTklG"
      },
      "source": [
        "You can also **update** the content of a variable:"
      ]
    },
    {
      "cell_type": "code",
      "metadata": {
        "id": "gRWTzbdFTklH",
        "colab": {
          "base_uri": "https://localhost:8080/"
        },
        "outputId": "d6af5d34-41b6-4fb1-e355-edd2476aa3e7"
      },
      "source": [
        "d = a + 3\n",
        "d"
      ],
      "execution_count": 21,
      "outputs": [
        {
          "output_type": "execute_result",
          "data": {
            "text/plain": [
              "8"
            ]
          },
          "metadata": {},
          "execution_count": 21
        }
      ]
    },
    {
      "cell_type": "code",
      "metadata": {
        "id": "mTFYxLxATklL",
        "colab": {
          "base_uri": "https://localhost:8080/"
        },
        "outputId": "45c740f4-9fad-4737-b635-60d4af5d89e4"
      },
      "source": [
        "a = 1\n",
        "d = a + 3\n",
        "d"
      ],
      "execution_count": 22,
      "outputs": [
        {
          "output_type": "execute_result",
          "data": {
            "text/plain": [
              "4"
            ]
          },
          "metadata": {},
          "execution_count": 22
        }
      ]
    },
    {
      "cell_type": "markdown",
      "metadata": {
        "id": "B6P2LDcLTklP"
      },
      "source": [
        "Please note that in Python variable names **can't** contain spaces. In fact, a variable name can contain only alphanumeric characters (i.e. letters and numbers) and underscores, i.e. the character `_`. Moreover, a variable name can't begin with a number.\n",
        "\n",
        "> **<h3>💻 Try it yourself!</h3>**\n",
        "\n",
        "Which of the following instruction will run, and which of them will fail?"
      ]
    },
    {
      "cell_type": "code",
      "metadata": {
        "id": "G_copXluTklQ"
      },
      "source": [
        "a_number = 2"
      ],
      "execution_count": 23,
      "outputs": []
    },
    {
      "cell_type": "code",
      "metadata": {
        "id": "CCL81RXHTklV"
      },
      "source": [
        "_a_number = 2"
      ],
      "execution_count": 24,
      "outputs": []
    },
    {
      "cell_type": "code",
      "metadata": {
        "id": "pSdfff0LTklb",
        "colab": {
          "base_uri": "https://localhost:8080/",
          "height": 106
        },
        "outputId": "1397ba81-0898-42e1-b001-4a62e26b5241"
      },
      "source": [
        "2_number = 22"
      ],
      "execution_count": 25,
      "outputs": [
        {
          "output_type": "error",
          "ename": "SyntaxError",
          "evalue": "invalid decimal literal (<ipython-input-25-b149423fb2f5>, line 1)",
          "traceback": [
            "\u001b[0;36m  File \u001b[0;32m\"<ipython-input-25-b149423fb2f5>\"\u001b[0;36m, line \u001b[0;32m1\u001b[0m\n\u001b[0;31m    2_number = 22\u001b[0m\n\u001b[0m     ^\u001b[0m\n\u001b[0;31mSyntaxError\u001b[0m\u001b[0;31m:\u001b[0m invalid decimal literal\n"
          ]
        }
      ]
    },
    {
      "cell_type": "code",
      "metadata": {
        "id": "6jFAe1K_Tkle",
        "colab": {
          "base_uri": "https://localhost:8080/",
          "height": 106
        },
        "outputId": "09dfb424-7772-48b0-fb9e-c7bcbc810563"
      },
      "source": [
        "a_number =\n",
        "2"
      ],
      "execution_count": 26,
      "outputs": [
        {
          "output_type": "error",
          "ename": "SyntaxError",
          "evalue": "invalid syntax (<ipython-input-26-3cdda63118ad>, line 1)",
          "traceback": [
            "\u001b[0;36m  File \u001b[0;32m\"<ipython-input-26-3cdda63118ad>\"\u001b[0;36m, line \u001b[0;32m1\u001b[0m\n\u001b[0;31m    a_number =\u001b[0m\n\u001b[0m               ^\u001b[0m\n\u001b[0;31mSyntaxError\u001b[0m\u001b[0;31m:\u001b[0m invalid syntax\n"
          ]
        }
      ]
    },
    {
      "cell_type": "code",
      "metadata": {
        "id": "J-VpBg7LTklh"
      },
      "source": [
        "twoIs__anumber = (\n",
        "    2)"
      ],
      "execution_count": 27,
      "outputs": []
    },
    {
      "cell_type": "markdown",
      "metadata": {
        "id": "0O4b-h_HTkln"
      },
      "source": [
        "> **<h3>💻 Try it yourself!</h3>**\n",
        "\n",
        "Knowing that the area of a rectangle is base $\\times$ height, calculate the area of a rectangle with base 4 and height 9 in the cell below.\n",
        "\n",
        "1. Create a variable `base` with value 4;\n",
        "1. Create a variable `height` with value 9;\n",
        "1. Multiply the two variables to see the result."
      ]
    },
    {
      "cell_type": "code",
      "metadata": {
        "id": "lrYfcFEPTkln",
        "colab": {
          "base_uri": "https://localhost:8080/"
        },
        "outputId": "470368a2-33da-4d62-eae0-ae2c28ed8fa6"
      },
      "source": [
        "base = 4\n",
        "height = 9\n",
        "base*height"
      ],
      "execution_count": 29,
      "outputs": [
        {
          "output_type": "execute_result",
          "data": {
            "text/plain": [
              "36"
            ]
          },
          "metadata": {},
          "execution_count": 29
        }
      ]
    },
    {
      "cell_type": "markdown",
      "metadata": {
        "id": "ijbxh3EwTklr"
      },
      "source": [
        "## Comments"
      ]
    },
    {
      "cell_type": "markdown",
      "metadata": {
        "id": "QAw568lDTklt"
      },
      "source": [
        "Sometimes, when you write code, you may want to describe what a line does, in order to help the future you to understand what that code means. This is achieved using **comments**, special instructions which are *ignored* by Python when you run the code.\n",
        "\n",
        "In particular, everything written after a `#` is ignored **until the end of the line**. For example, if we write:"
      ]
    },
    {
      "cell_type": "code",
      "metadata": {
        "id": "5yycuxV5Tklt"
      },
      "source": [
        "# 2 + 3"
      ],
      "execution_count": 30,
      "outputs": []
    },
    {
      "cell_type": "markdown",
      "metadata": {
        "id": "fBk5p2SOTklw"
      },
      "source": [
        "Nothing happens! Other examples of comments are:"
      ]
    },
    {
      "cell_type": "code",
      "metadata": {
        "id": "4lSpyYeYTklx",
        "colab": {
          "base_uri": "https://localhost:8080/"
        },
        "outputId": "832861f0-1f27-44e6-d0f4-3988f3a66705"
      },
      "source": [
        "3 + 2  # this is a comment"
      ],
      "execution_count": 31,
      "outputs": [
        {
          "output_type": "execute_result",
          "data": {
            "text/plain": [
              "5"
            ]
          },
          "metadata": {},
          "execution_count": 31
        }
      ]
    },
    {
      "cell_type": "markdown",
      "metadata": {
        "id": "A8EZKeOWTkl3"
      },
      "source": [
        "Moreover, **you can't break a comment in multiple lines**:"
      ]
    },
    {
      "cell_type": "code",
      "metadata": {
        "id": "iYlQBrufTkl5",
        "colab": {
          "base_uri": "https://localhost:8080/",
          "height": 106
        },
        "outputId": "d0190f7e-b5bc-4c17-ec4e-17fbabc610a1"
      },
      "source": [
        "3 + 2 # this is\n",
        "a broken comment"
      ],
      "execution_count": 32,
      "outputs": [
        {
          "output_type": "error",
          "ename": "SyntaxError",
          "evalue": "invalid syntax (<ipython-input-32-f506ed4d4dba>, line 2)",
          "traceback": [
            "\u001b[0;36m  File \u001b[0;32m\"<ipython-input-32-f506ed4d4dba>\"\u001b[0;36m, line \u001b[0;32m2\u001b[0m\n\u001b[0;31m    a broken comment\u001b[0m\n\u001b[0m      ^\u001b[0m\n\u001b[0;31mSyntaxError\u001b[0m\u001b[0;31m:\u001b[0m invalid syntax\n"
          ]
        }
      ]
    },
    {
      "cell_type": "code",
      "metadata": {
        "id": "Qxw1VJhgO_EZ",
        "colab": {
          "base_uri": "https://localhost:8080/"
        },
        "outputId": "aec13368-7b1f-48a4-cb02-474887052c46"
      },
      "source": [
        "3 + 2 # this is\n",
        "      # a valid comment"
      ],
      "execution_count": 33,
      "outputs": [
        {
          "output_type": "execute_result",
          "data": {
            "text/plain": [
              "5"
            ]
          },
          "metadata": {},
          "execution_count": 33
        }
      ]
    },
    {
      "cell_type": "markdown",
      "metadata": {
        "id": "2-eWjLCQPFl1"
      },
      "source": [
        "**Pro tip**: you can use *multiline strings* as comments. A multiline string a string with triple quotes, such as:"
      ]
    },
    {
      "cell_type": "code",
      "metadata": {
        "id": "XtbUX-0DPEkc",
        "colab": {
          "base_uri": "https://localhost:8080/"
        },
        "outputId": "f0fc2745-c04d-4572-ce45-fc503d45e113"
      },
      "source": [
        "\"\"\" This is\n",
        "another comment\n",
        "\"\"\"\n",
        "\n",
        "3 + 2"
      ],
      "execution_count": 34,
      "outputs": [
        {
          "output_type": "execute_result",
          "data": {
            "text/plain": [
              "5"
            ]
          },
          "metadata": {},
          "execution_count": 34
        }
      ]
    },
    {
      "cell_type": "markdown",
      "metadata": {
        "id": "-h8OkVN5PT50"
      },
      "source": [
        "Note that Python didn't print the string! However, this kind of comments have their limits as well:"
      ]
    },
    {
      "cell_type": "code",
      "metadata": {
        "id": "ReaW1qQGTkl8",
        "colab": {
          "base_uri": "https://localhost:8080/",
          "height": 106
        },
        "outputId": "dca7c1d2-2dd2-48be-ac46-59b2683a8323"
      },
      "source": [
        "3 + 2 \"\"\" This comment style work only on non-code lines \"\"\""
      ],
      "execution_count": 35,
      "outputs": [
        {
          "output_type": "error",
          "ename": "SyntaxError",
          "evalue": "invalid syntax (<ipython-input-35-75ac46bdd079>, line 1)",
          "traceback": [
            "\u001b[0;36m  File \u001b[0;32m\"<ipython-input-35-75ac46bdd079>\"\u001b[0;36m, line \u001b[0;32m1\u001b[0m\n\u001b[0;31m    3 + 2 \"\"\" This comment style work only on non-code lines \"\"\"\u001b[0m\n\u001b[0m          ^\u001b[0m\n\u001b[0;31mSyntaxError\u001b[0m\u001b[0;31m:\u001b[0m invalid syntax\n"
          ]
        }
      ]
    },
    {
      "cell_type": "code",
      "metadata": {
        "id": "LigXuiDnTkmA",
        "colab": {
          "base_uri": "https://localhost:8080/",
          "height": 106
        },
        "outputId": "807fecff-acc7-4a63-880e-87881529f714"
      },
      "source": [
        "3 + \"\"\" For example, we can't split a code line like this \"\"\" 2"
      ],
      "execution_count": 36,
      "outputs": [
        {
          "output_type": "error",
          "ename": "SyntaxError",
          "evalue": "invalid syntax (<ipython-input-36-aebdf69d22f0>, line 1)",
          "traceback": [
            "\u001b[0;36m  File \u001b[0;32m\"<ipython-input-36-aebdf69d22f0>\"\u001b[0;36m, line \u001b[0;32m1\u001b[0m\n\u001b[0;31m    3 + \"\"\" For example, we can't split a code line like this \"\"\" 2\u001b[0m\n\u001b[0m                                                                  ^\u001b[0m\n\u001b[0;31mSyntaxError\u001b[0m\u001b[0;31m:\u001b[0m invalid syntax\n"
          ]
        }
      ]
    },
    {
      "cell_type": "markdown",
      "metadata": {
        "id": "-6GpoMraTkmD"
      },
      "source": [
        "## Errors"
      ]
    },
    {
      "cell_type": "markdown",
      "metadata": {
        "id": "H55suWY1TkmD"
      },
      "source": [
        "So now we have seen what happens when we write bad code: Python refuses to run it and returns an **`Error`**. However, one can (and will) make many, many kinds of errors while writing code, and it's always important to understand them to fix and, possibly, do not repeat them.\n",
        "\n",
        "For example, the expressions we've seen when talking about variables work because the variables `a`, `b`, and `d` have been previously created. Look what happens if we try to use a variable which has never been assigned:"
      ]
    },
    {
      "cell_type": "code",
      "metadata": {
        "id": "zrgsRcA1TkmD",
        "colab": {
          "base_uri": "https://localhost:8080/",
          "height": 141
        },
        "outputId": "3ddfe03d-bd1a-4df1-8304-3cdf5ce99bc1"
      },
      "source": [
        "z + 5"
      ],
      "execution_count": 37,
      "outputs": [
        {
          "output_type": "error",
          "ename": "NameError",
          "evalue": "name 'z' is not defined",
          "traceback": [
            "\u001b[0;31m---------------------------------------------------------------------------\u001b[0m",
            "\u001b[0;31mNameError\u001b[0m                                 Traceback (most recent call last)",
            "\u001b[0;32m<ipython-input-37-3be418c9c2ed>\u001b[0m in \u001b[0;36m<cell line: 1>\u001b[0;34m()\u001b[0m\n\u001b[0;32m----> 1\u001b[0;31m \u001b[0mz\u001b[0m \u001b[0;34m+\u001b[0m \u001b[0;36m5\u001b[0m\u001b[0;34m\u001b[0m\u001b[0;34m\u001b[0m\u001b[0m\n\u001b[0m",
            "\u001b[0;31mNameError\u001b[0m: name 'z' is not defined"
          ]
        }
      ]
    },
    {
      "cell_type": "markdown",
      "metadata": {
        "id": "PRivbpkcTkmH"
      },
      "source": [
        "Now this error is different from the ones we encountered before. If we read the messages, in fact, the previous errors were `SyntaxError`s, i.e. errors related to the syntax of the code we wrote; now the error is a `NameError`, i.e. Python is telling us that we're referencing the name of a variable that does not exist.\n",
        "\n",
        "When you encounter an error, you should **always** read the error type and message to know what you're doing wrong. Messages are usually informative and [will help you to solve the problem](https://geekandpoke.typepad.com/geekandpoke/2009/06/the-art-of-bugfixing-chapter-1.html).\n",
        "\n",
        "There are two kinds of errors:\n",
        "- `Error` and `Exception` are serious errors that will make your program stop and crash (in other words, bugs).\n",
        "- `Warnings` are errors that *won't* make your program crash. However, you should always read the warning messages, because they may point to potential errors in your code."
      ]
    },
    {
      "cell_type": "markdown",
      "metadata": {
        "id": "wcr6YdbjTkmI"
      },
      "source": [
        "# Built-in data types and functions"
      ]
    },
    {
      "cell_type": "markdown",
      "metadata": {
        "id": "QYEuDhSjTkmJ"
      },
      "source": [
        "## Built-in functions"
      ]
    },
    {
      "cell_type": "markdown",
      "metadata": {
        "id": "xq7FAKoHTkmJ"
      },
      "source": [
        "Python offers a set of built-in functions to perform some basic operations. We have already encountered the simplest of them all: the `print` instruction, which allowed us to write some text below the code cells.\n",
        "\n",
        "Functions are defined this way:\n",
        "\n",
        "```\n",
        "function_name(argument_1, argument_2, ... )\n",
        "```\n",
        "\n",
        "For example, `print()` accepts some text as argument and prints it out in the browser (or on a console). Let's see again how it works:"
      ]
    },
    {
      "cell_type": "code",
      "metadata": {
        "id": "D9SSajxQTkmK",
        "colab": {
          "base_uri": "https://localhost:8080/"
        },
        "outputId": "01999484-10aa-43e8-f204-62cbccca9773"
      },
      "source": [
        "print(\"Nothing will come of nothing.\")"
      ],
      "execution_count": 38,
      "outputs": [
        {
          "output_type": "stream",
          "name": "stdout",
          "text": [
            "Nothing will come of nothing.\n"
          ]
        }
      ]
    },
    {
      "cell_type": "markdown",
      "metadata": {
        "id": "NbWGVTCTTkmN"
      },
      "source": [
        "`print` will actually try to, um, print everything you pass to it. For example:"
      ]
    },
    {
      "cell_type": "code",
      "metadata": {
        "id": "pTsbaZp_TkmN",
        "colab": {
          "base_uri": "https://localhost:8080/"
        },
        "outputId": "a7a2404c-ab4c-447f-97e2-9cc4cd522732"
      },
      "source": [
        "print(a)\n",
        "print(3 ** 2)\n",
        "print(a - b ** 7)"
      ],
      "execution_count": 39,
      "outputs": [
        {
          "output_type": "stream",
          "name": "stdout",
          "text": [
            "1\n",
            "9\n",
            "-127\n"
          ]
        }
      ]
    },
    {
      "cell_type": "markdown",
      "metadata": {
        "id": "xaGbkSxGTkmQ"
      },
      "source": [
        "Some functions also may **return** a value and/or accept more arguments. But what does *return* mean?\n",
        "\n",
        "Take for example this line:\n"
      ]
    },
    {
      "cell_type": "code",
      "metadata": {
        "id": "Xyrz-b23QOnI"
      },
      "source": [
        "a = min(2,5)"
      ],
      "execution_count": 40,
      "outputs": []
    },
    {
      "cell_type": "markdown",
      "metadata": {
        "id": "_KlfQ7QeQO0a"
      },
      "source": [
        "`min` selected the minimum value between 2 and 5 and *returned* it, allowing us to save the result in the variable `a`. Now, if we try to print `a`, we will get:\n",
        "\n"
      ]
    },
    {
      "cell_type": "code",
      "metadata": {
        "id": "QnvEIMKOQO8G",
        "colab": {
          "base_uri": "https://localhost:8080/"
        },
        "outputId": "fab19908-ff89-44eb-8e34-cd6166efdc6c"
      },
      "source": [
        "a"
      ],
      "execution_count": 41,
      "outputs": [
        {
          "output_type": "execute_result",
          "data": {
            "text/plain": [
              "2"
            ]
          },
          "metadata": {},
          "execution_count": 41
        }
      ]
    },
    {
      "cell_type": "markdown",
      "metadata": {
        "id": "DbBqDgqqQPBm"
      },
      "source": [
        "However, not all functions return a value. For example:"
      ]
    },
    {
      "cell_type": "code",
      "metadata": {
        "id": "GG9qkgm6Rk2_",
        "colab": {
          "base_uri": "https://localhost:8080/"
        },
        "outputId": "c3b6bba0-4c67-4b89-bdd6-7e456dbaab0b"
      },
      "source": [
        "a = print('hello')\n",
        "print(a)"
      ],
      "execution_count": 42,
      "outputs": [
        {
          "output_type": "stream",
          "name": "stdout",
          "text": [
            "hello\n",
            "None\n"
          ]
        }
      ]
    },
    {
      "cell_type": "markdown",
      "metadata": {
        "id": "CI5nOQviRlKP"
      },
      "source": [
        "See? while `print` allowed us to show `hello` on screen, it did actually not return any value, hence `a` didn't contain anything! Another example of function that does not returna a value is the method `sleep` from the package `time` (we'll explain what packages are later), which puts your program at halt for a certain amount of seconds:"
      ]
    },
    {
      "cell_type": "code",
      "metadata": {
        "id": "nqFPuPKQRlNA",
        "colab": {
          "base_uri": "https://localhost:8080/"
        },
        "outputId": "9b6892ef-2833-4f8a-addb-bbfdb4177113"
      },
      "source": [
        "import time\n",
        "print('going to sleep.')\n",
        "a = time.sleep(5) # halts the execution for 5 seconds.\n",
        "                  # Notice how the next line is executed after\n",
        "                  # a 5 second delay\n",
        "print(\"I'm awake!\")\n",
        "print(a)"
      ],
      "execution_count": 44,
      "outputs": [
        {
          "output_type": "stream",
          "name": "stdout",
          "text": [
            "going to sleep.\n",
            "I'm awake!\n",
            "None\n"
          ]
        }
      ]
    },
    {
      "cell_type": "markdown",
      "metadata": {
        "id": "5cEYkcBYTkmV"
      },
      "source": [
        "You can use the return value of a function as you wish. For example, you can store it in a variable, you can use it in another computation, and so on. For example, can you guess what these functions are doing?"
      ]
    },
    {
      "cell_type": "code",
      "metadata": {
        "id": "nR66DE2YTkmQ",
        "colab": {
          "base_uri": "https://localhost:8080/"
        },
        "outputId": "ccfa275d-6150-4405-bc44-f6c707497127"
      },
      "source": [
        "abs(-3)"
      ],
      "execution_count": 45,
      "outputs": [
        {
          "output_type": "execute_result",
          "data": {
            "text/plain": [
              "3"
            ]
          },
          "metadata": {},
          "execution_count": 45
        }
      ]
    },
    {
      "cell_type": "code",
      "metadata": {
        "id": "KNWv4WK6TkmS",
        "colab": {
          "base_uri": "https://localhost:8080/"
        },
        "outputId": "8117fc40-1f20-4439-e2a8-b7eafd8e4430"
      },
      "source": [
        "pow(2,3)"
      ],
      "execution_count": 46,
      "outputs": [
        {
          "output_type": "execute_result",
          "data": {
            "text/plain": [
              "8"
            ]
          },
          "metadata": {},
          "execution_count": 46
        }
      ]
    },
    {
      "cell_type": "code",
      "metadata": {
        "id": "0MDMt_wWTkmY",
        "colab": {
          "base_uri": "https://localhost:8080/"
        },
        "outputId": "04368424-c606-47a0-9494-d58c475b65bb"
      },
      "source": [
        "a = pow(-2,3)\n",
        "print(a)\n",
        "b = abs(a) * 2\n",
        "print(b)"
      ],
      "execution_count": 47,
      "outputs": [
        {
          "output_type": "stream",
          "name": "stdout",
          "text": [
            "-8\n",
            "16\n"
          ]
        }
      ]
    },
    {
      "cell_type": "markdown",
      "metadata": {
        "id": "TlHmtx9ITkmb"
      },
      "source": [
        "> **<h3>💻 Try it yourself!</h3>**\n",
        "\n",
        "Try to write the following expression in the cell below: $ | (3 * (-2))^{-2} |$\n",
        "\n",
        "Note:\n",
        "- $|a|$ denotes the absolute value of $a$.\n",
        "- The result should be $0.02\\overline{7}$."
      ]
    },
    {
      "cell_type": "code",
      "metadata": {
        "id": "TkTerkpxTkmc",
        "colab": {
          "base_uri": "https://localhost:8080/"
        },
        "outputId": "f4463ded-e525-4b31-d12e-771cf77b48ff"
      },
      "source": [
        "abs(pow((3 * (-2)),-2))"
      ],
      "execution_count": 48,
      "outputs": [
        {
          "output_type": "execute_result",
          "data": {
            "text/plain": [
              "0.027777777777777776"
            ]
          },
          "metadata": {},
          "execution_count": 48
        }
      ]
    },
    {
      "cell_type": "markdown",
      "metadata": {
        "id": "IQ-ZvFRITkmf"
      },
      "source": [
        "<details>\n",
        "    <summary>Click <b>here</b> to see the answer.</summary>\n",
        "    <p><code>abs(pow((3 * (-2)),-2))</code></p>\n",
        "</details>"
      ]
    },
    {
      "cell_type": "markdown",
      "metadata": {
        "id": "iAiblcrTTkmg"
      },
      "source": [
        "Will the code in the cell below work? Can you explain why?"
      ]
    },
    {
      "cell_type": "code",
      "metadata": {
        "id": "PobSzvsbTkmg",
        "colab": {
          "base_uri": "https://localhost:8080/",
          "height": 158
        },
        "outputId": "f1d45df5-5191-419f-88ca-5d814ee0e55d"
      },
      "source": [
        "print(2 + print(3))"
      ],
      "execution_count": 49,
      "outputs": [
        {
          "output_type": "stream",
          "name": "stdout",
          "text": [
            "3\n"
          ]
        },
        {
          "output_type": "error",
          "ename": "TypeError",
          "evalue": "unsupported operand type(s) for +: 'int' and 'NoneType'",
          "traceback": [
            "\u001b[0;31m---------------------------------------------------------------------------\u001b[0m",
            "\u001b[0;31mTypeError\u001b[0m                                 Traceback (most recent call last)",
            "\u001b[0;32m<ipython-input-49-fad87bf57239>\u001b[0m in \u001b[0;36m<cell line: 1>\u001b[0;34m()\u001b[0m\n\u001b[0;32m----> 1\u001b[0;31m \u001b[0mprint\u001b[0m\u001b[0;34m(\u001b[0m\u001b[0;36m2\u001b[0m \u001b[0;34m+\u001b[0m \u001b[0mprint\u001b[0m\u001b[0;34m(\u001b[0m\u001b[0;36m3\u001b[0m\u001b[0;34m)\u001b[0m\u001b[0;34m)\u001b[0m\u001b[0;34m\u001b[0m\u001b[0;34m\u001b[0m\u001b[0m\n\u001b[0m",
            "\u001b[0;31mTypeError\u001b[0m: unsupported operand type(s) for +: 'int' and 'NoneType'"
          ]
        }
      ]
    },
    {
      "cell_type": "markdown",
      "metadata": {
        "id": "T_-nGLIHTkmj"
      },
      "source": [
        "<details>\n",
        "    <summary>Click <b>here</b> to see the answer.</summary>\n",
        "    <p>As explained before, <code>print</code> only shows content to the screen, but it does not return any value. For this reason, Python does not understand what you are trying to do here, because it expects to sum 3 with another number, while <code>print</code> isn't actually returning anything (hence the <code>NoneType</code> in the error message).</p>\n",
        "</details>"
      ]
    },
    {
      "cell_type": "markdown",
      "metadata": {
        "id": "79d9pssQTkmk"
      },
      "source": [
        "## Types"
      ]
    },
    {
      "cell_type": "markdown",
      "metadata": {
        "id": "zZi6cdg4Tkmk"
      },
      "source": [
        "The built-in function `type()` tells us what is the **type** of something. For example, run the following cell:"
      ]
    },
    {
      "cell_type": "code",
      "metadata": {
        "id": "0TdoDviZTkml",
        "colab": {
          "base_uri": "https://localhost:8080/"
        },
        "outputId": "79e0d139-da6a-4a32-8f3c-ea33a0314743"
      },
      "source": [
        "type(2)"
      ],
      "execution_count": 50,
      "outputs": [
        {
          "output_type": "execute_result",
          "data": {
            "text/plain": [
              "int"
            ]
          },
          "metadata": {},
          "execution_count": 50
        }
      ]
    },
    {
      "cell_type": "markdown",
      "metadata": {
        "id": "qnB7w7wqTkmo"
      },
      "source": [
        "Do you remember the variables we defined above? Let's check their types by running the cells below:"
      ]
    },
    {
      "cell_type": "code",
      "metadata": {
        "id": "urqUjn9ZTkmq",
        "colab": {
          "base_uri": "https://localhost:8080/"
        },
        "outputId": "1efdf82d-313b-49fd-efa3-a2e1302ef1cc"
      },
      "source": [
        "print(a)\n",
        "type(a)"
      ],
      "execution_count": 51,
      "outputs": [
        {
          "output_type": "stream",
          "name": "stdout",
          "text": [
            "-8\n"
          ]
        },
        {
          "output_type": "execute_result",
          "data": {
            "text/plain": [
              "int"
            ]
          },
          "metadata": {},
          "execution_count": 51
        }
      ]
    },
    {
      "cell_type": "code",
      "metadata": {
        "id": "n1FGsQaQTkmt",
        "colab": {
          "base_uri": "https://localhost:8080/"
        },
        "outputId": "05acdfd0-f69a-4915-bc4c-180b1d9ef302"
      },
      "source": [
        "print(string1)\n",
        "type(string1)"
      ],
      "execution_count": 52,
      "outputs": [
        {
          "output_type": "stream",
          "name": "stdout",
          "text": [
            "hello\n"
          ]
        },
        {
          "output_type": "execute_result",
          "data": {
            "text/plain": [
              "str"
            ]
          },
          "metadata": {},
          "execution_count": 52
        }
      ]
    },
    {
      "cell_type": "markdown",
      "metadata": {
        "id": "u7em37ieTkmw"
      },
      "source": [
        "The **type** is a property which tells Python (or, in general, any programming language) how to deal with the object we are giving him, and which operations we can perform on it.\n",
        "\n",
        "\n",
        "Now, `a` is an **`integer`**, i.e. a number. Hence, Python knows that it can sum, multiply, and divide it. `string1`, instead, is a **string**, i.e. a textual variable. While it's obvious that we can't \"divide\" a string, we can perform other kinds of operations on it, e.g.:"
      ]
    },
    {
      "cell_type": "code",
      "metadata": {
        "id": "88lynHOqTkmx",
        "colab": {
          "base_uri": "https://localhost:8080/",
          "height": 71
        },
        "outputId": "17cafd31-beaa-43f5-ef24-c8ada7906e4b"
      },
      "source": [
        "print(string1)\n",
        "print(string1[0])   # get the first character of 'hello'\n",
        "string1 + string2   # concatenate two strings"
      ],
      "execution_count": 53,
      "outputs": [
        {
          "output_type": "stream",
          "name": "stdout",
          "text": [
            "hello\n",
            "h\n"
          ]
        },
        {
          "output_type": "execute_result",
          "data": {
            "text/plain": [
              "'helloworld'"
            ],
            "application/vnd.google.colaboratory.intrinsic+json": {
              "type": "string"
            }
          },
          "metadata": {},
          "execution_count": 53
        }
      ]
    },
    {
      "cell_type": "markdown",
      "metadata": {
        "id": "kDv0LI__TknD"
      },
      "source": [
        "We will see later what these operations mean; by know, you can try to guess what we're doing here.\n",
        "\n",
        "Python offers these built-in types, which we will describe in detail below:\n",
        "\n",
        "- Numbers, i.e. integers, floating point numbers (i.e. non-integers), and complex numbers.\n",
        "- Strings, i.e. text\n",
        "- Booleans, i.e. the truth values `True` and `False` of the [Boolean Algebra](https://en.wikipedia.org/wiki/Boolean_algebra)\n",
        "\n",
        "You don't need to know much else about types for now. However, we will sometime use `type` to see how Python handles data."
      ]
    },
    {
      "cell_type": "markdown",
      "metadata": {
        "id": "yP2rk7DpTknD"
      },
      "source": [
        "## Numbers"
      ]
    },
    {
      "cell_type": "markdown",
      "metadata": {
        "id": "4dnDP-JMTknE"
      },
      "source": [
        "We already encountered numbers. Now, we'll see some operations that Python offers to handle them."
      ]
    },
    {
      "cell_type": "code",
      "metadata": {
        "id": "QkL8ZxVHTknE",
        "colab": {
          "base_uri": "https://localhost:8080/"
        },
        "outputId": "26697887-78a1-4b49-de93-b8a99d9f3bde"
      },
      "source": [
        "print(1 + 2)    # sum\n",
        "print(3 - 7)    # subtraction\n",
        "print(2 * 3)    # multiplication\n",
        "print(5 / 6)    # division\n",
        "print(2 ** 3)   # power"
      ],
      "execution_count": 54,
      "outputs": [
        {
          "output_type": "stream",
          "name": "stdout",
          "text": [
            "3\n",
            "-4\n",
            "6\n",
            "0.8333333333333334\n",
            "8\n"
          ]
        }
      ]
    },
    {
      "cell_type": "markdown",
      "metadata": {
        "id": "0vKKrZrnTknJ"
      },
      "source": [
        "Python offers the several built-in mathematical functions (any many more):"
      ]
    },
    {
      "cell_type": "code",
      "metadata": {
        "id": "WbKSn3bLTknJ",
        "colab": {
          "base_uri": "https://localhost:8080/"
        },
        "outputId": "576eb97b-68e8-4791-fc89-7f54c9f26e7c"
      },
      "source": [
        "print(pow(2,3))             # power\n",
        "print(abs(-3))              # absolute value\n",
        "print(round(987.654321,3))  # rounding to the nth decimal\n",
        "print(round(22/7,2))        # does this ring any bell?\n",
        "print(max(10,1000))         # maximum value between two numbers\n",
        "print(min(-1000,-10))       # minumum value between two numbers"
      ],
      "execution_count": 55,
      "outputs": [
        {
          "output_type": "stream",
          "name": "stdout",
          "text": [
            "8\n",
            "3\n",
            "987.654\n",
            "3.14\n",
            "1000\n",
            "-1000\n"
          ]
        }
      ]
    },
    {
      "cell_type": "markdown",
      "metadata": {
        "id": "pzUiNVOvTknN"
      },
      "source": [
        "> **<h3>💻 Try it yourself!</h3>**\n",
        "\n",
        "Can you guess the difference between the two division operators?"
      ]
    },
    {
      "cell_type": "code",
      "metadata": {
        "id": "LKq-BzfZTknN",
        "colab": {
          "base_uri": "https://localhost:8080/"
        },
        "outputId": "c42248d3-e902-41ab-9214-5e7c57bb4f3d"
      },
      "source": [
        "7/2"
      ],
      "execution_count": 56,
      "outputs": [
        {
          "output_type": "execute_result",
          "data": {
            "text/plain": [
              "3.5"
            ]
          },
          "metadata": {},
          "execution_count": 56
        }
      ]
    },
    {
      "cell_type": "code",
      "metadata": {
        "id": "gjB8MNFSTknQ",
        "colab": {
          "base_uri": "https://localhost:8080/"
        },
        "outputId": "151fd773-69d4-4fdc-b59b-c1f74ad5f41b"
      },
      "source": [
        "7//2"
      ],
      "execution_count": 57,
      "outputs": [
        {
          "output_type": "execute_result",
          "data": {
            "text/plain": [
              "3"
            ]
          },
          "metadata": {},
          "execution_count": 57
        }
      ]
    },
    {
      "cell_type": "markdown",
      "metadata": {
        "id": "e-V4q23LTknT"
      },
      "source": [
        "As we know, computers store information using bits. For this reason, numbers are stored using the [floating point representation](https://en.wikipedia.org/wiki/Floating-point_arithmetic). You don't need to know the details of how does it work; however, you should be aware that `1` and `1.0` are two different things in Python.\n",
        "\n",
        "In fact, let's see their types:"
      ]
    },
    {
      "cell_type": "code",
      "metadata": {
        "id": "FuWUJhonTknU",
        "colab": {
          "base_uri": "https://localhost:8080/"
        },
        "outputId": "02e768ec-7fca-4a95-cf00-57284caac871"
      },
      "source": [
        "print(type(1))     # Ask Python to save 1 as an integer\n",
        "print(type(1.0))   # Ask Python to save 1 as a real number"
      ],
      "execution_count": 58,
      "outputs": [
        {
          "output_type": "stream",
          "name": "stdout",
          "text": [
            "<class 'int'>\n",
            "<class 'float'>\n"
          ]
        }
      ]
    },
    {
      "cell_type": "markdown",
      "metadata": {
        "id": "XMen0F-WTknV"
      },
      "source": [
        "Now that you know that, what is the difference between `/` and `//`?"
      ]
    },
    {
      "cell_type": "markdown",
      "metadata": {
        "id": "dZyXT01ZTknV"
      },
      "source": [
        "<details>\n",
        "    <summary>Click <b>here</b> to see the answer.</summary>\n",
        "    <p><code>/</code> is called <i>true division</i>, and it always return the correct result of the division.</p>\n",
        "    <p><code>//</code> is called <i>integer division</i> or <i>floor division</i>, and it always round the result of the division to the closest lower integer - or, in other words, it will remove the decimal part from the result of the division.</p>\n",
        "    <p>While this difference may seem meaningless to you, it caused <a href=\"https://docs.python.org/3/whatsnew/2.2.html#pep-238-changing-the-division-operator\">quite a stir</a> when it was introduced into Python!</p>\n",
        "</details>"
      ]
    },
    {
      "cell_type": "markdown",
      "metadata": {
        "id": "sETCVbA_TknX"
      },
      "source": [
        "## Booleans"
      ]
    },
    {
      "cell_type": "markdown",
      "metadata": {
        "id": "1-LJ9mbsTknX"
      },
      "source": [
        "The Boolean values `True` and `False` are the *truth values* associated to a statement; for example, `Shakespeare was an English poet` is a true statement, and `Claudius is a character in Romeo and Juliet` is a false statement.\n",
        "\n",
        "Unfortunately, Python can't understand natural language statements. However, [Boolean algebra](https://en.wikipedia.org/wiki/Boolean_algebra) is vastly used when programming; for example, we can compare numerical values using the classic comparison operations:\n",
        "\n",
        "+ greater `<` and lesser `>`\n",
        "+ greater or equal `<=` and lesser or equal `>=`\n",
        "+ equal `==` and not equal `!=`\n",
        "\n",
        "The results of comparison operations are of type **Boolean**."
      ]
    },
    {
      "cell_type": "code",
      "metadata": {
        "id": "Z2zrWG6VTknX",
        "colab": {
          "base_uri": "https://localhost:8080/"
        },
        "outputId": "f321ee69-2697-44cd-855e-0ae853df245e"
      },
      "source": [
        "2 < 3"
      ],
      "execution_count": 59,
      "outputs": [
        {
          "output_type": "execute_result",
          "data": {
            "text/plain": [
              "True"
            ]
          },
          "metadata": {},
          "execution_count": 59
        }
      ]
    },
    {
      "cell_type": "code",
      "metadata": {
        "id": "N3vaGeiWTknb"
      },
      "source": [
        "a = 4\n",
        "b = 3\n",
        "c = 3"
      ],
      "execution_count": 62,
      "outputs": []
    },
    {
      "cell_type": "markdown",
      "metadata": {
        "id": "hiJiIsjFLW1G"
      },
      "source": [
        "### ❓ Quiz  \n",
        "\n",
        "Can you guess the result of these operations before running the cell below?"
      ]
    },
    {
      "cell_type": "code",
      "metadata": {
        "id": "sLzLPd62LXWl",
        "colab": {
          "base_uri": "https://localhost:8080/"
        },
        "outputId": "f6a78dbf-1251-4447-9e33-51aea03d015d"
      },
      "source": [
        "print(a < b)\n",
        "print(b > a)\n",
        "print(b < c)\n",
        "print(b <= c)\n",
        "\n",
        "print(a == b)\n",
        "print(a != b)\n",
        "\n",
        "d = (a == b)\n",
        "print(type(d)) # What type is d?"
      ],
      "execution_count": 63,
      "outputs": [
        {
          "output_type": "stream",
          "name": "stdout",
          "text": [
            "False\n",
            "False\n",
            "False\n",
            "True\n",
            "False\n",
            "True\n",
            "<class 'bool'>\n"
          ]
        }
      ]
    },
    {
      "cell_type": "markdown",
      "metadata": {
        "id": "1GCxGKVMTkng"
      },
      "source": [
        "## Strings"
      ]
    },
    {
      "cell_type": "markdown",
      "metadata": {
        "id": "m0ydAXkyTkng"
      },
      "source": [
        "`string` is the fancy name used by programmers for sequences of characters, i.e. for *textual* variables.\n",
        "\n",
        "As we already encountered them, you should already know how to create a string: you just have to place the text between single (`'`) or double (`\"`) quotation marks."
      ]
    },
    {
      "cell_type": "code",
      "metadata": {
        "id": "SEu5I6kPTknh"
      },
      "source": [
        "s1 = '' # empty string\n",
        "s2 = \"hello\"\n",
        "s3 = 'world'\n",
        "s4 = 'hello world'\n",
        "s5 = \"2345\""
      ],
      "execution_count": 64,
      "outputs": []
    },
    {
      "cell_type": "markdown",
      "metadata": {
        "id": "oDYYqchCTknj"
      },
      "source": [
        "We can perform a wide range of operations over strings. For example, we can get their length:"
      ]
    },
    {
      "cell_type": "code",
      "metadata": {
        "id": "bSJk00RoTknj",
        "colab": {
          "base_uri": "https://localhost:8080/"
        },
        "outputId": "e7f2cef7-ee75-4f83-dd17-41e2a5f70726"
      },
      "source": [
        "print(len(s1))\n",
        "print(len(s2))"
      ],
      "execution_count": 65,
      "outputs": [
        {
          "output_type": "stream",
          "name": "stdout",
          "text": [
            "0\n",
            "5\n"
          ]
        }
      ]
    },
    {
      "cell_type": "markdown",
      "metadata": {
        "id": "DWTXeyCsTknl"
      },
      "source": [
        "We can *concatenate* strings using the `+` operator:"
      ]
    },
    {
      "cell_type": "code",
      "metadata": {
        "id": "8BvNPLsATknl",
        "colab": {
          "base_uri": "https://localhost:8080/"
        },
        "outputId": "865be41e-8ee4-4d72-aa01-ac9f64533a4a"
      },
      "source": [
        "print(s2 + s3) # we concatenate s2 and s3\n",
        "print(s2 + \" \" + s3)"
      ],
      "execution_count": 66,
      "outputs": [
        {
          "output_type": "stream",
          "name": "stdout",
          "text": [
            "helloworld\n",
            "hello world\n"
          ]
        }
      ]
    },
    {
      "cell_type": "markdown",
      "metadata": {
        "id": "ejzx1shkTknn"
      },
      "source": [
        "Notice that `s2 + \" \" + s3` is equal to the string `\"hello world\"`:"
      ]
    },
    {
      "cell_type": "code",
      "metadata": {
        "id": "U7WJ9qbKTkno",
        "colab": {
          "base_uri": "https://localhost:8080/"
        },
        "outputId": "e73999e6-03a5-47fd-a2c9-5acdf74c8fa1"
      },
      "source": [
        "(s2 + \" \" + s3) == s4"
      ],
      "execution_count": 67,
      "outputs": [
        {
          "output_type": "execute_result",
          "data": {
            "text/plain": [
              "True"
            ]
          },
          "metadata": {},
          "execution_count": 67
        }
      ]
    },
    {
      "cell_type": "markdown",
      "metadata": {
        "id": "BbeSdojyTkns"
      },
      "source": [
        "If needed, we can even *multiply* strings, i.e. *repeat* them:"
      ]
    },
    {
      "cell_type": "code",
      "metadata": {
        "id": "fmxy-ZDvTkns",
        "colab": {
          "base_uri": "https://localhost:8080/"
        },
        "outputId": "ce9a3cca-4971-46a6-cae2-7df66c5f8acd"
      },
      "source": [
        "print(s2 * 3)  # we repeat s2 three times"
      ],
      "execution_count": 68,
      "outputs": [
        {
          "output_type": "stream",
          "name": "stdout",
          "text": [
            "hellohellohello\n"
          ]
        }
      ]
    },
    {
      "cell_type": "markdown",
      "metadata": {
        "id": "MnQnn_H-Tknv"
      },
      "source": [
        "### Indexing and slicing\n",
        "\n",
        "Other common operations over strings are *indexing* and *slicing*. **Indexing** allows us to get the $n$-th element of any sequence of elements, using this syntax:\n",
        "    \n",
        "```python\n",
        "variable[index]\n",
        "```\n",
        "\n",
        "returns the $index$-th element of the variable `variable`."
      ]
    },
    {
      "cell_type": "code",
      "metadata": {
        "id": "VL7k_0vcTknw",
        "colab": {
          "base_uri": "https://localhost:8080/"
        },
        "outputId": "ca70e9cf-8940-43e1-9f2d-53439e67f87e"
      },
      "source": [
        "s = 'this is an example'\n",
        "\n",
        "# indexing (to access a byte in the string)\n",
        "print(s[0]) # print the first character of the string\n",
        "print(s[1]) # print the second character of the string"
      ],
      "execution_count": 69,
      "outputs": [
        {
          "output_type": "stream",
          "name": "stdout",
          "text": [
            "t\n",
            "h\n"
          ]
        }
      ]
    },
    {
      "cell_type": "markdown",
      "metadata": {
        "id": "Kcld6O5xTkn0"
      },
      "source": [
        "If you're not familiar with programming, you probably are asking yourself why we getting the *zeroth-*element of our string did not end up in error.\n",
        "\n",
        "<a id='zero-based'></a>\n",
        "This happens because in Python indices start with zero. This is called **[Zero-based indexing](https://en.wikipedia.org/wiki/Zero-based_numbering)**, and it is a convention used in most programming language for performance reasons.\n",
        "\n",
        "This also means that, if a string has five characters, e.g. `hello`, its last element will have index 4:"
      ]
    },
    {
      "cell_type": "code",
      "metadata": {
        "id": "-97eRajpTkn1",
        "colab": {
          "base_uri": "https://localhost:8080/",
          "height": 36
        },
        "outputId": "82ba71b2-4646-4044-9c5f-d217ad618fdb"
      },
      "source": [
        "'hello'[4]"
      ],
      "execution_count": 70,
      "outputs": [
        {
          "output_type": "execute_result",
          "data": {
            "text/plain": [
              "'o'"
            ],
            "application/vnd.google.colaboratory.intrinsic+json": {
              "type": "string"
            }
          },
          "metadata": {},
          "execution_count": 70
        }
      ]
    },
    {
      "cell_type": "markdown",
      "metadata": {
        "id": "dt9Kg1FrTkn4"
      },
      "source": [
        "Please note that strings are **immutable**, i.e. you can't change their content. For example, you can't do things like:"
      ]
    },
    {
      "cell_type": "code",
      "metadata": {
        "id": "2pgTczD6Tkn4",
        "colab": {
          "base_uri": "https://localhost:8080/",
          "height": 141
        },
        "outputId": "d2e5283b-ff87-43cf-e7fd-69008bd76971"
      },
      "source": [
        "s[2] = 'x'"
      ],
      "execution_count": 71,
      "outputs": [
        {
          "output_type": "error",
          "ename": "TypeError",
          "evalue": "'str' object does not support item assignment",
          "traceback": [
            "\u001b[0;31m---------------------------------------------------------------------------\u001b[0m",
            "\u001b[0;31mTypeError\u001b[0m                                 Traceback (most recent call last)",
            "\u001b[0;32m<ipython-input-71-d08b07695a1d>\u001b[0m in \u001b[0;36m<cell line: 1>\u001b[0;34m()\u001b[0m\n\u001b[0;32m----> 1\u001b[0;31m \u001b[0ms\u001b[0m\u001b[0;34m[\u001b[0m\u001b[0;36m2\u001b[0m\u001b[0;34m]\u001b[0m \u001b[0;34m=\u001b[0m \u001b[0;34m'x'\u001b[0m\u001b[0;34m\u001b[0m\u001b[0;34m\u001b[0m\u001b[0m\n\u001b[0m",
            "\u001b[0;31mTypeError\u001b[0m: 'str' object does not support item assignment"
          ]
        }
      ]
    },
    {
      "cell_type": "markdown",
      "metadata": {
        "id": "DOX3IdXwTkn7"
      },
      "source": [
        "However, since `s` is just a variable, you can change its content altogether. Let's see other examples:"
      ]
    },
    {
      "cell_type": "code",
      "metadata": {
        "id": "SD9MTlhFTkn7",
        "colab": {
          "base_uri": "https://localhost:8080/"
        },
        "outputId": "fe012d81-3267-4594-d4c7-fe9bf662a099"
      },
      "source": [
        "s = 'Romeo and Juliet'\n",
        "print(s[0])\n",
        "print(s[15])"
      ],
      "execution_count": 72,
      "outputs": [
        {
          "output_type": "stream",
          "name": "stdout",
          "text": [
            "R\n",
            "t\n"
          ]
        }
      ]
    },
    {
      "cell_type": "markdown",
      "metadata": {
        "id": "7x_Egc7LMPfJ"
      },
      "source": [
        "However, words are not all of the same length. How do we get the last character of a string without having to count every time by hand how many character it contains?"
      ]
    },
    {
      "cell_type": "code",
      "metadata": {
        "id": "vFwlOK1rMO5M",
        "colab": {
          "base_uri": "https://localhost:8080/"
        },
        "outputId": "e593d1cd-5679-493e-a278-d50b54454eed"
      },
      "source": [
        "print(s[len(s) - 1])       # we can use len()\n",
        "print(s[-1])               # or we can use the negative notation"
      ],
      "execution_count": 73,
      "outputs": [
        {
          "output_type": "stream",
          "name": "stdout",
          "text": [
            "t\n",
            "t\n"
          ]
        }
      ]
    },
    {
      "cell_type": "markdown",
      "metadata": {
        "id": "bkFkA-52Tkn-"
      },
      "source": [
        "As we've seen in this last example, **negative indexing** tells Python to start looking from the last character:"
      ]
    },
    {
      "cell_type": "code",
      "metadata": {
        "id": "ogrubP3iTkn_",
        "colab": {
          "base_uri": "https://localhost:8080/",
          "height": 36
        },
        "outputId": "2b3d81aa-2364-46f8-a52f-67f1a825b8ff"
      },
      "source": [
        "'hello'[-4]"
      ],
      "execution_count": 74,
      "outputs": [
        {
          "output_type": "execute_result",
          "data": {
            "text/plain": [
              "'e'"
            ],
            "application/vnd.google.colaboratory.intrinsic+json": {
              "type": "string"
            }
          },
          "metadata": {},
          "execution_count": 74
        }
      ]
    },
    {
      "cell_type": "markdown",
      "metadata": {
        "id": "0CCgAxDyTkoC"
      },
      "source": [
        "If we need more than a character from a string, we can use **slicing**. The syntax is:\n",
        "```\n",
        "variable[start_position:end_position]\n",
        "```\n",
        "For example, to get the first two character of a string, we write:"
      ]
    },
    {
      "cell_type": "code",
      "metadata": {
        "id": "f3MiHQi8TkoC",
        "colab": {
          "base_uri": "https://localhost:8080/",
          "height": 36
        },
        "outputId": "f600d560-9846-40c8-8441-952d5218049e"
      },
      "source": [
        "'hello'[0:2]"
      ],
      "execution_count": 75,
      "outputs": [
        {
          "output_type": "execute_result",
          "data": {
            "text/plain": [
              "'he'"
            ],
            "application/vnd.google.colaboratory.intrinsic+json": {
              "type": "string"
            }
          },
          "metadata": {},
          "execution_count": 75
        }
      ]
    },
    {
      "cell_type": "markdown",
      "metadata": {
        "id": "ZxyAkbscTkoF"
      },
      "source": [
        "Please note that *spans* will *not* contain the character denoted by the right index.\n",
        "\n",
        "Let's see tome other examples:"
      ]
    },
    {
      "cell_type": "code",
      "metadata": {
        "id": "5mm8Ap2yTkoG",
        "colab": {
          "base_uri": "https://localhost:8080/"
        },
        "outputId": "9643e2eb-b814-4141-f2ea-94c196aa4e71"
      },
      "source": [
        "print(s)\n",
        "print(s[0:2])\n",
        "print(s[:2])  # the same as s[0:2]\n",
        "print(s[5:])  # the same as s[5:len(s)]"
      ],
      "execution_count": 76,
      "outputs": [
        {
          "output_type": "stream",
          "name": "stdout",
          "text": [
            "Romeo and Juliet\n",
            "Ro\n",
            "Ro\n",
            " and Juliet\n"
          ]
        }
      ]
    },
    {
      "cell_type": "markdown",
      "metadata": {
        "id": "nM9NFx2PTkoH"
      },
      "source": [
        "As you have seen in this example, we can **omit** one of the two indices of the span if we want Python to look up from the beginning (omitting the left index) or to the end (omitting the right index) of the string.\n"
      ]
    },
    {
      "cell_type": "markdown",
      "metadata": {
        "id": "ZbG0sjf6M7BW"
      },
      "source": [
        "### ❓ Quiz  \n",
        "\n",
        "Can you guess the result of these operations before running the cell below?"
      ]
    },
    {
      "cell_type": "code",
      "metadata": {
        "id": "GvhuqspTM60L",
        "colab": {
          "base_uri": "https://localhost:8080/"
        },
        "outputId": "e4caa005-c990-4629-a0f7-1724212e5581"
      },
      "source": [
        "print(s[1:2])\n",
        "print(s[-3:])"
      ],
      "execution_count": 77,
      "outputs": [
        {
          "output_type": "stream",
          "name": "stdout",
          "text": [
            "o\n",
            "iet\n"
          ]
        }
      ]
    },
    {
      "cell_type": "markdown",
      "metadata": {
        "id": "iLs2965zNMO4"
      },
      "source": [
        "<details>\n",
        "    <summary>Click <b>here</b> to see the answer.</summary>\n",
        "    <p>The first instruction gets the second character of the string, since it prints the span starting from <code>s[1]</code> and ending with (but <b>not including</b>) <code>s[2]</code>.</p>\n",
        "    <p>The second answer uses <b>negative indexing</b> to get the span starting from the third-to-last character of the string (<code>-3</code>) to the end of the string.</p>\n",
        "</details>"
      ]
    },
    {
      "cell_type": "markdown",
      "metadata": {
        "id": "vd7TLbalM6C2"
      },
      "source": [
        "\n",
        "### Built-in string functions\n",
        "\n",
        "Now we will introduce a new class of functions, i.e. **object methods**. The syntax for this kind of functions is called *dot notation* and works this way:\n",
        "```python\n",
        "object.function()\n",
        "```\n",
        "This particular syntax tells Python that the function `function()` is applied to `object`. Each object (or type) has its peculiar set of functions; for example, it would not make sense to do the square root of a string, or to replace all the threes in a number with the dollar symbol.\n",
        "\n",
        "For example, we can find specific substrings in a string using `string.find()`:"
      ]
    },
    {
      "cell_type": "code",
      "metadata": {
        "id": "FQsR96ZbTkoH",
        "scrolled": true,
        "colab": {
          "base_uri": "https://localhost:8080/"
        },
        "outputId": "a24c4680-d2bf-40bd-e6bc-7152908aa9b3"
      },
      "source": [
        "print(s)\n",
        "print(s.find(\"Juliet\"))\n",
        "print(s.find(\"Othello\"))"
      ],
      "execution_count": 78,
      "outputs": [
        {
          "output_type": "stream",
          "name": "stdout",
          "text": [
            "Romeo and Juliet\n",
            "10\n",
            "-1\n"
          ]
        }
      ]
    },
    {
      "cell_type": "markdown",
      "metadata": {
        "id": "Z-fEls_HTkoK"
      },
      "source": [
        "`find()` returns the index where the given substring starts, or `-1` if the given substring is not present in the input string.\n",
        "\n",
        "`replace()` allows us to find a substring and replace it with something new:"
      ]
    },
    {
      "cell_type": "code",
      "metadata": {
        "id": "hFuvx_cpTkoL",
        "colab": {
          "base_uri": "https://localhost:8080/"
        },
        "outputId": "79362bb2-db08-4f38-ff54-3b10998156e8"
      },
      "source": [
        "d = s.replace(\"Romeo\", \"King Lear\")\n",
        "\n",
        "print(s)\n",
        "print(d)"
      ],
      "execution_count": 79,
      "outputs": [
        {
          "output_type": "stream",
          "name": "stdout",
          "text": [
            "Romeo and Juliet\n",
            "King Lear and Juliet\n"
          ]
        }
      ]
    },
    {
      "cell_type": "markdown",
      "metadata": {
        "id": "_jVMycItTkoN"
      },
      "source": [
        "Please notice how the string assigned to variable `s` is not modified, and the result of the operation is stored in the new variable `d`.\n",
        "\n",
        "You should also be aware that `replace` operation will replace _all_ mentions of the given substring:"
      ]
    },
    {
      "cell_type": "code",
      "metadata": {
        "id": "IiNT7LBnTkoN",
        "colab": {
          "base_uri": "https://localhost:8080/"
        },
        "outputId": "82fec1b3-454c-4be9-daaf-bc78ecac5f4a"
      },
      "source": [
        "s = s.replace(\" \", \"_\")\n",
        "print(s)"
      ],
      "execution_count": 80,
      "outputs": [
        {
          "output_type": "stream",
          "name": "stdout",
          "text": [
            "Romeo_and_Juliet\n"
          ]
        }
      ]
    },
    {
      "cell_type": "code",
      "metadata": {
        "id": "pmUvGjX8TkoP",
        "colab": {
          "base_uri": "https://localhost:8080/",
          "height": 36
        },
        "outputId": "3b14ea3e-28ee-4e8f-c06d-f2b550ed4688"
      },
      "source": [
        "# what happens if the requested string does not exist in the input one?\n",
        "s.replace(\"Desdemona\",\"Ophelia\")"
      ],
      "execution_count": 81,
      "outputs": [
        {
          "output_type": "execute_result",
          "data": {
            "text/plain": [
              "'Romeo_and_Juliet'"
            ],
            "application/vnd.google.colaboratory.intrinsic+json": {
              "type": "string"
            }
          },
          "metadata": {},
          "execution_count": 81
        }
      ]
    },
    {
      "cell_type": "markdown",
      "metadata": {
        "id": "cok7QwACTkoR"
      },
      "source": [
        "Other useful operations on strings are the following:"
      ]
    },
    {
      "cell_type": "code",
      "metadata": {
        "id": "hejNhsXxTkoS",
        "colab": {
          "base_uri": "https://localhost:8080/"
        },
        "outputId": "3714dab9-0f03-4ba0-e8c3-2f2ccf7f28a6"
      },
      "source": [
        "x = \"This is a nice University\"\n",
        "\n",
        "# Is a string contained in another substring?\n",
        "print('is' in x)\n",
        "print('ix' in x)\n",
        "\n",
        "# convert to upper/lowercase\n",
        "print(x.upper())\n",
        "print(x.lower())\n",
        "\n",
        "# count how many instances of a substring\n",
        "print(x.count('i'))\n",
        "print(x.count('is'))\n",
        "\n",
        "# concatenate with a given delimiter\n",
        "print(\"-\".join(x))\n",
        "print(\"*\".join(x))\n",
        "\n",
        "# splits string at delimiter.\n",
        "# creates a list (see below) with the obtaines substrings\n",
        "print(x.split(\"nice\"))\n",
        "print(x.split(\" \"))     # delimiter found multiple times.\n",
        "print(x.split(\"x\"))     # delimiter not found. Creates a list with the entire string as the only element"
      ],
      "execution_count": 82,
      "outputs": [
        {
          "output_type": "stream",
          "name": "stdout",
          "text": [
            "True\n",
            "False\n",
            "THIS IS A NICE UNIVERSITY\n",
            "this is a nice university\n",
            "5\n",
            "2\n",
            "T-h-i-s- -i-s- -a- -n-i-c-e- -U-n-i-v-e-r-s-i-t-y\n",
            "T*h*i*s* *i*s* *a* *n*i*c*e* *U*n*i*v*e*r*s*i*t*y\n",
            "['This is a ', ' University']\n",
            "['This', 'is', 'a', 'nice', 'University']\n",
            "['This is a nice University']\n"
          ]
        }
      ]
    },
    {
      "cell_type": "markdown",
      "metadata": {
        "id": "-d-MqdyRTkoU"
      },
      "source": [
        "We usually cannot mix strings and numbers. If we do that, we may obtain something different then expected:"
      ]
    },
    {
      "cell_type": "code",
      "metadata": {
        "id": "kPpPTbBATkoU",
        "colab": {
          "base_uri": "https://localhost:8080/"
        },
        "outputId": "efccf65f-3dc0-446b-e6bb-c924f589786b"
      },
      "source": [
        "number142 = 142\n",
        "string142 = '142'\n",
        "\n",
        "print(number142)\n",
        "print(string142)\n",
        "\n",
        "print(type(number142))\n",
        "print(type(string142))\n",
        "\n",
        "print(number142 * 3)\n",
        "print(string142 * 3)\n",
        "\n",
        "print(number142 == string142)"
      ],
      "execution_count": 83,
      "outputs": [
        {
          "output_type": "stream",
          "name": "stdout",
          "text": [
            "142\n",
            "142\n",
            "<class 'int'>\n",
            "<class 'str'>\n",
            "426\n",
            "142142142\n",
            "False\n"
          ]
        }
      ]
    },
    {
      "cell_type": "markdown",
      "metadata": {
        "id": "Sm3Q2wSwTkoW"
      },
      "source": [
        "> **<h3>💻 Try it yourself!</h3>**\n",
        "\n",
        "Play with strings in the cell below.\n",
        "\n",
        "Given the string we saved in variable `othello`, you should:\n",
        "\n",
        "- print the string;\n",
        "- determine if `Desdemona` is a substring;\n",
        "- find the position of `what`;\n",
        "- convert the string to uppercase;\n",
        "- get the first three character of the string, convert them to lowercase, and print them."
      ]
    },
    {
      "cell_type": "code",
      "metadata": {
        "id": "RTubQOKSTkoX",
        "colab": {
          "base_uri": "https://localhost:8080/"
        },
        "outputId": "a61fa251-aec4-4a1b-bdad-cdd68f49e7ad"
      },
      "source": [
        "othello = 'Men should be what they seem'\n",
        "\n",
        "print(othello)\n",
        "print(\"Desdemona\" in othello)\n",
        "print(othello.find(\"what\"))\n",
        "print(othello.upper())\n",
        "print(othello[:3].lower())\n",
        "\n"
      ],
      "execution_count": 85,
      "outputs": [
        {
          "output_type": "stream",
          "name": "stdout",
          "text": [
            "Men should be what they seem\n",
            "False\n",
            "14\n",
            "MEN SHOULD BE WHAT THEY SEEM\n",
            "men\n"
          ]
        }
      ]
    },
    {
      "cell_type": "markdown",
      "metadata": {
        "id": "2hhD5qZRTkoZ"
      },
      "source": [
        "<details>\n",
        "    <summary>Click <b>here</b> to see the answer.</summary>\n",
        "    <p><code>print(othello)</code></p>\n",
        "<p><code>print('Desdemona' in othello)</code></p>\n",
        "<p><code>print(othello.find('what'))</code></p>\n",
        "<p><code>print(othello.upper())</code></p>\n",
        "<p><code>print(othello[:3].lower())</code></p>\n",
        "</details>"
      ]
    },
    {
      "cell_type": "markdown",
      "metadata": {
        "id": "UcezqM2XTkoZ"
      },
      "source": [
        "## Converting between types"
      ]
    },
    {
      "cell_type": "markdown",
      "metadata": {
        "id": "4lEoxkrETkob"
      },
      "source": [
        "What happens if we want to treat a string like a number, of vice versa?\n",
        "\n",
        "For example, way may want to sum the number contained in a string to an actual number, like\n",
        "```python\n",
        "\"10\" + 10\n",
        "```\n",
        "\n",
        "Or, we may want to append a number to a string, like\n",
        "```python\n",
        "\"Shakespeare wrote \" + 17 + \" comedies\"\n",
        "```\n",
        "\n",
        "What happens if we try to do the former?"
      ]
    },
    {
      "cell_type": "code",
      "metadata": {
        "id": "i6HLuYINTkob",
        "colab": {
          "base_uri": "https://localhost:8080/",
          "height": 141
        },
        "outputId": "9cd02dd1-0c3e-46f7-d369-679bc81abb9e"
      },
      "source": [
        "\"10\" + 10"
      ],
      "execution_count": 86,
      "outputs": [
        {
          "output_type": "error",
          "ename": "TypeError",
          "evalue": "can only concatenate str (not \"int\") to str",
          "traceback": [
            "\u001b[0;31m---------------------------------------------------------------------------\u001b[0m",
            "\u001b[0;31mTypeError\u001b[0m                                 Traceback (most recent call last)",
            "\u001b[0;32m<ipython-input-86-f19a135c2b59>\u001b[0m in \u001b[0;36m<cell line: 1>\u001b[0;34m()\u001b[0m\n\u001b[0;32m----> 1\u001b[0;31m \u001b[0;34m\"10\"\u001b[0m \u001b[0;34m+\u001b[0m \u001b[0;36m10\u001b[0m\u001b[0;34m\u001b[0m\u001b[0;34m\u001b[0m\u001b[0m\n\u001b[0m",
            "\u001b[0;31mTypeError\u001b[0m: can only concatenate str (not \"int\") to str"
          ]
        }
      ]
    },
    {
      "cell_type": "markdown",
      "metadata": {
        "id": "RS6v4UuHTkoe"
      },
      "source": [
        "An error! Obviously, Python tells us that we can't sum strings and numbers. So, in order to do that, we need to **convert** our variable to the desired type:"
      ]
    },
    {
      "cell_type": "code",
      "metadata": {
        "id": "QKhgP4OfTkoe",
        "colab": {
          "base_uri": "https://localhost:8080/"
        },
        "outputId": "15ac8e73-ffbf-4cd5-8d5e-734c720d6149"
      },
      "source": [
        "int(\"10\") + 10"
      ],
      "execution_count": 87,
      "outputs": [
        {
          "output_type": "execute_result",
          "data": {
            "text/plain": [
              "20"
            ]
          },
          "metadata": {},
          "execution_count": 87
        }
      ]
    },
    {
      "cell_type": "code",
      "metadata": {
        "id": "_0cLQSb-Tkoi",
        "colab": {
          "base_uri": "https://localhost:8080/",
          "height": 36
        },
        "outputId": "838f3b96-e286-4519-804d-b047c2b6dea2"
      },
      "source": [
        "\"Shakespeare wrote \" + str(17) + \" comedies\""
      ],
      "execution_count": 88,
      "outputs": [
        {
          "output_type": "execute_result",
          "data": {
            "text/plain": [
              "'Shakespeare wrote 17 comedies'"
            ],
            "application/vnd.google.colaboratory.intrinsic+json": {
              "type": "string"
            }
          },
          "metadata": {},
          "execution_count": 88
        }
      ]
    },
    {
      "cell_type": "markdown",
      "metadata": {
        "id": "ZP_z8vn2Tkok"
      },
      "source": [
        "As you can see, we can use a `type` as a function, in order to convert a variable of one type to the desired one.\n",
        "\n",
        "It is **very** important to always remember the data type of our variables. If not, the results may be very different than expected:"
      ]
    },
    {
      "cell_type": "code",
      "metadata": {
        "id": "-JeSxw51Tkol",
        "colab": {
          "base_uri": "https://localhost:8080/"
        },
        "outputId": "862e2205-bd15-4325-8646-d93b588b14eb"
      },
      "source": [
        "a = \"3\"\n",
        "b = \"4\"\n",
        "\n",
        "print(a + b)\n",
        "print(int(a) + int(b))"
      ],
      "execution_count": 89,
      "outputs": [
        {
          "output_type": "stream",
          "name": "stdout",
          "text": [
            "34\n",
            "7\n"
          ]
        }
      ]
    },
    {
      "cell_type": "markdown",
      "metadata": {
        "id": "mY3cQ53zTkon"
      },
      "source": [
        "# Composite data types: tuples, lists, sets, and dictionaries\n",
        "\n",
        "Now we will see some more complex data types, i.e. tuples, lists, sets, and dictionaries. All this types have in common that they allow us to store *more data* inside a single variable. In fact, while numbers, strings, and so on, allow us to store only *one* number, strings, etc., in a variable, it is often useful to store more than a single information in a variable.\n",
        "\n",
        "For example, what if we wanted to keep all the the titles of Shakespeare's comedies in a single variable?"
      ]
    },
    {
      "cell_type": "markdown",
      "metadata": {
        "id": "V7AYvEFDTkon"
      },
      "source": [
        "## Tuples"
      ]
    },
    {
      "cell_type": "markdown",
      "metadata": {
        "id": "RWDAG51iTkon"
      },
      "source": [
        "Tuples are the most basic composite data type. A tuple is a sequence of elements, much like a string is a sequence of characters. The syntax for defining tuples is\n",
        "```python\n",
        "( element_1, element_2, ... element_n )\n",
        "```"
      ]
    },
    {
      "cell_type": "markdown",
      "metadata": {
        "id": "s5tha-lVTkon"
      },
      "source": [
        "Let's write some example tuples:"
      ]
    },
    {
      "cell_type": "code",
      "metadata": {
        "id": "_8krbD3tTkon",
        "colab": {
          "base_uri": "https://localhost:8080/"
        },
        "outputId": "3276d5c0-8a38-4894-fa27-18164bd8ed95"
      },
      "source": [
        "(1, 2, 3)"
      ],
      "execution_count": 90,
      "outputs": [
        {
          "output_type": "execute_result",
          "data": {
            "text/plain": [
              "(1, 2, 3)"
            ]
          },
          "metadata": {},
          "execution_count": 90
        }
      ]
    },
    {
      "cell_type": "code",
      "metadata": {
        "id": "h_NnQTC3Tkov",
        "colab": {
          "base_uri": "https://localhost:8080/"
        },
        "outputId": "efec7b41-6eba-4f5c-d4bd-11f28a9ce357"
      },
      "source": [
        "('hello', 'world')"
      ],
      "execution_count": 91,
      "outputs": [
        {
          "output_type": "execute_result",
          "data": {
            "text/plain": [
              "('hello', 'world')"
            ]
          },
          "metadata": {},
          "execution_count": 91
        }
      ]
    },
    {
      "cell_type": "code",
      "metadata": {
        "id": "K54ZqWF2Tkoy",
        "colab": {
          "base_uri": "https://localhost:8080/"
        },
        "outputId": "1a278755-74e3-4fb7-f898-f96056eb67e4"
      },
      "source": [
        "x = ('One', 2, 'three', 4.0, False)\n",
        "print(x)"
      ],
      "execution_count": 92,
      "outputs": [
        {
          "output_type": "stream",
          "name": "stdout",
          "text": [
            "('One', 2, 'three', 4.0, False)\n"
          ]
        }
      ]
    },
    {
      "cell_type": "markdown",
      "metadata": {
        "id": "pbeiFYBjTko0"
      },
      "source": [
        "As you can see, elements within tuples can be of any type. You can slice and index tuples exactly as you do with strings:"
      ]
    },
    {
      "cell_type": "code",
      "metadata": {
        "id": "3sfW95NtTko0",
        "colab": {
          "base_uri": "https://localhost:8080/"
        },
        "outputId": "5fba4a40-5f03-4faf-ca10-9b8cf1b8d5d8"
      },
      "source": [
        "print(x[0])\n",
        "print(x[0:2])\n",
        "print(x[-1])"
      ],
      "execution_count": 93,
      "outputs": [
        {
          "output_type": "stream",
          "name": "stdout",
          "text": [
            "One\n",
            "('One', 2)\n",
            "False\n"
          ]
        }
      ]
    },
    {
      "cell_type": "markdown",
      "metadata": {
        "id": "Tng2ygQPTko2"
      },
      "source": [
        "You can use some of the methods for strings on tuples, too:"
      ]
    },
    {
      "cell_type": "code",
      "metadata": {
        "id": "5WKrmBM5Tko2",
        "colab": {
          "base_uri": "https://localhost:8080/"
        },
        "outputId": "45933c7a-5317-429d-c7fb-51cd28722270"
      },
      "source": [
        "T = (1, 2, 3, 4, 3, 2, 1)\n",
        "print(len(T))\n",
        "print((1,2) + (3,4))\n",
        "print(T.index(4))  # the index of the first matching 4 in the tuple\n",
        "print(T.count(2))  # the number of times 2 occurs in the tuple"
      ],
      "execution_count": 94,
      "outputs": [
        {
          "output_type": "stream",
          "name": "stdout",
          "text": [
            "7\n",
            "(1, 2, 3, 4)\n",
            "3\n",
            "2\n"
          ]
        }
      ]
    },
    {
      "cell_type": "markdown",
      "metadata": {
        "id": "t8JpQLQ4Tko4"
      },
      "source": [
        "Because tuples are immutable, we cannot change the tuples (ie. item assignment, appending...) once they are created."
      ]
    },
    {
      "cell_type": "code",
      "metadata": {
        "id": "XcCJgg6cTko4",
        "colab": {
          "base_uri": "https://localhost:8080/",
          "height": 141
        },
        "outputId": "19d0ff66-e2f8-47bd-f3dc-bcf8a3e47c28"
      },
      "source": [
        "T[0] = 2"
      ],
      "execution_count": 95,
      "outputs": [
        {
          "output_type": "error",
          "ename": "TypeError",
          "evalue": "'tuple' object does not support item assignment",
          "traceback": [
            "\u001b[0;31m---------------------------------------------------------------------------\u001b[0m",
            "\u001b[0;31mTypeError\u001b[0m                                 Traceback (most recent call last)",
            "\u001b[0;32m<ipython-input-95-dc9f36a7ab5a>\u001b[0m in \u001b[0;36m<cell line: 1>\u001b[0;34m()\u001b[0m\n\u001b[0;32m----> 1\u001b[0;31m \u001b[0mT\u001b[0m\u001b[0;34m[\u001b[0m\u001b[0;36m0\u001b[0m\u001b[0;34m]\u001b[0m \u001b[0;34m=\u001b[0m \u001b[0;36m2\u001b[0m\u001b[0;34m\u001b[0m\u001b[0;34m\u001b[0m\u001b[0m\n\u001b[0m",
            "\u001b[0;31mTypeError\u001b[0m: 'tuple' object does not support item assignment"
          ]
        }
      ]
    },
    {
      "cell_type": "markdown",
      "metadata": {
        "id": "idvPL-nXTko6"
      },
      "source": [
        "## Lists"
      ]
    },
    {
      "cell_type": "markdown",
      "metadata": {
        "id": "2vg6E8LrTko7"
      },
      "source": [
        "The simplest way to describe lists is as *mutable tuples*. They are defined this way:\n",
        "\n",
        "```python\n",
        "[ element_1, element_2, ... element_n ]\n",
        "```\n",
        "\n",
        "Let's look at an example:"
      ]
    },
    {
      "cell_type": "code",
      "metadata": {
        "id": "PZrCfvDrTko7",
        "colab": {
          "base_uri": "https://localhost:8080/"
        },
        "outputId": "1ccd630a-c76f-47c3-d86d-5d5d13e03a65"
      },
      "source": [
        "L = [1,2,3,4,5]\n",
        "print(L)\n",
        "L[3] = 0\n",
        "print(L)"
      ],
      "execution_count": 96,
      "outputs": [
        {
          "output_type": "stream",
          "name": "stdout",
          "text": [
            "[1, 2, 3, 4, 5]\n",
            "[1, 2, 3, 0, 5]\n"
          ]
        }
      ]
    },
    {
      "cell_type": "markdown",
      "metadata": {
        "id": "uV2wvW3_Tko-"
      },
      "source": [
        "Note to the reader: if you are asking yourself why we did `L[3] = 0` and the **fourth** element of the array was modified, go back and review [zero-based indexing](#zero-based)!\n",
        "\n",
        "Like strings and tuples, we can use indexing, slicing, and other useful operations:"
      ]
    },
    {
      "cell_type": "code",
      "metadata": {
        "id": "sl5PqRNDTko_",
        "colab": {
          "base_uri": "https://localhost:8080/"
        },
        "outputId": "658040d6-e681-4369-a755-5ec6175da43c"
      },
      "source": [
        "#indexing\n",
        "print(L[0])\n",
        "\n",
        "#slicing\n",
        "print(L[:-1])\n",
        "\n",
        "#concatenate with another list\n",
        "L = L + [4, 3, 2]\n",
        "print(L)\n",
        "\n",
        "print(L.index(5))\n",
        "print(L.count(3))"
      ],
      "execution_count": 97,
      "outputs": [
        {
          "output_type": "stream",
          "name": "stdout",
          "text": [
            "1\n",
            "[1, 2, 3, 0]\n",
            "[1, 2, 3, 0, 5, 4, 3, 2]\n",
            "4\n",
            "2\n"
          ]
        }
      ]
    },
    {
      "cell_type": "markdown",
      "metadata": {
        "id": "iW5jRQMZTkpA"
      },
      "source": [
        "Lists, however, support many more useful methods:"
      ]
    },
    {
      "cell_type": "code",
      "metadata": {
        "id": "MoYZ4wOLTkpB",
        "colab": {
          "base_uri": "https://localhost:8080/"
        },
        "outputId": "f152fed2-22de-4b23-f623-818c247aebd7"
      },
      "source": [
        "L.sort()\n",
        "print(L)\n",
        "\n",
        "L.reverse()\n",
        "print(L)\n",
        "\n",
        "print(max(L))\n",
        "print(min(L))\n",
        "print(sum(L))"
      ],
      "execution_count": 98,
      "outputs": [
        {
          "output_type": "stream",
          "name": "stdout",
          "text": [
            "[0, 1, 2, 2, 3, 3, 4, 5]\n",
            "[5, 4, 3, 3, 2, 2, 1, 0]\n",
            "5\n",
            "0\n",
            "20\n"
          ]
        }
      ]
    },
    {
      "cell_type": "markdown",
      "metadata": {
        "id": "cU_a14sbTkpD"
      },
      "source": [
        "> **<h3>💻 Try it yourself!</h3>**\n",
        "\n",
        "Which of the methods explained above work on strings and tuples too? Try it in the cell below!"
      ]
    },
    {
      "cell_type": "code",
      "metadata": {
        "id": "PWlDmCfrTkpD",
        "colab": {
          "base_uri": "https://localhost:8080/"
        },
        "outputId": "ee4e9856-a46d-4d78-970b-fc143c8dec63"
      },
      "source": [
        "T = (1,2,3)\n",
        "L = [1,2,3]\n",
        "L.sort()\n",
        "print(L)\n",
        "\n",
        "# try T.sort(), L.sort() ..."
      ],
      "execution_count": 105,
      "outputs": [
        {
          "output_type": "stream",
          "name": "stdout",
          "text": [
            "[1, 2, 3]\n"
          ]
        }
      ]
    },
    {
      "cell_type": "markdown",
      "metadata": {
        "id": "d6o3IgQITkpF"
      },
      "source": [
        "You may be asking yourself: if tuples are just immutable lists, why bother using them?\n",
        "\n",
        "The answer is for *performance*. Tuples are generally faster and require less memory than lists, so they are often used when you just need to store some data and/or if you want to be sure that these data are not modified by other programmers. On the other hand, if you know that you'll update or iterate over a sequence frequently, lists are much faster, hence they should be preferred.\n",
        "\n",
        "You don't need to know more for now. However, since both structures are extensively used in Python, you'll frequently have to deal with them, hence is important to know their differences."
      ]
    },
    {
      "cell_type": "markdown",
      "metadata": {
        "id": "JLDInm11TkpG"
      },
      "source": [
        "### Updating lists"
      ]
    },
    {
      "cell_type": "markdown",
      "metadata": {
        "id": "fK7VRqi2TkpG"
      },
      "source": [
        "So, what does it mean that lists are *mutable*?\n",
        "\n",
        "When we studied tuples, we saw that we can't modify them after they have been created. For example, if you run this code:\n",
        "```python\n",
        "T = (1, 2)\n",
        "T[0] = 2\n",
        "```\n",
        "it would raise a `TypeError`.\n",
        "\n",
        "Lists, on the other hand, can be *updated*: we can modify the elements inside a list, add, and remove them. Let's see some examples:"
      ]
    },
    {
      "cell_type": "code",
      "metadata": {
        "id": "V6cRCyWKTkpG",
        "colab": {
          "base_uri": "https://localhost:8080/"
        },
        "outputId": "58ddb810-6c0b-401e-8f2f-4a7b93facd92"
      },
      "source": [
        "tragedies = [\n",
        "    \"Antony and Cleopatra\",\n",
        "    \"Coriolanus\",\n",
        "    \"Cymbeline\",\n",
        "    \"Hamlet\",\n",
        "    \"Julius Caesar\",\n",
        "    \"Othello\",\n",
        "    \"Romeo and Julia\",\n",
        "    \"Timon of Athens\",\n",
        "    \"Titus Andronicus\",\n",
        "    \"Troilus and Cressida\",\n",
        "]\n",
        "\n",
        "print(tragedies)"
      ],
      "execution_count": 106,
      "outputs": [
        {
          "output_type": "stream",
          "name": "stdout",
          "text": [
            "['Antony and Cleopatra', 'Coriolanus', 'Cymbeline', 'Hamlet', 'Julius Caesar', 'Othello', 'Romeo and Julia', 'Timon of Athens', 'Titus Andronicus', 'Troilus and Cressida']\n"
          ]
        }
      ]
    },
    {
      "cell_type": "markdown",
      "metadata": {
        "id": "-Q6AniVgTkpI"
      },
      "source": [
        "Do you notice the mistakes in the list? Let's fix them!"
      ]
    },
    {
      "cell_type": "code",
      "metadata": {
        "id": "Y9DK9Nm4TkpI",
        "colab": {
          "base_uri": "https://localhost:8080/"
        },
        "outputId": "81361ac4-4a2f-40e4-eb6f-c9f5e13b734d"
      },
      "source": [
        "# Who's Julia? Let's find the index of the wrong element in the list.\n",
        "tragedies.index(\"Romeo and Julia\")"
      ],
      "execution_count": 107,
      "outputs": [
        {
          "output_type": "execute_result",
          "data": {
            "text/plain": [
              "6"
            ]
          },
          "metadata": {},
          "execution_count": 107
        }
      ]
    },
    {
      "cell_type": "code",
      "metadata": {
        "id": "IlulY9lOTkpL",
        "colab": {
          "base_uri": "https://localhost:8080/"
        },
        "outputId": "87c45f01-cb86-4310-aabb-e91b6d3a6932"
      },
      "source": [
        "# Now, let's update it:\n",
        "tragedies[6] = \"Romeo and Juliet\"\n",
        "print(tragedies)"
      ],
      "execution_count": 108,
      "outputs": [
        {
          "output_type": "stream",
          "name": "stdout",
          "text": [
            "['Antony and Cleopatra', 'Coriolanus', 'Cymbeline', 'Hamlet', 'Julius Caesar', 'Othello', 'Romeo and Juliet', 'Timon of Athens', 'Titus Andronicus', 'Troilus and Cressida']\n"
          ]
        }
      ]
    },
    {
      "cell_type": "markdown",
      "metadata": {
        "id": "fZsyeqO3TkpM"
      },
      "source": [
        "That's great, but where is Macbeth? We need to insert it in the list!\n",
        "\n",
        "The method `append` adds and element to the end of a list:"
      ]
    },
    {
      "cell_type": "code",
      "metadata": {
        "id": "kRcwfKCJTkpN",
        "colab": {
          "base_uri": "https://localhost:8080/"
        },
        "outputId": "bd368a47-083b-4569-e92d-008684d7cab2"
      },
      "source": [
        "tragedies.append(\"Macbeth\")\n",
        "print(tragedies)"
      ],
      "execution_count": 109,
      "outputs": [
        {
          "output_type": "stream",
          "name": "stdout",
          "text": [
            "['Antony and Cleopatra', 'Coriolanus', 'Cymbeline', 'Hamlet', 'Julius Caesar', 'Othello', 'Romeo and Juliet', 'Timon of Athens', 'Titus Andronicus', 'Troilus and Cressida', 'Macbeth']\n"
          ]
        }
      ]
    },
    {
      "cell_type": "markdown",
      "metadata": {
        "id": "ZV3k1fcVTkpP"
      },
      "source": [
        "Let's sort the list now:"
      ]
    },
    {
      "cell_type": "code",
      "metadata": {
        "id": "JzGPpg2-Tkpg",
        "colab": {
          "base_uri": "https://localhost:8080/"
        },
        "outputId": "b60335c4-4d01-410e-a9e4-279170723320"
      },
      "source": [
        "tragedies.sort()\n",
        "print(tragedies)"
      ],
      "execution_count": 110,
      "outputs": [
        {
          "output_type": "stream",
          "name": "stdout",
          "text": [
            "['Antony and Cleopatra', 'Coriolanus', 'Cymbeline', 'Hamlet', 'Julius Caesar', 'Macbeth', 'Othello', 'Romeo and Juliet', 'Timon of Athens', 'Titus Andronicus', 'Troilus and Cressida']\n"
          ]
        }
      ]
    },
    {
      "cell_type": "markdown",
      "metadata": {
        "id": "D2JOZWQGTkpk"
      },
      "source": [
        "Lists also allow us to add and remove elements by index, or to remove an exact element (*remove by value*):"
      ]
    },
    {
      "cell_type": "code",
      "metadata": {
        "id": "Nndx0fBMTkpk",
        "colab": {
          "base_uri": "https://localhost:8080/"
        },
        "outputId": "9ab3d36d-46f7-4596-fbe1-235018a74fa3"
      },
      "source": [
        "L=[1,'a',True]\n",
        "\n",
        "#append at the end\n",
        "L.append('b')\n",
        "print (L)\n",
        "\n",
        "# delete an item at index 1 and returns the deleted item\n",
        "print (L.pop(1))\n",
        "# delete an item at index 0\n",
        "del L[0]\n",
        "print (L)\n",
        "# delete the first matching item by value in a list:\n",
        "L.remove('b')\n",
        "print(L) # removes 'b'\n",
        "\n",
        "#insert: L.insert (position, item): insert an item at position of L\n",
        "L.insert(0,'a')\n",
        "print (L)"
      ],
      "execution_count": 111,
      "outputs": [
        {
          "output_type": "stream",
          "name": "stdout",
          "text": [
            "[1, 'a', True, 'b']\n",
            "a\n",
            "[True, 'b']\n",
            "[True]\n",
            "['a', True]\n"
          ]
        }
      ]
    },
    {
      "cell_type": "markdown",
      "metadata": {
        "id": "mGxT-t6hTkpm"
      },
      "source": [
        "Did you notice that we never wrote `L = L.append(...)` but just `L.append()`? This is because, as we've just seen, lists are mutable, hence most of the operations we perform on lists modify them on the fly.  "
      ]
    },
    {
      "cell_type": "markdown",
      "metadata": {
        "id": "wdFUgyf8Tkpm"
      },
      "source": [
        "We can also concatenate lists, exactly as we do with strings:"
      ]
    },
    {
      "cell_type": "code",
      "metadata": {
        "id": "P6w-194PTkpn",
        "colab": {
          "base_uri": "https://localhost:8080/"
        },
        "outputId": "a14210b6-ddf6-4433-8c12-3d4dcaa523a3"
      },
      "source": [
        "[1,2,3] + [4,5,6]"
      ],
      "execution_count": 112,
      "outputs": [
        {
          "output_type": "execute_result",
          "data": {
            "text/plain": [
              "[1, 2, 3, 4, 5, 6]"
            ]
          },
          "metadata": {},
          "execution_count": 112
        }
      ]
    },
    {
      "cell_type": "markdown",
      "metadata": {
        "id": "gsnk4aJFYsft"
      },
      "source": [
        "Remember that can we also use type names as function to convert between types, so for example we can convert a tuple to a list and vice versa:"
      ]
    },
    {
      "cell_type": "code",
      "metadata": {
        "id": "jVFUHVnHY28g",
        "colab": {
          "base_uri": "https://localhost:8080/"
        },
        "outputId": "7170c531-75ec-4673-ba66-a58d61fd53f7"
      },
      "source": [
        "T = (1,2)\n",
        "L = [3,4]\n",
        "print(list((T)))\n",
        "print(tuple(L))"
      ],
      "execution_count": 113,
      "outputs": [
        {
          "output_type": "stream",
          "name": "stdout",
          "text": [
            "[1, 2]\n",
            "(3, 4)\n"
          ]
        }
      ]
    },
    {
      "cell_type": "markdown",
      "metadata": {
        "id": "HN3Sdjy1Tkpo"
      },
      "source": [
        "> **<h3>💻 Try it yourself!</h3>**\n",
        "\n",
        "Given the lists in the cell below, concatenate and save them in a third variable called `L3`. Then, remove from the list all the male characters. Finally, sort the list, and print its last element."
      ]
    },
    {
      "cell_type": "code",
      "metadata": {
        "id": "O6CJ-60STkpp"
      },
      "source": [
        "L1 = ['Anthony', 'Othello', 'Lady Macbeth', 'King of France', 'Iago']\n",
        "L2 = ['Hamlet', 'Cleopatra', 'Ophelia', 'Ariel', 'Agamemnon', 'Rosalind']"
      ],
      "execution_count": 115,
      "outputs": []
    },
    {
      "cell_type": "code",
      "metadata": {
        "id": "ihuuoeTnV5eE",
        "colab": {
          "base_uri": "https://localhost:8080/"
        },
        "outputId": "bc8a552c-e693-4e34-df58-d630d0459db4"
      },
      "source": [
        "# Write your answer here\n",
        "L3 = L1 + L2\n",
        "L3.remove(\"Anthony\")\n",
        "L3.remove(\"Othello\")\n",
        "L3.remove(\"King of France\")\n",
        "L3.remove(\"Iago\")\n",
        "L3.remove(\"Hamlet\")\n",
        "L3.remove(\"Agamemnon\")\n",
        "L3.sort()\n",
        "print(L3[-1])\n"
      ],
      "execution_count": 117,
      "outputs": [
        {
          "output_type": "stream",
          "name": "stdout",
          "text": [
            "Rosalind\n"
          ]
        }
      ]
    },
    {
      "cell_type": "markdown",
      "metadata": {
        "id": "PNm0j6YtV5of"
      },
      "source": [
        "<details>\n",
        "    <summary>Click <b>here</b> to see the answer.</summary>\n",
        "    <p><code>L3 = L1 + L2</code></p>\n",
        "    <p><code>print(L3)</code></p>\n",
        "    <p><code>L3.remove('Anthony')</code></p>\n",
        "    <p><code>L3.remove('Othello')</code></p>\n",
        "    <p><code>L3.remove('King of France')</code></p>\n",
        "    <p><code>L3.remove('Iago')</code></p>\n",
        "    <p><code>L3.remove('Hamlet')</code></p>\n",
        "    <p><code>L3.remove('Agamemnon')</code></p>\n",
        "    <p><code>print(L3)</code></p>\n",
        "    <p><code>L3.sort()</code></p>\n",
        "    <p><code>print(L3[-1])</code></p>\n",
        "</details>"
      ]
    },
    {
      "cell_type": "markdown",
      "metadata": {
        "id": "uUmYVBjAZF8k"
      },
      "source": [
        "### ❓ Quiz\n",
        "\n",
        "Can you guess the result of this line of code before running the cell below?"
      ]
    },
    {
      "cell_type": "code",
      "metadata": {
        "id": "Ilw21UdbZG39",
        "colab": {
          "base_uri": "https://localhost:8080/"
        },
        "outputId": "c9840dae-d33e-4419-c61a-ce26e6d48d52"
      },
      "source": [
        "print(list('hello world'))"
      ],
      "execution_count": 118,
      "outputs": [
        {
          "output_type": "stream",
          "name": "stdout",
          "text": [
            "['h', 'e', 'l', 'l', 'o', ' ', 'w', 'o', 'r', 'l', 'd']\n"
          ]
        }
      ]
    },
    {
      "cell_type": "markdown",
      "metadata": {
        "id": "FX5ai-A4ZHLm"
      },
      "source": [
        "<details>\n",
        "    <summary>Click <b>here</b> to see the answer.</summary>\n",
        "    <p>This line converts the string <code>hello world</code> to a list of characters. This effectively shows why lists and strings behave very similarly - after all, strings are basically lists of characters where we can perform some more operations, like uppercasing, lowercasing, and so on.</p>\n",
        "</details>"
      ]
    },
    {
      "cell_type": "markdown",
      "metadata": {
        "id": "t7PkntAvTkpq"
      },
      "source": [
        "## Sets"
      ]
    },
    {
      "cell_type": "markdown",
      "metadata": {
        "id": "oNtyXbp5Tkpr"
      },
      "source": [
        "Sets are, simply said, lists that do not allow duplicates. Sets are *unordered*, hence we can't access the $n$-th element of a set as we do for lists.\n",
        "\n",
        "The syntax for sets is:\n",
        "```\n",
        "{ element_1, element_2, ... element_n }\n",
        "```\n",
        "\n",
        "As usual, let's see some examples."
      ]
    },
    {
      "cell_type": "code",
      "metadata": {
        "id": "6ZF5QqxmTkpr",
        "colab": {
          "base_uri": "https://localhost:8080/"
        },
        "outputId": "5760f5cf-dd45-4691-8d02-93ab63e7cdf6"
      },
      "source": [
        "# create a set:\n",
        "a={1,'a','b'}\n",
        "print(a)\n",
        "\n",
        "# we can also create a set from a list: it will only keep the unique items\n",
        "b=set([1,'a','a','b'])\n",
        "print (b)\n",
        "print(len(b))"
      ],
      "execution_count": 119,
      "outputs": [
        {
          "output_type": "stream",
          "name": "stdout",
          "text": [
            "{1, 'a', 'b'}\n",
            "{1, 'a', 'b'}\n",
            "3\n"
          ]
        }
      ]
    },
    {
      "cell_type": "markdown",
      "metadata": {
        "id": "E3UGZbGyTkpt"
      },
      "source": [
        "We can add and remove elements to a set:\n"
      ]
    },
    {
      "cell_type": "code",
      "metadata": {
        "id": "_ORWQibUTkpt",
        "colab": {
          "base_uri": "https://localhost:8080/"
        },
        "outputId": "fd12c766-b788-42c2-fb11-d63fca6fc4ef"
      },
      "source": [
        "tragedies = {\n",
        "    \"Antony and Cleopatra\",\n",
        "    \"Coriolanus\",\n",
        "    \"Cymbeline\",\n",
        "    \"Hamlet\",\n",
        "    \"Julius Caesar\",\n",
        "    \"King Lear\",\n",
        "    \"Othello\",\n",
        "    \"Romeo and Juliet\",\n",
        "    \"Timon of Athens\",\n",
        "    \"Titus Andronicus\",\n",
        "    \"Troilus and Cressida\",\n",
        "    \"Two Gentlemen of Verona\"\n",
        "}\n",
        "tragedies.add(\"Macbeth\")\n",
        "tragedies.remove(\"Two Gentlemen of Verona\")\n",
        "print(tragedies)"
      ],
      "execution_count": 120,
      "outputs": [
        {
          "output_type": "stream",
          "name": "stdout",
          "text": [
            "{'Coriolanus', 'Titus Andronicus', 'Cymbeline', 'Othello', 'Romeo and Juliet', 'Troilus and Cressida', 'Macbeth', 'Hamlet', 'Julius Caesar', 'Antony and Cleopatra', 'Timon of Athens', 'King Lear'}\n"
          ]
        }
      ]
    },
    {
      "cell_type": "markdown",
      "metadata": {
        "id": "BK9dSO36Tkpw"
      },
      "source": [
        "Did you notice that the elements of the sets are shuffled when we `print` it? That's because, as we said before, there is absolutely no guarantee that the elements in a set retain the order in which we inserted them. Keep this in mind!\n",
        "\n",
        "For example, when you transform a set into a list, the elements may be shuffled:"
      ]
    },
    {
      "cell_type": "code",
      "metadata": {
        "id": "CpAe000bTkpw",
        "colab": {
          "base_uri": "https://localhost:8080/"
        },
        "outputId": "da5aab89-9bb0-4bff-dbd8-83a61c8ac4e8"
      },
      "source": [
        "list(tragedies)"
      ],
      "execution_count": 121,
      "outputs": [
        {
          "output_type": "execute_result",
          "data": {
            "text/plain": [
              "['Coriolanus',\n",
              " 'Titus Andronicus',\n",
              " 'Cymbeline',\n",
              " 'Othello',\n",
              " 'Romeo and Juliet',\n",
              " 'Troilus and Cressida',\n",
              " 'Macbeth',\n",
              " 'Hamlet',\n",
              " 'Julius Caesar',\n",
              " 'Antony and Cleopatra',\n",
              " 'Timon of Athens',\n",
              " 'King Lear']"
            ]
          },
          "metadata": {},
          "execution_count": 121
        }
      ]
    },
    {
      "cell_type": "markdown",
      "metadata": {
        "id": "Rk47FZinTkpx"
      },
      "source": [
        "## Dictionaries"
      ]
    },
    {
      "cell_type": "markdown",
      "metadata": {
        "id": "ZErfwZnwTkpy"
      },
      "source": [
        "Dictionaries are a mutable, composite data type that *maps* a *key* to its *value*. You can think of them as a telephone directory, where your name is your *key*, and your phone number is your *value*.\n",
        "\n",
        "The syntax for defining dictionaries is:\n",
        "```\n",
        "{ key_1 : value_1 , key_2 : value_2 , ... , key_n : value_n }\n",
        "```\n",
        "\n",
        "For example, let's build a dictionary about Shakespeare's bio:"
      ]
    },
    {
      "cell_type": "code",
      "metadata": {
        "id": "YNUtgp7xTkpz",
        "colab": {
          "base_uri": "https://localhost:8080/"
        },
        "outputId": "c21d6846-ef2a-45a0-bf45-0270572d9223"
      },
      "source": [
        "d = {\n",
        "    'name' : 'William',\n",
        "    'surname' : 'Shakespeare',\n",
        "    'year of birth' : 1564,\n",
        "    'year of death' : 1616,\n",
        "    'birthplace' : 'Stratford-upon-Avon'\n",
        "}\n",
        "\n",
        "print(d)"
      ],
      "execution_count": 122,
      "outputs": [
        {
          "output_type": "stream",
          "name": "stdout",
          "text": [
            "{'name': 'William', 'surname': 'Shakespeare', 'year of birth': 1564, 'year of death': 1616, 'birthplace': 'Stratford-upon-Avon'}\n"
          ]
        }
      ]
    },
    {
      "cell_type": "markdown",
      "metadata": {
        "id": "FCeECOgtTkp0"
      },
      "source": [
        "We can add, modify, and remove and remove information in/from a dictionary:"
      ]
    },
    {
      "cell_type": "code",
      "metadata": {
        "id": "7WlRKx3VTkp0",
        "colab": {
          "base_uri": "https://localhost:8080/"
        },
        "outputId": "39f51f03-1839-41a2-9150-89a97bbe64d9"
      },
      "source": [
        "d['wife'] = 'Anne'\n",
        "print(d)\n",
        "d['wife'] = 'Anne Hathaway'\n",
        "print(d)\n",
        "del(d['wife'])\n",
        "print(d)"
      ],
      "execution_count": 123,
      "outputs": [
        {
          "output_type": "stream",
          "name": "stdout",
          "text": [
            "{'name': 'William', 'surname': 'Shakespeare', 'year of birth': 1564, 'year of death': 1616, 'birthplace': 'Stratford-upon-Avon', 'wife': 'Anne'}\n",
            "{'name': 'William', 'surname': 'Shakespeare', 'year of birth': 1564, 'year of death': 1616, 'birthplace': 'Stratford-upon-Avon', 'wife': 'Anne Hathaway'}\n",
            "{'name': 'William', 'surname': 'Shakespeare', 'year of birth': 1564, 'year of death': 1616, 'birthplace': 'Stratford-upon-Avon'}\n"
          ]
        }
      ]
    },
    {
      "cell_type": "markdown",
      "metadata": {
        "id": "gD0FFqr5Tkp2"
      },
      "source": [
        "We will encounter a key error if we fetch a key that does not exist."
      ]
    },
    {
      "cell_type": "code",
      "metadata": {
        "id": "zQiTyAYoTkp2",
        "scrolled": true,
        "colab": {
          "base_uri": "https://localhost:8080/",
          "height": 141
        },
        "outputId": "164a6f37-8471-42d8-c022-264563f2fe32"
      },
      "source": [
        "d['wife']  # now we deleted this information!"
      ],
      "execution_count": 124,
      "outputs": [
        {
          "output_type": "error",
          "ename": "KeyError",
          "evalue": "'wife'",
          "traceback": [
            "\u001b[0;31m---------------------------------------------------------------------------\u001b[0m",
            "\u001b[0;31mKeyError\u001b[0m                                  Traceback (most recent call last)",
            "\u001b[0;32m<ipython-input-124-7f892c4a4655>\u001b[0m in \u001b[0;36m<cell line: 1>\u001b[0;34m()\u001b[0m\n\u001b[0;32m----> 1\u001b[0;31m \u001b[0md\u001b[0m\u001b[0;34m[\u001b[0m\u001b[0;34m'wife'\u001b[0m\u001b[0;34m]\u001b[0m  \u001b[0;31m# now we deleted this information!\u001b[0m\u001b[0;34m\u001b[0m\u001b[0;34m\u001b[0m\u001b[0m\n\u001b[0m",
            "\u001b[0;31mKeyError\u001b[0m: 'wife'"
          ]
        }
      ]
    },
    {
      "cell_type": "markdown",
      "metadata": {
        "id": "oPK7f17YTkp4"
      },
      "source": [
        "Note that *anything* can be used as dictionary key or value:"
      ]
    },
    {
      "cell_type": "code",
      "metadata": {
        "id": "RG5ODwy4Tkp4",
        "colab": {
          "base_uri": "https://localhost:8080/"
        },
        "outputId": "40be36c3-1b57-4bd6-9b15-ae94a2c1757d"
      },
      "source": [
        "t = 'true'\n",
        "d = {False: 0, 1: t, t: str}\n",
        "print(d[False])\n",
        "print(d[1])\n",
        "print(d[t])"
      ],
      "execution_count": 125,
      "outputs": [
        {
          "output_type": "stream",
          "name": "stdout",
          "text": [
            "0\n",
            "true\n",
            "<class 'str'>\n"
          ]
        }
      ]
    },
    {
      "cell_type": "markdown",
      "metadata": {
        "id": "22Oz2oqOTkp6"
      },
      "source": [
        "> **<h3>💻 Try it yourself!</h3>**\n",
        "\n",
        "Create a dictionary where the keys are 'Macbeth', 'The Tempest', and 'Romeo and Juliet', and the values are the names of the main male character and save it in a variable. Print the dictionary. Then, replace the names of the male characters with the name of a female character from the same play. Finally, print the dictionary again."
      ]
    },
    {
      "cell_type": "code",
      "metadata": {
        "id": "lRFbhCxDTkp7",
        "colab": {
          "base_uri": "https://localhost:8080/"
        },
        "outputId": "f1dc02cf-b409-4202-9b46-c2ab8dcdb8d2"
      },
      "source": [
        "plays = {\n",
        "    'Macbeth' : 'Macbeth',\n",
        "    'The Tempest' : 'Prospero',\n",
        "    'Romeo and Juliet' : 'Romeo',\n",
        "}\n",
        "print(plays)"
      ],
      "execution_count": 127,
      "outputs": [
        {
          "output_type": "stream",
          "name": "stdout",
          "text": [
            "{'Macbeth': 'Macbeth', 'The Tempest': 'Prospero', 'Romeo and Juliet': 'Romeo'}\n"
          ]
        }
      ]
    },
    {
      "cell_type": "markdown",
      "metadata": {
        "id": "wLdGGcowTkp9"
      },
      "source": [
        "<details>\n",
        "    <summary>Click <b>here</b> to see the answer.</summary>\n",
        "    <p> <pre><code>d = {\n",
        "    'Macbeth' : 'Macbeth',\n",
        "    'The Tempest' : 'Prospero',\n",
        "    'Romeo and Juliet' : 'Romeo',\n",
        "}\n",
        "print(d)\n",
        "d['Macbeth'] = 'Lady Macbeth'\n",
        "d['The Tempest'] = 'Ariel'\n",
        "d['Romeo and Juliet'] = 'Juliet'\n",
        "print(d)</code> </pre></p>\n",
        "</details>"
      ]
    },
    {
      "cell_type": "markdown",
      "metadata": {
        "id": "k9LyxozvTkp9"
      },
      "source": [
        "# Conditional statements and loops"
      ]
    },
    {
      "cell_type": "markdown",
      "metadata": {
        "id": "UpKWvSPJTkp-"
      },
      "source": [
        "## Statements - refresher"
      ]
    },
    {
      "cell_type": "markdown",
      "metadata": {
        "id": "HTYr5r_dTkp-"
      },
      "source": [
        "Until now, we only worked with simple statements that don't allow us to do much. As you surely remember, *statements* (or *instructions*) are the commands we issue to Python, to tell him what to do.\n",
        "\n",
        "Right now we worked mainly with assignments, i.e. statements with the syntax\n",
        "\n",
        "```python\n",
        "variable_name = variable_value\n",
        "```\n",
        "\n",
        "However, there are many more complex statements allowed by Python. For example, can you guess what these statements mean by executing them?"
      ]
    },
    {
      "cell_type": "code",
      "metadata": {
        "id": "TQYWMLc1Tkp_",
        "colab": {
          "base_uri": "https://localhost:8080/"
        },
        "outputId": "54ecf89a-6463-4e59-e32f-e5532afc04d2"
      },
      "source": [
        "count = 0\n",
        "print(count)\n",
        "\n",
        "count += 1\n",
        "print(count)"
      ],
      "execution_count": 128,
      "outputs": [
        {
          "output_type": "stream",
          "name": "stdout",
          "text": [
            "0\n",
            "1\n"
          ]
        }
      ]
    },
    {
      "cell_type": "code",
      "metadata": {
        "id": "nXbf6rQXTkqB",
        "colab": {
          "base_uri": "https://localhost:8080/"
        },
        "outputId": "2ca53cea-92ad-4d8d-905c-684fbc5deb49"
      },
      "source": [
        "name, surname = 'William', 'Shakespeare'\n",
        "print(name)\n",
        "print(surname)"
      ],
      "execution_count": 129,
      "outputs": [
        {
          "output_type": "stream",
          "name": "stdout",
          "text": [
            "William\n",
            "Shakespeare\n"
          ]
        }
      ]
    },
    {
      "cell_type": "code",
      "metadata": {
        "id": "5pCJzawjTkqD",
        "colab": {
          "base_uri": "https://localhost:8080/"
        },
        "outputId": "f1d9c8e7-dd79-4756-be64-745c1dbbce2d"
      },
      "source": [
        "the_bard = the_swan_of_avon = 'William Shakespeare'\n",
        "print(the_bard)\n",
        "print(the_swan_of_avon)"
      ],
      "execution_count": 130,
      "outputs": [
        {
          "output_type": "stream",
          "name": "stdout",
          "text": [
            "William Shakespeare\n",
            "William Shakespeare\n"
          ]
        }
      ]
    },
    {
      "cell_type": "markdown",
      "metadata": {
        "id": "t7jPgpunTkqE"
      },
      "source": [
        "Did you guess what the instructions above do?\n",
        "\n",
        "1. `+=` is the increment assignment operator, and is shorthand for `variable = variable + increment`\n",
        "(e.g. `a += 1` is translated as `a = a + 1`).\n",
        "2. This is called *sequence assignment*, i.e we can write `var_1, ..., var_n = value_1, ..., value_n`,\n",
        "and each value$_i$ will be assigned to the respective variable$_i$\n",
        "3. This is instead called *multiple target assignment*, i.e. by writing `var_1, ..., var_n = value` each `var`$_i$ will contain the same value."
      ]
    },
    {
      "cell_type": "markdown",
      "metadata": {
        "id": "-Onzyi6qTkqE"
      },
      "source": [
        "You should also remember that some statements *return* a value, while others don't. For example,"
      ]
    },
    {
      "cell_type": "code",
      "metadata": {
        "id": "dDwGWHaXTkqF",
        "colab": {
          "base_uri": "https://localhost:8080/"
        },
        "outputId": "7ae17449-fd35-45cb-c3ed-174130feb562"
      },
      "source": [
        "l = [1, 2, 3]\n",
        "len(l)"
      ],
      "execution_count": 131,
      "outputs": [
        {
          "output_type": "execute_result",
          "data": {
            "text/plain": [
              "3"
            ]
          },
          "metadata": {},
          "execution_count": 131
        }
      ]
    },
    {
      "cell_type": "markdown",
      "metadata": {
        "id": "CrIjRW6mTkqH"
      },
      "source": [
        "Here, `len` returns the length of `l`. On the other hand,"
      ]
    },
    {
      "cell_type": "code",
      "metadata": {
        "id": "riPXWjqmTkqH",
        "colab": {
          "base_uri": "https://localhost:8080/"
        },
        "outputId": "8b66a157-7473-411a-fe23-f8bae3f81a3c"
      },
      "source": [
        "print('Hello')"
      ],
      "execution_count": 132,
      "outputs": [
        {
          "output_type": "stream",
          "name": "stdout",
          "text": [
            "Hello\n"
          ]
        }
      ]
    },
    {
      "cell_type": "markdown",
      "metadata": {
        "id": "SqRBhLh5TkqI"
      },
      "source": [
        "Does not return anything, in fact:"
      ]
    },
    {
      "cell_type": "code",
      "metadata": {
        "id": "xFznDKMxTkqJ",
        "colab": {
          "base_uri": "https://localhost:8080/"
        },
        "outputId": "a64708c1-0df7-41cb-d53d-2716fae7c61b"
      },
      "source": [
        "x = print('hello')\n",
        "print(x)"
      ],
      "execution_count": 133,
      "outputs": [
        {
          "output_type": "stream",
          "name": "stdout",
          "text": [
            "hello\n",
            "None\n"
          ]
        }
      ]
    },
    {
      "cell_type": "markdown",
      "metadata": {
        "id": "kGy4Dg_TTkqK"
      },
      "source": [
        "Nothing (in Python lingo, the value `None`) is stored within `x`."
      ]
    },
    {
      "cell_type": "markdown",
      "metadata": {
        "id": "1aHvxt_BTkqL"
      },
      "source": [
        "But what if we wanted to do something more complex? For example, what if we wanted to apply a function to all the elements of a list, or if we wanted to run the code *when some condition arises*?"
      ]
    },
    {
      "cell_type": "markdown",
      "metadata": {
        "id": "ck1p2XFBTkqL"
      },
      "source": [
        "## `if` statements"
      ]
    },
    {
      "cell_type": "markdown",
      "metadata": {
        "id": "z_yoznILTkqL"
      },
      "source": [
        "For example, let's define the following variables:\n",
        "\n"
      ]
    },
    {
      "cell_type": "code",
      "metadata": {
        "id": "TGhnbaJxTkqL",
        "colab": {
          "base_uri": "https://localhost:8080/"
        },
        "outputId": "715b2b02-deee-4f6e-c4b2-1e11466ee07e"
      },
      "source": [
        "name, surname = 'William', 'shakespeare'\n",
        "print(name)\n",
        "print(surname)"
      ],
      "execution_count": 134,
      "outputs": [
        {
          "output_type": "stream",
          "name": "stdout",
          "text": [
            "William\n",
            "shakespeare\n"
          ]
        }
      ]
    },
    {
      "cell_type": "markdown",
      "metadata": {
        "id": "ZcNh4TIQTkqO"
      },
      "source": [
        "If we are to write the content of the variables in person, we could be sure that their content is always OK. But often we deal with data taken from books, scraped from the Internet, and so on, so we may want to clean our variables.\n",
        "\n",
        "In our case, we notice that the Bard's name has the first letter capitalised, while his surname doesn't. So, could we write a generic program to let Python capitalise the first letter of a string, *if needed*?\n",
        "\n",
        "We know that\n",
        "```\n",
        "string.islower()\n",
        "```\n",
        "\n",
        "Returns `True` if a string's characters are all lowercase, and `False` otherwise. So we can tell Python that if our variable contains a lowercase string, we will update it with the string with the first letter capitalised.\n",
        "\n",
        "The code that runs this operation is the following:"
      ]
    },
    {
      "cell_type": "code",
      "metadata": {
        "id": "BGQkDtU3TkqO",
        "colab": {
          "base_uri": "https://localhost:8080/"
        },
        "outputId": "dbeb2945-52b0-422a-9df3-105c2d52192a"
      },
      "source": [
        "x = surname\n",
        "print(x)"
      ],
      "execution_count": 135,
      "outputs": [
        {
          "output_type": "stream",
          "name": "stdout",
          "text": [
            "shakespeare\n"
          ]
        }
      ]
    },
    {
      "cell_type": "code",
      "metadata": {
        "id": "R3n-o7DWTkqP",
        "colab": {
          "base_uri": "https://localhost:8080/"
        },
        "outputId": "1ebb0814-181a-408d-92a2-a40bb20bc4d5"
      },
      "source": [
        "if x.islower():\n",
        "    x = x[0].upper() + x[1:]\n",
        "print(x)"
      ],
      "execution_count": 136,
      "outputs": [
        {
          "output_type": "stream",
          "name": "stdout",
          "text": [
            "Shakespeare\n"
          ]
        }
      ]
    },
    {
      "cell_type": "markdown",
      "metadata": {
        "id": "n1v6tfBDTkqR"
      },
      "source": [
        "If you run the cells above, you will see that the first cell will print `shakespeare`, than the second will print `Shakespeare`, as intended. This is because\n",
        "- The line `if x.islower()` checked if `shakespeare` was lowercase. Since it is the case,\n",
        "- The line `x = x[0].upper() + x[1:]` ran, and the first letter of `x` was updated.\n",
        "\n",
        "Now let's see what happens when `islower()` returns `False`:"
      ]
    },
    {
      "cell_type": "code",
      "metadata": {
        "id": "RjdsWEdFTkqR",
        "colab": {
          "base_uri": "https://localhost:8080/"
        },
        "outputId": "1dc2bdc3-60d5-4af7-f264-f08223ad276e"
      },
      "source": [
        "x = 'SHakespeare'\n",
        "print(x)"
      ],
      "execution_count": 137,
      "outputs": [
        {
          "output_type": "stream",
          "name": "stdout",
          "text": [
            "SHakespeare\n"
          ]
        }
      ]
    },
    {
      "cell_type": "code",
      "metadata": {
        "id": "EAQmkql1TkqU",
        "colab": {
          "base_uri": "https://localhost:8080/"
        },
        "outputId": "95bef28e-3d0c-46b0-b78e-76b09adadbb0"
      },
      "source": [
        "if x.islower():\n",
        "    x = x[0].upper() + x[1:]\n",
        "print(x)"
      ],
      "execution_count": 138,
      "outputs": [
        {
          "output_type": "stream",
          "name": "stdout",
          "text": [
            "SHakespeare\n"
          ]
        }
      ]
    },
    {
      "cell_type": "markdown",
      "metadata": {
        "id": "INa-5RjITkqV"
      },
      "source": [
        "Nothing happened, right? The string `SHakespeare` is still badly formatted, because the `if` instruction failed, hence it did not clean up the word.\n",
        "\n",
        "When there are such complex cases, it is often needed to write more complex `if` statement, that include multiple *clauses*. Let's see another example: we want to write a statement that determines if a number is positive, zero, or negative."
      ]
    },
    {
      "cell_type": "code",
      "metadata": {
        "id": "A3evSmaTTkqW",
        "colab": {
          "base_uri": "https://localhost:8080/"
        },
        "outputId": "258e8ce5-ff6d-4303-df24-61b80ca6f6fa"
      },
      "source": [
        "#check if x is negative, 0 or positive, and print accordingly\n",
        "x = -224\n",
        "if x < 0:\n",
        "    print('x is negative')\n",
        "elif x == 0:\n",
        "    print('x is zero')\n",
        "else:\n",
        "    print('x is positive')"
      ],
      "execution_count": 139,
      "outputs": [
        {
          "output_type": "stream",
          "name": "stdout",
          "text": [
            "x is negative\n"
          ]
        }
      ]
    },
    {
      "cell_type": "markdown",
      "metadata": {
        "id": "PTBeYxK5TkqY"
      },
      "source": [
        "Now try different values for `x` by changing the `x = 1` instruction and see what happens.\n",
        "\n",
        "In this case, we have three conditions, which are:\n",
        "1. x is negative\n",
        "2. x is zero\n",
        "3. x is negative.\n",
        "\n",
        "Each condition corresponds to a different *branch* of the `if`. They are ran sequentially, i.e. if the first check failed, Python tries with the second one; if the second one fails, Python tries the third; and so on, until there are more `elif` (shorthand for `else if`) or it reaches an `else`.\n",
        "\n",
        "Formally, the syntax if the `if-else` construct is the following:\n",
        "\n",
        "```python\n",
        "if expression_1 :\n",
        "    statement_group_1\n",
        "elif expression_2:\n",
        "    statement_group_2\n",
        "    # ...\n",
        "    # eventual other elifs-statements\n",
        "    # ...    \n",
        "else:\n",
        "    statement_group_n\n",
        "\n",
        "```\n",
        "\n",
        "You should have noticed a couple of things.\n",
        "\n",
        "1. The `else` and `elif` blocks are **optional**, i.e. an if can have one, both, or neither of them.\n",
        "2. The code inside the `if, `elif`, and `else` block is **indentated**, i.e. it begins exactly four spaces after the beginning of the line. What does it mean?\n"
      ]
    },
    {
      "cell_type": "markdown",
      "metadata": {
        "id": "fGHdlVT_TkqY"
      },
      "source": [
        "## Indentation and Code Blocks"
      ]
    },
    {
      "cell_type": "markdown",
      "metadata": {
        "id": "WQZEnajPTkqY"
      },
      "source": [
        "When we run an `if` instruction, when does Python know which instruction belong to the body of the `if`, and which to the external code flow?\n",
        "\n",
        "Let's try with an example. If we write:"
      ]
    },
    {
      "cell_type": "code",
      "metadata": {
        "id": "jTtpA4g-TkqZ"
      },
      "source": [
        "x = 1.0\n",
        "if x > 1:\n",
        "    x = x / 2\n",
        "    print(x)"
      ],
      "execution_count": 140,
      "outputs": []
    },
    {
      "cell_type": "markdown",
      "metadata": {
        "id": "58Tl2ga2Tkqa"
      },
      "source": [
        "We see that nothing happens. Instead, if we write"
      ]
    },
    {
      "cell_type": "code",
      "metadata": {
        "id": "Qfs3bGr6Tkqa",
        "scrolled": true,
        "colab": {
          "base_uri": "https://localhost:8080/"
        },
        "outputId": "a8200a79-33f2-452a-b1a0-a03bf28deb65"
      },
      "source": [
        "x = 1.0\n",
        "if x > 1:\n",
        "    x = x / 2\n",
        "print(x)"
      ],
      "execution_count": 141,
      "outputs": [
        {
          "output_type": "stream",
          "name": "stdout",
          "text": [
            "1.0\n"
          ]
        }
      ]
    },
    {
      "cell_type": "markdown",
      "metadata": {
        "id": "50mb_51qTkqc"
      },
      "source": [
        "The `print` instruction runs. Why?\n",
        "\n",
        "This happens because Python uses **indentation**, i.e. the space at the beginning of the line, to distinguish between different code blocks. All the code with the same indentation belongs to the same code block, and instructions like `if` (like `for`, `while`, that we will introduce next) run a code block at a time.\n",
        "\n",
        "The syntax is the following:\n",
        "\n",
        "```python\n",
        "\n",
        "if expression:\n",
        "    code_block_1\n",
        "    code_block_1\n",
        "    if expression:\n",
        "        code_block_2\n",
        "    else:\n",
        "        code_block_3\n",
        "else:\n",
        "    code_block_4\n",
        "    \n",
        "code_block_5\n",
        "```"
      ]
    },
    {
      "cell_type": "markdown",
      "metadata": {
        "id": "Q3_TrJeMbUg_"
      },
      "source": [
        "### ❓ Quiz  \n",
        "\n",
        "Can you guess the result of the cells below before running them?"
      ]
    },
    {
      "cell_type": "code",
      "metadata": {
        "id": "R3wY8PPqTkqd",
        "colab": {
          "base_uri": "https://localhost:8080/"
        },
        "outputId": "ca8691f9-e11e-4a1a-c263-0669e8cc2bd4"
      },
      "source": [
        "x = 5\n",
        "if x > 0:\n",
        "    if x % 2 != 0:\n",
        "        print('odd')\n",
        "    else:\n",
        "        print('even')\n",
        "    print('positive')\n",
        "else:\n",
        "    print('zero or negative')"
      ],
      "execution_count": 142,
      "outputs": [
        {
          "output_type": "stream",
          "name": "stdout",
          "text": [
            "odd\n",
            "positive\n"
          ]
        }
      ]
    },
    {
      "cell_type": "code",
      "metadata": {
        "id": "DPRgY7LRTkqe",
        "colab": {
          "base_uri": "https://localhost:8080/"
        },
        "outputId": "d84918bf-3729-440d-ee3f-36978ef52cfb"
      },
      "source": [
        "x = 5\n",
        "if x > 0:\n",
        "    if x % 2 != 0:\n",
        "        print('odd')\n",
        "    else:\n",
        "        print('even')\n",
        "        print('positive')\n",
        "else:\n",
        "    print('zero or negative')"
      ],
      "execution_count": 143,
      "outputs": [
        {
          "output_type": "stream",
          "name": "stdout",
          "text": [
            "odd\n"
          ]
        }
      ]
    },
    {
      "cell_type": "code",
      "metadata": {
        "id": "dzTVAcvKTkqf",
        "colab": {
          "base_uri": "https://localhost:8080/"
        },
        "outputId": "4fd3751a-f386-4d56-d7d5-e5563bd0426b"
      },
      "source": [
        "x = -6\n",
        "if x % 2 != 0:\n",
        "    print('odd')\n",
        "else:\n",
        "    print('even')\n",
        "\n",
        "if x > 0:\n",
        "    print('positive')\n",
        "else:\n",
        "    print('zero or negative')"
      ],
      "execution_count": 144,
      "outputs": [
        {
          "output_type": "stream",
          "name": "stdout",
          "text": [
            "even\n",
            "zero or negative\n"
          ]
        }
      ]
    },
    {
      "cell_type": "code",
      "metadata": {
        "id": "z4FsxA_0Tkqh",
        "colab": {
          "base_uri": "https://localhost:8080/"
        },
        "outputId": "5fbd2939-9b45-4251-f19e-5480ab69d88f"
      },
      "source": [
        "x = 3\n",
        "if x % 2 != 0:\n",
        "    print('odd')\n",
        "else:\n",
        "    print('even')\n",
        "    if x > 0:\n",
        "        print('positive')\n",
        "    else:\n",
        "        if x < 0:\n",
        "            print('negative')\n",
        "        else:\n",
        "            print('zero')"
      ],
      "execution_count": 145,
      "outputs": [
        {
          "output_type": "stream",
          "name": "stdout",
          "text": [
            "odd\n"
          ]
        }
      ]
    },
    {
      "cell_type": "markdown",
      "metadata": {
        "id": "ljCb3YdFTkqj"
      },
      "source": [
        "## Loops: `for` and `while`"
      ]
    },
    {
      "cell_type": "markdown",
      "metadata": {
        "id": "IjhwAhdOTkqj"
      },
      "source": [
        "`for` and `while` are used to repeat a code block for an arbitrary number of times.\n",
        "\n",
        "For example, if we want to print five zeros, instead of writing five `print`, we could do the following:"
      ]
    },
    {
      "cell_type": "code",
      "metadata": {
        "id": "Ls35wbcVTkqj",
        "scrolled": true,
        "colab": {
          "base_uri": "https://localhost:8080/"
        },
        "outputId": "f740b05a-685d-416c-8c40-5969e524c9c1"
      },
      "source": [
        "count = 0\n",
        "while count < 5:\n",
        "    # increment count by 1\n",
        "    count += 1\n",
        "    print('0')"
      ],
      "execution_count": 146,
      "outputs": [
        {
          "output_type": "stream",
          "name": "stdout",
          "text": [
            "0\n",
            "0\n",
            "0\n",
            "0\n",
            "0\n"
          ]
        }
      ]
    },
    {
      "cell_type": "markdown",
      "metadata": {
        "id": "6xiQBBjjTkql"
      },
      "source": [
        "As the name implies, `while` runs until the expression specified is `True`; in this case, it will run five times as requested. Formally, the syntax is:\n",
        "\n",
        "```python\n",
        "while expression:\n",
        "    statement_1\n",
        "    ...\n",
        "    statement_n\n",
        "```\n",
        "\n",
        "Another possible solution would be the following:"
      ]
    },
    {
      "cell_type": "code",
      "metadata": {
        "id": "4AeZ7nO3Tkql",
        "colab": {
          "base_uri": "https://localhost:8080/"
        },
        "outputId": "a88514d9-f006-433b-b851-ae074a19ca76"
      },
      "source": [
        "for x in [0, 0, 0, 0, 0]:\n",
        "    print(x)"
      ],
      "execution_count": 147,
      "outputs": [
        {
          "output_type": "stream",
          "name": "stdout",
          "text": [
            "0\n",
            "0\n",
            "0\n",
            "0\n",
            "0\n"
          ]
        }
      ]
    },
    {
      "cell_type": "markdown",
      "metadata": {
        "id": "Vlu0nXdkTkqp"
      },
      "source": [
        "Again, this print five zeroes. The `for` loops works this:\n",
        "\n",
        "```python\n",
        "for element in sequence:\n",
        "    statement_1\n",
        "    ...\n",
        "    statement_n\n",
        "```\n",
        "\n",
        "This means that Python will **iterate** over the provided sequence, one element at a time, and run the statements inside the code block. Each statement has access to the current element.\n",
        "\n",
        "Let's see other examples of `while` and `for`. Can you guess in advance how these code block work?"
      ]
    },
    {
      "cell_type": "markdown",
      "metadata": {
        "id": "-OCCOzOtTkqp"
      },
      "source": [
        "The first of these, the while statement, provides a way to code general loops."
      ]
    },
    {
      "cell_type": "code",
      "metadata": {
        "id": "ITNs_9xxTkqp",
        "scrolled": true,
        "colab": {
          "base_uri": "https://localhost:8080/"
        },
        "outputId": "9cf8b3ca-e3c6-4779-c51b-95d19af3bf78"
      },
      "source": [
        "# a loop that strips the last letter of a string one by one\n",
        "x = 'spam'\n",
        "while x: # While x is not empty\n",
        "    print(x)\n",
        "    x = x[1:] # Strip first character off x"
      ],
      "execution_count": 148,
      "outputs": [
        {
          "output_type": "stream",
          "name": "stdout",
          "text": [
            "spam\n",
            "pam\n",
            "am\n",
            "m\n"
          ]
        }
      ]
    },
    {
      "cell_type": "code",
      "metadata": {
        "id": "LjaOjFjqTkqs",
        "scrolled": true,
        "colab": {
          "base_uri": "https://localhost:8080/"
        },
        "outputId": "974f9203-dc8b-4c60-dda0-dc6afdbd675a"
      },
      "source": [
        "count = 7\n",
        "while count > 5:\n",
        "    # increment count by 1\n",
        "    count -= 1\n",
        "    print('0')"
      ],
      "execution_count": 149,
      "outputs": [
        {
          "output_type": "stream",
          "name": "stdout",
          "text": [
            "0\n",
            "0\n"
          ]
        }
      ]
    },
    {
      "cell_type": "code",
      "metadata": {
        "id": "MHmT8AtFTkqu",
        "colab": {
          "base_uri": "https://localhost:8080/"
        },
        "outputId": "b81ee977-1b2d-4c53-ebea-b13260462fe6"
      },
      "source": [
        "for x in [10, 9, 8]:\n",
        "    print(x)"
      ],
      "execution_count": 150,
      "outputs": [
        {
          "output_type": "stream",
          "name": "stdout",
          "text": [
            "10\n",
            "9\n",
            "8\n"
          ]
        }
      ]
    },
    {
      "cell_type": "code",
      "metadata": {
        "id": "CTlsn_g_Tkq0",
        "colab": {
          "base_uri": "https://localhost:8080/"
        },
        "outputId": "53508e3d-8106-4eb5-8c12-5b4094abc52a"
      },
      "source": [
        "for x in [10, 9, 8]:\n",
        "    print(x // 2)"
      ],
      "execution_count": 151,
      "outputs": [
        {
          "output_type": "stream",
          "name": "stdout",
          "text": [
            "5\n",
            "4\n",
            "4\n"
          ]
        }
      ]
    },
    {
      "cell_type": "code",
      "metadata": {
        "id": "uOj8yoeRTkq1",
        "colab": {
          "base_uri": "https://localhost:8080/"
        },
        "outputId": "20657811-310b-4459-de8c-aa59475e98f9"
      },
      "source": [
        "for word in ['Why,', 'such', 'is', \"love's\", 'transgression', '.']:\n",
        "    print(len(word))"
      ],
      "execution_count": 152,
      "outputs": [
        {
          "output_type": "stream",
          "name": "stdout",
          "text": [
            "4\n",
            "4\n",
            "2\n",
            "6\n",
            "13\n",
            "1\n"
          ]
        }
      ]
    },
    {
      "cell_type": "markdown",
      "metadata": {
        "id": "xuHMCP0UTkq3"
      },
      "source": [
        "> **<h3>💻 Try it yourself!</h3>**\n",
        "\n",
        "Given the list of Shakespeare tragedies below, iterate over the list and print each item in all caps."
      ]
    },
    {
      "cell_type": "code",
      "metadata": {
        "id": "p6FHK5akTkq4",
        "colab": {
          "base_uri": "https://localhost:8080/"
        },
        "outputId": "bbf7b070-99e9-4a55-d174-7355e1fb26b3"
      },
      "source": [
        "tragedies = [\n",
        "    \"Antony and Cleopatra\",\n",
        "    \"Coriolanus\",\n",
        "    \"Cymbeline\",\n",
        "    \"Hamlet\",\n",
        "    \"Julius Caesar\",\n",
        "    \"Othello\",\n",
        "    \"Macbeth\",\n",
        "    \"Romeo and Juliet\",\n",
        "    \"Timon of Athens\",\n",
        "    \"Titus Andronicus\",\n",
        "    \"Troilus and Cressida\",\n",
        "]\n",
        "\n",
        "# write your code here:\n",
        "for x in tragedies:\n",
        "  print(x.upper())\n",
        "\n"
      ],
      "execution_count": 157,
      "outputs": [
        {
          "output_type": "stream",
          "name": "stdout",
          "text": [
            "ANTONY AND CLEOPATRA\n",
            "CORIOLANUS\n",
            "CYMBELINE\n",
            "HAMLET\n",
            "JULIUS CAESAR\n",
            "OTHELLO\n",
            "MACBETH\n",
            "ROMEO AND JULIET\n",
            "TIMON OF ATHENS\n",
            "TITUS ANDRONICUS\n",
            "TROILUS AND CRESSIDA\n"
          ]
        }
      ]
    },
    {
      "cell_type": "markdown",
      "metadata": {
        "id": "RO2mQtsaTkq6"
      },
      "source": [
        "<details>\n",
        "    <summary>Click <b>here</b> to see the answer.</summary>\n",
        "    <p><code>for tragedy in tragedies:\n",
        "        print(tragedy.upper())</code></p>\n",
        "</details>"
      ]
    },
    {
      "cell_type": "markdown",
      "metadata": {
        "id": "J3GkC5vdTkq6"
      },
      "source": [
        "### Break\n",
        "\n",
        "`break` is used inside `for` and `while` to stop the loop before its natural conclusion:"
      ]
    },
    {
      "cell_type": "code",
      "metadata": {
        "id": "KghYWVO1Tkq6",
        "colab": {
          "base_uri": "https://localhost:8080/"
        },
        "outputId": "8e082a6c-a5ab-4949-b76c-f55106e0f68a"
      },
      "source": [
        "count = 0\n",
        "while count < 5:\n",
        "    # increment count by 1\n",
        "    count += 1\n",
        "    print(count)\n",
        "\n",
        "    if count == 2:\n",
        "        break  # actually stop when count reaches 2"
      ],
      "execution_count": 158,
      "outputs": [
        {
          "output_type": "stream",
          "name": "stdout",
          "text": [
            "1\n",
            "2\n"
          ]
        }
      ]
    },
    {
      "cell_type": "code",
      "metadata": {
        "id": "nmX4DrHuTkq8",
        "colab": {
          "base_uri": "https://localhost:8080/"
        },
        "outputId": "760299a2-ccaf-4ba3-dcea-722c99339f50"
      },
      "source": [
        "for x in [1, 2, 3, 4, 5]:\n",
        "    print(x)\n",
        "    if x == 2:\n",
        "        break  # same as before"
      ],
      "execution_count": 159,
      "outputs": [
        {
          "output_type": "stream",
          "name": "stdout",
          "text": [
            "1\n",
            "2\n"
          ]
        }
      ]
    },
    {
      "cell_type": "markdown",
      "metadata": {
        "id": "79Ioe2HcTkq9"
      },
      "source": [
        "### Continue\n",
        "\n",
        "`continue` is used inside `for` and `while` to skip the current iteration of the cycle. For example, the following loops will print only even numbers:"
      ]
    },
    {
      "cell_type": "code",
      "metadata": {
        "id": "yvBwwfazTkq-",
        "colab": {
          "base_uri": "https://localhost:8080/"
        },
        "outputId": "d74b25f6-dfcf-497e-8cae-50958cfa2c0c"
      },
      "source": [
        "count = 0\n",
        "while count < 11:\n",
        "\n",
        "    # increment count by 1\n",
        "    count += 1\n",
        "\n",
        "    if count % 2 != 0:\n",
        "        continue\n",
        "    else:\n",
        "        print(count)"
      ],
      "execution_count": 160,
      "outputs": [
        {
          "output_type": "stream",
          "name": "stdout",
          "text": [
            "2\n",
            "4\n",
            "6\n",
            "8\n",
            "10\n"
          ]
        }
      ]
    },
    {
      "cell_type": "code",
      "metadata": {
        "id": "QrjanzzUTkq_",
        "colab": {
          "base_uri": "https://localhost:8080/"
        },
        "outputId": "5fb7f956-a65b-4b4e-966e-5624e13772b1"
      },
      "source": [
        "for x in [1, 2, 3, 4, 5, 6, 7, 8, 9, 10]:\n",
        "    if x % 2 != 0:\n",
        "        continue  # same as before\n",
        "    else:\n",
        "        print(x)"
      ],
      "execution_count": 161,
      "outputs": [
        {
          "output_type": "stream",
          "name": "stdout",
          "text": [
            "2\n",
            "4\n",
            "6\n",
            "8\n",
            "10\n"
          ]
        }
      ]
    },
    {
      "cell_type": "markdown",
      "metadata": {
        "id": "uSN8XLxTbhAt"
      },
      "source": [
        "# Conclusion\n",
        "\n",
        "Well done! You have successfully completed the first module, and you should now now the basics of Python. In the next modules we'll delve more into the NLP world - we'll introduce some Python libraries used in computational linguistics and we'll start building our first NLP applications."
      ]
    },
    {
      "cell_type": "markdown",
      "metadata": {
        "id": "3qT5lAeeFm0k"
      },
      "source": [
        "## ✍️ Final Assessment (Please answer Questions 1 and 2)"
      ]
    },
    {
      "cell_type": "markdown",
      "metadata": {
        "id": "KmElGoDDFm0k"
      },
      "source": [
        "[11 marks] Question 1:\n",
        "\n",
        "The function `input()` is used to display a prompt and ask the user for input. For example, run the following cell:"
      ]
    },
    {
      "cell_type": "code",
      "metadata": {
        "id": "oywiuCQBFm0l",
        "colab": {
          "base_uri": "https://localhost:8080/"
        },
        "outputId": "7db01b44-31a3-444e-d9ee-b0981d933dff"
      },
      "source": [
        "name = input('What\\'s your name? ')\n",
        "print('Ah, so your name is ' + name + '.')"
      ],
      "execution_count": 162,
      "outputs": [
        {
          "output_type": "stream",
          "name": "stdout",
          "text": [
            "What's your name? Jay\n",
            "Ah, so your name is Jay.\n"
          ]
        }
      ]
    },
    {
      "cell_type": "markdown",
      "metadata": {
        "id": "4QO5dyPSFm0m"
      },
      "source": [
        "Your exercise is to build a sorting hat that assigns a House to students. The sorting hat will read names from the user and it will determine the House as follows:\n",
        "\n",
        "- If the name is either 'Harry', 'Ron', or 'Hermione', the student will be assigned to House 'Gryffindor';\n",
        "- If the name is shorter than five letters, the student will be assigned to House 'Ravenclaw';\n",
        "- If the name contains a space or it contains less than tree vowels, the student will be assigned to House 'Slytherin';\n",
        "- Otherwise, the student will be assigned to House 'Hufflepuff'.\n",
        "\n",
        "You have to save each student in a dictionary that contains the list of students for each House. When the user types the name `exit`, the Sorting Hat stops reading the names and prints the dictionary with the names.\n",
        "\n",
        "\n",
        "For example, inserting the the names `Ron`, `Harry`, `Cho`, `Luna`, `Draco`, `Amycus`, `Nymphadora` into the Sorting Hat should print:\n",
        "\n",
        "```python\n",
        "{'Gryffindor': ['Ron', 'Harry'], 'Slytherin': ['Draco', 'Amycus'], 'Ravenclaw': ['Cho', 'Luna'], 'Hufflepuff': ['Nymphadora']}\n",
        "```\n",
        "\n",
        "Write your code in the cell below."
      ]
    },
    {
      "cell_type": "code",
      "metadata": {
        "id": "iDRLdWPJFm0m",
        "colab": {
          "base_uri": "https://localhost:8080/"
        },
        "outputId": "a99cce53-14e7-4d9b-bbc7-409271ceeac0"
      },
      "source": [
        "# Initialise the dictionary that will contain the names.\n",
        "houses = {\"Gryffindor\" : [\"Harry\", \"Ron\", \"Hermione\"], \"Slytherin\" : [], \"Ravenclaw\" : [], \"Hufflepuff\" : []}\n",
        "\n",
        "#houses[\"Gryffindor\"] = [\"Harry\", \"Ron\", \"Hermione\"]\n",
        "#houses[\"Slytherin\"] = [\"Draco\", \"Amycus\"]\n",
        "#houses[\"Ravenclaw\"] = [\"Cho\", \"Luna\"]\n",
        "#houses[\"Hufflepuff\"] = [\"Nymphadora\"]\n",
        "\n",
        "\n",
        "while True: #to make it iterate forever (unless forcibly ended)\n",
        "\n",
        "    name = input(\"What's your name? \")\n",
        "    while len(name)==0:                           #improvement 1 - forces input\n",
        "      name = input(\"I said tell me your name!\")\n",
        "\n",
        "    vowel_count = 0\n",
        "    for x in name:\n",
        "      if x==\"a\" or x==\"A\" or x==\"e\" or x==\"E\" or x==\"i\" or x==\"I\" or x==\"o\" or x==\"O\" or x==\"u\" or x==\"U\":\n",
        "        vowel_count += 1\n",
        "      else:\n",
        "        continue\n",
        "\n",
        "    if name == 'exit':\n",
        "        break #stops the look\n",
        "\n",
        "    elif name == \"Harry\" or name == \"Ron\" or name == \"Hermione\":\n",
        "      print(\"Congratulations, you have been assigned to Gryffindor!\")\n",
        "\n",
        "    elif len(name) < 5:\n",
        "      houses[\"Ravenclaw\"].append(name)\n",
        "      print(\"Congratulations, you have been assigned to Ravenclaw!\")\n",
        "\n",
        "    elif name.find(\" \") != -1 or vowel_count < 3:\n",
        "      houses[\"Slytherin\"].append(name)\n",
        "      print(\"Congratulations, you have been assigned to Slytherin!\")\n",
        "\n",
        "    else:\n",
        "      houses[\"Hufflepuff\"].append(name)\n",
        "      print(\"Congratulations, you have been assigned to Hufflepuff!\")\n",
        "\n",
        "\n",
        "print(\"Ok, here is the register.\")\n",
        "print(houses)\n"
      ],
      "execution_count": 167,
      "outputs": [
        {
          "output_type": "stream",
          "name": "stdout",
          "text": [
            "What's your name? \n",
            "I said tell me your name!\n",
            "I said tell me your name!\n",
            "I said tell me your name!\n",
            "I said tell me your name!\n",
            "I said tell me your name!dd\n",
            "Congratulations, you have been assigned to Ravenclaw!\n",
            "What's your name? exit\n",
            "Ok, here is the register.\n",
            "{'Gryffindor': ['Harry', 'Ron', 'Hermione'], 'Slytherin': [], 'Ravenclaw': ['dd'], 'Hufflepuff': []}\n"
          ]
        }
      ]
    },
    {
      "cell_type": "markdown",
      "metadata": {
        "id": "BhtU9nDUFm0p"
      },
      "source": [
        "### ✍️ Improvements:\n",
        "\n",
        "[4 marks] Question 2:\n",
        "You **must** choose 1 of these improvements:\n",
        "\n",
        "- If the user does not provide any name into the input prompt, display `I said tell me your name!` and ask for the name until she/he provides it. When a name is provided, assign it to the correct House.\n",
        "- If the user's name contain an invalid character (i.e. a number or a symbol), display `You are expelled!`, and save the name in a separate `expelled` list. You can use the built-in function `string.isalpha()` ([docs](https://docs.python.org/3.8/library/stdtypes.html)), but please note that in our cases spaces **are** permitted in a name; for example, `Dobby the House Elf` is a valid name, while `X Æ A-12 Musk` is not. Print the list after you print the dictionary.\n",
        "\n",
        "**Hint**: use the keyword `continue`.\n",
        "\n",
        "**Question**: does the order of the `if...else`s matter? If yes, how?"
      ]
    },
    {
      "cell_type": "markdown",
      "metadata": {
        "id": "8PI_bknkTkrC"
      },
      "source": [
        "## References and useful links\n",
        "\n",
        "- [Jupyter Homepage](https://jupyter.org/index.html)\n",
        "- [Jupyter Notebook Documentation](https://jupyter-notebook.readthedocs.io/en/stable/)\n",
        "- [The official Python 3.6 Tutorial](https://docs.python.org/3.6/tutorial/index.html)"
      ]
    },
    {
      "cell_type": "markdown",
      "metadata": {
        "id": "DjxF_mLqFm00"
      },
      "source": [
        "# Survey\n",
        "\n",
        "Please complete the [post-module survey](https://docs.google.com/forms/d/e/1FAIpQLSeLX1N344kBn8q9PTgg455lrzvVzzI5IW9itF4cT_WqeQKaFQ/viewform) when you are finished. Thank you!"
      ]
    },
    {
      "cell_type": "markdown",
      "metadata": {
        "id": "0UkwsoGKTkrC"
      },
      "source": [
        "# Continue to next module\n",
        "\n",
        "[Click here](../module_1.3/module_1.3.ipynb) to move to the next module."
      ]
    }
  ]
}